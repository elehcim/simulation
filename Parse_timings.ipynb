{
 "cells": [
  {
   "cell_type": "code",
   "execution_count": 2,
   "metadata": {},
   "outputs": [],
   "source": [
    "%matplotlib inline"
   ]
  },
  {
   "cell_type": "code",
   "execution_count": 3,
   "metadata": {},
   "outputs": [],
   "source": [
    "import pandas as pd\n",
    "import numpy as np\n",
    "from parse_timings import parse_timings"
   ]
  },
  {
   "cell_type": "code",
   "execution_count": 4,
   "metadata": {},
   "outputs": [],
   "source": [
    "df = parse_timings()"
   ]
  },
  {
   "cell_type": "code",
   "execution_count": 10,
   "metadata": {},
   "outputs": [],
   "source": [
    "df = parse_timings(\"/home/michele/sim/MySimulations/Moria8Gyr_tidal/sim69002_p200.0_a1000.0_r800.0_c8.15/out/timings.txt\")\n",
    "# df = parse_timings(\"/home/michele/sim/MySimulations/bh/bh_5.std/out/timings.txt\")\n",
    "# df = parse_timings(\"/home/michele/sim/MySimulations/bh/timings.txt\")"
   ]
  },
  {
   "cell_type": "code",
   "execution_count": 8,
   "metadata": {
    "scrolled": true
   },
   "outputs": [
    {
     "data": {
      "text/html": [
       "<div>\n",
       "<style scoped>\n",
       "    .dataframe tbody tr th:only-of-type {\n",
       "        vertical-align: middle;\n",
       "    }\n",
       "\n",
       "    .dataframe tbody tr th {\n",
       "        vertical-align: top;\n",
       "    }\n",
       "\n",
       "    .dataframe thead th {\n",
       "        text-align: right;\n",
       "    }\n",
       "</style>\n",
       "<table border=\"1\" class=\"dataframe\">\n",
       "  <thead>\n",
       "    <tr style=\"text-align: right;\">\n",
       "      <th></th>\n",
       "      <th>step</th>\n",
       "      <th>t</th>\n",
       "      <th>dt</th>\n",
       "      <th>Nf</th>\n",
       "      <th>tot_Nf</th>\n",
       "      <th>ex</th>\n",
       "      <th>iter</th>\n",
       "      <th>wl</th>\n",
       "      <th>max</th>\n",
       "      <th>avg</th>\n",
       "      <th>PE0</th>\n",
       "      <th>plb</th>\n",
       "      <th>max_nodes</th>\n",
       "      <th>filled</th>\n",
       "      <th>part_sec</th>\n",
       "      <th>boh</th>\n",
       "      <th>ia_part</th>\n",
       "    </tr>\n",
       "  </thead>\n",
       "  <tbody>\n",
       "    <tr>\n",
       "      <th>0</th>\n",
       "      <td>0</td>\n",
       "      <td>0.000000</td>\n",
       "      <td>0.000000</td>\n",
       "      <td>550000</td>\n",
       "      <td>550000</td>\n",
       "      <td>13.47350</td>\n",
       "      <td>1</td>\n",
       "      <td>1.63337</td>\n",
       "      <td>1.566270</td>\n",
       "      <td>0.958923</td>\n",
       "      <td>0.950227</td>\n",
       "      <td>1.01917</td>\n",
       "      <td>11293</td>\n",
       "      <td>0.006571</td>\n",
       "      <td>17923.7</td>\n",
       "      <td>10973.5</td>\n",
       "      <td>1387.980</td>\n",
       "    </tr>\n",
       "    <tr>\n",
       "      <th>1</th>\n",
       "      <td>0</td>\n",
       "      <td>0.000000</td>\n",
       "      <td>0.000000</td>\n",
       "      <td>550000</td>\n",
       "      <td>1100000</td>\n",
       "      <td>2.22211</td>\n",
       "      <td>1</td>\n",
       "      <td>1.60511</td>\n",
       "      <td>0.516516</td>\n",
       "      <td>0.321795</td>\n",
       "      <td>0.245177</td>\n",
       "      <td>1.01917</td>\n",
       "      <td>11293</td>\n",
       "      <td>0.006571</td>\n",
       "      <td>53411.3</td>\n",
       "      <td>33275.8</td>\n",
       "      <td>517.285</td>\n",
       "    </tr>\n",
       "    <tr>\n",
       "      <th>2</th>\n",
       "      <td>1</td>\n",
       "      <td>0.001465</td>\n",
       "      <td>0.001465</td>\n",
       "      <td>59879</td>\n",
       "      <td>1159879</td>\n",
       "      <td>7.93465</td>\n",
       "      <td>1</td>\n",
       "      <td>2.39349</td>\n",
       "      <td>0.155295</td>\n",
       "      <td>0.064882</td>\n",
       "      <td>0.090645</td>\n",
       "      <td>2.13969</td>\n",
       "      <td>21281</td>\n",
       "      <td>0.012382</td>\n",
       "      <td>28840.3</td>\n",
       "      <td>12049.5</td>\n",
       "      <td>836.088</td>\n",
       "    </tr>\n",
       "    <tr>\n",
       "      <th>3</th>\n",
       "      <td>2</td>\n",
       "      <td>0.002930</td>\n",
       "      <td>0.001465</td>\n",
       "      <td>227124</td>\n",
       "      <td>1387003</td>\n",
       "      <td>4.11209</td>\n",
       "      <td>1</td>\n",
       "      <td>1.51256</td>\n",
       "      <td>0.266312</td>\n",
       "      <td>0.176067</td>\n",
       "      <td>0.186114</td>\n",
       "      <td>2.06668</td>\n",
       "      <td>21563</td>\n",
       "      <td>0.012546</td>\n",
       "      <td>40312.0</td>\n",
       "      <td>26651.5</td>\n",
       "      <td>645.630</td>\n",
       "    </tr>\n",
       "    <tr>\n",
       "      <th>4</th>\n",
       "      <td>3</td>\n",
       "      <td>0.004395</td>\n",
       "      <td>0.001465</td>\n",
       "      <td>60121</td>\n",
       "      <td>1447124</td>\n",
       "      <td>7.80844</td>\n",
       "      <td>1</td>\n",
       "      <td>2.45969</td>\n",
       "      <td>0.156697</td>\n",
       "      <td>0.063706</td>\n",
       "      <td>0.082154</td>\n",
       "      <td>2.07372</td>\n",
       "      <td>21415</td>\n",
       "      <td>0.012460</td>\n",
       "      <td>29491.4</td>\n",
       "      <td>11989.9</td>\n",
       "      <td>836.183</td>\n",
       "    </tr>\n",
       "  </tbody>\n",
       "</table>\n",
       "</div>"
      ],
      "text/plain": [
       "   step         t        dt      Nf   tot_Nf        ex  iter       wl  \\\n",
       "0     0  0.000000  0.000000  550000   550000  13.47350     1  1.63337   \n",
       "1     0  0.000000  0.000000  550000  1100000   2.22211     1  1.60511   \n",
       "2     1  0.001465  0.001465   59879  1159879   7.93465     1  2.39349   \n",
       "3     2  0.002930  0.001465  227124  1387003   4.11209     1  1.51256   \n",
       "4     3  0.004395  0.001465   60121  1447124   7.80844     1  2.45969   \n",
       "\n",
       "        max       avg       PE0      plb  max_nodes    filled  part_sec  \\\n",
       "0  1.566270  0.958923  0.950227  1.01917      11293  0.006571   17923.7   \n",
       "1  0.516516  0.321795  0.245177  1.01917      11293  0.006571   53411.3   \n",
       "2  0.155295  0.064882  0.090645  2.13969      21281  0.012382   28840.3   \n",
       "3  0.266312  0.176067  0.186114  2.06668      21563  0.012546   40312.0   \n",
       "4  0.156697  0.063706  0.082154  2.07372      21415  0.012460   29491.4   \n",
       "\n",
       "       boh   ia_part  \n",
       "0  10973.5  1387.980  \n",
       "1  33275.8   517.285  \n",
       "2  12049.5   836.088  \n",
       "3  26651.5   645.630  \n",
       "4  11989.9   836.183  "
      ]
     },
     "execution_count": 8,
     "metadata": {},
     "output_type": "execute_result"
    }
   ],
   "source": [
    "df.head()"
   ]
  },
  {
   "cell_type": "code",
   "execution_count": 25,
   "metadata": {},
   "outputs": [],
   "source": [
    "df[\"mn1000\"] = df.max_nodes/1000"
   ]
  },
  {
   "cell_type": "code",
   "execution_count": 27,
   "metadata": {},
   "outputs": [
    {
     "data": {
      "image/png": "[encoded data removed]",
      "text/plain": [
       "<matplotlib.figure.Figure at 0x7fbb0be061d0>"
      ]
     },
     "metadata": {},
     "output_type": "display_data"
    }
   ],
   "source": [
    "df[[\"plb\",\"mn1000\"]].plot();"
   ]
  },
  {
   "cell_type": "code",
   "execution_count": 11,
   "metadata": {},
   "outputs": [
    {
     "data": {
      "image/png": "[encoded data removed]",
      "text/plain": [
       "<matplotlib.figure.Figure at 0x7f881cf47be0>"
      ]
     },
     "metadata": {},
     "output_type": "display_data"
    }
   ],
   "source": [
    "df[\"dt\"].plot();"
   ]
  },
  {
   "cell_type": "code",
   "execution_count": null,
   "metadata": {
    "collapsed": true
   },
   "outputs": [],
   "source": []
  }
 ],
 "metadata": {
  "kernelspec": {
   "display_name": "Python 3",
   "language": "python",
   "name": "python3"
  },
  "language_info": {
   "codemirror_mode": {
    "name": "ipython",
    "version": 3
   },
   "file_extension": ".py",
   "mimetype": "text/x-python",
   "name": "python",
   "nbconvert_exporter": "python",
   "pygments_lexer": "ipython3",
   "version": "3.6.4"
  }
 },
 "nbformat": 4,
 "nbformat_minor": 2
}
