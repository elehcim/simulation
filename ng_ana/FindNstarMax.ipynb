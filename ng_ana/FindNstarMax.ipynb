{
 "cells": [
  {
   "cell_type": "code",
   "execution_count": 4,
   "metadata": {},
   "outputs": [
    {
     "name": "stderr",
     "output_type": "stream",
     "text": [
      "loading simulation: /home/michele/sim/MySimulations/ng/mb.71002_p300_a800_r600/out\n",
      "Found parameter file\n",
      "Found compiler file\n",
      "Found 563 snapshots\n",
      "Taking 563 snapshots (slice(None, None, 1))\n"
     ]
    },
    {
     "name": "stdout",
     "output_type": "stream",
     "text": [
      "['/home/michele/sim/MySimulations/ng/mb.71002_p300_a800_r600', '/home/michele/sim/MySimulations/ng/mb.62002_p300_a800_r600', '/home/michele/sim/MySimulations/ng/mb.69002_p200_a800_r600', '/home/michele/sim/MySimulations/ng/mb.69002_p300_a800_r600', '/home/michele/sim/MySimulations/ng/mb.71002_p100_a800_r600', '/home/michele/sim/MySimulations/ng/mb.71002_p150_a800_r600', '/home/michele/sim/MySimulations/ng/mb.62002_p150_a800_r600', '/home/michele/sim/MySimulations/ng/mb.62002_p100_a800_r600', '/home/michele/sim/MySimulations/ng/mb.62002_p200_a800_r600', '/home/michele/sim/MySimulations/ng/mb.62002_p50_a800_r600', '/home/michele/sim/MySimulations/ng/mb.71002_p200_a800_r600', '/home/michele/sim/MySimulations/ng/mb.69002_p150_a800_r600', '/home/michele/sim/MySimulations/ng/mb.71002_p50_a800_r600']\n",
      "mb.71002_p300_a800_r600\n"
     ]
    },
    {
     "name": "stderr",
     "output_type": "stream",
     "text": [
      "Loading cosmological parameters\n",
      "Found trace file\n",
      "loading simulation: /home/michele/sim/MySimulations/ng/mb.62002_p300_a800_r600/out\n",
      "Found parameter file\n",
      "Found compiler file\n",
      "Found 563 snapshots\n",
      "Taking 563 snapshots (slice(None, None, 1))\n"
     ]
    },
    {
     "name": "stdout",
     "output_type": "stream",
     "text": [
      "mb.62002_p300_a800_r600\n"
     ]
    },
    {
     "name": "stderr",
     "output_type": "stream",
     "text": [
      "Loading cosmological parameters\n",
      "Found trace file\n",
      "loading simulation: /home/michele/sim/MySimulations/ng/mb.69002_p200_a800_r600/out\n",
      "Found parameter file\n",
      "Found compiler file\n",
      "Found 563 snapshots\n",
      "Taking 563 snapshots (slice(None, None, 1))\n"
     ]
    },
    {
     "name": "stdout",
     "output_type": "stream",
     "text": [
      "mb.69002_p200_a800_r600\n"
     ]
    },
    {
     "name": "stderr",
     "output_type": "stream",
     "text": [
      "Loading cosmological parameters\n",
      "Found trace file\n",
      "loading simulation: /home/michele/sim/MySimulations/ng/mb.69002_p300_a800_r600/out\n",
      "Found parameter file\n",
      "Found compiler file\n",
      "Found 563 snapshots\n",
      "Taking 563 snapshots (slice(None, None, 1))\n"
     ]
    },
    {
     "name": "stdout",
     "output_type": "stream",
     "text": [
      "mb.69002_p300_a800_r600\n"
     ]
    },
    {
     "name": "stderr",
     "output_type": "stream",
     "text": [
      "Loading cosmological parameters\n",
      "Found trace file\n",
      "loading simulation: /home/michele/sim/MySimulations/ng/mb.71002_p100_a800_r600/out\n",
      "Found parameter file\n",
      "Found compiler file\n",
      "Found 563 snapshots\n",
      "Taking 563 snapshots (slice(None, None, 1))\n"
     ]
    },
    {
     "name": "stdout",
     "output_type": "stream",
     "text": [
      "mb.71002_p100_a800_r600\n"
     ]
    },
    {
     "name": "stderr",
     "output_type": "stream",
     "text": [
      "Loading cosmological parameters\n",
      "Found trace file\n",
      "loading simulation: /home/michele/sim/MySimulations/ng/mb.71002_p150_a800_r600/out\n",
      "Found parameter file\n",
      "Found compiler file\n",
      "Found 563 snapshots\n",
      "Taking 563 snapshots (slice(None, None, 1))\n"
     ]
    },
    {
     "name": "stdout",
     "output_type": "stream",
     "text": [
      "mb.71002_p150_a800_r600\n"
     ]
    },
    {
     "name": "stderr",
     "output_type": "stream",
     "text": [
      "Loading cosmological parameters\n",
      "Found trace file\n",
      "loading simulation: /home/michele/sim/MySimulations/ng/mb.62002_p150_a800_r600/out\n",
      "Found parameter file\n",
      "Found compiler file\n",
      "Found 563 snapshots\n",
      "Taking 563 snapshots (slice(None, None, 1))\n"
     ]
    },
    {
     "name": "stdout",
     "output_type": "stream",
     "text": [
      "mb.62002_p150_a800_r600\n"
     ]
    },
    {
     "name": "stderr",
     "output_type": "stream",
     "text": [
      "Loading cosmological parameters\n",
      "Found trace file\n",
      "loading simulation: /home/michele/sim/MySimulations/ng/mb.62002_p100_a800_r600/out\n",
      "Found parameter file\n",
      "Found compiler file\n",
      "Found 563 snapshots\n",
      "Taking 563 snapshots (slice(None, None, 1))\n"
     ]
    },
    {
     "name": "stdout",
     "output_type": "stream",
     "text": [
      "mb.62002_p100_a800_r600\n"
     ]
    },
    {
     "name": "stderr",
     "output_type": "stream",
     "text": [
      "Loading cosmological parameters\n",
      "Found trace file\n",
      "loading simulation: /home/michele/sim/MySimulations/ng/mb.62002_p200_a800_r600/out\n",
      "Found parameter file\n",
      "Found compiler file\n",
      "Found 563 snapshots\n",
      "Taking 563 snapshots (slice(None, None, 1))\n"
     ]
    },
    {
     "name": "stdout",
     "output_type": "stream",
     "text": [
      "mb.62002_p200_a800_r600\n"
     ]
    },
    {
     "name": "stderr",
     "output_type": "stream",
     "text": [
      "Loading cosmological parameters\n",
      "Found trace file\n",
      "loading simulation: /home/michele/sim/MySimulations/ng/mb.62002_p50_a800_r600/out\n",
      "Found parameter file\n",
      "Found compiler file\n",
      "Found 563 snapshots\n",
      "Taking 563 snapshots (slice(None, None, 1))\n"
     ]
    },
    {
     "name": "stdout",
     "output_type": "stream",
     "text": [
      "mb.62002_p50_a800_r600\n"
     ]
    },
    {
     "name": "stderr",
     "output_type": "stream",
     "text": [
      "Loading cosmological parameters\n",
      "Found trace file\n",
      "loading simulation: /home/michele/sim/MySimulations/ng/mb.71002_p200_a800_r600/out\n",
      "Found parameter file\n",
      "Found compiler file\n",
      "Found 563 snapshots\n",
      "Taking 563 snapshots (slice(None, None, 1))\n"
     ]
    },
    {
     "name": "stdout",
     "output_type": "stream",
     "text": [
      "mb.71002_p200_a800_r600\n"
     ]
    },
    {
     "name": "stderr",
     "output_type": "stream",
     "text": [
      "Loading cosmological parameters\n",
      "Found trace file\n",
      "loading simulation: /home/michele/sim/MySimulations/ng/mb.69002_p150_a800_r600/out\n",
      "Found parameter file\n",
      "Found compiler file\n",
      "Found 563 snapshots\n",
      "Taking 563 snapshots (slice(None, None, 1))\n"
     ]
    },
    {
     "name": "stdout",
     "output_type": "stream",
     "text": [
      "mb.69002_p150_a800_r600\n"
     ]
    },
    {
     "name": "stderr",
     "output_type": "stream",
     "text": [
      "Loading cosmological parameters\n",
      "Found trace file\n",
      "loading simulation: /home/michele/sim/MySimulations/ng/mb.71002_p50_a800_r600/out\n",
      "Found parameter file\n",
      "Found compiler file\n",
      "Found 563 snapshots\n",
      "Taking 563 snapshots (slice(None, None, 1))\n"
     ]
    },
    {
     "name": "stdout",
     "output_type": "stream",
     "text": [
      "mb.71002_p50_a800_r600\n"
     ]
    },
    {
     "name": "stderr",
     "output_type": "stream",
     "text": [
      "Loading cosmological parameters\n",
      "Found trace file\n"
     ]
    }
   ],
   "source": [
    "import os\n",
    "import simulation\n",
    "import pickle\n",
    "import matplotlib.pylab as plt\n",
    "import numpy as np\n",
    "import glob\n",
    "\n",
    "SIMPATH = '/home/michele/sim/MySimulations/ng'\n",
    "\n",
    "good_sims = sorted(glob.glob(os.path.join(SIMPATH, 'mb*')))\n",
    "\n",
    "def get_sim_traj(sim_name):\n",
    "    s, t = sim_name.split('002_')\n",
    "    return s+'002', t\n",
    "\n",
    "if __name__ == '__main__':\n",
    "    # mega for-loop\n",
    "    print(good_sims)\n",
    "    d = {}\n",
    "    for sim_name in map(os.path.basename, good_sims):\n",
    "        SIM, TRAJ = get_sim_traj(sim_name)\n",
    "        sim_path = os.path.join(SIMPATH, \"{}_{}\".format(SIM, TRAJ), \"out\")\n",
    "        print(sim_name)\n",
    "        sim = simulation.Simulation(sim_path, snap_indexes=slice(None, None, 1))\n",
    "        max_nstar = 0\n",
    "        i_max = 0\n",
    "        for i, snap in enumerate(sim):\n",
    "            if len(snap.s) > max_nstar:\n",
    "                i_max = i\n",
    "                max_nstar = len(snap.s)\n",
    "        d[sim_name] = (i_max, max_nstar)\n",
    "        "
   ]
  },
  {
   "cell_type": "code",
   "execution_count": 5,
   "metadata": {},
   "outputs": [
    {
     "data": {
      "text/plain": [
       "{'mb.71002_p300_a800_r600': (78, 6926),\n",
       " 'mb.62002_p300_a800_r600': (1, 1815),\n",
       " 'mb.69002_p200_a800_r600': (226, 20509),\n",
       " 'mb.69002_p300_a800_r600': (214, 20331),\n",
       " 'mb.71002_p100_a800_r600': (93, 7912),\n",
       " 'mb.71002_p150_a800_r600': (90, 7029),\n",
       " 'mb.62002_p150_a800_r600': (77, 1945),\n",
       " 'mb.62002_p100_a800_r600': (70, 2059),\n",
       " 'mb.62002_p200_a800_r600': (84, 1852),\n",
       " 'mb.62002_p50_a800_r600': (68, 2370),\n",
       " 'mb.71002_p200_a800_r600': (120, 6820),\n",
       " 'mb.69002_p150_a800_r600': (127, 19830),\n",
       " 'mb.71002_p50_a800_r600': (84, 8598)}"
      ]
     },
     "execution_count": 5,
     "metadata": {},
     "output_type": "execute_result"
    }
   ],
   "source": [
    "d"
   ]
  },
  {
   "cell_type": "code",
   "execution_count": null,
   "metadata": {},
   "outputs": [],
   "source": []
  }
 ],
 "metadata": {
  "kernelspec": {
   "display_name": "Python 3",
   "language": "python",
   "name": "python3"
  },
  "language_info": {
   "codemirror_mode": {
    "name": "ipython",
    "version": 3
   },
   "file_extension": ".py",
   "mimetype": "text/x-python",
   "name": "python",
   "nbconvert_exporter": "python",
   "pygments_lexer": "ipython3",
   "version": "3.6.8"
  }
 },
 "nbformat": 4,
 "nbformat_minor": 2
}
