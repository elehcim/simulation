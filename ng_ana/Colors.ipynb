{
 "cells": [
  {
   "cell_type": "code",
   "execution_count": 1,
   "metadata": {},
   "outputs": [],
   "source": [
    "import os\n",
    "import simulation\n",
    "import pynbody\n",
    "import pandas as pd\n",
    "import matplotlib.pylab as plt\n",
    "import matplotlib\n",
    "import numpy as np\n",
    "import ipywidgets\n",
    "import tqdm\n",
    "from simulation.sfh_in_box import sfh, plot_sfh, plot_binned_sfh, bin_sfh\n",
    "from data_pd.dump_features import dump_features\n",
    "from astropy import constants as c\n",
    "from astropy.table import Table\n",
    "from simulation.luminosity import surface_brightness, color_plot\n",
    "from simulation.angmom import sideon\n",
    "from simulation.derived import feh, mgfe, gas_metals"
   ]
  },
  {
   "cell_type": "code",
   "execution_count": 2,
   "metadata": {},
   "outputs": [],
   "source": [
    "SIMPATH = '/home/michele/sim/MySimulations/ng'"
   ]
  },
  {
   "cell_type": "code",
   "execution_count": 3,
   "metadata": {},
   "outputs": [],
   "source": [
    "SIM = 'mb.69002'\n",
    "TRAJ = 'p300_a800_r600'"
   ]
  },
  {
   "cell_type": "code",
   "execution_count": 4,
   "metadata": {},
   "outputs": [
    {
     "name": "stderr",
     "output_type": "stream",
     "text": [
      "loading simulation: /home/michele/sim/MySimulations/ng/mb.69002_p300_a800_r600/out\n",
      "Found parameter file\n",
      "Found compiler file\n",
      "Found 563 snapshots\n",
      "Taking 100 snapshots (slice(None, 100, 1))\n",
      "Loading cosmological parameters\n",
      "Found trace file\n"
     ]
    }
   ],
   "source": [
    "sim_path = os.path.join(SIMPATH, \"{}_{}\".format(SIM, TRAJ), \"out\")\n",
    "NTH = 1\n",
    "sim = simulation.Simulation(sim_path, snap_indexes=slice(None, 100, NTH))"
   ]
  },
  {
   "cell_type": "code",
   "execution_count": 5,
   "metadata": {},
   "outputs": [],
   "source": [
    "tbl = Table.read('/home/michele/sim/analysis/ng_ana/data_pd/{}_{}.fits'.format(SIM, TRAJ))"
   ]
  },
  {
   "cell_type": "code",
   "execution_count": 6,
   "metadata": {},
   "outputs": [],
   "source": [
    "already_rotated = dict()"
   ]
  },
  {
   "cell_type": "markdown",
   "metadata": {},
   "source": [
    "snap = sim[12]\n",
    "snap.g['gas_metals']\n",
    "tx = sideon(snap.s)\n"
   ]
  },
  {
   "cell_type": "code",
   "execution_count": 7,
   "metadata": {},
   "outputs": [],
   "source": [
    "# tx.matrix @ np.array([0,1,0])"
   ]
  },
  {
   "cell_type": "code",
   "execution_count": 8,
   "metadata": {},
   "outputs": [],
   "source": [
    "sl = ipywidgets.IntSlider(min=0, max=len(sim)-1, value=0, continuous_update=False)"
   ]
  },
  {
   "cell_type": "code",
   "execution_count": 9,
   "metadata": {},
   "outputs": [],
   "source": [
    "def plot_maps(plots, width, band=None, cmap_name=None, norm=None, vrange=None):\n",
    "    from mpl_toolkits.axes_grid1 import AxesGrid\n",
    "    nplots = len(plots)\n",
    "    fig = plt.figure(figsize=(12,4))\n",
    "    grid = AxesGrid(fig, 111,  # similar to subplot(142)\n",
    "                    nrows_ncols=(1, nplots),\n",
    "                    axes_pad=0.5,\n",
    "    #                 share_x=True,\n",
    "    #                 share_all=False,\n",
    "                    label_mode=\"all\",\n",
    "                    cbar_mode=\"each\",\n",
    "                    cbar_location=\"top\",\n",
    "                    cbar_size=\"3%\",\n",
    "                    cbar_pad=\"2%\"\n",
    "                   )\n",
    "\n",
    "#     v_los_min, v_los_max = adjust_cbar_range(color_range)\n",
    "#     sigma_min, sigma_max = adjust_cbar_range(sigma_range)\n",
    "#     sb_min, sb_max = adjust_cbar_range(sb_range)\n",
    "    if not isinstance(cmap_name, (list, tuple)):\n",
    "        cmap_name = [cmap_name] * nplots\n",
    "    if not isinstance(norm, (list, tuple)):\n",
    "        norm = [norm] * nplots\n",
    "    if vrange is None:\n",
    "        vrange = [tuple(None, None)] * nplots\n",
    "        \n",
    "    cmap = list()\n",
    "    for c in cmap_name:\n",
    "        cmap.append(plt.get_cmap(c))\n",
    "    \n",
    "    extent = (-width/2, width/2, -width/2, width/2)\n",
    "\n",
    "    im = list()\n",
    "    cb = list()\n",
    "    for i in range(nplots):\n",
    "        im.append(grid[i].imshow(plots[i], extent=extent, cmap=cmap[i], origin='lower', norm=norm[i], vmin=vrange[i][0], vmax=vrange[i][1]))\n",
    "#         b = grid[1].imshow(pl2, extent=extent, cmap=cmap[1], origin='lower')#, vmin=v_los_min, vmax=v_los_max)\n",
    "#         c = grid[2].imshow(pl3, extent=extent, cmap=cmap[2], origin='lower')#, vmin=sigma_min, vmax=sigma_max)\n",
    "        grid[i].set_xlabel('x/kpc')\n",
    "        cb.append(grid.cbar_axes[i].colorbar(im[i]))\n",
    "\n",
    "    #     grid[1].set_xlabel('x/kpc')\n",
    "#     grid[2].set_xlabel('x/kpc')\n",
    "\n",
    "    grid[0].set_ylabel('y/kpc')\n",
    "\n",
    "#     cb1.set_label_text('$\\mu_{}$'.format(band) if band is not None else '$\\mu$' + ' [mag/arcsec$^2$]')\n",
    "\n",
    "#     cb2 = grid.cbar_axes[1].colorbar(b)\n",
    "#     cb2.set_label_text(\"$B-I$\")\n",
    "\n",
    "#     cb3 = grid.cbar_axes[2].colorbar(c)\n",
    "#     cb3.set_label_text(\"$[Fe/H]$\")\n",
    "#     cb3.set_label_text(\"$Metals$\")\n",
    "    return grid"
   ]
  },
  {
   "cell_type": "code",
   "execution_count": 10,
   "metadata": {},
   "outputs": [],
   "source": [
    "def h(i):\n",
    "    bins = 100\n",
    "    hist, binedges = bin_sfh(tbl['t'], tbl['sfr'], bins=bins)\n",
    "    fig, ax = plt.subplots()\n",
    "    left, right = binedges[:-1], binedges[1:]\n",
    "    X = np.array([left, right]).T.flatten()\n",
    "    Y = np.array([hist, hist]).T.flatten()\n",
    "    ax.plot(X,Y, drawstyle='steps')\n",
    "\n",
    "    max_sfr = np.max(hist)\n",
    "    if ax.get_ylim()[1] < 1.2 * max_sfr:\n",
    "        ax.set_ylim(0.0, 1.2 * max_sfr)\n",
    "    ax.set_xlabel('Time [Gyr]')\n",
    "    ax.set_ylabel('SFR [Msol/yr]')\n",
    "    ax.axvline(tbl['t'][i], color='r', linewidth=0.5)"
   ]
  },
  {
   "cell_type": "code",
   "execution_count": 11,
   "metadata": {},
   "outputs": [
    {
     "data": {
      "application/vnd.jupyter.widget-view+json": {
       "model_id": "71090b7032fb43b288d6cbe6e171c7c9",
       "version_major": 2,
       "version_minor": 0
      },
      "text/plain": [
       "VBox(children=(interactive(children=(IntSlider(value=0, continuous_update=False, description='i', max=99), Out…"
      ]
     },
     "metadata": {},
     "output_type": "display_data"
    }
   ],
   "source": [
    "width=10\n",
    "\n",
    "def k(i):\n",
    "    snap = sim[i]\n",
    "    pynbody.analysis.halo.center(snap.s)\n",
    "    if i not in already_rotated:\n",
    "        tx = sideon(snap.s)\n",
    "        already_rotated[i] = tx.matrix\n",
    "    rho = pynbody.plot.image(snap.g, resolution=100, qty='rho', av_z=False, width=width, log=True, noplot=True)#, vmin=-2.5, vmax=0);\n",
    "    color = color_plot(snap, width=width, resolution=100, vmin=-0.5, vmax=2, noplot=True)#, mag_filter=None)\n",
    "    fe = pynbody.plot.image(snap.g, resolution=100, av_z=True, qty='gas_metals', width=width, log=True, noplot=True)#, vmin=-2.5, vmax=0);\n",
    "    print(fe.min(), fe.max())\n",
    "\n",
    "    #     fe[np.where(fe == 0)] = abs(fe[np.where(abs(fe != 0))]).min()\n",
    "    \n",
    "#     temp = pynbody.plot.image(snap.g, av_z=True, qty='temp', width=width, log=False, noplot=True)#, vmin=-2.5, vmax=0);\n",
    "    \n",
    "    #     sb = surface_brightness(snap, cmap_name='gray', noplot=True, width=width)\n",
    "#     fe = pynbody.plot.image(snap.s, av_z=True, qty='metals', width=width, log=False, noplot=True)#, vmin=-2.5, vmax=0);\n",
    "    grid = plot_maps([rho, color, fe], width=width,\n",
    "              cmap_name=['viridis', 'coolwarm', 'gray'], \n",
    "              norm=[matplotlib.colors.LogNorm(), None, matplotlib.colors.LogNorm()], \n",
    "              vrange=[(None, None)]*3)# +[(0.0001, 0.04)])\n",
    "    y_prime = already_rotated[i] @ np.array([0,1,0])\n",
    "    print(y_prime)\n",
    "    norm = np.linalg.norm(y_prime)\n",
    "    grid[0].arrow(0, 0,y_prime[0]/norm, y_prime[1]/norm, head_width=0.2, head_length=.2, color='red');\n",
    "    return grid\n",
    "#     plot_maps([rho, temp, color, fe], width=width,  cmap_name=['viridis', 'coolwarm', 'viridis', 'gray'])\n",
    "from ipywidgets import VBox\n",
    "w = ipywidgets.interactive(k, i=sl)\n",
    "# w.children[-1].layout.height = '310px'\n",
    "w1 = ipywidgets.interactive(h, i=sl)\n",
    "wid = VBox([w, w1])\n",
    "wid"
   ]
  },
  {
   "cell_type": "code",
   "execution_count": null,
   "metadata": {},
   "outputs": [],
   "source": []
  },
  {
   "cell_type": "code",
   "execution_count": 11,
   "metadata": {},
   "outputs": [],
   "source": [
    "bins = 100\n",
    "hist, binedges = bin_sfh(tbl['t'], tbl['sfr'], bins=bins)"
   ]
  },
  {
   "cell_type": "code",
   "execution_count": 18,
   "metadata": {},
   "outputs": [
    {
     "data": {
      "text/plain": [
       "<matplotlib.lines.Line2D at 0x7ff02edaff98>"
      ]
     },
     "execution_count": 18,
     "metadata": {},
     "output_type": "execute_result"
    },
    {
     "data": {
      "image/png": "[encoded data removed]",
      "text/plain": [
       "<Figure size 432x288 with 1 Axes>"
      ]
     },
     "metadata": {
      "needs_background": "light"
     },
     "output_type": "display_data"
    }
   ],
   "source": [
    "fig, ax = plt.subplots()\n",
    "left, right = binedges[:-1], binedges[1:]\n",
    "X = np.array([left, right]).T.flatten()\n",
    "Y = np.array([hist, hist]).T.flatten()\n",
    "ax.plot(X,Y, drawstyle='steps')\n",
    "\n",
    "max_sfr = np.max(hist)\n",
    "if ax.get_ylim()[1] < 1.2 * max_sfr:\n",
    "    ax.set_ylim(0.0, 1.2 * max_sfr)\n",
    "ax.set_xlabel('Time [Gyr]')\n",
    "ax.set_ylabel('SFR [Msol/yr]')\n",
    "ax.axvline(9, color='r', linewidth=0.5)"
   ]
  },
  {
   "cell_type": "code",
   "execution_count": null,
   "metadata": {},
   "outputs": [],
   "source": []
  }
 ],
 "metadata": {
  "kernelspec": {
   "display_name": "Python 3",
   "language": "python",
   "name": "python3"
  },
  "language_info": {
   "codemirror_mode": {
    "name": "ipython",
    "version": 3
   },
   "file_extension": ".py",
   "mimetype": "text/x-python",
   "name": "python",
   "nbconvert_exporter": "python",
   "pygments_lexer": "ipython3",
   "version": "3.6.8"
  }
 },
 "nbformat": 4,
 "nbformat_minor": 2
}
