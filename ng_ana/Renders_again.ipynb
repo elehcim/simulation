{
 "cells": [
  {
   "cell_type": "code",
   "execution_count": 1,
   "metadata": {},
   "outputs": [],
   "source": [
    "import os\n",
    "import simulation\n",
    "import pynbody\n",
    "import matplotlib.pyplot as plt\n",
    "import numpy as np\n",
    "from astropy.table import Table\n",
    "from data_pd.dump_features import dump_features\n",
    "from simulation.sfh_in_box import binned_sfh, plot_binned_sfh\n",
    "import tqdm"
   ]
  },
  {
   "cell_type": "code",
   "execution_count": 2,
   "metadata": {},
   "outputs": [],
   "source": [
    "# SIM_PATH = \"/media/michele/My Book/Michele/MySimulations/MovingBox/np/mb.62002_pXX_a800_r600\"\n",
    "SIM_PATH = \"/home/michele/sim/MySimulations/ng/mb.71002_pXX_a800_r600\"\n",
    "PERI_LIST = [50, 100, 150, 200, 300]"
   ]
  },
  {
   "cell_type": "code",
   "execution_count": 3,
   "metadata": {},
   "outputs": [],
   "source": [
    "NTH = 1"
   ]
  },
  {
   "cell_type": "code",
   "execution_count": 4,
   "metadata": {},
   "outputs": [
    {
     "name": "stderr",
     "output_type": "stream",
     "text": [
      "loading simulation: /home/michele/sim/MySimulations/ng/mb.71002_p300_a800_r600/out\n",
      "Found parameter file\n",
      "Found compiler file\n",
      "Found 563 snapshots\n",
      "Taking 563 snapshots (slice(None, None, 1))\n",
      "Loading cosmological parameters\n",
      "Found trace file\n"
     ]
    }
   ],
   "source": [
    "sims = list()\n",
    "for peri in PERI_LIST[4:5]:\n",
    "    sim_path = os.path.join(SIM_PATH.replace('XX', str(peri)), 'out')\n",
    "    sims.append(simulation.Simulation(sim_path, snap_indexes=slice(None, None, NTH))) "
   ]
  },
  {
   "cell_type": "code",
   "execution_count": 5,
   "metadata": {},
   "outputs": [],
   "source": [
    "sim=sims[0]"
   ]
  },
  {
   "cell_type": "code",
   "execution_count": 9,
   "metadata": {},
   "outputs": [],
   "source": [
    "import ipywidgets\n",
    "sl = ipywidgets.IntSlider(min=0, max=len(sim)-1, value=0, continuous_update=False)\n",
    "def k(i):\n",
    "    sim.plot_gas_and_stars(i, cog=True, sfh=True)\n"
   ]
  },
  {
   "cell_type": "code",
   "execution_count": 10,
   "metadata": {},
   "outputs": [
    {
     "data": {
      "application/vnd.jupyter.widget-view+json": {
       "model_id": "76607879eaa3400a970d38a06e6df0e7",
       "version_major": 2,
       "version_minor": 0
      },
      "text/plain": [
       "interactive(children=(IntSlider(value=0, continuous_update=False, description='i', max=562), Output()), _dom_c…"
      ]
     },
     "metadata": {},
     "output_type": "display_data"
    }
   ],
   "source": [
    "w = ipywidgets.interactive(k, i=sl)\n",
    "w.children[-1].layout.heigth = '500px'\n",
    "w"
   ]
  },
  {
   "cell_type": "code",
   "execution_count": null,
   "metadata": {},
   "outputs": [],
   "source": []
  }
 ],
 "metadata": {
  "kernelspec": {
   "display_name": "Python 3",
   "language": "python",
   "name": "python3"
  },
  "language_info": {
   "codemirror_mode": {
    "name": "ipython",
    "version": 3
   },
   "file_extension": ".py",
   "mimetype": "text/x-python",
   "name": "python",
   "nbconvert_exporter": "python",
   "pygments_lexer": "ipython3",
   "version": "3.6.8"
  }
 },
 "nbformat": 4,
 "nbformat_minor": 2
}
