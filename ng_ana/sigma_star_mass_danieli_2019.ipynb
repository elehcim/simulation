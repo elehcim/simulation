{
 "cells": [
  {
   "cell_type": "code",
   "execution_count": 11,
   "metadata": {},
   "outputs": [],
   "source": [
    "import os\n",
    "import simulation\n",
    "import pynbody\n",
    "import pandas as pd\n",
    "import matplotlib.pylab as plt\n",
    "import numpy as np\n",
    "import ipywidgets\n",
    "import tqdm\n",
    "import pickle\n",
    "from simulation.sfh_in_box import sfh, plot_sfh, plot_binned_sfh\n",
    "from generate_data_moria import dump_features"
   ]
  },
  {
   "cell_type": "code",
   "execution_count": 12,
   "metadata": {},
   "outputs": [],
   "source": [
    "SIMPATH = '/media/michele/My Book/Michele/MySimulations/MovingBox/np'"
   ]
  },
  {
   "cell_type": "code",
   "execution_count": 69,
   "metadata": {},
   "outputs": [],
   "source": [
    "SIM = 'mb.71002'\n",
    "TRAJ = 'p100_a800_r600'"
   ]
  },
  {
   "cell_type": "code",
   "execution_count": 79,
   "metadata": {},
   "outputs": [
    {
     "data": {
      "text/plain": [
       "['mb.71', 'p100_a800_r600']"
      ]
     },
     "execution_count": 79,
     "metadata": {},
     "output_type": "execute_result"
    }
   ],
   "source": [
    "('mb.71002'+'_p100_a800_r600').split('002_')"
   ]
  },
  {
   "cell_type": "code",
   "execution_count": 70,
   "metadata": {},
   "outputs": [
    {
     "name": "stderr",
     "output_type": "stream",
     "text": [
      "loading simulation: /media/michele/My Book/Michele/MySimulations/MovingBox/np/mb.71002_p100_a800_r600/out\n",
      "Found parameter file\n",
      "Found compiler file\n",
      "Found 563 snapshots\n",
      "Taking 57 snapshots (slice(None, None, 10))\n",
      "Loading cosmological parameters\n",
      "Found trace file\n"
     ]
    }
   ],
   "source": [
    "sim_path = os.path.join(SIMPATH, \"{}_{}\".format(SIM, TRAJ), \"out\")\n",
    "sim = simulation.Simulation(sim_path, snap_indexes=slice(None, None, 10))"
   ]
  },
  {
   "cell_type": "code",
   "execution_count": 71,
   "metadata": {},
   "outputs": [],
   "source": [
    "def sigma(vel):\n",
    "    return np.sqrt(((vel - vel.mean(axis=0))**2).mean())"
   ]
  },
  {
   "cell_type": "code",
   "execution_count": 72,
   "metadata": {},
   "outputs": [
    {
     "name": "stderr",
     "output_type": "stream",
     "text": [
      " 30%|██▉       | 17/57 [00:06<00:15,  2.52it/s]/home/michele/Software/miniconda3/lib/python3.6/site-packages/pynbody/array.py:532: RuntimeWarning: Mean of empty slice.\n",
      "  x = np.ndarray.mean(self, *args, **kwargs)\n",
      "/home/michele/Software/miniconda3/lib/python3.6/site-packages/numpy/core/_methods.py:78: RuntimeWarning: invalid value encountered in true_divide\n",
      "  ret, rcount, out=ret, casting='unsafe', subok=False)\n",
      "100%|██████████| 57/57 [00:20<00:00,  3.06it/s]\n"
     ]
    }
   ],
   "source": [
    "load_pickle = False\n",
    "radius = 5\n",
    "outname = '{}_{}_s{}.pickle'.format(SIM, TRAJ, radius)\n",
    "if load_pickle:\n",
    "    times, mass, sigma_star, sigma_gas, r_eff = pickle.load(open(outname, 'rb'))\n",
    "else:\n",
    "    dump_features(sim, outname, radius=radius)\n",
    "    times, mass, sigma_star, sigma_gas, r_eff = pickle.load(open(outname, 'rb'))"
   ]
  },
  {
   "cell_type": "markdown",
   "metadata": {},
   "source": [
    "from https://arxiv.org/pdf/1901.03711v1.pdf\n",
    "The dotted line is an indicative relation between stellar mass and velocity dispersion in the absence of dark matter, for\n",
    "the radial regime where the dispersion profile is approximately isothermal: $\\sigma \\approx 5 \\times 10^{-4} (M_\\star/M_\\odot)^{0.5}$ km/s"
   ]
  },
  {
   "cell_type": "code",
   "execution_count": 73,
   "metadata": {},
   "outputs": [],
   "source": [
    "def no_dm(m):\n",
    "    s = 5e-4 * (m ** 0.5)\n",
    "    return s"
   ]
  },
  {
   "cell_type": "code",
   "execution_count": 74,
   "metadata": {},
   "outputs": [
    {
     "data": {
      "text/plain": [
       "(7.062687723113777, 5.0, 0.15811388300841897)"
      ]
     },
     "execution_count": 74,
     "metadata": {},
     "output_type": "execute_result"
    }
   ],
   "source": [
    "no_dm(10**8.3), no_dm(10**8), no_dm(10**5)"
   ]
  },
  {
   "cell_type": "code",
   "execution_count": 76,
   "metadata": {},
   "outputs": [
    {
     "data": {
      "image/png": "[encoded data removed]",
      "text/plain": [
       "<Figure size 432x288 with 2 Axes>"
      ]
     },
     "metadata": {
      "needs_background": "light"
     },
     "output_type": "display_data"
    }
   ],
   "source": [
    "fig, ax = plt.subplots()\n",
    "im = ax.scatter(mass, sigma_star, c=sim.times)\n",
    "cbar = fig.colorbar(im)\n",
    "ax.set_ylabel('$\\sigma$ [km/s]')\n",
    "ax.set_xlabel('$\\log_{10} M_\\star$  [$M_\\odot$]')\n",
    "cbar.ax.set_ylabel('time [Gyr]')\n",
    "m = np.linspace(np.array(mass).min(), np.array(mass).max(), 100)\n",
    "ax.plot(m, no_dm(m), 'r--');\n",
    "ax.set_xscale(\"log\")\n",
    "# ax.set_yscale(\"log\")\n",
    "ax.set_title('{}_{}'.format(SIM, TRAJ));"
   ]
  },
  {
   "cell_type": "code",
   "execution_count": 46,
   "metadata": {},
   "outputs": [
    {
     "data": {
      "image/png": "[encoded data removed]",
      "text/plain": [
       "<Figure size 432x288 with 1 Axes>"
      ]
     },
     "metadata": {
      "needs_background": "light"
     },
     "output_type": "display_data"
    }
   ],
   "source": [
    "# fig, ax = plt.subplots()\n",
    "# m = np.linspace(np.array(mass).min(), np.array(mass).max(), 100)\n",
    "# ax.plot(m, no_dm(m), 'r--');\n",
    "# ax.set_xscale(\"log\")\n",
    "# ax.set_yscale(\"log\")"
   ]
  }
 ],
 "metadata": {
  "kernelspec": {
   "display_name": "Python 3",
   "language": "python",
   "name": "python3"
  },
  "language_info": {
   "codemirror_mode": {
    "name": "ipython",
    "version": 3
   },
   "file_extension": ".py",
   "mimetype": "text/x-python",
   "name": "python",
   "nbconvert_exporter": "python",
   "pygments_lexer": "ipython3",
   "version": "3.6.8"
  }
 },
 "nbformat": 4,
 "nbformat_minor": 2
}
