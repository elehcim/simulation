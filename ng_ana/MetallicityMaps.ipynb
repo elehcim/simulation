{
 "cells": [
  {
   "cell_type": "code",
   "execution_count": 1,
   "metadata": {},
   "outputs": [],
   "source": [
    "import os\n",
    "import simulation\n",
    "import pynbody\n",
    "import pandas as pd\n",
    "import matplotlib.pylab as plt\n",
    "import numpy as np\n",
    "import ipywidgets\n",
    "import tqdm\n",
    "from simulation.sfh_in_box import sfh, plot_sfh, plot_binned_sfh\n",
    "from data_pd.dump_features import dump_features\n",
    "from astropy import constants as c\n",
    "from astropy.table import Table"
   ]
  },
  {
   "cell_type": "code",
   "execution_count": 2,
   "metadata": {},
   "outputs": [],
   "source": [
    "SIMPATH = '/home/michele/sim/MySimulations/ng'"
   ]
  },
  {
   "cell_type": "code",
   "execution_count": 3,
   "metadata": {},
   "outputs": [],
   "source": [
    "SIM = 'mb.71002'\n",
    "TRAJ = 'p100_a800_r600'"
   ]
  },
  {
   "cell_type": "code",
   "execution_count": 4,
   "metadata": {},
   "outputs": [
    {
     "name": "stderr",
     "output_type": "stream",
     "text": [
      "loading simulation: /home/michele/sim/MySimulations/ng/mb.71002_p100_a800_r600/out\n",
      "Found parameter file\n",
      "Found compiler file\n",
      "Found 563 snapshots\n",
      "Taking 57 snapshots (slice(None, None, 10))\n",
      "Loading cosmological parameters\n",
      "Found trace file\n"
     ]
    }
   ],
   "source": [
    "sim_path = os.path.join(SIMPATH, \"{}_{}\".format(SIM, TRAJ), \"out\")\n",
    "NTH = 10\n",
    "sim = simulation.Simulation(sim_path, snap_indexes=slice(None, None, NTH))"
   ]
  },
  {
   "cell_type": "code",
   "execution_count": 5,
   "metadata": {},
   "outputs": [],
   "source": [
    "# load_cache = True\n",
    "# radius = 5\n",
    "# outname = 'data_pd/{}_{}_s{}_n{}.fits'.format(SIM, TRAJ, radius, NTH)\n",
    "# if load_cache:\n",
    "#     tbl = Table.read(outname)\n",
    "# else:\n",
    "#     dump_features(sim, outname, radius=radius)\n",
    "#     tbl = Table.read(outname)"
   ]
  },
  {
   "cell_type": "code",
   "execution_count": 6,
   "metadata": {},
   "outputs": [],
   "source": [
    "from simulation.derived import mgfe, feh\n",
    "snap = sim[50]"
   ]
  },
  {
   "cell_type": "code",
   "execution_count": 7,
   "metadata": {},
   "outputs": [
    {
     "data": {
      "text/plain": [
       "SimArray(8646.799, dtype=float32, 'Msol')"
      ]
     },
     "execution_count": 7,
     "metadata": {},
     "output_type": "execute_result"
    }
   ],
   "source": [
    "snap.s['mass'].in_units('Msol').mean()"
   ]
  },
  {
   "cell_type": "code",
   "execution_count": 8,
   "metadata": {},
   "outputs": [
    {
     "data": {
      "text/plain": [
       "<SimSnap \"/home/michele/sim/MySimulations/ng/mb.71002_p100_a800_r600/out/snapshot_0501\" len=17625>"
      ]
     },
     "execution_count": 8,
     "metadata": {},
     "output_type": "execute_result"
    }
   ],
   "source": [
    "snap"
   ]
  },
  {
   "cell_type": "code",
   "execution_count": 9,
   "metadata": {},
   "outputs": [
    {
     "data": {
      "text/plain": [
       "{'time': Unit(\"1.34e+01 s kpc km**-1\"),\n",
       " 'h': 0.7,\n",
       " 'omegaL0': 0.72,\n",
       " 'omegaM0': 0.28}"
      ]
     },
     "execution_count": 9,
     "metadata": {},
     "output_type": "execute_result"
    }
   ],
   "source": [
    "snap.properties"
   ]
  },
  {
   "cell_type": "code",
   "execution_count": 10,
   "metadata": {},
   "outputs": [],
   "source": [
    "pynbody.config['sph']['smooth-particles'] = 50"
   ]
  },
  {
   "cell_type": "code",
   "execution_count": 16,
   "metadata": {},
   "outputs": [
    {
     "data": {
      "text/plain": [
       "\u001b[0;31mInit signature:\u001b[0m \u001b[0mpynbody\u001b[0m\u001b[0;34m.\u001b[0m\u001b[0manalysis\u001b[0m\u001b[0;34m.\u001b[0m\u001b[0mhalo\u001b[0m\u001b[0;34m.\u001b[0m\u001b[0mtransformation\u001b[0m\u001b[0;34m.\u001b[0m\u001b[0mGenericTranslation\u001b[0m\u001b[0;34m(\u001b[0m\u001b[0mf\u001b[0m\u001b[0;34m,\u001b[0m \u001b[0marname\u001b[0m\u001b[0;34m,\u001b[0m \u001b[0mshift\u001b[0m\u001b[0;34m)\u001b[0m\u001b[0;34m\u001b[0m\u001b[0;34m\u001b[0m\u001b[0m\n",
       "\u001b[0;31mDocstring:\u001b[0m      <no docstring>\n",
       "\u001b[0;31mFile:\u001b[0m           ~/Software/miniconda3/lib/python3.6/site-packages/pynbody/transformation.py\n",
       "\u001b[0;31mType:\u001b[0m           type\n",
       "\u001b[0;31mSubclasses:\u001b[0m     \n"
      ]
     },
     "metadata": {},
     "output_type": "display_data"
    }
   ],
   "source": [
    "pynbody.analysis.halo.transformation.GenericTranslation?"
   ]
  },
  {
   "cell_type": "code",
   "execution_count": 60,
   "metadata": {},
   "outputs": [],
   "source": [
    "sl = ipywidgets.IntSlider(min=0, max=len(sim)-1, value=0)\n",
    "delta = 30\n",
    "def k(i): \n",
    "    snap = sim[i]\n",
    "    print(len(snap.g))\n",
    "    \n",
    "#     pynbody.analysis.halo.center(snap.s)\n",
    "    with pynbody.transformation.translate(snap, shift=[-30] * 3):\n",
    "        pynbody.plot.image(snap.g, qty='rho', av_z=True, width=30, log=True)#, vmin=0, vmax=0.5)#, vmin=-10.5, vmax=-1);"
   ]
  },
  {
   "cell_type": "code",
   "execution_count": 61,
   "metadata": {},
   "outputs": [
    {
     "data": {
      "application/vnd.jupyter.widget-view+json": {
       "model_id": "cdaa345c95b04a2fa16bd30ff1817554",
       "version_major": 2,
       "version_minor": 0
      },
      "text/plain": [
       "interactive(children=(IntSlider(value=0, description='i', max=56), Output(layout=Layout(height='350px'))), _do…"
      ]
     },
     "metadata": {},
     "output_type": "display_data"
    }
   ],
   "source": [
    "w = ipywidgets.interactive(k, i=sl)\n",
    "w.children[-1].layout.height = '350px'\n",
    "w"
   ]
  },
  {
   "cell_type": "code",
   "execution_count": 8,
   "metadata": {},
   "outputs": [
    {
     "data": {
      "text/plain": [
       "(Unit(\"6.00e+01 kpc\"), Unit(\"6.00e+01 kpc\"))"
      ]
     },
     "execution_count": 8,
     "metadata": {},
     "output_type": "execute_result"
    }
   ],
   "source": [
    "sim.properties.get('boxsize'), snap.properties.get('boxsize')"
   ]
  },
  {
   "cell_type": "code",
   "execution_count": 9,
   "metadata": {},
   "outputs": [],
   "source": [
    "f = pynbody.load(\"/home/michele/Software/pynbody/testdata/g15784.lr.01024\")\n",
    "del f.properties['boxsize']"
   ]
  },
  {
   "cell_type": "code",
   "execution_count": 10,
   "metadata": {},
   "outputs": [
    {
     "name": "stdout",
     "output_type": "stream",
     "text": [
      "<capsule object NULL at 0x7f7080c5df30> 50 -1.0 hsm\n",
      "<capsule object NULL at 0x7f7080c5df30> <capsule object NULL at 0x7f7078f97d20> 1\n"
     ]
    },
    {
     "data": {
      "text/plain": [
       "SimArray([0.00063138, 0.00025944, 0.00019808, ..., 0.06115599, 0.06856436,\n",
       "          0.08233795], '6.85e+04 kpc a')"
      ]
     },
     "execution_count": 10,
     "metadata": {},
     "output_type": "execute_result"
    }
   ],
   "source": [
    "f.dm['smooth']"
   ]
  },
  {
   "cell_type": "code",
   "execution_count": 11,
   "metadata": {},
   "outputs": [
    {
     "name": "stdout",
     "output_type": "stream",
     "text": [
      "<capsule object NULL at 0x7f7080c5df30> 50 -1.0 rho\n",
      "<capsule object NULL at 0x7f7080c5df30> <capsule object NULL at 0x7f7078f97cc0> 2\n"
     ]
    },
    {
     "data": {
      "text/plain": [
       "SimArray([1.87537486e+00, 1.69234165e+01, 3.87490588e+01, ...,\n",
       "          3.97663661e-02, 2.93628053e-02, 1.49707128e-02], '1.48e+02 Msol a**-3 kpc**-3')"
      ]
     },
     "execution_count": 11,
     "metadata": {},
     "output_type": "execute_result"
    }
   ],
   "source": [
    "f.dm['rho']"
   ]
  },
  {
   "cell_type": "code",
   "execution_count": 12,
   "metadata": {},
   "outputs": [],
   "source": [
    "#pynbody.sph.build_tree_or_trees(f.dm)"
   ]
  },
  {
   "cell_type": "code",
   "execution_count": 13,
   "metadata": {},
   "outputs": [
    {
     "name": "stdout",
     "output_type": "stream",
     "text": [
      "<capsule object NULL at 0x7f7080c5df30> 32 -1.0 qty_mean\n",
      "<capsule object NULL at 0x7f7080c5df30> <capsule object NULL at 0x7f7078f2a0f0> 3\n"
     ]
    }
   ],
   "source": [
    "vz_mean = f.dm.kdtree.sph_mean(f.dm['vz'],32)\n"
   ]
  },
  {
   "cell_type": "code",
   "execution_count": 14,
   "metadata": {},
   "outputs": [
    {
     "name": "stdout",
     "output_type": "stream",
     "text": [
      "<capsule object NULL at 0x7f7078f97c60> 50 60.0 hsm\n",
      "<capsule object NULL at 0x7f7078f97c60> <capsule object NULL at 0x7f7078f2b210> 1\n",
      "<capsule object NULL at 0x7f7078f97c60> 50 60.0 rho\n",
      "<capsule object NULL at 0x7f7078f97c60> <capsule object NULL at 0x7f7078f2b180> 2\n"
     ]
    },
    {
     "data": {
      "text/plain": [
       "(SimArray([3.484469 , 2.4479296, 2.3715053, ..., 2.7491581, 2.4367533,\n",
       "           2.3916936], dtype=float32, 'kpc'),\n",
       " SimArray([1.5573745e-07, 6.9796306e-07, 7.0096416e-07, ..., 3.2519202e-07,\n",
       "           7.0473692e-07, 8.1464361e-07], dtype=float32, '1.00e+10 Msol kpc**-3'))"
      ]
     },
     "execution_count": 14,
     "metadata": {},
     "output_type": "execute_result"
    }
   ],
   "source": [
    "snap.dm['smooth'], snap.dm['rho']"
   ]
  },
  {
   "cell_type": "code",
   "execution_count": 15,
   "metadata": {},
   "outputs": [
    {
     "name": "stdout",
     "output_type": "stream",
     "text": [
      "<capsule object NULL at 0x7f7078f97c60> 32 60.0 qty_mean\n",
      "<capsule object NULL at 0x7f7078f97c60> <capsule object NULL at 0x7f7078f2b390> 3\n"
     ]
    }
   ],
   "source": [
    "vz_mean = snap.dm.kdtree.sph_mean(snap.dm['vz'],32)"
   ]
  },
  {
   "cell_type": "code",
   "execution_count": 16,
   "metadata": {},
   "outputs": [],
   "source": [
    "import pynbody.sph.kdmain as kd"
   ]
  },
  {
   "cell_type": "code",
   "execution_count": 17,
   "metadata": {},
   "outputs": [
    {
     "name": "stdout",
     "output_type": "stream",
     "text": [
      "<capsule object NULL at 0x7f7078f97540> 50 60.0 hsm\n",
      "<capsule object NULL at 0x7f7078f97540> <capsule object NULL at 0x7f7078f2b2a0> 1\n",
      "<capsule object NULL at 0x7f7078f97540> 50 60.0 rho\n",
      "<capsule object NULL at 0x7f7078f97540> <capsule object NULL at 0x7f7078f2b030> 2\n"
     ]
    },
    {
     "data": {
      "text/plain": [
       "SimArray([3.1347831e-09, 4.0010568e-09, 4.1071329e-09, ..., 1.6694578e-09,\n",
       "          2.5060780e-09, 1.4482039e-09], dtype=float32, '1.00e+10 Msol kpc**-3')"
      ]
     },
     "execution_count": 17,
     "metadata": {},
     "output_type": "execute_result"
    }
   ],
   "source": [
    "snap.s['smooth']\n",
    "snap.s['rho']"
   ]
  },
  {
   "cell_type": "code",
   "execution_count": 18,
   "metadata": {},
   "outputs": [
    {
     "data": {
      "text/plain": [
       "<pynbody.sph.kdtree.KDTree at 0x7f7078f286a0>"
      ]
     },
     "execution_count": 18,
     "metadata": {},
     "output_type": "execute_result"
    }
   ],
   "source": [
    "snap.s.kdtree"
   ]
  },
  {
   "cell_type": "code",
   "execution_count": 19,
   "metadata": {},
   "outputs": [],
   "source": [
    "pynbody.sph.build_tree_or_trees(snap.s)"
   ]
  },
  {
   "cell_type": "code",
   "execution_count": 20,
   "metadata": {},
   "outputs": [
    {
     "data": {
      "text/plain": [
       "<capsule object NULL at 0x7f759d5a7c60>"
      ]
     },
     "execution_count": 20,
     "metadata": {},
     "output_type": "execute_result"
    }
   ],
   "source": [
    "snap.s.kdtree.kdtree"
   ]
  },
  {
   "cell_type": "code",
   "execution_count": 21,
   "metadata": {},
   "outputs": [
    {
     "name": "stdout",
     "output_type": "stream",
     "text": [
      "<capsule object NULL at 0x7f759d5a7c60> 50 60.0 qty_mean\n",
      "<capsule object NULL at 0x7f759d5a7c60> <capsule object NULL at 0x7f75958e0e40> 3\n"
     ]
    }
   ],
   "source": [
    "# kdt = pynbody.sph.kdtree.KDTree(snap.s['pos'], snap.s['mass'], boxsize=snap.header.BoxSize)\n",
    "snap.s['fest_sph'] = snap.s.kdtree.sph_mean(snap.s['fest'], 50)"
   ]
  },
  {
   "cell_type": "code",
   "execution_count": 22,
   "metadata": {},
   "outputs": [
    {
     "name": "stdout",
     "output_type": "stream",
     "text": [
      "<capsule object NULL at 0x7f759d5a7c60> 50 60.0 qty_disp\n",
      "<capsule object NULL at 0x7f759d5a7c60> <capsule object NULL at 0x7f75958ab1b0> 5\n"
     ]
    }
   ],
   "source": [
    "snap.s['metals'] = snap.s.kdtree.sph_dispersion(snap.s['metals'], 50)"
   ]
  },
  {
   "cell_type": "code",
   "execution_count": 23,
   "metadata": {},
   "outputs": [
    {
     "name": "stdout",
     "output_type": "stream",
     "text": [
      "<capsule object NULL at 0x7f759d5a7c60> 50 60.0 qty_mean\n",
      "<capsule object NULL at 0x7f759d5a7c60> <capsule object NULL at 0x7f75958e0b10> 3\n",
      "<capsule object NULL at 0x7f759d5a7c60> 50 60.0 qty_mean\n",
      "<capsule object NULL at 0x7f759d5a7c60> <capsule object NULL at 0x7f75d0646db0> 3\n"
     ]
    },
    {
     "data": {
      "text/plain": [
       "SimArray([-4.3465114, -4.9942384, -4.4059877, ..., -5.3022256, -4.93606  ,\n",
       "          -5.3235116], dtype=float32)"
      ]
     },
     "execution_count": 23,
     "metadata": {},
     "output_type": "execute_result"
    }
   ],
   "source": [
    "snap.s['feh']"
   ]
  },
  {
   "cell_type": "code",
   "execution_count": 24,
   "metadata": {},
   "outputs": [
    {
     "data": {
      "text/plain": [
       "SimArray(-1.9412184, dtype=float32)"
      ]
     },
     "execution_count": 24,
     "metadata": {},
     "output_type": "execute_result"
    }
   ],
   "source": [
    "snap.s['feh'].mean()"
   ]
  },
  {
   "cell_type": "code",
   "execution_count": 25,
   "metadata": {},
   "outputs": [
    {
     "name": "stdout",
     "output_type": "stream",
     "text": [
      "<capsule object NULL at 0x7f759d5a7c60> 50 60.0 qty_mean\n",
      "<capsule object NULL at 0x7f759d5a7c60> <capsule object NULL at 0x7f75958e0a20> 3\n",
      "<capsule object NULL at 0x7f759d5a7c60> 50 60.0 qty_mean\n",
      "<capsule object NULL at 0x7f759d5a7c60> <capsule object NULL at 0x7f75958e07e0> 3\n"
     ]
    },
    {
     "data": {
      "text/plain": [
       "SimArray([0.41606987, 0.42984885, 0.43901715, ..., 0.45674908, 0.4429846 ,\n",
       "          0.39858305], dtype=float32)"
      ]
     },
     "execution_count": 25,
     "metadata": {},
     "output_type": "execute_result"
    }
   ],
   "source": [
    "snap.s['mgfe']"
   ]
  },
  {
   "cell_type": "code",
   "execution_count": 26,
   "metadata": {},
   "outputs": [
    {
     "data": {
      "text/plain": [
       "563"
      ]
     },
     "execution_count": 26,
     "metadata": {},
     "output_type": "execute_result"
    }
   ],
   "source": [
    "len(sim)"
   ]
  },
  {
   "cell_type": "code",
   "execution_count": 27,
   "metadata": {},
   "outputs": [
    {
     "data": {
      "text/plain": [
       "50"
      ]
     },
     "execution_count": 27,
     "metadata": {},
     "output_type": "execute_result"
    }
   ],
   "source": [
    "pynbody.config['sph']['smooth-particles']"
   ]
  },
  {
   "cell_type": "code",
   "execution_count": 28,
   "metadata": {},
   "outputs": [],
   "source": [
    "kdt = pynbody.sph.kdtree.KDTree(snap['pos'], snap['mass'])"
   ]
  },
  {
   "cell_type": "code",
   "execution_count": 73,
   "metadata": {},
   "outputs": [],
   "source": [
    "sl = ipywidgets.IntSlider(min=0, max=len(sim)-1, value=0)\n",
    "def k(i): \n",
    "    snap = sim[i]\n",
    "    pynbody.analysis.halo.center(snap.s)\n",
    "    pynbody.plot.image(snap.s, qty='feh', width=4, log=False, vmin=-2.5, vmax=0);"
   ]
  },
  {
   "cell_type": "code",
   "execution_count": 74,
   "metadata": {},
   "outputs": [
    {
     "data": {
      "application/vnd.jupyter.widget-view+json": {
       "model_id": "42d14ba3c4164c36aee4a9712e84e1a8",
       "version_major": 2,
       "version_minor": 0
      },
      "text/plain": [
       "interactive(children=(IntSlider(value=0, description='i', max=562), Output(layout=Layout(height='450px'))), _d…"
      ]
     },
     "metadata": {},
     "output_type": "display_data"
    }
   ],
   "source": [
    "w = ipywidgets.interactive(k, i=sl)\n",
    "w.children[-1].layout.height = '450px'\n",
    "w"
   ]
  },
  {
   "cell_type": "code",
   "execution_count": 63,
   "metadata": {},
   "outputs": [
    {
     "data": {
      "text/plain": [
       "SimArray([0.00811383, 0.00606447, 0.00711174, ..., 0.00633036, 0.00766001,\n",
       "          0.00926304], dtype=float32, '1.00e+10 km**2 Msol s**-2 kpc**-3')"
      ]
     },
     "execution_count": 63,
     "metadata": {},
     "output_type": "execute_result"
    }
   ],
   "source": [
    "snap.g['p']"
   ]
  },
  {
   "cell_type": "code",
   "execution_count": 64,
   "metadata": {},
   "outputs": [],
   "source": [
    "fam=snap.g._unifamily"
   ]
  },
  {
   "cell_type": "code",
   "execution_count": 65,
   "metadata": {},
   "outputs": [
    {
     "data": {
      "text/plain": [
       "['mu', 'cs']"
      ]
     },
     "execution_count": 65,
     "metadata": {},
     "output_type": "execute_result"
    }
   ],
   "source": [
    "snap._family_derived_array_names[fam]"
   ]
  },
  {
   "cell_type": "code",
   "execution_count": 66,
   "metadata": {},
   "outputs": [
    {
     "data": {
      "text/plain": [
       "[]"
      ]
     },
     "execution_count": 66,
     "metadata": {},
     "output_type": "execute_result"
    }
   ],
   "source": [
    "snap._derived_array_names"
   ]
  },
  {
   "cell_type": "code",
   "execution_count": 68,
   "metadata": {},
   "outputs": [
    {
     "data": {
      "text/plain": [
       "False"
      ]
     },
     "execution_count": 68,
     "metadata": {},
     "output_type": "execute_result"
    }
   ],
   "source": [
    "snap.is_derived_array('p')"
   ]
  },
  {
   "cell_type": "code",
   "execution_count": 49,
   "metadata": {},
   "outputs": [
    {
     "data": {
      "text/plain": [
       "['mgfe']"
      ]
     },
     "execution_count": 49,
     "metadata": {},
     "output_type": "execute_result"
    }
   ],
   "source": [
    "snap._family_derived_array_names[fam]"
   ]
  },
  {
   "cell_type": "code",
   "execution_count": 70,
   "metadata": {},
   "outputs": [
    {
     "data": {
      "text/plain": [
       "<function simulation.derived.mgfe(snap)>"
      ]
     },
     "execution_count": 70,
     "metadata": {},
     "output_type": "execute_result"
    }
   ],
   "source": [
    "snap._find_deriving_function('mgfe')"
   ]
  },
  {
   "cell_type": "code",
   "execution_count": 72,
   "metadata": {},
   "outputs": [
    {
     "data": {
      "text/plain": [
       "<bound method DependencyTracker.calculating of <pynbody.dependencytracker.DependencyTracker object at 0x7f7599ed1358>>"
      ]
     },
     "execution_count": 72,
     "metadata": {},
     "output_type": "execute_result"
    }
   ],
   "source": [
    "snap._dependency_tracker.calculating"
   ]
  },
  {
   "cell_type": "code",
   "execution_count": 89,
   "metadata": {},
   "outputs": [
    {
     "data": {
      "text/plain": [
       "<Family gas>"
      ]
     },
     "execution_count": 89,
     "metadata": {},
     "output_type": "execute_result"
    }
   ],
   "source": [
    "pynbody.family.get_family('g')"
   ]
  },
  {
   "cell_type": "code",
   "execution_count": 104,
   "metadata": {},
   "outputs": [
    {
     "data": {
      "text/plain": [
       "False"
      ]
     },
     "execution_count": 104,
     "metadata": {},
     "output_type": "execute_result"
    }
   ],
   "source": [
    "snap._unifamily is pynbody.family.star"
   ]
  },
  {
   "cell_type": "code",
   "execution_count": null,
   "metadata": {},
   "outputs": [],
   "source": []
  }
 ],
 "metadata": {
  "kernelspec": {
   "display_name": "Python 3",
   "language": "python",
   "name": "python3"
  },
  "language_info": {
   "codemirror_mode": {
    "name": "ipython",
    "version": 3
   },
   "file_extension": ".py",
   "mimetype": "text/x-python",
   "name": "python",
   "nbconvert_exporter": "python",
   "pygments_lexer": "ipython3",
   "version": "3.6.8"
  }
 },
 "nbformat": 4,
 "nbformat_minor": 2
}
