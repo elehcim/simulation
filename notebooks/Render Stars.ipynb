{
 "cells": [
  {
   "cell_type": "code",
   "execution_count": 1,
   "metadata": {
    "collapsed": true
   },
   "outputs": [],
   "source": [
    "import pynbody\n",
    "import pynbody.plot.sph as sph\n",
    "import pynbody.plot as pp\n",
    "from pynbody.analysis import angmom\n",
    "import matplotlib.pylab as plt\n",
    "import numpy as np"
   ]
  },
  {
   "cell_type": "code",
   "execution_count": 2,
   "metadata": {
    "collapsed": true
   },
   "outputs": [],
   "source": [
    "s = pynbody.load('/home/michele/sim/analysis/snapshot_0065')\n",
    "s.physical_units()\n",
    "sk = pynbody.load('/home/michele/sim/analysis/snapshot_0065.kicked')\n",
    "sk.physical_units()"
   ]
  },
  {
   "cell_type": "code",
   "execution_count": 3,
   "metadata": {
    "collapsed": true
   },
   "outputs": [],
   "source": [
    "# pynbody.analysis.angmom.sideon(s)"
   ]
  },
  {
   "cell_type": "code",
   "execution_count": 4,
   "metadata": {},
   "outputs": [
    {
     "data": {
      "text/plain": [
       "{'a': 0.6552559150121577,\n",
       " 'boxsize': Unit(\"1.04e+04 kpc\"),\n",
       " 'h': 0.7,\n",
       " 'omegaL0': 0.72,\n",
       " 'omegaM0': 1.0,\n",
       " 'time': Unit(\"9.64e+03 kpc s km**-1\")}"
      ]
     },
     "execution_count": 4,
     "metadata": {},
     "output_type": "execute_result"
    }
   ],
   "source": [
    "s.properties"
   ]
  },
  {
   "cell_type": "markdown",
   "metadata": {
    "collapsed": true
   },
   "source": [
    "Try to explore cell n. 4"
   ]
  },
  {
   "cell_type": "code",
   "execution_count": 5,
   "metadata": {
    "collapsed": true
   },
   "outputs": [],
   "source": [
    "dm_array = s.d['iord']"
   ]
  },
  {
   "cell_type": "code",
   "execution_count": 6,
   "metadata": {
    "collapsed": true,
    "scrolled": true
   },
   "outputs": [],
   "source": [
    "# To get the numpy array from a SimArray use view(type=np.ndarray)\n",
    "dm_array=s.d['iord'].view(type=np.ndarray)\n",
    "# np.where(s.d['iord']==4, s.)"
   ]
  },
  {
   "cell_type": "code",
   "execution_count": 20,
   "metadata": {
    "collapsed": true
   },
   "outputs": [],
   "source": [
    "v = s['vel']"
   ]
  },
  {
   "cell_type": "code",
   "execution_count": 21,
   "metadata": {},
   "outputs": [
    {
     "data": {
      "text/plain": [
       "SimArray([[-267.59622192, -312.26376343,  -34.54175949],\n",
       "          [-133.45831299, -365.31143188,  -78.3753891 ],\n",
       "          [ -90.2481308 , -373.88238525,  -53.48918152],\n",
       "          ..., \n",
       "          [   7.02959681,  -23.26060677,    1.9759568 ],\n",
       "          [   7.26080084,  -61.22886276,   18.23840904],\n",
       "          [  47.00123596,  -33.06875992,    6.13346577]], dtype=float32, 'km s**-1')"
      ]
     },
     "execution_count": 21,
     "metadata": {},
     "output_type": "execute_result"
    }
   ],
   "source": [
    "v"
   ]
  },
  {
   "cell_type": "code",
   "execution_count": 16,
   "metadata": {},
   "outputs": [
    {
     "data": {
      "text/plain": [
       "413034"
      ]
     },
     "execution_count": 16,
     "metadata": {},
     "output_type": "execute_result"
    }
   ],
   "source": [
    "v.size"
   ]
  },
  {
   "cell_type": "code",
   "execution_count": null,
   "metadata": {
    "collapsed": true
   },
   "outputs": [],
   "source": [
    "sk.d['vel']"
   ]
  },
  {
   "cell_type": "code",
   "execution_count": null,
   "metadata": {
    "collapsed": true
   },
   "outputs": [],
   "source": [
    "s['pos'].convert_units('Mpc')\n",
    "sk['pos'].convert_units('Mpc')"
   ]
  },
  {
   "cell_type": "markdown",
   "metadata": {},
   "source": [
    "Plot stars"
   ]
  },
  {
   "cell_type": "code",
   "execution_count": null,
   "metadata": {
    "collapsed": true
   },
   "outputs": [],
   "source": [
    "pynbody.plot.stars.render(s)\n",
    "plt.show()"
   ]
  },
  {
   "cell_type": "code",
   "execution_count": null,
   "metadata": {
    "collapsed": true
   },
   "outputs": [],
   "source": [
    "simlist = [s, sk]"
   ]
  },
  {
   "cell_type": "code",
   "execution_count": null,
   "metadata": {
    "collapsed": true
   },
   "outputs": [],
   "source": [
    "#you can also make a stream visualization instead of a quiver plot\n",
    "#pynbody.analysis.angmom.faceon(h[1])\n",
    "sph.velocity_image(s.g, width='100 Mpc', cmap = \"Greys_r\", mode='stream', units='Msol kpc^-2',\n",
    "                   density=3.0, vector_resolution=100, vmin=1e-3,\n",
    "                   show_cbar=False, vector_color='black')\n",
    "plt.show()"
   ]
  },
  {
   "cell_type": "code",
   "execution_count": null,
   "metadata": {
    "collapsed": true
   },
   "outputs": [],
   "source": [
    "s.g['temp']"
   ]
  },
  {
   "cell_type": "code",
   "execution_count": null,
   "metadata": {
    "collapsed": true,
    "scrolled": true
   },
   "outputs": [],
   "source": [
    "# sph.velocity_image(s.g, vector_color=\"cyan\", qty=\"temp\", cmap=\"YlOrRd\",\n",
    "#                    denoise=True, approximate_fast=False, show_cbar = False)"
   ]
  },
  {
   "cell_type": "code",
   "execution_count": null,
   "metadata": {
    "collapsed": true
   },
   "outputs": [],
   "source": [
    "#create a simple slice showing the gas temperature, with velocity vectors overlaid\n",
    "\n",
    "# f, axs = plt.subplots(1,2,figsize=(14,6))\n",
    "\n",
    "# simlist = [s, sk]\n",
    "# for i, s in enumerate(simlist):\n",
    "#     print('Printing ', s.filename)\n",
    "#     sph.velocity_image(s.g, vector_color=\"cyan\", qty=\"temp\", cmap=\"YlOrRd\",\n",
    "#                        denoise=True,approximate_fast=False, show_cbar = False, subplot=axs[i])\n",
    "# plt.show()"
   ]
  },
  {
   "cell_type": "markdown",
   "metadata": {},
   "source": [
    "# Working plots"
   ]
  },
  {
   "cell_type": "code",
   "execution_count": null,
   "metadata": {
    "collapsed": true
   },
   "outputs": [],
   "source": [
    "s.s.loadable_keys()"
   ]
  },
  {
   "cell_type": "code",
   "execution_count": null,
   "metadata": {
    "collapsed": true
   },
   "outputs": [],
   "source": [
    "simname='f'\n",
    "pp.sfh(s,filename=\"f\"+'.sfh.png',nbins=500);"
   ]
  },
  {
   "cell_type": "markdown",
   "metadata": {},
   "source": [
    "## Rotation curve"
   ]
  },
  {
   "cell_type": "code",
   "execution_count": null,
   "metadata": {
    "collapsed": true
   },
   "outputs": [],
   "source": [
    "pp.rotation_curve(s, filename=simname+'.rc.png', quick=True,\n",
    "                  max='40 kpc', center=False);"
   ]
  },
  {
   "cell_type": "markdown",
   "metadata": {},
   "source": [
    "## Rotation curve with parts"
   ]
  },
  {
   "cell_type": "code",
   "execution_count": null,
   "metadata": {
    "collapsed": true
   },
   "outputs": [],
   "source": [
    "pp.rotation_curve(s, filename=simname+'.rcparts.png', quick=True,\n",
    "                  parts=True, legend=True, max='40 Mpc', center=False);"
   ]
  },
  {
   "cell_type": "markdown",
   "metadata": {},
   "source": [
    "## Density temperature"
   ]
  },
  {
   "cell_type": "code",
   "execution_count": null,
   "metadata": {
    "collapsed": true
   },
   "outputs": [],
   "source": [
    "pp.rho_T(s,filename=simname+'.phase.png');"
   ]
  },
  {
   "cell_type": "markdown",
   "metadata": {},
   "source": [
    "## Star density and dark matter density profiles"
   ]
  },
  {
   "cell_type": "code",
   "execution_count": null,
   "metadata": {
    "collapsed": true
   },
   "outputs": [],
   "source": [
    "# create a profile object for the stars (by default this is a 2D profile)\n",
    "p = pynbody.analysis.profile.Profile(s.s, min=.01, max=50)\n",
    "\n",
    "# make the figure and sub plots\n",
    "f, axs = plt.subplots(1, 2, figsize=(14,6))\n",
    "\n",
    "# make the plot\n",
    "axs[0].plot(p['rbins'], p['density'], 'k')\n",
    "axs[0].semilogy()\n",
    "axs[0].set_xlabel('R [kpc]')\n",
    "axs[0].set_ylabel(r'$\\Sigma_{\\star}$ [M$_{\\odot}$ kpc$^{-2}$]')\n",
    "\n",
    "# make a 3D density plot of the dark matter (note ndim=3 in the constructor below)\n",
    "p = pynbody.analysis.profile.Profile(s.d, min=.01, max=50, ndim=3)\n",
    "\n",
    "axs[1].plot(p['rbins'], p['density'], 'k')\n",
    "axs[1].semilogy()\n",
    "axs[1].set_xlabel('R [kpc]')\n",
    "axs[1].set_ylabel(r'$\\rho_{DM}$ [M$_{\\odot}$ kpc$^{-3}$]')\n",
    "plt.savefig(filename=simname+'.density_profiles.png')"
   ]
  },
  {
   "cell_type": "markdown",
   "metadata": {},
   "source": [
    "## Surface brightness profile in V band "
   ]
  },
  {
   "cell_type": "code",
   "execution_count": null,
   "metadata": {
    "collapsed": true
   },
   "outputs": [],
   "source": [
    "pp.sbprofile(s, filename=simname+'.sbprof.png', \n",
    "             center=False, rmax='100 Mpc', diskheight='400 Mpc')  # Surface brightness profile"
   ]
  },
  {
   "cell_type": "markdown",
   "metadata": {},
   "source": [
    "## Dark matter density profile\n",
    "To plot the y value in terms of rho_{cr} (only if in_units parameter is None) it is using the h value sim.properties['h]\n",
    "It is plotting the error bar dividing the value of the density for the number of particle in the bin"
   ]
  },
  {
   "cell_type": "code",
   "execution_count": null,
   "metadata": {
    "collapsed": true
   },
   "outputs": [],
   "source": [
    "pp.density_profile(s.dark, filename=simname+'.dmprof.png', center=False)"
   ]
  },
  {
   "cell_type": "markdown",
   "metadata": {},
   "source": [
    "# Not working plots"
   ]
  },
  {
   "cell_type": "code",
   "execution_count": null,
   "metadata": {
    "collapsed": true,
    "scrolled": true
   },
   "outputs": [],
   "source": [
    "pp.guo(s, baryfrac=True, filename=simname+'.guo.png')"
   ]
  },
  {
   "cell_type": "code",
   "execution_count": null,
   "metadata": {
    "collapsed": true
   },
   "outputs": [],
   "source": [
    "pp.ofefeh(s.stars, filename=simname+'.ofefeh.png',\n",
    "          weights=s.stars['mass'].in_units('Msol'), scalemin=1e3,\n",
    "          scalemax=1e6, x_range=[-3,0.3],y_range=[-0.5,1.0])"
   ]
  },
  {
   "cell_type": "code",
   "execution_count": null,
   "metadata": {
    "collapsed": true
   },
   "outputs": [],
   "source": [
    "# Trying to center the rotation curve\n",
    "t = angmom.faceon(s, cen_size='400 Mpc')\n",
    "pp.rotation_curve(t, filename=simname+'.rcparts.png', quick=True,\n",
    "                  parts=True, legend=True, min='0 Mpc', max='40 Mpc', center=False)"
   ]
  },
  {
   "cell_type": "code",
   "execution_count": null,
   "metadata": {
    "collapsed": true
   },
   "outputs": [],
   "source": [
    "# import pynbody.plot as pp\n",
    "# simname = 'ppp'\n",
    "# ### Make plots\n",
    "# # try:\n",
    "\n",
    "# pp.ofefeh(h[i].stars, filename=simname+'.ofefeh.png',\n",
    "#               weights=h[i].stars['mass'].in_units('Msol'), scalemin=1e3,\n",
    "#               scalemax=1e6, x_range=[-3,0.3],y_range=[-0.5,1.0])\n",
    "# pp.mdf(h[i].stars,filename=simname+'.mdf.png', range=[-4,0.5])\n",
    "# pp.guo(h,baryfrac=True,filename=simname+'.guo.png')\n",
    "# pp.schmidtlaw(h[i],filename=simname+'.schmidt.png',center=False)\n",
    "# pp.satlf(h[i],filename=simname+'.satlf.png')\n",
    "# # except:\n",
    "# #     pass"
   ]
  },
  {
   "cell_type": "code",
   "execution_count": 10,
   "metadata": {},
   "outputs": [
    {
     "name": "stderr",
     "output_type": "stream",
     "text": [
      "/home/michele/Software/miniconda3/lib/python3.6/site-packages/pynbody/analysis/angmom.py:78: RuntimeWarning: invalid value encountered in true_divide\n",
      "  vec_in = vec_in / np.sum(vec_in ** 2).sum() ** 0.5\n"
     ]
    },
    {
     "ename": "ValueError",
     "evalue": "Transformation matrix is not orthogonal",
     "output_type": "error",
     "traceback": [
      "\u001b[0;31m---------------------------------------------------------------------------\u001b[0m",
      "\u001b[0;31mValueError\u001b[0m                                Traceback (most recent call last)",
      "\u001b[0;32m<ipython-input-10-241460438aa3>\u001b[0m in \u001b[0;36m<module>\u001b[0;34m()\u001b[0m\n\u001b[0;32m----> 1\u001b[0;31m \u001b[0mt\u001b[0m \u001b[0;34m=\u001b[0m \u001b[0mangmom\u001b[0m\u001b[0;34m.\u001b[0m\u001b[0mfaceon\u001b[0m\u001b[0;34m(\u001b[0m\u001b[0ms\u001b[0m\u001b[0;34m,\u001b[0m \u001b[0mcen_size\u001b[0m\u001b[0;34m=\u001b[0m\u001b[0;34m'1 Mpc'\u001b[0m\u001b[0;34m)\u001b[0m\u001b[0;34m\u001b[0m\u001b[0m\n\u001b[0m\u001b[1;32m      2\u001b[0m pp.rotation_curve(t, filename=simname+'.rcparts.png', quick=True,\n\u001b[1;32m      3\u001b[0m                   parts=True, legend=True, min='0 Mpc', max='40 Mpc', center=False)\n",
      "\u001b[0;32m~/Software/miniconda3/lib/python3.6/site-packages/pynbody/analysis/angmom.py\u001b[0m in \u001b[0;36mfaceon\u001b[0;34m(h, **kwargs)\u001b[0m\n\u001b[1;32m    155\u001b[0m     \"\"\"\n\u001b[1;32m    156\u001b[0m \u001b[0;34m\u001b[0m\u001b[0m\n\u001b[0;32m--> 157\u001b[0;31m     \u001b[0;32mreturn\u001b[0m \u001b[0msideon\u001b[0m\u001b[0;34m(\u001b[0m\u001b[0mh\u001b[0m\u001b[0;34m,\u001b[0m \u001b[0mcalc_faceon_matrix\u001b[0m\u001b[0;34m,\u001b[0m \u001b[0;34m**\u001b[0m\u001b[0mkwargs\u001b[0m\u001b[0;34m)\u001b[0m\u001b[0;34m\u001b[0m\u001b[0m\n\u001b[0m",
      "\u001b[0;32m~/Software/miniconda3/lib/python3.6/site-packages/pynbody/analysis/angmom.py\u001b[0m in \u001b[0;36msideon\u001b[0;34m(h, vec_to_xform, cen_size, disk_size, cen, vcen, move_all, **kwargs)\u001b[0m\n\u001b[1;32m    135\u001b[0m     \u001b[0mlogger\u001b[0m\u001b[0;34m.\u001b[0m\u001b[0minfo\u001b[0m\u001b[0;34m(\u001b[0m\u001b[0;34m\"Transforming simulation...\"\u001b[0m\u001b[0;34m)\u001b[0m\u001b[0;34m\u001b[0m\u001b[0m\n\u001b[1;32m    136\u001b[0m \u001b[0;34m\u001b[0m\u001b[0m\n\u001b[0;32m--> 137\u001b[0;31m     \u001b[0mtx\u001b[0m \u001b[0;34m=\u001b[0m \u001b[0mtransformation\u001b[0m\u001b[0;34m.\u001b[0m\u001b[0mtransform\u001b[0m\u001b[0;34m(\u001b[0m\u001b[0mtx\u001b[0m\u001b[0;34m,\u001b[0m \u001b[0mtrans\u001b[0m\u001b[0;34m)\u001b[0m\u001b[0;34m\u001b[0m\u001b[0m\n\u001b[0m\u001b[1;32m    138\u001b[0m \u001b[0;34m\u001b[0m\u001b[0m\n\u001b[1;32m    139\u001b[0m     \u001b[0mlogger\u001b[0m\u001b[0;34m.\u001b[0m\u001b[0minfo\u001b[0m\u001b[0;34m(\u001b[0m\u001b[0;34m\"...done!\"\u001b[0m\u001b[0;34m)\u001b[0m\u001b[0;34m\u001b[0m\u001b[0m\n",
      "\u001b[0;32m~/Software/miniconda3/lib/python3.6/site-packages/pynbody/transformation.py\u001b[0m in \u001b[0;36mtransform\u001b[0;34m(f, matrix)\u001b[0m\n\u001b[1;32m    200\u001b[0m     *matrix*\"\"\"\n\u001b[1;32m    201\u001b[0m \u001b[0;34m\u001b[0m\u001b[0m\n\u001b[0;32m--> 202\u001b[0;31m     \u001b[0;32mreturn\u001b[0m \u001b[0mGenericRotation\u001b[0m\u001b[0;34m(\u001b[0m\u001b[0mf\u001b[0m\u001b[0;34m,\u001b[0m \u001b[0mmatrix\u001b[0m\u001b[0;34m)\u001b[0m\u001b[0;34m\u001b[0m\u001b[0m\n\u001b[0m\u001b[1;32m    203\u001b[0m \u001b[0;34m\u001b[0m\u001b[0m\n\u001b[1;32m    204\u001b[0m \u001b[0;34m\u001b[0m\u001b[0m\n",
      "\u001b[0;32m~/Software/miniconda3/lib/python3.6/site-packages/pynbody/transformation.py\u001b[0m in \u001b[0;36m__init__\u001b[0;34m(self, f, matrix, ortho_tol)\u001b[0m\n\u001b[1;32m    110\u001b[0m         \u001b[0mresid\u001b[0m \u001b[0;34m=\u001b[0m \u001b[0;34m(\u001b[0m\u001b[0mresid\u001b[0m \u001b[0;34m**\u001b[0m \u001b[0;36m2\u001b[0m\u001b[0;34m)\u001b[0m\u001b[0;34m.\u001b[0m\u001b[0msum\u001b[0m\u001b[0;34m(\u001b[0m\u001b[0;34m)\u001b[0m\u001b[0;34m\u001b[0m\u001b[0m\n\u001b[1;32m    111\u001b[0m         \u001b[0;32mif\u001b[0m \u001b[0mresid\u001b[0m \u001b[0;34m>\u001b[0m \u001b[0mortho_tol\u001b[0m \u001b[0;32mor\u001b[0m \u001b[0mresid\u001b[0m \u001b[0;34m!=\u001b[0m \u001b[0mresid\u001b[0m\u001b[0;34m:\u001b[0m\u001b[0;34m\u001b[0m\u001b[0m\n\u001b[0;32m--> 112\u001b[0;31m             \u001b[0;32mraise\u001b[0m \u001b[0mValueError\u001b[0m\u001b[0;34m(\u001b[0m\u001b[0;34m\"Transformation matrix is not orthogonal\"\u001b[0m\u001b[0;34m)\u001b[0m\u001b[0;34m\u001b[0m\u001b[0m\n\u001b[0m\u001b[1;32m    113\u001b[0m         \u001b[0mself\u001b[0m\u001b[0;34m.\u001b[0m\u001b[0mmatrix\u001b[0m \u001b[0;34m=\u001b[0m \u001b[0mmatrix\u001b[0m\u001b[0;34m\u001b[0m\u001b[0m\n\u001b[1;32m    114\u001b[0m         \u001b[0msuper\u001b[0m\u001b[0;34m(\u001b[0m\u001b[0mGenericRotation\u001b[0m\u001b[0;34m,\u001b[0m \u001b[0mself\u001b[0m\u001b[0;34m)\u001b[0m\u001b[0;34m.\u001b[0m\u001b[0m__init__\u001b[0m\u001b[0;34m(\u001b[0m\u001b[0mf\u001b[0m\u001b[0;34m)\u001b[0m\u001b[0;34m\u001b[0m\u001b[0m\n",
      "\u001b[0;31mValueError\u001b[0m: Transformation matrix is not orthogonal"
     ]
    }
   ],
   "source": [
    "t = angmom.faceon(s, cen_size='1 Mpc')\n",
    "pp.rotation_curve(t, filename=simname+'.rcparts.png', quick=True,\n",
    "                  parts=True, legend=True, min='0 Mpc', max='40 Mpc', center=False)"
   ]
  },
  {
   "cell_type": "code",
   "execution_count": null,
   "metadata": {
    "collapsed": true
   },
   "outputs": [],
   "source": []
  }
 ],
 "metadata": {
  "kernelspec": {
   "display_name": "Python 3",
   "language": "python",
   "name": "python3"
  },
  "language_info": {
   "codemirror_mode": {
    "name": "ipython",
    "version": 3
   },
   "file_extension": ".py",
   "mimetype": "text/x-python",
   "name": "python",
   "nbconvert_exporter": "python",
   "pygments_lexer": "ipython3",
   "version": "3.6.4"
  }
 },
 "nbformat": 4,
 "nbformat_minor": 2
}
