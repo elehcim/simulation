{
 "cells": [
  {
   "cell_type": "code",
   "execution_count": 1,
   "metadata": {},
   "outputs": [],
   "source": [
    "import simulation\n",
    "import matplotlib.pylab as plt\n",
    "import numpy as np\n",
    "\n",
    "# plt.style.use('dark_background')"
   ]
  },
  {
   "cell_type": "code",
   "execution_count": 2,
   "metadata": {},
   "outputs": [],
   "source": [
    "SIM_ID=['69002_p10.0_a600.0_r600.0_c8.15_z0',\n",
    "        '69002_p200.0_a1000.0_r800.0_c8.15_z0',\n",
    "        '69002_p200.0_a600.0_r600.0_c8.15_z0',\n",
    "        '69002_p400.0_a600.0_r600.0_c8.15_z0',\n",
    "        '69002_p598.0_a600.0_r600.0_c8.15_z0']"
   ]
  },
  {
   "cell_type": "code",
   "execution_count": 3,
   "metadata": {},
   "outputs": [
    {
     "name": "stderr",
     "output_type": "stream",
     "text": [
      "loading simulation: 69002_p10.0_a600.0_r600.0_c8.15_z0\n",
      "No sumfile found\n",
      "loading simulation: 69002_p200.0_a1000.0_r800.0_c8.15_z0\n",
      "No sumfile found\n",
      "loading simulation: 69002_p200.0_a600.0_r600.0_c8.15_z0\n",
      "No sumfile found\n",
      "loading simulation: 69002_p400.0_a600.0_r600.0_c8.15_z0\n",
      "No sumfile found\n",
      "loading simulation: 69002_p598.0_a600.0_r600.0_c8.15_z0\n",
      "No sumfile found\n",
      "Loading precomputed center of gravity for all the snapshots\n",
      "Loading precomputed center of gravity for all the snapshots\n",
      "Loading precomputed center of gravity for all the snapshots\n",
      "Loading precomputed center of gravity for all the snapshots\n",
      "Loading precomputed center of gravity for all the snapshots\n"
     ]
    },
    {
     "data": {
      "text/plain": [
       "[None, None, None, None, None]"
      ]
     },
     "execution_count": 3,
     "metadata": {},
     "output_type": "execute_result"
    }
   ],
   "source": [
    "sim = [simulation.MoriaSim(s, kicked=True) for s in SIM_ID]\n",
    "[s.compute_cog(verbose=False) for s in sim]"
   ]
  },
  {
   "cell_type": "code",
   "execution_count": 6,
   "metadata": {},
   "outputs": [
    {
     "data": {
      "application/vnd.jupyter.widget-view+json": {
       "model_id": "e1c671fdcbaf482fb1ca26b98c82dbb7",
       "version_major": 2,
       "version_minor": 0
      },
      "text/html": [
       "<p>Failed to display Jupyter Widget of type <code>VBox</code>.</p>\n",
       "<p>\n",
       "  If you're reading this message in the Jupyter Notebook or JupyterLab Notebook, it may mean\n",
       "  that the widgets JavaScript is still loading. If this message persists, it\n",
       "  likely means that the widgets JavaScript library is either not installed or\n",
       "  not enabled. See the <a href=\"https://ipywidgets.readthedocs.io/en/stable/user_install.html\">Jupyter\n",
       "  Widgets Documentation</a> for setup instructions.\n",
       "</p>\n",
       "<p>\n",
       "  If you're reading this message in another frontend (for example, a static\n",
       "  rendering on GitHub or <a href=\"https://nbviewer.jupyter.org/\">NBViewer</a>),\n",
       "  it may mean that your frontend doesn't currently support widgets.\n",
       "</p>\n"
      ],
      "text/plain": [
       "VBox(children=(HBox(children=(VBox(children=(IntSlider(value=0, continuous_update=False, description='Snap:', max=94), Checkbox(value=False, description='Velocity projection'), Checkbox(value=True, description='SFH'), Checkbox(value=True, description='COG traj.'))), VBox(children=(FloatRangeSlider(value=(1e-06, 0.2), continuous_update=False, description='Rho:', max=0.2, min=1e-06, readout_format='1.0e', step=1e-05), IntSlider(value=20, continuous_update=False, description='Width (kpc):', max=1000, min=5, step=10), IntSlider(value=200, continuous_update=False, description='Resol. (pix):', max=1000, min=100, step=100)))), layout=Layout(display='flex', width='150%')), Output()))"
      ]
     },
     "metadata": {},
     "output_type": "display_data"
    }
   ],
   "source": [
    "sim[2].interact_gas(rho_min=1e-6)"
   ]
  },
  {
   "cell_type": "code",
   "execution_count": null,
   "metadata": {},
   "outputs": [],
   "source": []
  }
 ],
 "metadata": {
  "kernelspec": {
   "display_name": "Python 3",
   "language": "python",
   "name": "python3"
  },
  "language_info": {
   "codemirror_mode": {
    "name": "ipython",
    "version": 3
   },
   "file_extension": ".py",
   "mimetype": "text/x-python",
   "name": "python",
   "nbconvert_exporter": "python",
   "pygments_lexer": "ipython3",
   "version": "3.6.4"
  }
 },
 "nbformat": 4,
 "nbformat_minor": 2
}
