{
 "cells": [
  {
   "cell_type": "code",
   "execution_count": 10,
   "metadata": {
    "collapsed": true
   },
   "outputs": [],
   "source": [
    "import pynbody\n",
    "import pynbody.plot.sph as sph\n",
    "import pynbody.plot as pp\n",
    "from pynbody.analysis import profile\n",
    "import matplotlib.pylab as plt\n",
    "import numpy as np"
   ]
  },
  {
   "cell_type": "code",
   "execution_count": 11,
   "metadata": {},
   "outputs": [],
   "source": [
    "sim = pynbody.load('/home/michele/sim/MoRIA/sim71002/snapshot_0164')"
   ]
  },
  {
   "cell_type": "code",
   "execution_count": 12,
   "metadata": {
    "collapsed": true
   },
   "outputs": [],
   "source": [
    "SIM_NUMBER = 71002"
   ]
  },
  {
   "cell_type": "code",
   "execution_count": 13,
   "metadata": {},
   "outputs": [],
   "source": [
    "data = np.load('cog{}.npz'.format(SIM_NUMBER))\n",
    "times_moria, cog_moria = data['times'], data['cog']\n",
    "data = np.load('cog{}_kicked.npz'.format(SIM_NUMBER))\n",
    "times_kicked, cog_kicked = data['times'], data['cog']"
   ]
  },
  {
   "cell_type": "code",
   "execution_count": 14,
   "metadata": {},
   "outputs": [
    {
     "data": {
      "text/plain": [
       "((0, 13.11397991328508),\n",
       " array([  0.        ,   0.13246444,   0.26492889,   0.39739333,\n",
       "          0.52985777,   0.66232222,   0.79478666,   0.9272511 ,\n",
       "          1.05971555,   1.19217999,   1.32464444,   1.45710888,\n",
       "          1.58957332,   1.72203777,   1.85450221,   1.98696665,\n",
       "          2.1194311 ,   2.25189554,   2.38435998,   2.51682443,\n",
       "          2.64928887,   2.78175331,   2.91421776,   3.0466822 ,\n",
       "          3.17914665,   3.31161109,   3.44407553,   3.57653998,\n",
       "          3.70900442,   3.84146886,   3.97393331,   4.10639775,\n",
       "          4.23886219,   4.37132664,   4.50379108,   4.63625552,\n",
       "          4.76871997,   4.90118441,   5.03364886,   5.1661133 ,\n",
       "          5.29857774,   5.43104219,   5.56350663,   5.69597107,\n",
       "          5.82843552,   5.96089996,   6.0933644 ,   6.22582885,\n",
       "          6.35829329,   6.49075773,   6.62322218,   6.75568662,\n",
       "          6.88815107,   7.02061551,   7.15307995,   7.2855444 ,\n",
       "          7.41800884,   7.55047328,   7.68293773,   7.81540217,\n",
       "          7.94786661,   8.08033106,   8.2127955 ,   8.34525994,\n",
       "          8.47772439,   8.61018883,   8.74265328,   8.87511772,\n",
       "          9.00758216,   9.14004661,   9.27251105,   9.40497549,\n",
       "          9.53743994,   9.66990438,   9.80236882,   9.93483327,\n",
       "         10.06729771,  10.19976215,  10.3322266 ,  10.46469104,\n",
       "         10.59715549,  10.72961993,  10.86208437,  10.99454882,\n",
       "         11.12701326,  11.2594777 ,  11.39194215,  11.52440659,\n",
       "         11.65687103,  11.78933548,  11.92179992,  12.05426436,\n",
       "         12.18672881,  12.31919325,  12.4516577 ,  12.58412214,\n",
       "         12.71658658,  12.84905103,  12.98151547,  13.11397991]))"
      ]
     },
     "execution_count": 14,
     "metadata": {},
     "output_type": "execute_result"
    }
   ],
   "source": [
    "bins_sfr = 100\n",
    "trange = (min(np.min(times_moria), np.min(times_kicked)), max(np.max(times_moria), np.max(times_kicked)))\n",
    "trange = (0, min(np.max(times_moria), np.max(times_kicked)))\n",
    "bins = np.linspace(*trange, bins_sfr)\n",
    "trange, bins"
   ]
  },
  {
   "cell_type": "code",
   "execution_count": 16,
   "metadata": {},
   "outputs": [
    {
     "data": {
      "image/png": "[encoded data removed]",
      "text/plain": [
       "<matplotlib.figure.Figure at 0x7f904cfeecc0>"
      ]
     },
     "metadata": {},
     "output_type": "display_data"
    },
    {
     "data": {
      "text/plain": [
       "SimArray([ 10575.23925781,  10575.27929688,  10575.25292969, ...,\n",
       "        10575.05957031,  10576.04003906,  10576.14550781], dtype=float32, 'Msol')"
      ]
     },
     "execution_count": 16,
     "metadata": {},
     "output_type": "execute_result"
    }
   ],
   "source": [
    "time_bins_length = 0.5\n",
    "time_max = sim.properties['time'].in_units('Gyr')\n",
    "time = np.arange(0, time_max, time_bins_length)\n",
    "# time = np.append(time, time_max)\n",
    "birthtimes = sim.s['tform'].in_units('Gyr')\n",
    "masses = sim.s['massform'].in_units('Msol')\n",
    "SFR, b = np.histogram(birthtimes, bins=time, weights=masses.astype(np.float64))\n",
    "plt.hist(birthtimes, bins=time, weights=masses)\n",
    "# plt.plot(b[:-1], SFR)\n",
    "plt.show()\n",
    "masses"
   ]
  },
  {
   "cell_type": "code",
   "execution_count": 17,
   "metadata": {
    "collapsed": true
   },
   "outputs": [],
   "source": [
    "SFR_mine = np.zeros(len(time), dtype=np.float64)\n",
    "for birth, mass in zip(birthtimes, masses):\n",
    "    for idx, t in enumerate(time):\n",
    "        if 0 < t - birth <= time_bins_length:\n",
    "            SFR_mine[idx] += mass / (time_bins_length*10.0**9)  # Msol/yr"
   ]
  },
  {
   "cell_type": "code",
   "execution_count": 18,
   "metadata": {},
   "outputs": [
    {
     "data": {
      "text/plain": [
       "(0.0, 10.0, 10.12013221568132, (21,), (20,))"
      ]
     },
     "execution_count": 18,
     "metadata": {},
     "output_type": "execute_result"
    }
   ],
   "source": [
    "time[0], time[-1], time_max, time.shape, SFR.shape"
   ]
  },
  {
   "cell_type": "code",
   "execution_count": 19,
   "metadata": {},
   "outputs": [
    {
     "data": {
      "text/plain": [
       "0.5"
      ]
     },
     "execution_count": 19,
     "metadata": {},
     "output_type": "execute_result"
    }
   ],
   "source": [
    "# Last bin is different\n",
    "time[-1]-time[-2]"
   ]
  },
  {
   "cell_type": "code",
   "execution_count": 20,
   "metadata": {},
   "outputs": [
    {
     "data": {
      "text/plain": [
       "(array([  1.74918795e-02,   2.62298606e-03,   2.33743242e-03,\n",
       "          5.50138513e-04,   4.86493582e-04,   5.18423277e-04,\n",
       "          1.43958111e-03,   7.45727080e-05,   5.46770025e-03,\n",
       "          4.83301227e-03,   3.87532241e-03,   4.47880196e-03,\n",
       "          2.86021760e-03,   6.36341982e-03,   2.35463483e-03,\n",
       "          5.40152266e-03,   5.66368869e-03,   6.51333632e-03,\n",
       "          6.02404123e-03,   6.28320309e-03]),\n",
       " array([ 0.03498376,  0.00524597,  0.00467486,  0.00110028,  0.00097299,\n",
       "         0.00103685,  0.00287916,  0.00014915,  0.0109354 ,  0.00966602,\n",
       "         0.00775064,  0.0089576 ,  0.00572044,  0.01272684,  0.00470927,\n",
       "         0.01080305,  0.01132738,  0.01302667,  0.01204808,  0.01256641]),\n",
       " (20,),\n",
       " (21,))"
      ]
     },
     "execution_count": 20,
     "metadata": {},
     "output_type": "execute_result"
    }
   ],
   "source": [
    "SFR/1e9, SFR_mine[1:], SFR.shape, SFR_mine.shape"
   ]
  },
  {
   "cell_type": "code",
   "execution_count": 21,
   "metadata": {},
   "outputs": [
    {
     "data": {
      "text/plain": [
       "(SimArray(0.135706672, 'Msol'), 0.17128081663476541, 0.085640408317382802)"
      ]
     },
     "execution_count": 21,
     "metadata": {},
     "output_type": "execute_result"
    }
   ],
   "source": [
    "masses.sum()/1e9, SFR_mine.sum(), (SFR/1e9).sum() "
   ]
  },
  {
   "cell_type": "code",
   "execution_count": 22,
   "metadata": {},
   "outputs": [
    {
     "name": "stderr",
     "output_type": "stream",
     "text": [
      "/home/michele/Software/miniconda3/lib/python3.6/site-packages/scipy/integrate/quadrature.py:709: AccuracyWarning: divmax (10) exceeded. Latest difference = 5.972695e-08\n",
      "  AccuracyWarning)\n",
      "/home/michele/Software/miniconda3/lib/python3.6/site-packages/scipy/integrate/quadrature.py:709: AccuracyWarning: divmax (10) exceeded. Latest difference = 1.037007e-09\n",
      "  AccuracyWarning)\n",
      "/home/michele/Software/miniconda3/lib/python3.6/site-packages/scipy/integrate/quadrature.py:709: AccuracyWarning: divmax (10) exceeded. Latest difference = 1.825575e-09\n",
      "  AccuracyWarning)\n",
      "/home/michele/Software/miniconda3/lib/python3.6/site-packages/scipy/integrate/quadrature.py:709: AccuracyWarning: divmax (10) exceeded. Latest difference = 3.776510e-09\n",
      "  AccuracyWarning)\n",
      "/home/michele/Software/miniconda3/lib/python3.6/site-packages/scipy/integrate/quadrature.py:709: AccuracyWarning: divmax (10) exceeded. Latest difference = 1.048614e-08\n",
      "  AccuracyWarning)\n"
     ]
    },
    {
     "data": {
      "text/plain": [
       "(array([ 17491879.51464844,   2622986.06054688,   2337432.42285156,\n",
       "           550138.51269531,    486493.58203125,    518423.27734375,\n",
       "          1439581.10546875,     74572.70800781,   5467700.25195312,\n",
       "          4833012.27441406,   3875322.40527344,   4478801.96289062,\n",
       "          2860217.59667969,   6363419.81835938,   2354634.83007812,\n",
       "          5401522.6640625 ,   5663688.68847656,   6513336.32421875,\n",
       "          6024041.22753906,   6283203.08984375]),\n",
       " array([  0. ,   0.5,   1. ,   1.5,   2. ,   2.5,   3. ,   3.5,   4. ,\n",
       "          4.5,   5. ,   5.5,   6. ,   6.5,   7. ,   7.5,   8. ,   8.5,\n",
       "          9. ,   9.5,  10. ]),\n",
       " SimArray([ 0.02665603,  0.00399961,  0.00356419,  0.00083887,  0.00074182,\n",
       "         0.00079051,  0.00219512,  0.00011371,  0.00833732,  0.00736953,\n",
       "         0.00590921,  0.00682941,  0.00436135,  0.00970314,  0.00359042,\n",
       "         0.00823641,  0.00863617,  0.00993173,  0.00918564,  0.00958082], 'Msol yr**-1'),\n",
       " SimArray([  0. ,   0.5,   1. ,   1.5,   2. ,   2.5,   3. ,   3.5,   4. ,\n",
       "          4.5,   5. ,   5.5,   6. ,   6.5,   7. ,   7.5,   8. ,   8.5,\n",
       "          9. ,   9.5,  10. ], 'Gyr'),\n",
       " 5.0000000000000003e-10)"
      ]
     },
     "execution_count": 22,
     "metadata": {},
     "output_type": "execute_result"
    }
   ],
   "source": [
    "sfr, t = pynbody.plot.sfh(sim, bins=20, cumulative=False, range=(0,10))\n",
    "SFR, b = np.histogram(birthtimes, bins=time, weights=masses.astype(np.float64),range=(0,10) )\n",
    "binnorm = ((time[-1]-time[0])/20)*1e-9\n",
    "SFR, b, sfr, t, binnorm"
   ]
  },
  {
   "cell_type": "code",
   "execution_count": 23,
   "metadata": {
    "collapsed": true
   },
   "outputs": [],
   "source": [
    "def binned_sfh(sim, time_max=None, time_bins_length=0.05, max_radius=None, plot_z=True, cumulative=False):\n",
    "    if max_radius:\n",
    "        filt = sim.s['rxy'].in_units('kpc') < max_radius\n",
    "        sim = sim[filt]\n",
    "        print(\"{:3d} star particles within radius {:g} kpc\".format(len(sim), max_radius))\n",
    "    \n",
    "    if time_max is None:\n",
    "        print(\"snapshot time {} Gyr\".format(sim.properties['time'].in_units('Gyr')))\n",
    "        time_max = sim.properties['time'].in_units('Gyr')\n",
    "\n",
    "    # print(filt)\n",
    "    birthtimes = sim.s['tform']\n",
    "    masses = sim.s['massform']\n",
    "    Mstar = sum(masses)\n",
    "\n",
    "    time = np.arange(0, time_max, time_bins_length)\n",
    "    nbins = len(time)\n",
    "    SFR = np.zeros(nbins)\n",
    "\n",
    "    # Determine the number of stars being formed in each time bin, and so the star formation rate\n",
    "    for birth, mass in zip(birthtimes, masses):\n",
    "        for idx, t in enumerate(time):\n",
    "            if 0 < t - birth < time_bins_length:\n",
    "                SFR[idx] += mass*10**6 / (time_bins_length*10**9)\n",
    "                continue\n",
    "#     SFR = np.hist(birthtimes, bins=time, weights=masses)\n",
    "    \n",
    "    \n",
    "    # get the cumulative star formation history\n",
    "    if cumulative:\n",
    "        SFH = np.cumsum(SFR)\n",
    "    else:\n",
    "        SFH = SFR * time_bins_length * 10**3 / Mstar\n",
    "\n",
    "    lookback_time = [time_max - t for t in time]\n",
    "    if max_radius:\n",
    "        print('Mstar = {:.4f}  at maxRadius = {}'.format(Mstar, max_radius))\n",
    "    fig, ax = plt.subplots(figsize=(6, 6))\n",
    "    ax.plot(lookback_time, SFH, 'b-')\n",
    "\n",
    "    ax.set_xlabel('$t_\\mathrm{lookback}\\ \\mathrm{[Gyr]}$')\n",
    "    if max_radius:\n",
    "        y_label = '$f_\\star(R<{}~\\mathrm{{kpc}})$'.format(max_radius)\n",
    "    else:\n",
    "        y_label = '$f_\\star$'\n",
    "    ax.set_ylabel(y_label)\n",
    "    ax.set_xlim(time_max, 0)\n",
    "    if cumulative:\n",
    "        ax.set_ylim(0,1.)\n",
    "        # Plot the case of a constant SFR over time\n",
    "        ax.plot([time_max, 0], [0, 1], '--', color='k', linewidth=2)\n",
    "    \n",
    "    # Plot redshift\n",
    "    if plot_z:\n",
    "        from pynbody.analysis import pkdgrav_cosmo as cosmo\n",
    "        # Use default cosmology\n",
    "        # do not use sim as input because sim.properties['omegaM0'] is 1.0 and it should be 0.272\n",
    "        c = cosmo.Cosmology()\n",
    "\n",
    "        axz = ax.twiny()\n",
    "        labelzs = [6, 3, 2, 1, 0]\n",
    "        times = [13.5 * c.Exp2Time(1.0 / (1 + z)) / c.Exp2Time(1) for z in labelzs]\n",
    "        axz.set_xticks(times)\n",
    "        axz.set_xticklabels([str(x) for x in labelzs])\n",
    "        axz.set_xlabel('$z$')\n",
    "    return SFH, time"
   ]
  },
  {
   "cell_type": "code",
   "execution_count": 25,
   "metadata": {},
   "outputs": [
    {
     "name": "stdout",
     "output_type": "stream",
     "text": [
      "snapshot time 10.12013221568132 Gyr\n",
      "snapshot time 10.12013221568132 Gyr\n"
     ]
    }
   ],
   "source": [
    "sfr_cum_moria, times_moria = binned_sfh(sim)\n",
    "sfr_cum_kicked, times_kicked = binned_sfh(sim) # FIXME kicked missing"
   ]
  },
  {
   "cell_type": "code",
   "execution_count": 26,
   "metadata": {},
   "outputs": [
    {
     "name": "stdout",
     "output_type": "stream",
     "text": [
      "snapshot time 10.12013221568132 Gyr\n"
     ]
    }
   ],
   "source": [
    "fig = binned_sfh(sim)"
   ]
  },
  {
   "cell_type": "code",
   "execution_count": null,
   "metadata": {
    "collapsed": true
   },
   "outputs": [],
   "source": []
  }
 ],
 "metadata": {
  "kernelspec": {
   "display_name": "Python 3",
   "language": "python",
   "name": "python3"
  },
  "language_info": {
   "codemirror_mode": {
    "name": "ipython",
    "version": 3
   },
   "file_extension": ".py",
   "mimetype": "text/x-python",
   "name": "python",
   "nbconvert_exporter": "python",
   "pygments_lexer": "ipython3",
   "version": "3.6.3"
  }
 },
 "nbformat": 4,
 "nbformat_minor": 2
}
