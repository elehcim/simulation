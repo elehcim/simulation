{
 "cells": [
  {
   "cell_type": "code",
   "execution_count": 1,
   "metadata": {},
   "outputs": [],
   "source": [
    "import pynbody\n",
    "import simulation\n",
    "import matplotlib.pyplot as plt\n",
    "import numpy as np\n",
    "import ipywidgets\n",
    "import tqdm"
   ]
  },
  {
   "cell_type": "code",
   "execution_count": 2,
   "metadata": {},
   "outputs": [],
   "source": [
    "SIMPATH = \"/home/michele/sim/MySimulations/mb.beta/p100_a800_r600/out\""
   ]
  },
  {
   "cell_type": "code",
   "execution_count": 3,
   "metadata": {},
   "outputs": [
    {
     "name": "stderr",
     "output_type": "stream",
     "text": [
      "loading simulation: /home/michele/sim/MySimulations/mb.beta/p100_a800_r600/out\n",
      "Found parameter file\n",
      "Found compiler file\n",
      "Loading cosmological parameters\n",
      "Found trace file\n"
     ]
    }
   ],
   "source": [
    "sim = simulation.Simulation(SIMPATH)"
   ]
  },
  {
   "cell_type": "code",
   "execution_count": 4,
   "metadata": {},
   "outputs": [],
   "source": [
    "# with pynbody.transformation.translate(snap, -np.ones(3) * snap.properties['boxsize'].in_units('kpc')/2):\n",
    "#     print(snap['pos'][:,0].max())\n",
    "#     img = pynbody.plot.sph.image(snap.g, qty='temp', width=100)"
   ]
  },
  {
   "cell_type": "markdown",
   "metadata": {},
   "source": [
    "Center Snaps"
   ]
  },
  {
   "cell_type": "code",
   "execution_count": 5,
   "metadata": {},
   "outputs": [
    {
     "data": {
      "application/vnd.jupyter.widget-view+json": {
       "model_id": "21c2f6f9ee1d48f9bebc48c8c36d4a0a",
       "version_major": 2,
       "version_minor": 0
      },
      "text/plain": [
       "HBox(children=(IntProgress(value=0, max=62), HTML(value='')))"
      ]
     },
     "metadata": {},
     "output_type": "display_data"
    },
    {
     "name": "stdout",
     "output_type": "stream",
     "text": [
      "\n"
     ]
    }
   ],
   "source": [
    "for s in tqdm.tqdm_notebook(sim): pynbody.analysis.halo.center(s.s)"
   ]
  },
  {
   "cell_type": "code",
   "execution_count": 8,
   "metadata": {},
   "outputs": [],
   "source": [
    "snap_slider = ipywidgets.IntSlider(min=0,max=len(sim)-1,step=1,value=0, continuous_update=False, description='Snap:')"
   ]
  },
  {
   "cell_type": "code",
   "execution_count": 16,
   "metadata": {},
   "outputs": [
    {
     "data": {
      "application/vnd.jupyter.widget-view+json": {
       "model_id": "5c9af765d3824f6da0051a290bcb0ddf",
       "version_major": 2,
       "version_minor": 0
      },
      "text/plain": [
       "interactive(children=(IntSlider(value=0, continuous_update=False, description='Snap:', max=61), Output()), _do…"
      ]
     },
     "metadata": {},
     "output_type": "display_data"
    }
   ],
   "source": [
    "def k(i):\n",
    "    fig, ax = plt.subplots(1, figsize=(8,8))\n",
    "    snap = sim[i]\n",
    "    print(snap.properties)\n",
    "#     snap.g['smooth']/=2\n",
    "#     with pynbody.transformation.translate(snap, -np.ones(3) * 30):\n",
    "    img = pynbody.plot.sph.image(snap.g, qty='rho', width=10, vmax=10**-2, resolution=1000)\n",
    "#     snap.g['smooth']*=2\n",
    "w = ipywidgets.interactive(k, i=snap_slider)\n",
    "\n",
    "w"
   ]
  },
  {
   "cell_type": "code",
   "execution_count": 39,
   "metadata": {},
   "outputs": [
    {
     "data": {
      "application/vnd.jupyter.widget-view+json": {
       "model_id": "cf23dfbe0b4141cbb9e6167b3a866ece",
       "version_major": 2,
       "version_minor": 0
      },
      "text/plain": [
       "interactive(children=(IntSlider(value=18, continuous_update=False, description='Snap:', max=61), Output()), _d…"
      ]
     },
     "metadata": {},
     "output_type": "display_data"
    }
   ],
   "source": [
    "def p(i):\n",
    "    fig, ax = plt.subplots(1, figsize=(8,8))\n",
    "    snap = sim[i]\n",
    "    print(snap.properties)\n",
    "#     snap.g['smooth']/=2\n",
    "#     with pynbody.transformation.translate(snap, -np.ones(3) * 30):\n",
    "    pynbody.plot.sph.velocity_image(snap.g, vector_color=\"cyan\", qty=\"temp\",width=20,cmap=\"YlOrRd\",\n",
    "                   denoise=True, approximate_fast=True, show_cbar=True, subplot=ax, vmin=10**4, vmax=10**8);\n",
    "    #     snap.g['smooth']*=2\n",
    "    ax.set_title(\"snap: {:02d} - Time: {:.2f} Gyr\".format(i, snap.properties['time'].in_units('Gyr')))\n",
    "w1 = ipywidgets.interactive(p, i=snap_slider)\n",
    "\n",
    "w1"
   ]
  },
  {
   "cell_type": "code",
   "execution_count": null,
   "metadata": {},
   "outputs": [],
   "source": [
    "for i, snap in enumerate(tqdm.tqdm_notebook(sim)):\n",
    "    fig, ax = plt.subplots(1, figsize=(8,8), dpi=300);\n",
    "#     print(snap.properties)\n",
    "#     snap.g['smooth']/=2\n",
    "#     with pynbody.transformation.translate(snap, -np.ones(3) * 30):\n",
    "    pynbody.plot.sph.velocity_image(snap.g, vector_color=\"cyan\", qty=\"temp\",width=20,cmap=\"YlOrRd\",\n",
    "                   denoise=True, approximate_fast=False, mode='stream', show_cbar=True, subplot=ax, vmin=10**4, vmax=10**8);\n",
    "    ax.set_title(\"snap: {:02d} - Time: {:.2f} Gyr\".format(i, snap.properties['time'].in_units('Gyr')))\n",
    "    fig.savefig(\"v_map_mb71002_p100/vs_{:02d}\".format(i));"
   ]
  },
  {
   "cell_type": "code",
   "execution_count": 21,
   "metadata": {},
   "outputs": [
    {
     "data": {
      "application/vnd.jupyter.widget-view+json": {
       "model_id": "ef2a129c453e4555a00616a64b034026",
       "version_major": 2,
       "version_minor": 0
      },
      "text/plain": [
       "interactive(children=(IntSlider(value=37, continuous_update=False, description='Snap:', max=61), Output()), _d…"
      ]
     },
     "metadata": {},
     "output_type": "display_data"
    }
   ],
   "source": [
    "def s(i):\n",
    "    fig, ax = plt.subplots(1, figsize=(8,8))\n",
    "    snap = sim[i]\n",
    "    print(snap.properties)\n",
    "    snap.s['smooth']/=2\n",
    "#     with pynbody.transformation.translate(snap, -np.ones(3) * 30):\n",
    "    pynbody.plot.stars.render(snap,width='10 kpc', resolution=1000)\n",
    "    snap.s['smooth']*=2\n",
    "    ax.set_title(\"snap: {:02d} - Time: {:.2f} Gyr\".format(i, snap.properties['time'].in_units('Gyr')))\n",
    "w2 = ipywidgets.interactive(s, i=snap_slider)\n",
    "w2"
   ]
  },
  {
   "cell_type": "code",
   "execution_count": 25,
   "metadata": {},
   "outputs": [
    {
     "data": {
      "text/plain": [
       "<SimSnap \"/home/michele/sim/MySimulations/mb.beta/p100_a800_r600/out/snapshot_0001::star\" len=5549>"
      ]
     },
     "execution_count": 25,
     "metadata": {},
     "output_type": "execute_result"
    }
   ],
   "source": [
    "snap = sim[0]\n",
    "snap.stars"
   ]
  },
  {
   "cell_type": "code",
   "execution_count": 22,
   "metadata": {},
   "outputs": [
    {
     "data": {
      "text/plain": [
       "\u001b[0;31mInit signature:\u001b[0m \u001b[0mipywidgets\u001b[0m\u001b[0;34m.\u001b[0m\u001b[0mAccordion\u001b[0m\u001b[0;34m(\u001b[0m\u001b[0;34m*\u001b[0m\u001b[0margs\u001b[0m\u001b[0;34m,\u001b[0m \u001b[0;34m**\u001b[0m\u001b[0mkwargs\u001b[0m\u001b[0;34m)\u001b[0m\u001b[0;34m\u001b[0m\u001b[0m\n",
       "\u001b[0;31mDocstring:\u001b[0m      Displays children each on a separate accordion page.\n",
       "\u001b[0;31mInit docstring:\u001b[0m Public constructor\n",
       "\u001b[0;31mFile:\u001b[0m           ~/Software/miniconda3/lib/python3.6/site-packages/ipywidgets/widgets/widget_selectioncontainer.py\n",
       "\u001b[0;31mType:\u001b[0m           MetaHasTraits\n"
      ]
     },
     "metadata": {},
     "output_type": "display_data"
    }
   ],
   "source": [
    "family_switch = ipywidgets.widgets.RadioButtons(\n",
    "    options=['gas', 'stars'],\n",
    "    value='stars',\n",
    "    description='Family:'\n",
    ")"
   ]
  },
  {
   "cell_type": "code",
   "execution_count": 31,
   "metadata": {},
   "outputs": [
    {
     "data": {
      "text/plain": [
       "SimArray([-5.64203484, -5.65340956, -5.65316871, ..., -5.6713082 ,\n",
       "          -5.66000932, -5.75228764])"
      ]
     },
     "execution_count": 31,
     "metadata": {},
     "output_type": "execute_result"
    }
   ],
   "source": [
    "snap = sim[0]\n",
    "snap.s['i_mag']"
   ]
  },
  {
   "cell_type": "code",
   "execution_count": 37,
   "metadata": {},
   "outputs": [
    {
     "data": {
      "text/plain": [
       "array([ 0.07008996,  0.05288663,  0.06624846, ...,  0.06365789,\n",
       "        0.08396406,  0.04776023])"
      ]
     },
     "execution_count": 37,
     "metadata": {},
     "output_type": "execute_result"
    }
   ],
   "source": [
    "pynbody.analysis.ionfrac.calculate(snap)"
   ]
  },
  {
   "cell_type": "code",
   "execution_count": 36,
   "metadata": {},
   "outputs": [
    {
     "data": {
      "text/plain": [
       "(73877,)"
      ]
     },
     "execution_count": 36,
     "metadata": {},
     "output_type": "execute_result"
    }
   ],
   "source": [
    "snap.g['mass'].shape"
   ]
  },
  {
   "cell_type": "code",
   "execution_count": null,
   "metadata": {},
   "outputs": [],
   "source": []
  }
 ],
 "metadata": {
  "kernelspec": {
   "display_name": "Python 3",
   "language": "python",
   "name": "python3"
  },
  "language_info": {
   "codemirror_mode": {
    "name": "ipython",
    "version": 3
   },
   "file_extension": ".py",
   "mimetype": "text/x-python",
   "name": "python",
   "nbconvert_exporter": "python",
   "pygments_lexer": "ipython3",
   "version": "3.6.4"
  }
 },
 "nbformat": 4,
 "nbformat_minor": 2
}
