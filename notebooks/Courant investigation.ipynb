{
 "cells": [
  {
   "cell_type": "code",
   "execution_count": 1,
   "metadata": {},
   "outputs": [],
   "source": [
    "import numpy as np\n",
    "import simulation\n",
    "import pynbody\n",
    "import matplotlib\n",
    "import matplotlib.pyplot as plt"
   ]
  },
  {
   "cell_type": "code",
   "execution_count": 2,
   "metadata": {},
   "outputs": [],
   "source": [
    "amu = pynbody.units.NamedUnit(\"amu\",1.660539e-27*pynbody.units.kg)"
   ]
  },
  {
   "cell_type": "code",
   "execution_count": 3,
   "metadata": {},
   "outputs": [
    {
     "data": {
      "text/plain": [
       "Unit(\"km**2 kpc**-1 s**-2\")"
      ]
     },
     "execution_count": 3,
     "metadata": {},
     "output_type": "execute_result"
    }
   ],
   "source": [
    "gadget_time_units = pynbody.units.Unit('kpc km**-1 s')\n",
    "gadget_vel_units = pynbody.units.Unit('km s**-1')\n",
    "gadget_acc_units = gadget_vel_units/gadget_time_units\n",
    "gadget_acc_units"
   ]
  },
  {
   "cell_type": "code",
   "execution_count": 4,
   "metadata": {},
   "outputs": [],
   "source": [
    "@pynbody.derived_array\n",
    "def acce_norm(self):\n",
    "    arr = np.sqrt((self['acce'] ** 2).sum(axis=1))\n",
    "    arr.units = gadget_acc_units\n",
    "    return  arr\n",
    "\n",
    "@pynbody.derived_array\n",
    "def dt_acc(self, errtol=0.05, softening=0.03):\n",
    "    return (np.sqrt(2 * errtol * softening / self['acce_norm'] * pynbody.units.kpc)).in_units('kpc km**-1 s')"
   ]
  },
  {
   "cell_type": "code",
   "execution_count": 5,
   "metadata": {},
   "outputs": [
    {
     "name": "stderr",
     "output_type": "stream",
     "text": [
      "loading simulation: np_glass_mb.62002_p200_a800_r600/out\n",
      "Found parameter file\n",
      "Found compiler file\n",
      "Found 85 snapshots\n",
      "Taking 10 snapshots (slice(-10, None, None))\n",
      "Loading cosmological parameters\n",
      "Found trace file\n"
     ]
    }
   ],
   "source": [
    "SIM_PATH='ts_60_low_density'\n",
    "\n",
    "sim = simulation.Simulation('np_glass_mb.62002_p200_a800_r600/out', snap_indexes=slice(-10,None))\n",
    "# sim = simulation.Simulation(SIM_PATH+'/out', snap_indexes=slice(-10,None))"
   ]
  },
  {
   "cell_type": "code",
   "execution_count": 6,
   "metadata": {},
   "outputs": [],
   "source": [
    "#2 * All.CourantFac * SphP[p].Hsml / SphP[p].MaxSignalVel;\n",
    "@pynbody.derived_array\n",
    "def dt_courant(self, courant = 0.1):\n",
    "    return (2 * courant * self['smooth'] / self['cs']).in_units(gadget_time_units)"
   ]
  },
  {
   "cell_type": "code",
   "execution_count": 7,
   "metadata": {},
   "outputs": [],
   "source": [
    "s = sim[-1]"
   ]
  },
  {
   "cell_type": "code",
   "execution_count": 8,
   "metadata": {},
   "outputs": [
    {
     "data": {
      "text/plain": [
       "9.229999586099037"
      ]
     },
     "execution_count": 8,
     "metadata": {},
     "output_type": "execute_result"
    }
   ],
   "source": [
    "s.header.time"
   ]
  },
  {
   "cell_type": "code",
   "execution_count": 9,
   "metadata": {},
   "outputs": [
    {
     "data": {
      "text/plain": [
       "(SimArray(6.79645e-05, dtype=float32, 'kpc km**-1 s'),\n",
       " SimArray(0.00822057, dtype=float32, 'kpc km**-1 s'),\n",
       " SimArray(0.00074953, dtype=float32, 'kpc km**-1 s'))"
      ]
     },
     "execution_count": 9,
     "metadata": {},
     "output_type": "execute_result"
    }
   ],
   "source": [
    "s.g['dt_acc'].min(),s.g['dt_acc'].max(),s.g['dt_acc'].mean()"
   ]
  },
  {
   "cell_type": "code",
   "execution_count": 10,
   "metadata": {},
   "outputs": [
    {
     "data": {
      "text/plain": [
       "SimArray([0.002029  , 0.00209973, 0.00211666, ..., 0.00198448, 0.00209724,\n",
       "          0.00209924], 'kpc km**-1 s')"
      ]
     },
     "execution_count": 10,
     "metadata": {},
     "output_type": "execute_result"
    }
   ],
   "source": [
    "s.g['dt_courant']"
   ]
  },
  {
   "cell_type": "code",
   "execution_count": 11,
   "metadata": {},
   "outputs": [
    {
     "data": {
      "text/plain": [
       "(SimArray(0.00037607, 'kpc km**-1 s'),\n",
       " SimArray(0.02593679, 'kpc km**-1 s'),\n",
       " SimArray(0.002061, 'kpc km**-1 s'))"
      ]
     },
     "execution_count": 11,
     "metadata": {},
     "output_type": "execute_result"
    }
   ],
   "source": [
    "s.g['dt_courant'].in_units(gadget_time_units).min(),s.g['dt_courant'].in_units(gadget_time_units).max(),s.g['dt_courant'].in_units(gadget_time_units).mean()"
   ]
  },
  {
   "cell_type": "code",
   "execution_count": 12,
   "metadata": {},
   "outputs": [
    {
     "data": {
      "image/png": "[encoded data removed]",
      "text/plain": [
       "<Figure size 432x288 with 1 Axes>"
      ]
     },
     "metadata": {
      "needs_background": "light"
     },
     "output_type": "display_data"
    }
   ],
   "source": [
    "plt.hist(s.g['dt_courant'], bins=100, range=(1e-4, 5e-3));\n",
    "plt.xlabel('dt courant [kpc km**-1 s]');\n",
    "# plt.xscale('log')"
   ]
  },
  {
   "cell_type": "code",
   "execution_count": 13,
   "metadata": {},
   "outputs": [
    {
     "data": {
      "image/png": "[encoded data removed]",
      "text/plain": [
       "<Figure size 432x288 with 1 Axes>"
      ]
     },
     "metadata": {
      "needs_background": "light"
     },
     "output_type": "display_data"
    }
   ],
   "source": [
    "plt.hist(s.g['dt_acc'], bins=100, range=(0, 5e-3));\n",
    "plt.xlabel('dt acc [kpc km**-1 s]');"
   ]
  },
  {
   "cell_type": "code",
   "execution_count": 14,
   "metadata": {},
   "outputs": [
    {
     "data": {
      "text/plain": [
       "<SimSnap \"np_glass_mb.62002_p200_a800_r600/out/snapshot_0085::gas:indexed\" len=51576>"
      ]
     },
     "execution_count": 14,
     "metadata": {},
     "output_type": "execute_result"
    }
   ],
   "source": [
    "s.g[s.g['dt_acc']<s.g['dt_courant']]"
   ]
  },
  {
   "cell_type": "code",
   "execution_count": 15,
   "metadata": {},
   "outputs": [
    {
     "data": {
      "text/plain": [
       "SimArray([388.93899855, 386.64099208, 386.59624096, ..., 390.26658062,\n",
       "          388.05374903, 388.60916951], 'km s**-1')"
      ]
     },
     "execution_count": 15,
     "metadata": {},
     "output_type": "execute_result"
    }
   ],
   "source": [
    "s.g['cs'].in_units('km s**-1')"
   ]
  },
  {
   "cell_type": "code",
   "execution_count": 16,
   "metadata": {},
   "outputs": [
    {
     "data": {
      "text/plain": [
       "Text(0, 0.5, '$c_s$ [km/s]')"
      ]
     },
     "execution_count": 16,
     "metadata": {},
     "output_type": "execute_result"
    },
    {
     "data": {
      "image/png": "[encoded data removed]",
      "text/plain": [
       "<Figure size 432x288 with 1 Axes>"
      ]
     },
     "metadata": {
      "needs_background": "light"
     },
     "output_type": "display_data"
    }
   ],
   "source": [
    "plt.scatter(s.g['temp'], s.g['cs'].in_units('km s**-1'))\n",
    "plt.xlabel('T [K]')\n",
    "plt.ylabel('$c_s$ [km/s]')"
   ]
  },
  {
   "cell_type": "code",
   "execution_count": 17,
   "metadata": {},
   "outputs": [
    {
     "data": {
      "text/plain": [
       "Text(0.5, 0, '$c_s$ [km/s]')"
      ]
     },
     "execution_count": 17,
     "metadata": {},
     "output_type": "execute_result"
    },
    {
     "data": {
      "image/png": "[encoded data removed]",
      "text/plain": [
       "<Figure size 432x288 with 1 Axes>"
      ]
     },
     "metadata": {
      "needs_background": "light"
     },
     "output_type": "display_data"
    }
   ],
   "source": [
    "plt.hist(s.g['cs'].in_units('km s**-1'), bins=100);\n",
    "plt.xlabel('$c_s$ [km/s]')"
   ]
  },
  {
   "cell_type": "code",
   "execution_count": 18,
   "metadata": {},
   "outputs": [
    {
     "data": {
      "image/png": "[encoded data removed]",
      "text/plain": [
       "<Figure size 432x288 with 1 Axes>"
      ]
     },
     "metadata": {
      "needs_background": "light"
     },
     "output_type": "display_data"
    }
   ],
   "source": [
    "plt.hist(s.g['smooth'].in_units('kpc'), bins=100);\n",
    "plt.xlabel('$h$ [kpc]');"
   ]
  },
  {
   "cell_type": "code",
   "execution_count": 19,
   "metadata": {},
   "outputs": [
    {
     "data": {
      "image/png": "[encoded data removed]",
      "text/plain": [
       "<Figure size 432x288 with 1 Axes>"
      ]
     },
     "metadata": {
      "needs_background": "light"
     },
     "output_type": "display_data"
    }
   ],
   "source": [
    "plt.hist(s.g['tstp'], bins=np.logspace(-21, -15, base=2));\n",
    "ax = plt.gca()\n",
    "ax.set_xscale('log', basex=2)"
   ]
  },
  {
   "cell_type": "code",
   "execution_count": 20,
   "metadata": {},
   "outputs": [
    {
     "data": {
      "text/plain": [
       "SimArray([3.4265287e-04, 3.4265287e-04, 9.3694143e-06, ..., 1.1176373e-04,\n",
       "          1.6061853e-05, 1.4723366e-05], dtype=float32)"
      ]
     },
     "execution_count": 20,
     "metadata": {},
     "output_type": "execute_result"
    }
   ],
   "source": [
    "s.g['tstp']"
   ]
  },
  {
   "cell_type": "code",
   "execution_count": 21,
   "metadata": {},
   "outputs": [
    {
     "data": {
      "text/plain": [
       "(SimArray(1.3384878e-06, dtype=float32),\n",
       " SimArray(0.00068531, dtype=float32),\n",
       " SimArray(0.00026107, dtype=float32))"
      ]
     },
     "execution_count": 21,
     "metadata": {},
     "output_type": "execute_result"
    }
   ],
   "source": [
    "s.g['tstp'].min(), s.g['tstp'].max(), s.g['tstp'].mean()"
   ]
  },
  {
   "cell_type": "code",
   "execution_count": 22,
   "metadata": {},
   "outputs": [
    {
     "data": {
      "text/plain": [
       "(SimArray(0.00037607, 'kpc km**-1 s'),\n",
       " SimArray(0.02593679, 'kpc km**-1 s'),\n",
       " SimArray(0.002061, 'kpc km**-1 s'))"
      ]
     },
     "execution_count": 22,
     "metadata": {},
     "output_type": "execute_result"
    }
   ],
   "source": [
    "s.g['dt_courant'].in_units(gadget_time_units).min(),s.g['dt_courant'].in_units(gadget_time_units).max(),s.g['dt_courant'].in_units(gadget_time_units).mean()"
   ]
  },
  {
   "cell_type": "code",
   "execution_count": 23,
   "metadata": {},
   "outputs": [
    {
     "data": {
      "text/plain": [
       "(SimArray(95.28491, dtype=float32, 'K'),\n",
       " SimArray(61853840., dtype=float32, 'K'),\n",
       " SimArray(6164551., dtype=float32, 'K'))"
      ]
     },
     "execution_count": 23,
     "metadata": {},
     "output_type": "execute_result"
    }
   ],
   "source": [
    "s.g['temp'].min(), s.g['temp'].max(), s.g['temp'].mean()"
   ]
  },
  {
   "cell_type": "code",
   "execution_count": null,
   "metadata": {},
   "outputs": [],
   "source": []
  }
 ],
 "metadata": {
  "kernelspec": {
   "display_name": "Python 3",
   "language": "python",
   "name": "python3"
  },
  "language_info": {
   "codemirror_mode": {
    "name": "ipython",
    "version": 3
   },
   "file_extension": ".py",
   "mimetype": "text/x-python",
   "name": "python",
   "nbconvert_exporter": "python",
   "pygments_lexer": "ipython3",
   "version": "3.6.6"
  }
 },
 "nbformat": 4,
 "nbformat_minor": 2
}
