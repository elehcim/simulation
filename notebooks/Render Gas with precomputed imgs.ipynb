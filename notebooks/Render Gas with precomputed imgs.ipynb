{
 "cells": [
  {
   "cell_type": "code",
   "execution_count": 1,
   "metadata": {
    "collapsed": true
   },
   "outputs": [],
   "source": [
    "# from IPython.core.display import HTML\n",
    "# HTML(\"<script>Jupyter.notebook.kernel.restart()</script>\")"
   ]
  },
  {
   "cell_type": "code",
   "execution_count": 2,
   "metadata": {
    "collapsed": true
   },
   "outputs": [],
   "source": [
    "%matplotlib inline\n",
    "# %matplotlib ipympl\n",
    "import os\n",
    "import numpy as np\n",
    "import pynbody\n",
    "from pynbody.plot import sph\n",
    "import matplotlib.pylab as plt\n",
    "import numba\n",
    "import pickle\n",
    "\n",
    "from snap_io import load_moria_sim_and_kicked, load_moria, load_kicked, load_sim"
   ]
  },
  {
   "cell_type": "code",
   "execution_count": 3,
   "metadata": {
    "collapsed": true
   },
   "outputs": [],
   "source": [
    "load=False"
   ]
  },
  {
   "cell_type": "code",
   "execution_count": 4,
   "metadata": {
    "collapsed": true
   },
   "outputs": [],
   "source": [
    "SIMNUMBER = 68002\n",
    "kicked=True"
   ]
  },
  {
   "cell_type": "code",
   "execution_count": 5,
   "metadata": {
    "collapsed": true
   },
   "outputs": [],
   "source": [
    "resolution = 500\n",
    "width = 10 # kpc\n",
    "vmin=2e-1\n",
    "vmax=5e-4;"
   ]
  },
  {
   "cell_type": "code",
   "execution_count": 6,
   "metadata": {
    "collapsed": true
   },
   "outputs": [],
   "source": [
    "# sim = load_moria(SIMNUMBER, 10)\n",
    "# sim.properties.pop('boxsize')\n",
    "# sim.properties"
   ]
  },
  {
   "cell_type": "code",
   "execution_count": 7,
   "metadata": {
    "collapsed": true
   },
   "outputs": [],
   "source": [
    "# sim.g['smooth'].mean()"
   ]
  },
  {
   "cell_type": "code",
   "execution_count": 8,
   "metadata": {
    "collapsed": true
   },
   "outputs": [],
   "source": [
    "# sim.g['smooth'] /= 2"
   ]
  },
  {
   "cell_type": "code",
   "execution_count": 9,
   "metadata": {
    "collapsed": true
   },
   "outputs": [],
   "source": [
    "# # pynbody.analysis.angmom.faceon(sim)\n",
    "# pynbody.analysis.halo.center(sim)"
   ]
  },
  {
   "cell_type": "code",
   "execution_count": 10,
   "metadata": {
    "collapsed": true,
    "scrolled": false
   },
   "outputs": [],
   "source": [
    "# fig, ax = plt.subplots(figsize=(10,10))\n",
    "# sph.image(sim.g, subplot=ax, qty=\"rho\", resolution=500, units=\"g cm^-3\",\n",
    "#           width=10, log=False);\n",
    "# time = '$t={%5.2f}$ Gyr' % sim.properties['time'].in_units(\"Gyr\")\n",
    "# ax.set_title(time, fontsize=12)"
   ]
  },
  {
   "cell_type": "code",
   "execution_count": 18,
   "metadata": {
    "collapsed": true
   },
   "outputs": [],
   "source": [
    "def gas_image(sim, width=width, resolution=resolution, vmin=vmin, vmax=vmax, noplot=False):\n",
    "    sim.properties.pop('boxsize', None)\n",
    "    sim.g['smooth'] /= 2\n",
    "    pynbody.analysis.halo.center(sim, shrink_factor=0.9)\n",
    "    img = sph.image(sim.g, qty=\"rho\", resolution=resolution, units=\"g cm^-2\",\n",
    "              width=width, noplot=noplot, vmin=vmin, vmax=vmax)\n",
    "              # filename=\"{}/{}_{:03d}\".format(foldername, SIMNUMBER, i));\n",
    "    return img"
   ]
  },
  {
   "cell_type": "code",
   "execution_count": 19,
   "metadata": {
    "collapsed": true
   },
   "outputs": [],
   "source": [
    "# foldername = \"pngs_{}\".format(SIMNUMBER)\n",
    "# os.makedirs(foldername, exist_ok=True)"
   ]
  },
  {
   "cell_type": "code",
   "execution_count": 20,
   "metadata": {
    "collapsed": true
   },
   "outputs": [],
   "source": [
    "class GasImage:\n",
    "    def __init__(self, img=None, time=0, snap=0):\n",
    "        self.img = img\n",
    "        self.time = time\n",
    "        self.snap = snap\n",
    "    @property\n",
    "    def title(self):\n",
    "        return '$t={:5.2f}$ Gyr, snap={:03d}'.format(self.time, self.snap)"
   ]
  },
  {
   "cell_type": "code",
   "execution_count": 21,
   "metadata": {
    "collapsed": true
   },
   "outputs": [],
   "source": [
    "@numba.jit\n",
    "def precompute_imgs(snap_list):\n",
    "#     gas_imgs = [GasImage()] * len(snap_list)\n",
    "    gas_imgs = list()\n",
    "    for i, sim in enumerate(snap_list):\n",
    "        gas_imgs.append(GasImage(gas_image(sim, noplot=True), time=sim.properties['time'].in_units(\"Gyr\"), snap=i))\n",
    "#         gas_imgs[i].img = gas_image(sim) \n",
    "#         gas_imgs[i].time = sim.properties['time'].in_units(\"Gyr\")\n",
    "#         gas_imgs[i].snap = i\n",
    "        print(i)\n",
    "    return gas_imgs"
   ]
  },
  {
   "cell_type": "code",
   "execution_count": 22,
   "metadata": {
    "collapsed": true
   },
   "outputs": [],
   "source": [
    "pickle_name = {False: \"imgs_sim%d.pickle\" % SIMNUMBER, True: \"imgs_sim%d_k.pickle\" % SIMNUMBER}"
   ]
  },
  {
   "cell_type": "code",
   "execution_count": 23,
   "metadata": {
    "collapsed": true
   },
   "outputs": [],
   "source": [
    "if load:\n",
    "    with open(pickle_name[kicked], \"rb\") as f:\n",
    "        imgs = pickle.load(file=f)"
   ]
  },
  {
   "cell_type": "code",
   "execution_count": 24,
   "metadata": {},
   "outputs": [
    {
     "name": "stdout",
     "output_type": "stream",
     "text": [
      "<SimSnap \"/home/michele/sim/MySimulations/Moria8Gyr_tidal/sim68002/out/snapshot_0001\" len=1952204> 95\n",
      "0\n",
      "1\n",
      "2\n",
      "3\n",
      "4\n",
      "5\n",
      "6\n",
      "7\n",
      "8\n",
      "9\n",
      "10\n",
      "11\n",
      "12\n",
      "13\n",
      "14\n",
      "15\n",
      "16\n",
      "17\n",
      "18\n",
      "19\n",
      "20\n",
      "21\n",
      "22\n",
      "23\n",
      "24\n",
      "25\n",
      "26\n",
      "27\n",
      "28\n",
      "29\n",
      "30\n",
      "31\n",
      "32\n",
      "33\n",
      "34\n",
      "35\n",
      "36\n",
      "37\n",
      "38\n",
      "39\n",
      "40\n",
      "41\n",
      "42\n",
      "43\n",
      "44\n",
      "45\n",
      "46\n",
      "47\n",
      "48\n",
      "49\n",
      "50\n",
      "51\n",
      "52\n",
      "53\n",
      "54\n",
      "55\n",
      "56\n",
      "57\n",
      "58\n",
      "59\n",
      "60\n",
      "61\n",
      "62\n",
      "63\n",
      "64\n",
      "65\n",
      "66\n",
      "67\n",
      "68\n",
      "69\n",
      "70\n",
      "71\n",
      "72\n",
      "73\n",
      "74\n",
      "75\n",
      "76\n",
      "77\n",
      "78\n",
      "79\n",
      "80\n",
      "81\n",
      "82\n",
      "83\n",
      "84\n",
      "85\n",
      "86\n",
      "87\n",
      "88\n",
      "89\n",
      "90\n",
      "91\n",
      "92\n",
      "93\n",
      "94\n"
     ]
    }
   ],
   "source": [
    "if not load:\n",
    "    snap_list = load_kicked(SIMNUMBER) if kicked else load_moria(SIMNUMBER)\n",
    "    print(snap_list[0], len(snap_list))\n",
    "    imgs = precompute_imgs(snap_list)\n",
    "    with open(pickle_name[kicked], \"wb\") as f:\n",
    "            pickle.dump(imgs, file=f)"
   ]
  },
  {
   "cell_type": "code",
   "execution_count": 26,
   "metadata": {},
   "outputs": [
    {
     "data": {
      "text/plain": [
       "'$t= 8.39$ Gyr, snap=003'"
      ]
     },
     "execution_count": 26,
     "metadata": {},
     "output_type": "execute_result"
    }
   ],
   "source": [
    "imgs[3].title"
   ]
  },
  {
   "cell_type": "code",
   "execution_count": 27,
   "metadata": {
    "collapsed": true
   },
   "outputs": [],
   "source": [
    "# import joblib\n",
    "# f = joblib.Parallel(n_jobs=-1, backend=\"threading\")(joblib.delayed(precompute_imgs)(sim) for i, sim in enumerate(snap_list))"
   ]
  },
  {
   "cell_type": "code",
   "execution_count": 28,
   "metadata": {
    "collapsed": true
   },
   "outputs": [],
   "source": [
    "# w_axes = interactive(plot_axes, i=slider, continuous_update=False)\n",
    "# hb = widgets.HBox([play, slider])\n",
    "# widgets.VBox([hb, w])"
   ]
  },
  {
   "cell_type": "code",
   "execution_count": 29,
   "metadata": {
    "collapsed": true
   },
   "outputs": [],
   "source": [
    "def plot_gas(gas_img):\n",
    "    fig, ax = plt.subplots(figsize=(8,8))\n",
    "    ax.imshow(gas_img.img[::-1, :].view(np.ndarray), extent=(-width / 2, width / 2, -width / 2, width / 2))\n",
    "#                             vmin=vmin, vmax=vmax)#, norm = norm)\n",
    "    # filename=\"{}/{}_{:03d}\".format(foldername, SIMNUMBER, i));\n",
    "    ax.set_title(gas_img.title, fontsize=12)"
   ]
  },
  {
   "cell_type": "code",
   "execution_count": 30,
   "metadata": {
    "collapsed": true
   },
   "outputs": [],
   "source": [
    "from ipywidgets import interact, interactive, fixed, interact_manual\n",
    "import ipywidgets as widgets\n",
    "\n",
    "def f(i, gas_images):\n",
    "    plot_gas(gas_images[i])"
   ]
  },
  {
   "cell_type": "code",
   "execution_count": 31,
   "metadata": {
    "collapsed": true
   },
   "outputs": [],
   "source": [
    "play = widgets.Play(\n",
    "    interval=1000,\n",
    "    value=0,\n",
    "    min=0,\n",
    "    max=len(imgs),\n",
    "    step=1,\n",
    "    description=\"Press play\",\n",
    "    disabled=False\n",
    ")\n",
    "\n",
    "slider = widgets.IntSlider(\n",
    "    value=0,\n",
    "    min=0,\n",
    "    max=len(imgs)-1,\n",
    "    step=1,\n",
    "    description='Test:',\n",
    "    disabled=False,\n",
    "    continuous_update=False,\n",
    "    orientation='horizontal',\n",
    "    readout=True,\n",
    "    readout_format='d'\n",
    ")\n",
    "widgets.jslink((play, 'value'), (slider, 'value'))\n",
    "h = widgets.HBox([play, slider])"
   ]
  },
  {
   "cell_type": "code",
   "execution_count": 32,
   "metadata": {
    "scrolled": false
   },
   "outputs": [
    {
     "data": {
      "application/vnd.jupyter.widget-view+json": {
       "model_id": "058a1e06d99e45a798a8f7e9532e567a",
       "version_major": 2,
       "version_minor": 0
      },
      "text/plain": [
       "A Jupyter Widget"
      ]
     },
     "metadata": {},
     "output_type": "display_data"
    }
   ],
   "source": [
    "w = interactive(f, i=slider, gas_images=fixed(imgs))\n",
    "hb = widgets.HBox([play, slider])\n",
    "widgets.VBox([hb, w])"
   ]
  },
  {
   "cell_type": "code",
   "execution_count": 25,
   "metadata": {
    "collapsed": true,
    "scrolled": false
   },
   "outputs": [],
   "source": [
    "# foldername = \"pngs_{}\".format(SIMNUMBER) \n",
    "# os.makedirs(foldername, exist_ok=True)\n",
    "# for i, sim in enumerate(load_moria(SIMNUMBER)):\n",
    "#     sim.properties.pop('boxsize')\n",
    "#     sim.g['smooth'] /= 2\n",
    "#     pynbody.analysis.halo.center(sim, shrink_factor=0.9)\n",
    "#     fig, ax = plt.subplots(figsize=(10,10))\n",
    "#     sph.image(sim.g, qty=\"rho\", resolution=400, units=\"g cm^-2\",\n",
    "#               width=10,# vmin=2e-1, vmax=5e-4,\n",
    "#               filename=\"{}/{}_{:03d}\".format(foldername, SIMNUMBER, i));\n",
    "#     time = '$t={%5.2f}$' % sim.properties['time'].in_units(\"Gyr\")\n",
    "#     ax = plt.gca()\n",
    "#     ax.set_title(time, fontsize=12)\n",
    "#     print(i)\n",
    "#     plt.close(fig)"
   ]
  },
  {
   "cell_type": "code",
   "execution_count": null,
   "metadata": {
    "collapsed": true
   },
   "outputs": [],
   "source": []
  }
 ],
 "metadata": {
  "kernelspec": {
   "display_name": "Python 3",
   "language": "python",
   "name": "python3"
  },
  "language_info": {
   "codemirror_mode": {
    "name": "ipython",
    "version": 3
   },
   "file_extension": ".py",
   "mimetype": "text/x-python",
   "name": "python",
   "nbconvert_exporter": "python",
   "pygments_lexer": "ipython3",
   "version": "3.6.3"
  }
 },
 "nbformat": 4,
 "nbformat_minor": 2
}
