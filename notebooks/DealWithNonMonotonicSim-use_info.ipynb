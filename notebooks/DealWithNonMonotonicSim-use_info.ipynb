{
 "cells": [
  {
   "cell_type": "code",
   "execution_count": 13,
   "metadata": {},
   "outputs": [],
   "source": [
    "import os\n",
    "import simulation\n",
    "import pynbody\n",
    "import pandas as pd\n",
    "import matplotlib.pylab as plt\n",
    "import matplotlib\n",
    "import numpy as np\n",
    "import ipywidgets\n",
    "import tqdm\n",
    "from simulation.sfh_in_box import sfh, plot_sfh, plot_binned_sfh, bin_sfh\n",
    "from astropy import constants as c\n",
    "from astropy.table import Table\n",
    "from simulation.luminosity import surface_brightness, color_plot\n",
    "from simulation.angmom import sideon\n",
    "from simulation.derived import feh, mgfe, gas_metals\n",
    "from simulation.parsers.parse_info import parse_info\n",
    "from simulation.derotating_box import get_omega_box, write_omega_box, Omega\n",
    "from simulation.util import get_sim_name"
   ]
  },
  {
   "cell_type": "code",
   "execution_count": 2,
   "metadata": {},
   "outputs": [],
   "source": [
    "from simulation.parsers.parse_trace import parse_dens_trace"
   ]
  },
  {
   "cell_type": "code",
   "execution_count": 3,
   "metadata": {},
   "outputs": [],
   "source": [
    "sim_dir = \"/media/michele/My Book/Michele/MySimulations/MovingBox/np/mb.41002_p300_a800_r600_t9.56/out\""
   ]
  },
  {
   "cell_type": "code",
   "execution_count": 4,
   "metadata": {},
   "outputs": [
    {
     "name": "stderr",
     "output_type": "stream",
     "text": [
      "loading simulation: /media/michele/My Book/Michele/MySimulations/MovingBox/np/mb.41002_p300_a800_r600_t9.56/out\n",
      "Found parameter file\n",
      "Found compiler file\n",
      "Found 445 snapshots\n",
      "Loading cosmological parameters\n",
      "Found trace file\n",
      "Found dens_temp_trace file\n",
      "dens_temp_trace.txt file is non-monotonic. Trying to recover\n"
     ]
    }
   ],
   "source": [
    "sim = simulation.Simulation(sim_dir)"
   ]
  },
  {
   "cell_type": "code",
   "execution_count": 5,
   "metadata": {},
   "outputs": [
    {
     "data": {
      "text/plain": [
       "(SimArray(9.35767451, 'Gyr'), SimArray(13.68939532, 'Gyr'))"
      ]
     },
     "execution_count": 5,
     "metadata": {},
     "output_type": "execute_result"
    }
   ],
   "source": [
    "sim.times.min(), sim.times.max()"
   ]
  },
  {
   "cell_type": "code",
   "execution_count": 6,
   "metadata": {},
   "outputs": [],
   "source": [
    "info = parse_info(os.path.join(sim_dir, 'info.txt'))"
   ]
  },
  {
   "cell_type": "code",
   "execution_count": null,
   "metadata": {},
   "outputs": [],
   "source": []
  },
  {
   "cell_type": "code",
   "execution_count": 7,
   "metadata": {},
   "outputs": [
    {
     "data": {
      "text/plain": [
       "(1081123, 1081123)"
      ]
     },
     "execution_count": 7,
     "metadata": {},
     "output_type": "execute_result"
    }
   ],
   "source": [
    "len(info), len(sim.trace)"
   ]
  },
  {
   "cell_type": "code",
   "execution_count": 8,
   "metadata": {},
   "outputs": [
    {
     "data": {
      "text/html": [
       "<div>\n",
       "<style scoped>\n",
       "    .dataframe tbody tr th:only-of-type {\n",
       "        vertical-align: middle;\n",
       "    }\n",
       "\n",
       "    .dataframe tbody tr th {\n",
       "        vertical-align: top;\n",
       "    }\n",
       "\n",
       "    .dataframe thead th {\n",
       "        text-align: right;\n",
       "    }\n",
       "</style>\n",
       "<table border=\"1\" class=\"dataframe\">\n",
       "  <thead>\n",
       "    <tr style=\"text-align: right;\">\n",
       "      <th></th>\n",
       "      <th>step</th>\n",
       "      <th>t</th>\n",
       "      <th>z</th>\n",
       "      <th>dt</th>\n",
       "    </tr>\n",
       "  </thead>\n",
       "  <tbody>\n",
       "    <tr>\n",
       "      <th>1081118</th>\n",
       "      <td>1080322</td>\n",
       "      <td>14.0</td>\n",
       "      <td>0.0</td>\n",
       "      <td>0.000004</td>\n",
       "    </tr>\n",
       "    <tr>\n",
       "      <th>1081119</th>\n",
       "      <td>1080323</td>\n",
       "      <td>14.0</td>\n",
       "      <td>0.0</td>\n",
       "      <td>0.000004</td>\n",
       "    </tr>\n",
       "    <tr>\n",
       "      <th>1081120</th>\n",
       "      <td>1080324</td>\n",
       "      <td>14.0</td>\n",
       "      <td>0.0</td>\n",
       "      <td>0.000004</td>\n",
       "    </tr>\n",
       "    <tr>\n",
       "      <th>1081121</th>\n",
       "      <td>1080325</td>\n",
       "      <td>14.0</td>\n",
       "      <td>0.0</td>\n",
       "      <td>0.000004</td>\n",
       "    </tr>\n",
       "    <tr>\n",
       "      <th>1081122</th>\n",
       "      <td>1080326</td>\n",
       "      <td>14.0</td>\n",
       "      <td>0.0</td>\n",
       "      <td>0.000004</td>\n",
       "    </tr>\n",
       "  </tbody>\n",
       "</table>\n",
       "</div>"
      ],
      "text/plain": [
       "            step     t    z        dt\n",
       "1081118  1080322  14.0  0.0  0.000004\n",
       "1081119  1080323  14.0  0.0  0.000004\n",
       "1081120  1080324  14.0  0.0  0.000004\n",
       "1081121  1080325  14.0  0.0  0.000004\n",
       "1081122  1080326  14.0  0.0  0.000004"
      ]
     },
     "execution_count": 8,
     "metadata": {},
     "output_type": "execute_result"
    }
   ],
   "source": [
    "info.tail()"
   ]
  },
  {
   "cell_type": "code",
   "execution_count": 9,
   "metadata": {},
   "outputs": [
    {
     "data": {
      "text/plain": [
       "False"
      ]
     },
     "execution_count": 9,
     "metadata": {},
     "output_type": "execute_result"
    }
   ],
   "source": [
    "info.step.is_monotonic_increasing"
   ]
  },
  {
   "cell_type": "code",
   "execution_count": 10,
   "metadata": {},
   "outputs": [],
   "source": [
    "# sim = self\n",
    "# dt = parse_info(os.path.join(sim._sim_dir,\"info.txt\")).dt.values\n",
    "\n",
    "# # dt = make_info_monotonic_again(info).dt.values\n",
    "# assert len(dt) == len(sim.trace), (len(dt), len(sim.trace))\n",
    "\n",
    "# v_all = np.vstack([sim.trace.vx, sim.trace.vy, sim.trace.vz]).T\n",
    "\n",
    "# # Finite difference\n",
    "# num = v_all[1:]-v_all[0:-1]\n",
    "# # den = (t[1:]-t[0:-1])[:, np.newaxis]\n",
    "# # the first difference correspond to idx=2 (third) dt\n",
    "# den = dt[1:, np.newaxis]\n",
    "# a_all = num/den\n",
    "\n",
    "# locations_a = np.digitize(sim.times_header, sim.trace.t[1:], right=True)\n",
    "# v = v_all[locations_a]\n",
    "# a = a_all[locations_a]\n",
    "# om = Omega(v, a)"
   ]
  },
  {
   "cell_type": "code",
   "execution_count": 11,
   "metadata": {},
   "outputs": [],
   "source": [
    "info = parse_info(os.path.join(sim_dir, 'info.txt'))\n",
    "diff = info.step.diff()\n",
    "restart_points = info.step[diff < 0]\n",
    "idx_restart = [idx - ((info.step.loc[idx - 1]) - v + 1) for idx, v in zip(restart_points.index, restart_points.values)]\n",
    "new_trace = sim.trace.copy()\n",
    "for a, b in zip(idx_restart, restart_points.index):\n",
    "    new_trace = new_trace.drop(sim.trace.index[slice(a,b)])\n",
    "\n",
    "new_info = info.copy()\n",
    "for a, b in zip(idx_restart, restart_points.index):\n",
    "    new_info = new_info.drop(info.index[slice(a,b)])\n",
    "    \n",
    "dt = new_info.dt.values\n",
    "assert len(dt) == len(new_trace), (len(dt), len(new_trace), len(sim.trace))\n",
    "\n",
    "\n",
    "v_all = np.vstack([new_trace.vx, new_trace.vy, new_trace.vz]).T\n",
    "\n",
    "# Finite difference\n",
    "num = v_all[1:]-v_all[0:-1]\n",
    "# den = (t[1:]-t[0:-1])[:, np.newaxis]\n",
    "# the first difference correspond to idx=2 (third) dt\n",
    "den = dt[1:, np.newaxis]\n",
    "a_all = num/den\n",
    "\n",
    "locations_a = np.digitize(sim.times_header, new_trace.t[1:], right=True)\n",
    "v = v_all[locations_a]\n",
    "a = a_all[locations_a]\n",
    "om = Omega(v, a)"
   ]
  },
  {
   "cell_type": "code",
   "execution_count": 14,
   "metadata": {},
   "outputs": [
    {
     "data": {
      "text/plain": [
       "array([[-2.36963632e-03, -1.66359271e-03,  9.87348467e-01],\n",
       "       [-2.05624293e-03, -1.44893731e-03,  8.33612000e-01],\n",
       "       [ 4.16014761e-04,  3.81775785e-04,  1.19673996e+00],\n",
       "       ...,\n",
       "       [ 0.00000000e+00, -4.88243105e-03,  1.68192429e+00],\n",
       "       [ 6.16702208e-03, -4.31691546e-03,  1.83586599e+00],\n",
       "       [ 6.16702208e-03, -4.31691546e-03,  1.83586599e+00]])"
      ]
     },
     "execution_count": 14,
     "metadata": {},
     "output_type": "execute_result"
    }
   ],
   "source": [
    "om"
   ]
  },
  {
   "cell_type": "code",
   "execution_count": 15,
   "metadata": {},
   "outputs": [
    {
     "name": "stdout",
     "output_type": "stream",
     "text": [
      "Writing mb.41002_p300_a800_r600_t9.56_omega.fits...\n"
     ]
    }
   ],
   "source": [
    "sim_name = get_sim_name(sim_dir)\n",
    "out_name = sim_name + \"_omega.fits\"\n",
    "print('Writing {}...'.format(out_name))\n",
    "write_omega_box(om, out_name)"
   ]
  },
  {
   "cell_type": "code",
   "execution_count": 21,
   "metadata": {},
   "outputs": [
    {
     "data": {
      "text/plain": [
       "[<matplotlib.lines.Line2D at 0x7f4cae188eb8>]"
      ]
     },
     "execution_count": 21,
     "metadata": {},
     "output_type": "execute_result"
    },
    {
     "data": {
      "image/png": "[encoded data removed]",
      "text/plain": [
       "<Figure size 432x288 with 1 Axes>"
      ]
     },
     "metadata": {
      "needs_background": "light"
     },
     "output_type": "display_data"
    }
   ],
   "source": [
    "plt.plot(sim.times_header, om[:,2])"
   ]
  },
  {
   "cell_type": "code",
   "execution_count": null,
   "metadata": {},
   "outputs": [],
   "source": [
    "v_all"
   ]
  },
  {
   "cell_type": "code",
   "execution_count": null,
   "metadata": {},
   "outputs": [],
   "source": []
  },
  {
   "cell_type": "code",
   "execution_count": 10,
   "metadata": {},
   "outputs": [
    {
     "ename": "ValueError",
     "evalue": "operands could not be broadcast together with shapes (1081122,3) (1081121,1) ",
     "output_type": "error",
     "traceback": [
      "\u001b[0;31m---------------------------------------------------------------------------\u001b[0m",
      "\u001b[0;31mValueError\u001b[0m                                Traceback (most recent call last)",
      "\u001b[0;32m<ipython-input-10-086c8b3cb20b>\u001b[0m in \u001b[0;36m<module>\u001b[0;34m\u001b[0m\n\u001b[0;32m----> 1\u001b[0;31m \u001b[0mom\u001b[0m \u001b[0;34m=\u001b[0m \u001b[0mget_omega_box\u001b[0m\u001b[0;34m(\u001b[0m\u001b[0mself\u001b[0m\u001b[0;34m)\u001b[0m\u001b[0;34m\u001b[0m\u001b[0;34m\u001b[0m\u001b[0m\n\u001b[0m",
      "\u001b[0;32m~/sim/analysis/simulation/simulation/derotating_box.py\u001b[0m in \u001b[0;36mget_omega_box\u001b[0;34m(sim)\u001b[0m\n\u001b[1;32m     38\u001b[0m     \u001b[0;31m# the first difference correspond to idx=2 (third) dt\u001b[0m\u001b[0;34m\u001b[0m\u001b[0;34m\u001b[0m\u001b[0;34m\u001b[0m\u001b[0m\n\u001b[1;32m     39\u001b[0m     \u001b[0mden\u001b[0m \u001b[0;34m=\u001b[0m \u001b[0mdt\u001b[0m\u001b[0;34m[\u001b[0m\u001b[0;36m2\u001b[0m\u001b[0;34m:\u001b[0m\u001b[0;34m,\u001b[0m \u001b[0mnp\u001b[0m\u001b[0;34m.\u001b[0m\u001b[0mnewaxis\u001b[0m\u001b[0;34m]\u001b[0m\u001b[0;34m\u001b[0m\u001b[0;34m\u001b[0m\u001b[0m\n\u001b[0;32m---> 40\u001b[0;31m     \u001b[0ma_all\u001b[0m \u001b[0;34m=\u001b[0m \u001b[0mnum\u001b[0m\u001b[0;34m/\u001b[0m\u001b[0mden\u001b[0m\u001b[0;34m\u001b[0m\u001b[0;34m\u001b[0m\u001b[0m\n\u001b[0m\u001b[1;32m     41\u001b[0m \u001b[0;34m\u001b[0m\u001b[0m\n\u001b[1;32m     42\u001b[0m     \u001b[0mlocations_a\u001b[0m \u001b[0;34m=\u001b[0m \u001b[0mnp\u001b[0m\u001b[0;34m.\u001b[0m\u001b[0mdigitize\u001b[0m\u001b[0;34m(\u001b[0m\u001b[0msim\u001b[0m\u001b[0;34m.\u001b[0m\u001b[0mtimes_header\u001b[0m\u001b[0;34m,\u001b[0m \u001b[0msim\u001b[0m\u001b[0;34m.\u001b[0m\u001b[0mtrace\u001b[0m\u001b[0;34m.\u001b[0m\u001b[0mt\u001b[0m\u001b[0;34m[\u001b[0m\u001b[0;36m1\u001b[0m\u001b[0;34m:\u001b[0m\u001b[0;34m]\u001b[0m\u001b[0;34m,\u001b[0m \u001b[0mright\u001b[0m\u001b[0;34m=\u001b[0m\u001b[0;32mTrue\u001b[0m\u001b[0;34m)\u001b[0m\u001b[0;34m\u001b[0m\u001b[0;34m\u001b[0m\u001b[0m\n",
      "\u001b[0;31mValueError\u001b[0m: operands could not be broadcast together with shapes (1081122,3) (1081121,1) "
     ]
    }
   ],
   "source": [
    "om = get_omega_box(self)"
   ]
  },
  {
   "cell_type": "code",
   "execution_count": null,
   "metadata": {},
   "outputs": [],
   "source": []
  },
  {
   "cell_type": "code",
   "execution_count": 9,
   "metadata": {},
   "outputs": [],
   "source": [
    "diff = info.step.diff(period)"
   ]
  },
  {
   "cell_type": "code",
   "execution_count": null,
   "metadata": {},
   "outputs": [],
   "source": []
  },
  {
   "cell_type": "code",
   "execution_count": 12,
   "metadata": {},
   "outputs": [],
   "source": [
    "restart_points = info.step[diff < 0]"
   ]
  },
  {
   "cell_type": "code",
   "execution_count": 13,
   "metadata": {},
   "outputs": [
    {
     "data": {
      "text/plain": [
       "241509      241426\n",
       "423358      423098\n",
       "605706      605251\n",
       "791409      790736\n",
       "953189      952473\n",
       "1044247    1043451\n",
       "Name: step, dtype: int64"
      ]
     },
     "execution_count": 13,
     "metadata": {},
     "output_type": "execute_result"
    }
   ],
   "source": [
    "restart_points"
   ]
  },
  {
   "cell_type": "code",
   "execution_count": 24,
   "metadata": {},
   "outputs": [
    {
     "data": {
      "text/plain": [
       "423353    423270\n",
       "423354    423271\n",
       "423355    423272\n",
       "423356    423273\n",
       "423357    423274\n",
       "423358    423098\n",
       "423359    423099\n",
       "423360    423100\n",
       "423361    423101\n",
       "423362    423102\n",
       "Name: step, dtype: int64"
      ]
     },
     "execution_count": 24,
     "metadata": {},
     "output_type": "execute_result"
    }
   ],
   "source": [
    "info.step[423358-5:423358+5]"
   ]
  },
  {
   "cell_type": "code",
   "execution_count": 31,
   "metadata": {},
   "outputs": [
    {
     "data": {
      "text/plain": [
       "177"
      ]
     },
     "execution_count": 31,
     "metadata": {},
     "output_type": "execute_result"
    }
   ],
   "source": [
    "delta_idx = (info.step.loc[restart_points.index[1] - 1]) - restart_points.iloc[1] + 1\n",
    "delta_idx"
   ]
  },
  {
   "cell_type": "code",
   "execution_count": 33,
   "metadata": {},
   "outputs": [
    {
     "data": {
      "text/plain": [
       "423181"
      ]
     },
     "execution_count": 33,
     "metadata": {},
     "output_type": "execute_result"
    }
   ],
   "source": [
    "idx_restart_was_written = restart_points.index[1] - delta_idx\n",
    "idx_restart_was_written"
   ]
  },
  {
   "cell_type": "code",
   "execution_count": 38,
   "metadata": {},
   "outputs": [
    {
     "data": {
      "text/plain": [
       "423176    423093\n",
       "423177    423094\n",
       "423178    423095\n",
       "423179    423096\n",
       "423180    423097\n",
       "423181    423098\n",
       "423182    423099\n",
       "423183    423100\n",
       "423184    423101\n",
       "423185    423102\n",
       "423186    423103\n",
       "Name: step, dtype: int64"
      ]
     },
     "execution_count": 38,
     "metadata": {},
     "output_type": "execute_result"
    }
   ],
   "source": [
    "info.step.loc[idx_restart_was_written-5:idx_restart_was_written+5]"
   ]
  },
  {
   "cell_type": "code",
   "execution_count": 32,
   "metadata": {},
   "outputs": [
    {
     "data": {
      "text/plain": [
       "423098"
      ]
     },
     "execution_count": 32,
     "metadata": {},
     "output_type": "execute_result"
    }
   ],
   "source": [
    "info.step.loc[restart_points.index[1] - delta_idx]"
   ]
  },
  {
   "cell_type": "code",
   "execution_count": 37,
   "metadata": {},
   "outputs": [
    {
     "data": {
      "text/plain": [
       "[241426, 423181, 605511, 791191, 953146, 1044167]"
      ]
     },
     "execution_count": 37,
     "metadata": {},
     "output_type": "execute_result"
    }
   ],
   "source": [
    "idx_restart_1 = [restart_points.index[i] - ((info.step.loc[restart_points.index[i] - 1]) - restart_points.iloc[i] + 1) for i in range(len(restart_points))]\n",
    "idx_restart_1"
   ]
  },
  {
   "cell_type": "code",
   "execution_count": 40,
   "metadata": {},
   "outputs": [
    {
     "data": {
      "text/plain": [
       "[241426, 423181, 605511, 791191, 953146, 1044167]"
      ]
     },
     "execution_count": 40,
     "metadata": {},
     "output_type": "execute_result"
    }
   ],
   "source": [
    "idx_restart = [idx - ((info.step.loc[idx - 1]) - v + 1) for idx, v in zip(restart_points.index, restart_points.values)]\n",
    "idx_restart"
   ]
  },
  {
   "cell_type": "code",
   "execution_count": 41,
   "metadata": {},
   "outputs": [],
   "source": [
    "na = info.copy()\n",
    "for a, b in zip(idx_restart, restart_points.index):\n",
    "    na = na.drop(info.step.index[slice(a,b)])"
   ]
  },
  {
   "cell_type": "code",
   "execution_count": 45,
   "metadata": {},
   "outputs": [
    {
     "data": {
      "text/plain": [
       "True"
      ]
     },
     "execution_count": 45,
     "metadata": {},
     "output_type": "execute_result"
    }
   ],
   "source": [
    "na.step.is_monotonic_increasing"
   ]
  },
  {
   "cell_type": "code",
   "execution_count": 59,
   "metadata": {},
   "outputs": [
    {
     "data": {
      "text/html": [
       "<div>\n",
       "<style scoped>\n",
       "    .dataframe tbody tr th:only-of-type {\n",
       "        vertical-align: middle;\n",
       "    }\n",
       "\n",
       "    .dataframe tbody tr th {\n",
       "        vertical-align: top;\n",
       "    }\n",
       "\n",
       "    .dataframe thead th {\n",
       "        text-align: right;\n",
       "    }\n",
       "</style>\n",
       "<table border=\"1\" class=\"dataframe\">\n",
       "  <thead>\n",
       "    <tr style=\"text-align: right;\">\n",
       "      <th></th>\n",
       "      <th>step</th>\n",
       "      <th>t</th>\n",
       "      <th>z</th>\n",
       "      <th>dt</th>\n",
       "    </tr>\n",
       "  </thead>\n",
       "  <tbody>\n",
       "    <tr>\n",
       "      <th>241416</th>\n",
       "      <td>241416</td>\n",
       "      <td>10.5316</td>\n",
       "      <td>0.299653</td>\n",
       "      <td>0.000004</td>\n",
       "    </tr>\n",
       "    <tr>\n",
       "      <th>241417</th>\n",
       "      <td>241417</td>\n",
       "      <td>10.5316</td>\n",
       "      <td>0.299653</td>\n",
       "      <td>0.000004</td>\n",
       "    </tr>\n",
       "    <tr>\n",
       "      <th>241418</th>\n",
       "      <td>241418</td>\n",
       "      <td>10.5316</td>\n",
       "      <td>0.299652</td>\n",
       "      <td>0.000004</td>\n",
       "    </tr>\n",
       "    <tr>\n",
       "      <th>241419</th>\n",
       "      <td>241419</td>\n",
       "      <td>10.5316</td>\n",
       "      <td>0.299652</td>\n",
       "      <td>0.000004</td>\n",
       "    </tr>\n",
       "    <tr>\n",
       "      <th>241420</th>\n",
       "      <td>241420</td>\n",
       "      <td>10.5316</td>\n",
       "      <td>0.299651</td>\n",
       "      <td>0.000004</td>\n",
       "    </tr>\n",
       "    <tr>\n",
       "      <th>241421</th>\n",
       "      <td>241421</td>\n",
       "      <td>10.5317</td>\n",
       "      <td>0.299651</td>\n",
       "      <td>0.000004</td>\n",
       "    </tr>\n",
       "    <tr>\n",
       "      <th>241422</th>\n",
       "      <td>241422</td>\n",
       "      <td>10.5317</td>\n",
       "      <td>0.299650</td>\n",
       "      <td>0.000004</td>\n",
       "    </tr>\n",
       "    <tr>\n",
       "      <th>241423</th>\n",
       "      <td>241423</td>\n",
       "      <td>10.5317</td>\n",
       "      <td>0.299650</td>\n",
       "      <td>0.000004</td>\n",
       "    </tr>\n",
       "    <tr>\n",
       "      <th>241424</th>\n",
       "      <td>241424</td>\n",
       "      <td>10.5317</td>\n",
       "      <td>0.299650</td>\n",
       "      <td>0.000004</td>\n",
       "    </tr>\n",
       "    <tr>\n",
       "      <th>241425</th>\n",
       "      <td>241425</td>\n",
       "      <td>10.5317</td>\n",
       "      <td>0.299649</td>\n",
       "      <td>0.000004</td>\n",
       "    </tr>\n",
       "    <tr>\n",
       "      <th>241509</th>\n",
       "      <td>241426</td>\n",
       "      <td>10.5317</td>\n",
       "      <td>0.266137</td>\n",
       "      <td>0.000004</td>\n",
       "    </tr>\n",
       "    <tr>\n",
       "      <th>241510</th>\n",
       "      <td>241427</td>\n",
       "      <td>10.5317</td>\n",
       "      <td>0.266136</td>\n",
       "      <td>0.000004</td>\n",
       "    </tr>\n",
       "    <tr>\n",
       "      <th>241511</th>\n",
       "      <td>241428</td>\n",
       "      <td>10.5317</td>\n",
       "      <td>0.266136</td>\n",
       "      <td>0.000004</td>\n",
       "    </tr>\n",
       "    <tr>\n",
       "      <th>241512</th>\n",
       "      <td>241429</td>\n",
       "      <td>10.5317</td>\n",
       "      <td>0.266136</td>\n",
       "      <td>0.000004</td>\n",
       "    </tr>\n",
       "    <tr>\n",
       "      <th>241513</th>\n",
       "      <td>241430</td>\n",
       "      <td>10.5317</td>\n",
       "      <td>0.266135</td>\n",
       "      <td>0.000004</td>\n",
       "    </tr>\n",
       "    <tr>\n",
       "      <th>241514</th>\n",
       "      <td>241431</td>\n",
       "      <td>10.5317</td>\n",
       "      <td>0.266135</td>\n",
       "      <td>0.000004</td>\n",
       "    </tr>\n",
       "    <tr>\n",
       "      <th>241515</th>\n",
       "      <td>241432</td>\n",
       "      <td>10.5317</td>\n",
       "      <td>0.266134</td>\n",
       "      <td>0.000004</td>\n",
       "    </tr>\n",
       "    <tr>\n",
       "      <th>241516</th>\n",
       "      <td>241433</td>\n",
       "      <td>10.5317</td>\n",
       "      <td>0.266134</td>\n",
       "      <td>0.000004</td>\n",
       "    </tr>\n",
       "    <tr>\n",
       "      <th>241517</th>\n",
       "      <td>241434</td>\n",
       "      <td>10.5317</td>\n",
       "      <td>0.266133</td>\n",
       "      <td>0.000004</td>\n",
       "    </tr>\n",
       "    <tr>\n",
       "      <th>241518</th>\n",
       "      <td>241435</td>\n",
       "      <td>10.5317</td>\n",
       "      <td>0.266133</td>\n",
       "      <td>0.000004</td>\n",
       "    </tr>\n",
       "  </tbody>\n",
       "</table>\n",
       "</div>"
      ],
      "text/plain": [
       "          step        t         z        dt\n",
       "241416  241416  10.5316  0.299653  0.000004\n",
       "241417  241417  10.5316  0.299653  0.000004\n",
       "241418  241418  10.5316  0.299652  0.000004\n",
       "241419  241419  10.5316  0.299652  0.000004\n",
       "241420  241420  10.5316  0.299651  0.000004\n",
       "241421  241421  10.5317  0.299651  0.000004\n",
       "241422  241422  10.5317  0.299650  0.000004\n",
       "241423  241423  10.5317  0.299650  0.000004\n",
       "241424  241424  10.5317  0.299650  0.000004\n",
       "241425  241425  10.5317  0.299649  0.000004\n",
       "241509  241426  10.5317  0.266137  0.000004\n",
       "241510  241427  10.5317  0.266136  0.000004\n",
       "241511  241428  10.5317  0.266136  0.000004\n",
       "241512  241429  10.5317  0.266136  0.000004\n",
       "241513  241430  10.5317  0.266135  0.000004\n",
       "241514  241431  10.5317  0.266135  0.000004\n",
       "241515  241432  10.5317  0.266134  0.000004\n",
       "241516  241433  10.5317  0.266134  0.000004\n",
       "241517  241434  10.5317  0.266133  0.000004\n",
       "241518  241435  10.5317  0.266133  0.000004"
      ]
     },
     "execution_count": 59,
     "metadata": {},
     "output_type": "execute_result"
    }
   ],
   "source": [
    "na.iloc[241426-10:241426+10]"
   ]
  },
  {
   "cell_type": "code",
   "execution_count": 52,
   "metadata": {},
   "outputs": [
    {
     "data": {
      "text/html": [
       "<div>\n",
       "<style scoped>\n",
       "    .dataframe tbody tr th:only-of-type {\n",
       "        vertical-align: middle;\n",
       "    }\n",
       "\n",
       "    .dataframe tbody tr th {\n",
       "        vertical-align: top;\n",
       "    }\n",
       "\n",
       "    .dataframe thead th {\n",
       "        text-align: right;\n",
       "    }\n",
       "</style>\n",
       "<table border=\"1\" class=\"dataframe\">\n",
       "  <thead>\n",
       "    <tr style=\"text-align: right;\">\n",
       "      <th></th>\n",
       "      <th>step</th>\n",
       "      <th>t</th>\n",
       "      <th>z</th>\n",
       "      <th>dt</th>\n",
       "    </tr>\n",
       "  </thead>\n",
       "  <tbody>\n",
       "    <tr>\n",
       "      <th>1081124</th>\n",
       "      <td>1080328</td>\n",
       "      <td>14.0</td>\n",
       "      <td>0.0</td>\n",
       "      <td>0.000004</td>\n",
       "    </tr>\n",
       "    <tr>\n",
       "      <th>1081125</th>\n",
       "      <td>1080329</td>\n",
       "      <td>14.0</td>\n",
       "      <td>0.0</td>\n",
       "      <td>0.000004</td>\n",
       "    </tr>\n",
       "    <tr>\n",
       "      <th>1081126</th>\n",
       "      <td>1080330</td>\n",
       "      <td>14.0</td>\n",
       "      <td>0.0</td>\n",
       "      <td>0.000004</td>\n",
       "    </tr>\n",
       "    <tr>\n",
       "      <th>1081127</th>\n",
       "      <td>1080331</td>\n",
       "      <td>14.0</td>\n",
       "      <td>0.0</td>\n",
       "      <td>0.000004</td>\n",
       "    </tr>\n",
       "    <tr>\n",
       "      <th>1081128</th>\n",
       "      <td>1080332</td>\n",
       "      <td>14.0</td>\n",
       "      <td>0.0</td>\n",
       "      <td>0.000004</td>\n",
       "    </tr>\n",
       "  </tbody>\n",
       "</table>\n",
       "</div>"
      ],
      "text/plain": [
       "            step     t    z        dt\n",
       "1081124  1080328  14.0  0.0  0.000004\n",
       "1081125  1080329  14.0  0.0  0.000004\n",
       "1081126  1080330  14.0  0.0  0.000004\n",
       "1081127  1080331  14.0  0.0  0.000004\n",
       "1081128  1080332  14.0  0.0  0.000004"
      ]
     },
     "execution_count": 52,
     "metadata": {},
     "output_type": "execute_result"
    }
   ],
   "source": [
    "na.tail()"
   ]
  },
  {
   "cell_type": "code",
   "execution_count": 47,
   "metadata": {},
   "outputs": [
    {
     "data": {
      "text/plain": [
       "<matplotlib.axes._subplots.AxesSubplot at 0x7f197846eb00>"
      ]
     },
     "execution_count": 47,
     "metadata": {},
     "output_type": "execute_result"
    },
    {
     "data": {
      "image/png": "[encoded data removed]",
      "text/plain": [
       "<Figure size 432x288 with 1 Axes>"
      ]
     },
     "metadata": {
      "needs_background": "light"
     },
     "output_type": "display_data"
    }
   ],
   "source": [
    "info.step.diff().plot()"
   ]
  },
  {
   "cell_type": "code",
   "execution_count": 48,
   "metadata": {},
   "outputs": [
    {
     "data": {
      "text/plain": [
       "<matplotlib.axes._subplots.AxesSubplot at 0x7f19576b26a0>"
      ]
     },
     "execution_count": 48,
     "metadata": {},
     "output_type": "execute_result"
    },
    {
     "data": {
      "image/png": "[encoded data removed]",
      "text/plain": [
       "<Figure size 432x288 with 1 Axes>"
      ]
     },
     "metadata": {
      "needs_background": "light"
     },
     "output_type": "display_data"
    }
   ],
   "source": [
    "na.step.diff().plot()"
   ]
  },
  {
   "cell_type": "code",
   "execution_count": 61,
   "metadata": {},
   "outputs": [
    {
     "data": {
      "text/plain": [
       "<matplotlib.axes._subplots.AxesSubplot at 0x7f1957f83550>"
      ]
     },
     "execution_count": 61,
     "metadata": {},
     "output_type": "execute_result"
    },
    {
     "data": {
      "image/png": "[encoded data removed]",
      "text/plain": [
       "<Figure size 432x288 with 1 Axes>"
      ]
     },
     "metadata": {
      "needs_background": "light"
     },
     "output_type": "display_data"
    }
   ],
   "source": [
    "info.z.plot()"
   ]
  },
  {
   "cell_type": "markdown",
   "metadata": {},
   "source": [
    "### Oh oh, Houston we've had a problem."
   ]
  },
  {
   "cell_type": "markdown",
   "metadata": {},
   "source": [
    "I have the redshift which is discontinuous. Just in the VSC run, only in the first restart. Maybe because there the quota was exceded and restart files were written badly"
   ]
  },
  {
   "cell_type": "code",
   "execution_count": 62,
   "metadata": {},
   "outputs": [
    {
     "data": {
      "text/plain": [
       "<matplotlib.axes._subplots.AxesSubplot at 0x7f197e4b0278>"
      ]
     },
     "execution_count": 62,
     "metadata": {},
     "output_type": "execute_result"
    },
    {
     "data": {
      "image/png": "[encoded data removed]",
      "text/plain": [
       "<Figure size 432x288 with 1 Axes>"
      ]
     },
     "metadata": {
      "needs_background": "light"
     },
     "output_type": "display_data"
    }
   ],
   "source": [
    "info.t.plot()"
   ]
  },
  {
   "cell_type": "code",
   "execution_count": null,
   "metadata": {},
   "outputs": [],
   "source": []
  },
  {
   "cell_type": "code",
   "execution_count": null,
   "metadata": {},
   "outputs": [],
   "source": []
  },
  {
   "cell_type": "code",
   "execution_count": null,
   "metadata": {},
   "outputs": [],
   "source": [
    "np.digitize(self.times_header, info.trace.t[diff > 0])"
   ]
  },
  {
   "cell_type": "code",
   "execution_count": null,
   "metadata": {},
   "outputs": [],
   "source": []
  },
  {
   "cell_type": "code",
   "execution_count": null,
   "metadata": {},
   "outputs": [],
   "source": []
  },
  {
   "cell_type": "code",
   "execution_count": 18,
   "metadata": {},
   "outputs": [],
   "source": [
    "info = parse_info(os.path.join('/media/michele/My Book/Michele/MySimulations/MovingBox/np/ongoing/vsc/mb.41002_p100_a800_r600_t9.56/out', 'info.txt'))"
   ]
  },
  {
   "cell_type": "code",
   "execution_count": 74,
   "metadata": {},
   "outputs": [
    {
     "data": {
      "text/plain": [
       "<matplotlib.axes._subplots.AxesSubplot at 0x7f19575e7780>"
      ]
     },
     "execution_count": 74,
     "metadata": {},
     "output_type": "execute_result"
    },
    {
     "data": {
      "image/png": "[encoded data removed]",
      "text/plain": [
       "<Figure size 432x288 with 1 Axes>"
      ]
     },
     "metadata": {
      "needs_background": "light"
     },
     "output_type": "display_data"
    }
   ],
   "source": [
    "parse_info(os.path.join('/media/michele/My Book/Michele/MySimulations/MovingBox/np/ongoing/vsc/mb.41002_p100_a800_r600_t9.56/out', 'info.txt')).dt.plot()"
   ]
  },
  {
   "cell_type": "code",
   "execution_count": 75,
   "metadata": {},
   "outputs": [
    {
     "data": {
      "text/plain": [
       "<matplotlib.axes._subplots.AxesSubplot at 0x7f195725d5f8>"
      ]
     },
     "execution_count": 75,
     "metadata": {},
     "output_type": "execute_result"
    },
    {
     "data": {
      "image/png": "[encoded data removed]",
      "text/plain": [
       "<Figure size 432x288 with 1 Axes>"
      ]
     },
     "metadata": {
      "needs_background": "light"
     },
     "output_type": "display_data"
    }
   ],
   "source": [
    "parse_info(os.path.join('/home/michele/sim/MySimulations/ng/mb.69002_p200_a800_r600/out', 'info.txt')).z.plot()"
   ]
  },
  {
   "cell_type": "code",
   "execution_count": null,
   "metadata": {},
   "outputs": [],
   "source": []
  },
  {
   "cell_type": "markdown",
   "metadata": {},
   "source": [
    "All together"
   ]
  },
  {
   "cell_type": "code",
   "execution_count": null,
   "metadata": {},
   "outputs": [],
   "source": [
    "def make_info_monotonic_again(info):\n",
    "    diff = info.step.diff(period)\n",
    "    restart_points = info.step[diff < 0]\n",
    "    idx_restart = [idx - ((info.step.loc[idx - 1]) - v + 1) for idx, v in zip(restart_points.index, restart_points.values)]\n",
    "\n",
    "    na = info.copy()\n",
    "    for a, b in zip(idx_restart, restart_points.index):\n",
    "        na = na.drop(info.index[slice(a,b)])\n",
    "    return na\n"
   ]
  },
  {
   "cell_type": "code",
   "execution_count": 11,
   "metadata": {},
   "outputs": [],
   "source": [
    "diff = self.trace.t.diff()"
   ]
  },
  {
   "cell_type": "code",
   "execution_count": 12,
   "metadata": {},
   "outputs": [
    {
     "data": {
      "text/plain": [
       "241507     10.5317\n",
       "423355     11.1021\n",
       "605703     11.8780\n",
       "791405     12.9376\n",
       "953184     13.6765\n",
       "1044241    13.8916\n",
       "Name: t, dtype: float64"
      ]
     },
     "execution_count": 12,
     "metadata": {},
     "output_type": "execute_result"
    }
   ],
   "source": [
    "self.trace.t[(diff < 0)]"
   ]
  }
 ],
 "metadata": {
  "kernelspec": {
   "display_name": "Python 3",
   "language": "python",
   "name": "python3"
  },
  "language_info": {
   "codemirror_mode": {
    "name": "ipython",
    "version": 3
   },
   "file_extension": ".py",
   "mimetype": "text/x-python",
   "name": "python",
   "nbconvert_exporter": "python",
   "pygments_lexer": "ipython3",
   "version": "3.6.8"
  }
 },
 "nbformat": 4,
 "nbformat_minor": 2
}
