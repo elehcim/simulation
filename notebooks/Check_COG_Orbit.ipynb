{
 "cells": [
  {
   "cell_type": "code",
   "execution_count": null,
   "metadata": {
    "collapsed": true
   },
   "outputs": [],
   "source": [
    "%matplotlib inline\n",
    "import pynbody\n",
    "from pynbody.analysis import profile\n",
    "import matplotlib.pylab as plt\n",
    "import numpy as np\n",
    "import astropy.units as u\n",
    "import os"
   ]
  },
  {
   "cell_type": "code",
   "execution_count": null,
   "metadata": {},
   "outputs": [],
   "source": [
    "from cog import compute_cog\n",
    "from snap_io import load_moria_sim_and_kicked, load_moria, load_kicked, load_sim"
   ]
  },
  {
   "cell_type": "code",
   "execution_count": null,
   "metadata": {},
   "outputs": [],
   "source": [
    "def get_cog(sim_dir):\n",
    "    sim = load_sim(sim_dir)\n",
    "    print(\"Loaded {} snaps of sim: {}\".format(len(sim), sim_dir))\n",
    "    times, cog = compute_cog(sim, save_cache=False, verbose=False);\n",
    "    return times, cog\n",
    "\n",
    "def get_cog_kicked(sim_number):\n",
    "    kicked_sim = load_kicked(sim_number)\n",
    "    print(\"Loaded {} snaps of sim{}\".format(len(kicked_sim), sim_number))\n",
    "    times, cog = compute_cog(kicked_sim, cache_file='cog{}_kicked.npz'.format(sim_number), verbose=False);\n",
    "    return times, cog"
   ]
  },
  {
   "cell_type": "code",
   "execution_count": null,
   "metadata": {
    "collapsed": true
   },
   "outputs": [],
   "source": [
    "def plot_cog_path(cog_kicked, ax=None):\n",
    "    if ax is None:\n",
    "        ax = plt.gca()\n",
    "    ax.set_xlabel(\"x (kpc)\")\n",
    "    ax.set_ylabel(\"y (kpc)\")\n",
    "    ax.scatter(*cog_kicked[:2], marker='o')\n",
    "    ax.plot((0,0), '')\n",
    "    c1, c2 = plt.Circle((0,0), radius=1000, fill=False), plt.Circle((0,0), radius=200, fill=False)\n",
    "    ax.add_artist(c1)\n",
    "    ax.add_artist(c2)\n",
    "    ax.axis('equal')\n",
    "    ax.grid()\n",
    "    r = np.sqrt(cog_kicked[0,:]**2+cog_kicked[1,:]**2+cog_kicked[2,:]**2)\n",
    "    r[:-10].min(), r.max()"
   ]
  },
  {
   "cell_type": "code",
   "execution_count": null,
   "metadata": {
    "collapsed": true
   },
   "outputs": [],
   "source": [
    "sim_list = (62002, 68002, 71002, 60003)"
   ]
  },
  {
   "cell_type": "code",
   "execution_count": null,
   "metadata": {},
   "outputs": [],
   "source": [
    "times_list = list()\n",
    "cog_list = list()\n",
    "for sim in sim_list:\n",
    "    times, cog = get_cog_kicked(sim)\n",
    "    times_list.append(times)\n",
    "    cog_list.append(cog)\n",
    "import gc\n",
    "gc.collect()"
   ]
  },
  {
   "cell_type": "code",
   "execution_count": null,
   "metadata": {},
   "outputs": [],
   "source": [
    "len(cog_list)"
   ]
  },
  {
   "cell_type": "code",
   "execution_count": null,
   "metadata": {
    "scrolled": false
   },
   "outputs": [],
   "source": [
    "nplots = len(sim_list)\n",
    "fig, axes = plt.subplots(nplots, figsize=(8,8*nplots))\n",
    "for cog, sim, ax in zip(cog_list, sim_list, axes):\n",
    "    plot_cog_path(cog, ax)\n",
    "    ax.set_title(\"sim{}\".format(sim))"
   ]
  },
  {
   "cell_type": "code",
   "execution_count": null,
   "metadata": {
    "collapsed": true
   },
   "outputs": [],
   "source": []
  },
  {
   "cell_type": "code",
   "execution_count": null,
   "metadata": {},
   "outputs": [],
   "source": [
    "times, cog = get_cog(\"/home/michele/sim/nfw_negative/out\")"
   ]
  },
  {
   "cell_type": "code",
   "execution_count": null,
   "metadata": {},
   "outputs": [],
   "source": [
    "fig, ax = plt.subplots(1, figsize=(8,8))\n",
    "plot_cog_path(cog, ax)\n",
    "ax.set_title(\"{}\".format(\"nfw_negative\"))"
   ]
  },
  {
   "cell_type": "code",
   "execution_count": null,
   "metadata": {
    "collapsed": true
   },
   "outputs": [],
   "source": []
  }
 ],
 "metadata": {
  "kernelspec": {
   "display_name": "Python 3",
   "language": "python",
   "name": "python3"
  },
  "language_info": {
   "codemirror_mode": {
    "name": "ipython",
    "version": 3
   },
   "file_extension": ".py",
   "mimetype": "text/x-python",
   "name": "python",
   "nbconvert_exporter": "python",
   "pygments_lexer": "ipython3",
   "version": "3.6.3"
  }
 },
 "nbformat": 4,
 "nbformat_minor": 2
}
