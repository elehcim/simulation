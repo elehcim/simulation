{
 "cells": [
  {
   "cell_type": "code",
   "execution_count": 1,
   "metadata": {},
   "outputs": [],
   "source": [
    "import pynbody\n",
    "from pynbody.analysis import profile\n",
    "import matplotlib.pylab as plt\n",
    "import numpy as np\n",
    "import astropy.units as u\n",
    "from astropy.table import Table\n",
    "import pandas as pd\n",
    "%matplotlib inline\n",
    "from analyze_sumfiles import get_sumfile\n",
    "import simulation\n",
    "plt.style.use('dark_background')"
   ]
  },
  {
   "cell_type": "code",
   "execution_count": 2,
   "metadata": {},
   "outputs": [],
   "source": [
    "def plot_property(a, k, prop, unit=None, ax=None):\n",
    "    if ax is None:\n",
    "        fig, ax = plt.subplots()\n",
    "    unit = k[prop].unit if unit is None else unit\n",
    "    time = a['time'].to(u.Gyr)\n",
    "    ax.plot(time, a[prop].to(unit), \"r\", label=\"MoRIA\")\n",
    "#     ax2 = ax.twinx()\n",
    "#     ax2.s\n",
    "    k2 = np.interp(a['time'], k['time'], k[prop].to(unit), left=np.nan)\n",
    "    ax.plot(time[:-1], k2[:-1], label=\"Kicked\")\n",
    "    ax.set_xlabel('time (Gyr)')\n",
    "    ax.set_ylabel(\"{0} ({1:latex})\".format(prop,unit))\n",
    "    ax.set_title(prop)\n",
    "    plt.legend(loc=0)"
   ]
  },
  {
   "cell_type": "code",
   "execution_count": 3,
   "metadata": {},
   "outputs": [],
   "source": [
    "SIM_ID=\"bh_5.std\""
   ]
  },
  {
   "cell_type": "code",
   "execution_count": 4,
   "metadata": {},
   "outputs": [
    {
     "name": "stderr",
     "output_type": "stream",
     "text": [
      "loading simulation: bh_5.std\n"
     ]
    }
   ],
   "source": [
    "sim = simulation.BhSim(SIM_ID)"
   ]
  },
  {
   "cell_type": "code",
   "execution_count": 5,
   "metadata": {},
   "outputs": [
    {
     "data": {
      "text/plain": [
       "<SimSnap \"/home/michele/sim/MySimulations/bh/bh_5.std/out/snapshot_0000::star\" len=0>"
      ]
     },
     "execution_count": 5,
     "metadata": {},
     "output_type": "execute_result"
    }
   ],
   "source": [
    "sim[0].s"
   ]
  },
  {
   "cell_type": "code",
   "execution_count": 11,
   "metadata": {},
   "outputs": [
    {
     "data": {
      "application/vnd.jupyter.widget-view+json": {
       "model_id": "6bcdf969bb8e4fbf84840906eba77a22",
       "version_major": 2,
       "version_minor": 0
      },
      "text/html": [
       "<p>Failed to display Jupyter Widget of type <code>interactive</code>.</p>\n",
       "<p>\n",
       "  If you're reading this message in the Jupyter Notebook or JupyterLab Notebook, it may mean\n",
       "  that the widgets JavaScript is still loading. If this message persists, it\n",
       "  likely means that the widgets JavaScript library is either not installed or\n",
       "  not enabled. See the <a href=\"https://ipywidgets.readthedocs.io/en/stable/user_install.html\">Jupyter\n",
       "  Widgets Documentation</a> for setup instructions.\n",
       "</p>\n",
       "<p>\n",
       "  If you're reading this message in another frontend (for example, a static\n",
       "  rendering on GitHub or <a href=\"https://nbviewer.jupyter.org/\">NBViewer</a>),\n",
       "  it may mean that your frontend doesn't currently support widgets.\n",
       "</p>\n"
      ],
      "text/plain": [
       "interactive(children=(IntSlider(value=0, continuous_update=False, description='Snap:', max=119), ToggleButtons(description='family', options=('g', 's'), value='g'), ToggleButtons(description='y', index=6, options=('E_circ', 'acce_norm', 'vel_norm', 'Q', 'X', 'beta', 'density', 'density_enc', 'dyntime', 'fesp', 'fourier', 'g_spherical', 'j_circ', 'j_phi', 'j_theta', 'jtot', 'kappa', 'magnitudes', 'mass', 'mass_enc', 'mgsp', 'omega', 'pattern_frequency', 'pot', 'p', 'rho', 'rotation_curve_spherical', 'sb', 'smooth', 'temp', 'u', 'v_circ', 'vel', 'zsph', 'vr', 'vr_disp'), value='density'), FloatRangeSlider(value=(0.0, 20.0), continuous_update=False, description='radius:', max=20.0, readout_format='.0f', step=10.0), Output()), _dom_classes=('widget-interact',))"
      ]
     },
     "metadata": {},
     "output_type": "display_data"
    }
   ],
   "source": [
    "sim.interact_profiles(default='density', nbins=80, max=20, log=True)"
   ]
  },
  {
   "cell_type": "code",
   "execution_count": 13,
   "metadata": {},
   "outputs": [
    {
     "data": {
      "image/png": "[encoded data removed]",
      "text/plain": [
       "<matplotlib.figure.Figure at 0x7f4147da7be0>"
      ]
     },
     "metadata": {},
     "output_type": "display_data"
    }
   ],
   "source": [
    "fig, ax = plt.subplots()"
   ]
  },
  {
   "cell_type": "code",
   "execution_count": 14,
   "metadata": {},
   "outputs": [
    {
     "data": {
      "text/plain": [
       "Bbox([[inf, inf], [-inf, -inf]])"
      ]
     },
     "execution_count": 14,
     "metadata": {},
     "output_type": "execute_result"
    }
   ],
   "source": [
    "ax._"
   ]
  },
  {
   "cell_type": "code",
   "execution_count": 7,
   "metadata": {},
   "outputs": [
    {
     "data": {
      "text/plain": [
       "(0.0, 11.634935633280294)"
      ]
     },
     "execution_count": 7,
     "metadata": {},
     "output_type": "execute_result"
    }
   ],
   "source": [
    "sim.t_range"
   ]
  },
  {
   "cell_type": "code",
   "execution_count": 10,
   "metadata": {},
   "outputs": [
    {
     "data": {
      "text/plain": [
       "0.13488453062212513"
      ]
     },
     "execution_count": 10,
     "metadata": {},
     "output_type": "execute_result"
    }
   ],
   "source": [
    "sim[-1].header.redshift"
   ]
  },
  {
   "cell_type": "code",
   "execution_count": 11,
   "metadata": {},
   "outputs": [
    {
     "name": "stderr",
     "output_type": "stream",
     "text": [
      "Computing center of gravity for all the snapshots\n"
     ]
    },
    {
     "data": {
      "text/plain": [
       "array([[  2.67517450e-03,   2.66632624e-03,   2.67708092e-03,\n",
       "          2.69188499e-03,   2.70191813e-03,   2.71560834e-03,\n",
       "          2.77849915e-03,   2.80914316e-03,   2.76652630e-03,\n",
       "          2.52299779e-03,   2.09242199e-03,   1.38401159e-03,\n",
       "          4.71327920e-04,  -5.70441945e-04,  -1.77224574e-03,\n",
       "         -3.03413370e-03,  -4.22770623e-03,  -5.46957413e-03,\n",
       "         -6.69473084e-03,  -7.96770398e-03,  -9.29557811e-03,\n",
       "         -1.06310407e-02,  -1.19296415e-02,  -1.32171651e-02,\n",
       "         -1.43984882e-02,  -1.55968964e-02,  -1.67601891e-02,\n",
       "         -1.79125126e-02,  -1.89739019e-02,  -1.96053833e-02,\n",
       "         -1.95118990e-02,  -1.84776932e-02,  -1.61222387e-02,\n",
       "         -1.25094252e-02,  -7.54963374e-03,  -1.78988045e-03,\n",
       "          4.44406224e-03,   1.08578596e-02,   1.74003877e-02,\n",
       "          2.38799900e-02,   3.04067601e-02,   3.68502699e-02,\n",
       "          4.32706550e-02,   4.95654717e-02,   5.61370589e-02,\n",
       "          6.30770177e-02,   7.06210285e-02,   7.88562521e-02,\n",
       "          8.75920430e-02,   9.69219804e-02,   1.06586240e-01,\n",
       "          1.16657011e-01,   1.26835898e-01,   1.37170091e-01,\n",
       "          1.47489816e-01,   1.57997012e-01,   1.68645918e-01,\n",
       "          1.79569215e-01,   1.90547019e-01,   2.01665953e-01,\n",
       "          2.12947309e-01,   2.24278361e-01,   2.35351071e-01,\n",
       "          2.46288985e-01,   2.57032752e-01,   2.67338514e-01,\n",
       "          2.77244389e-01,   2.86746502e-01,   2.96166748e-01,\n",
       "          3.05141807e-01,   3.13803732e-01,   3.22089851e-01,\n",
       "          3.29959750e-01,   3.37234974e-01,   3.44003648e-01,\n",
       "          3.50275040e-01,   3.56208146e-01,   3.61884087e-01,\n",
       "          3.67342323e-01,   3.72773737e-01,   3.77940863e-01,\n",
       "          3.83068264e-01,   3.88270944e-01,   3.93602163e-01,\n",
       "          3.99000883e-01,   4.04671520e-01,   4.10714924e-01,\n",
       "          4.17162180e-01,   4.24113005e-01,   4.31571782e-01,\n",
       "          4.39656198e-01,   4.48414505e-01,   4.57537413e-01,\n",
       "          4.67176914e-01,   4.77429658e-01,   4.87911284e-01,\n",
       "          4.98639256e-01,   5.09772539e-01,   5.21224737e-01,\n",
       "          5.32656014e-01,   5.44376969e-01,   5.56146383e-01,\n",
       "          5.68128049e-01,   5.79987466e-01,   5.91823459e-01,\n",
       "          6.03764772e-01,   6.15768731e-01,   6.27643645e-01,\n",
       "          6.39791727e-01,   6.52377903e-01,   6.65012836e-01,\n",
       "          6.77893460e-01,   6.90905333e-01,   7.04260230e-01,\n",
       "          7.17442632e-01,   7.30744064e-01,   7.44006395e-01,\n",
       "          7.57417500e-01,   7.70614028e-01,   7.83766031e-01],\n",
       "       [ -4.44573397e-03,  -4.44384431e-03,  -4.42455243e-03,\n",
       "         -4.41204011e-03,  -4.41242335e-03,  -4.40042978e-03,\n",
       "         -4.33606235e-03,  -4.08853451e-03,  -3.78026860e-03,\n",
       "         -3.56896734e-03,  -3.55821475e-03,  -3.76110664e-03,\n",
       "         -4.01033834e-03,  -4.23679128e-03,  -4.49598394e-03,\n",
       "         -4.78146132e-03,  -5.01814904e-03,  -5.25764935e-03,\n",
       "         -5.50713716e-03,  -5.74781746e-03,  -5.98825142e-03,\n",
       "         -6.21937541e-03,  -6.44705724e-03,  -6.64534885e-03,\n",
       "         -6.80644158e-03,  -6.91120839e-03,  -6.99810497e-03,\n",
       "         -6.99826516e-03,  -6.85677957e-03,  -6.37325831e-03,\n",
       "         -5.40950149e-03,  -3.94668151e-03,  -2.00595777e-03,\n",
       "          2.89482705e-04,   3.08776647e-03,   6.23621652e-03,\n",
       "          9.90003161e-03,   1.41070560e-02,   1.90149862e-02,\n",
       "          2.43532602e-02,   3.02128904e-02,   3.65791060e-02,\n",
       "          4.35504504e-02,   5.09830453e-02,   5.91772050e-02,\n",
       "          6.82125613e-02,   7.79616237e-02,   8.83889645e-02,\n",
       "          9.93416980e-02,   1.11087926e-01,   1.23411722e-01,\n",
       "          1.36383519e-01,   1.49708599e-01,   1.63703397e-01,\n",
       "          1.77995101e-01,   1.92912519e-01,   2.08507881e-01,\n",
       "          2.25052863e-01,   2.41825730e-01,   2.59114981e-01,\n",
       "          2.76821166e-01,   2.95410633e-01,   3.14179152e-01,\n",
       "          3.33357096e-01,   3.53327662e-01,   3.73554170e-01,\n",
       "          3.94359678e-01,   4.15797919e-01,   4.38026249e-01,\n",
       "          4.60359365e-01,   4.83183116e-01,   5.06403327e-01,\n",
       "          5.30471146e-01,   5.54536164e-01,   5.79171658e-01,\n",
       "          6.04213059e-01,   6.30170584e-01,   6.56207204e-01,\n",
       "          6.82700276e-01,   7.09974825e-01,   7.37368524e-01,\n",
       "          7.65175104e-01,   7.93495357e-01,   8.22663963e-01,\n",
       "          8.51985753e-01,   8.81759584e-01,   9.11948442e-01,\n",
       "          9.43080485e-01,   9.74207997e-01,   1.00577295e+00,\n",
       "          1.03771579e+00,   1.07063484e+00,   1.10349226e+00,\n",
       "          1.13666642e+00,   1.17074621e+00,   1.20466077e+00,\n",
       "          1.23901784e+00,   1.27364993e+00,   1.30924177e+00,\n",
       "          1.34468210e+00,   1.38039374e+00,   1.41655600e+00,\n",
       "          1.45359886e+00,   1.49046826e+00,   1.52772856e+00,\n",
       "          1.56526577e+00,   1.60369170e+00,   1.64196479e+00,\n",
       "          1.68054438e+00,   1.72013807e+00,   1.75947893e+00,\n",
       "          1.79913676e+00,   1.83914661e+00,   1.88012171e+00,\n",
       "          1.92081594e+00,   1.96188879e+00,   2.00349331e+00,\n",
       "          2.04594636e+00,   2.08809757e+00,   2.13070464e+00],\n",
       "       [ -2.44305795e-03,  -2.41749082e-03,  -2.44057481e-03,\n",
       "         -2.44154409e-03,  -2.44739209e-03,  -2.45517190e-03,\n",
       "         -2.42921710e-03,  -2.35888408e-03,  -2.24678987e-03,\n",
       "         -2.01903377e-03,  -1.66767964e-03,  -1.25059404e-03,\n",
       "         -8.22721748e-04,  -3.16765509e-04,   2.07413686e-04,\n",
       "          7.80535396e-04,   1.34916964e-03,   1.89757871e-03,\n",
       "          2.57457118e-03,   3.28986463e-03,   4.02380945e-03,\n",
       "          4.81000450e-03,   5.70789864e-03,   6.64548343e-03,\n",
       "          7.62203475e-03,   8.68703611e-03,   9.88601241e-03,\n",
       "          1.11546740e-02,   1.23096304e-02,   1.30519848e-02,\n",
       "          1.30528640e-02,   1.24167185e-02,   1.12373419e-02,\n",
       "          9.64639150e-03,   7.60738784e-03,   5.10765519e-03,\n",
       "          1.99884269e-03,  -1.73257384e-03,  -6.24770811e-03,\n",
       "         -1.13799376e-02,  -1.70248598e-02,  -2.32537854e-02,\n",
       "         -3.00557669e-02,  -3.72887738e-02,  -4.51625362e-02,\n",
       "         -5.37084229e-02,  -6.29909933e-02,  -7.29081333e-02,\n",
       "         -8.32866579e-02,  -9.43765938e-02,  -1.05971955e-01,\n",
       "         -1.18290193e-01,  -1.31140396e-01,  -1.44539952e-01,\n",
       "         -1.58202335e-01,  -1.72046050e-01,  -1.86116055e-01,\n",
       "         -2.00587615e-01,  -2.14902997e-01,  -2.29328632e-01,\n",
       "         -2.43835792e-01,  -2.58545876e-01,  -2.73107201e-01,\n",
       "         -2.87600935e-01,  -3.02172244e-01,  -3.16481948e-01,\n",
       "         -3.31003100e-01,  -3.45748156e-01,  -3.61001462e-01,\n",
       "         -3.76497000e-01,  -3.92339647e-01,  -4.08779323e-01,\n",
       "         -4.25919563e-01,  -4.43643957e-01,  -4.62084085e-01,\n",
       "         -4.81118560e-01,  -5.01203299e-01,  -5.21504104e-01,\n",
       "         -5.42322576e-01,  -5.63794613e-01,  -5.85246682e-01,\n",
       "         -6.07072532e-01,  -6.29121542e-01,  -6.51999891e-01,\n",
       "         -6.74922526e-01,  -6.98118150e-01,  -7.21765518e-01,\n",
       "         -7.46188223e-01,  -7.70632327e-01,  -7.95448542e-01,\n",
       "         -8.20472360e-01,  -8.46295178e-01,  -8.72015595e-01,\n",
       "         -8.97924721e-01,  -9.24314082e-01,  -9.50377345e-01,\n",
       "         -9.76462662e-01,  -1.00294721e+00,  -1.03002298e+00,\n",
       "         -1.05718160e+00,  -1.08465290e+00,  -1.11241996e+00,\n",
       "         -1.14073646e+00,  -1.16891658e+00,  -1.19721949e+00,\n",
       "         -1.22576690e+00,  -1.25490308e+00,  -1.28362882e+00,\n",
       "         -1.31251967e+00,  -1.34158611e+00,  -1.37032330e+00,\n",
       "         -1.39863634e+00,  -1.42706871e+00,  -1.45568848e+00,\n",
       "         -1.48364103e+00,  -1.51143265e+00,  -1.53888237e+00,\n",
       "         -1.56658685e+00,  -1.59337652e+00,  -1.61967635e+00]])"
      ]
     },
     "execution_count": 11,
     "metadata": {},
     "output_type": "execute_result"
    }
   ],
   "source": [
    "sim.compute_cog(verbose=False)"
   ]
  },
  {
   "cell_type": "code",
   "execution_count": 8,
   "metadata": {},
   "outputs": [
    {
     "data": {
      "application/vnd.jupyter.widget-view+json": {
       "model_id": "c0b67bbb590f4524b8bb1ff88655d367",
       "version_major": 2,
       "version_minor": 0
      },
      "text/html": [
       "<p>Failed to display Jupyter Widget of type <code>VBox</code>.</p>\n",
       "<p>\n",
       "  If you're reading this message in the Jupyter Notebook or JupyterLab Notebook, it may mean\n",
       "  that the widgets JavaScript is still loading. If this message persists, it\n",
       "  likely means that the widgets JavaScript library is either not installed or\n",
       "  not enabled. See the <a href=\"https://ipywidgets.readthedocs.io/en/stable/user_install.html\">Jupyter\n",
       "  Widgets Documentation</a> for setup instructions.\n",
       "</p>\n",
       "<p>\n",
       "  If you're reading this message in another frontend (for example, a static\n",
       "  rendering on GitHub or <a href=\"https://nbviewer.jupyter.org/\">NBViewer</a>),\n",
       "  it may mean that your frontend doesn't currently support widgets.\n",
       "</p>\n"
      ],
      "text/plain": [
       "VBox(children=(HBox(children=(VBox(children=(IntSlider(value=0, continuous_update=False, description='Snap:', max=119), Checkbox(value=False, description='Velocity projection'), Checkbox(value=True, description='SFH'), Checkbox(value=True, description='COG traj.'))), VBox(children=(FloatRangeSlider(value=(0.0005, 0.2), continuous_update=False, description='Rho:', max=0.2, min=0.0005, readout_format='1.0e', step=1e-05), IntSlider(value=20, continuous_update=False, description='Width (kpc):', max=1000, min=5, step=10), FloatSlider(value=1.0, continuous_update=False, description='Starsize. (kpc):', max=1000.0, min=0.1), IntSlider(value=200, continuous_update=False, description='Resol. (pix):', max=1000, min=100, step=100)))), layout=Layout(display='flex', width='150%')), Output()))"
      ]
     },
     "metadata": {},
     "output_type": "display_data"
    }
   ],
   "source": [
    "sim.interact()"
   ]
  },
  {
   "cell_type": "code",
   "execution_count": null,
   "metadata": {},
   "outputs": [],
   "source": []
  }
 ],
 "metadata": {
  "kernelspec": {
   "display_name": "Python 3",
   "language": "python",
   "name": "python3"
  },
  "language_info": {
   "codemirror_mode": {
    "name": "ipython",
    "version": 3
   },
   "file_extension": ".py",
   "mimetype": "text/x-python",
   "name": "python",
   "nbconvert_exporter": "python",
   "pygments_lexer": "ipython3",
   "version": "3.6.4"
  }
 },
 "nbformat": 4,
 "nbformat_minor": 2
}
