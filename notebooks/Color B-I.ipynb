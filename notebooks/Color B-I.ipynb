{
 "cells": [
  {
   "cell_type": "markdown",
   "metadata": {},
   "source": [
    "# Stellar color (B-I)"
   ]
  },
  {
   "cell_type": "code",
   "execution_count": 1,
   "metadata": {},
   "outputs": [],
   "source": [
    "import pynbody\n",
    "import numpy as np\n",
    "import matplotlib\n",
    "import matplotlib.pyplot as plt\n",
    "from pynbody.plot.stars import convert_to_mag_arcsec2\n",
    "from pynbody.derived import lum_den_template"
   ]
  },
  {
   "cell_type": "code",
   "execution_count": 2,
   "metadata": {},
   "outputs": [],
   "source": [
    "snap = \"/home/michele/sim/MoRIA/M1-10_Verbeke2017/M10sim41001/snapshot_0036\""
   ]
  },
  {
   "cell_type": "code",
   "execution_count": 3,
   "metadata": {},
   "outputs": [],
   "source": [
    "s = pynbody.load(snap)"
   ]
  },
  {
   "cell_type": "code",
   "execution_count": 4,
   "metadata": {},
   "outputs": [],
   "source": [
    "pynbody.analysis.halo.center(s.g, vel=False);"
   ]
  },
  {
   "cell_type": "code",
   "execution_count": 5,
   "metadata": {},
   "outputs": [
    {
     "data": {
      "text/plain": [
       "((140168,), NoUnit())"
      ]
     },
     "execution_count": 5,
     "metadata": {},
     "output_type": "execute_result"
    }
   ],
   "source": [
    "mags = pynbody.analysis.luminosity.calc_mags(s.s)\n",
    "mags.shape, mags.units"
   ]
  },
  {
   "cell_type": "code",
   "execution_count": 6,
   "metadata": {},
   "outputs": [],
   "source": [
    "import pynbody\n",
    "import numpy as np\n",
    "import matplotlib.pyplot as plt\n",
    "from pynbody.plot.stars import convert_to_mag_arcsec2\n",
    "from pynbody.derived import lum_den_template\n",
    "from scipy.ndimage.filters import gaussian_filter\n",
    "\n",
    "def kpc2pix(qty_kpc, width, resolution):\n",
    "    kpc_per_pixel = width/resolution\n",
    "    return int(np.floor(qty_kpc/kpc_per_pixel))\n",
    "\n",
    "def my_convert_to_mag_arcsec2(image):\n",
    "    assert image.units==\"pc^-2\"\n",
    "    pc2_to_sqarcsec = 2.3504430539466191e-09\n",
    "    img_mag_arcsec2 = -2.5 * np.log10(image * pc2_to_sqarcsec)\n",
    "    img_mag_arcsec2.units = pynbody.units.arcsec**-2\n",
    "    return img_mag_arcsec2\n",
    "\n",
    "def color_plot(snap, bands=('b','i'), width=10, resolution=500, mag_filter=29, \n",
    "               center=False, title=None, gaussian_sigma=None, cmap_name='seismic', **kwargs):\n",
    "    \"\"\"\n",
    "    Plot the color as defined by the tuple `bands`\n",
    "    \n",
    "    Parameters\n",
    "    ----------\n",
    "\n",
    "    gaussian_sigma: in kpc is the sigma of the gaussian to convolve with the image, to make it more realistic\n",
    "    \n",
    "    mag_filter: all region with magnitude/arcsec^2 higher will be set to NaN\n",
    "    \"\"\"\n",
    "    if center:\n",
    "        pynbody.analysis.halo.center(snap.s, vel=False);\n",
    "    \n",
    "    # create color\n",
    "    assert len(bands) == 2\n",
    "    color_name = '{}-{}'.format(*bands)\n",
    "    snap.s['{}_mag'.format(color_name)] = snap.s['{}_mag'.format(bands[0])] - snap.s['{}_mag'.format(bands[1])]    \n",
    "    snap.s['{}_lum_den'.format(color_name)] = lum_den_template(color_name, snap.s)\n",
    "    \n",
    "    # plot color in 10^(-0.4) mag per unit surface\n",
    "    color_pc2 = pynbody.plot.sph.image(snap.s, qty=color_name + '_lum_den', units='pc^-2', noplot=True, width=width, log=False, resolution=resolution, **kwargs)\n",
    "    \n",
    "    # convert to mag/arcsec**2\n",
    "    color_mag_arcsec2 = my_convert_to_mag_arcsec2(color_pc2)\n",
    "    \n",
    "    if gaussian_sigma is not None:\n",
    "        sigma_pix = kpc2pix(gaussian_sigma, width, resolution)\n",
    "        color_mag_arcsec2 = gaussian_filter(color_mag_arcsec2, sigma_pix)\n",
    "        \n",
    "    # Filter below a certain magnitude\n",
    "    if mag_filter is not None:\n",
    "        color_mag_arcsec2[color_mag_arcsec2 > mag_filter] = np.nan\n",
    "    fig, ax = plt.subplots(1)\n",
    "    cmap = plt.get_cmap(cmap_name)\n",
    "    cmap.set_bad('black')\n",
    "    img = ax.imshow(color_mag_arcsec2, cmap=cmap, extent=(-width/2, width/2, -width/2, width/2))\n",
    "    cbar = fig.colorbar(img);\n",
    "    ax.set_xlabel('x/kpc')\n",
    "    ax.set_ylabel('y/kpc')\n",
    "    if title is not None:\n",
    "        ax.set_title(title)\n",
    "    cbar.set_label('{} [mag/arcsec$^2$]'.format(color_name.upper()));\n",
    "    plt.show()"
   ]
  },
  {
   "cell_type": "code",
   "execution_count": 7,
   "metadata": {},
   "outputs": [],
   "source": [
    "s.properties['boxsize'] = pynbody.units.Unit(\"1000 Gpc\")"
   ]
  },
  {
   "cell_type": "code",
   "execution_count": 8,
   "metadata": {},
   "outputs": [
    {
     "data": {
      "image/png": "[encoded data removed]",
      "text/plain": [
       "<Figure size 432x288 with 2 Axes>"
      ]
     },
     "metadata": {},
     "output_type": "display_data"
    }
   ],
   "source": [
    "color_plot(s, width=5, bands=('b', 'i'), gaussian_sigma=0.05)"
   ]
  },
  {
   "cell_type": "markdown",
   "metadata": {},
   "source": [
    "# Test step by step"
   ]
  },
  {
   "cell_type": "code",
   "execution_count": 9,
   "metadata": {},
   "outputs": [],
   "source": [
    "width = 6\n",
    "resolution = 500"
   ]
  },
  {
   "cell_type": "markdown",
   "metadata": {},
   "source": [
    "luminosity density is in unit: 10^(-0.4) mag per unit volume, and it is defined as:"
   ]
  },
  {
   "cell_type": "markdown",
   "metadata": {},
   "source": [
    "```\n",
    "val = (10 ** (-0.4 * s[band + \"_mag\"])) * s['rho'] / s['mass']\n",
    "val.units = s['rho'].units/s['mass'].units\n",
    "return val\n",
    "```"
   ]
  },
  {
   "cell_type": "markdown",
   "metadata": {},
   "source": [
    "To use `lum_den` it is needed to end the magnitude with mag."
   ]
  },
  {
   "cell_type": "code",
   "execution_count": 10,
   "metadata": {},
   "outputs": [],
   "source": [
    "s.s['b-i_mag'] = s.s['b_mag'] - s.s['i_mag']"
   ]
  },
  {
   "cell_type": "code",
   "execution_count": 11,
   "metadata": {},
   "outputs": [
    {
     "data": {
      "text/plain": [
       "SimArray([1.64398415, 1.64407435, 1.64217338, ..., 1.63853817, 1.63850947,\n",
       "          1.64663266])"
      ]
     },
     "execution_count": 11,
     "metadata": {},
     "output_type": "execute_result"
    }
   ],
   "source": [
    "s.s['b-i_mag']"
   ]
  },
  {
   "cell_type": "code",
   "execution_count": 12,
   "metadata": {},
   "outputs": [
    {
     "data": {
      "text/plain": [
       "SimArray([9.82393057e-10, 2.53433266e-09, 1.63902388e-07, ...,\n",
       "          1.19745574e-10, 1.06338103e-10, 5.03714928e-11], 'kpc**-3')"
      ]
     },
     "execution_count": 12,
     "metadata": {},
     "output_type": "execute_result"
    }
   ],
   "source": [
    "s.s['b-i_lum_den'] = lum_den_template('b-i', s.s)\n",
    "s.s['b-i_lum_den']"
   ]
  },
  {
   "cell_type": "code",
   "execution_count": 13,
   "metadata": {},
   "outputs": [
    {
     "data": {
      "image/png": "[encoded data removed]",
      "text/plain": [
       "<Figure size 432x288 with 2 Axes>"
      ]
     },
     "metadata": {},
     "output_type": "display_data"
    }
   ],
   "source": [
    "bmi_pc2 = pynbody.plot.sph.image(s.s, qty='b-i_lum_den', units='pc^-2', width=width, log=False, resolution=resolution)"
   ]
  },
  {
   "cell_type": "code",
   "execution_count": 14,
   "metadata": {},
   "outputs": [
    {
     "data": {
      "text/plain": [
       "SimArray([[2.9201803e-05, 2.9403289e-05, 2.9604777e-05, ...,\n",
       "           3.8509133e-05, 3.8298916e-05, 3.8088700e-05],\n",
       "          [2.9257153e-05, 2.9455619e-05, 2.9654086e-05, ...,\n",
       "           3.8435901e-05, 3.8227237e-05, 3.8018574e-05],\n",
       "          [2.9312501e-05, 2.9507948e-05, 2.9703398e-05, ...,\n",
       "           3.8362672e-05, 3.8155555e-05, 3.7948445e-05],\n",
       "          ...,\n",
       "          [6.5602399e-05, 6.6646549e-05, 6.7690700e-05, ...,\n",
       "           1.9262869e-05, 1.9048828e-05, 1.8834793e-05],\n",
       "          [6.5390697e-05, 6.6436151e-05, 6.7481596e-05, ...,\n",
       "           1.9257650e-05, 1.9046380e-05, 1.8835110e-05],\n",
       "          [6.5178989e-05, 6.6225744e-05, 6.7272493e-05, ...,\n",
       "           1.9252431e-05, 1.9043928e-05, 1.8835426e-05]], dtype=float32, 'pc**-2')"
      ]
     },
     "execution_count": 14,
     "metadata": {},
     "output_type": "execute_result"
    }
   ],
   "source": [
    "bmi_pc2"
   ]
  },
  {
   "cell_type": "code",
   "execution_count": 15,
   "metadata": {},
   "outputs": [],
   "source": [
    "def my_convert_to_mag_arcsec2(image):\n",
    "    assert image.units==\"pc^-2\"\n",
    "    pc2_to_sqarcsec = 2.3504430539466191e-09\n",
    "    img_mag_arcsec2 = -2.5 * np.log10(image * pc2_to_sqarcsec)\n",
    "    img_mag_arcsec2.units = pynbody.units.arcsec**-2\n",
    "    return img_mag_arcsec2"
   ]
  },
  {
   "cell_type": "code",
   "execution_count": 16,
   "metadata": {},
   "outputs": [
    {
     "data": {
      "text/plain": [
       "Unit(\"pc arcsec**-1\")"
      ]
     },
     "execution_count": 16,
     "metadata": {},
     "output_type": "execute_result"
    }
   ],
   "source": [
    "pynbody.units.pc/pynbody.units.arcsec"
   ]
  },
  {
   "cell_type": "code",
   "execution_count": 17,
   "metadata": {},
   "outputs": [
    {
     "data": {
      "text/plain": [
       "SimArray([[32.9086  , 32.90114 , 32.893723, ..., 32.608215, 32.61416 ,\n",
       "           32.620132],\n",
       "          [32.906548, 32.899204, 32.891914, ..., 32.610283, 32.61619 ,\n",
       "           32.62214 ],\n",
       "          [32.904495, 32.897278, 32.89011 , ..., 32.612354, 32.618233,\n",
       "           32.624138],\n",
       "          ...,\n",
       "          [32.029827, 32.01268 , 31.995804, ..., 33.360325, 33.372456,\n",
       "           33.384724],\n",
       "          [32.033337, 32.016113, 31.99916 , ..., 33.36062 , 33.372597,\n",
       "           33.384705],\n",
       "          [32.036858, 32.019558, 32.002533, ..., 33.360912, 33.372734,\n",
       "           33.38469 ]], dtype=float32, 'arcsec**-2')"
      ]
     },
     "execution_count": 17,
     "metadata": {},
     "output_type": "execute_result"
    }
   ],
   "source": [
    "# s.s['bmi_mag_arcsec2'] = my_convert_to_mag_arcsec2(bmi_pc2)\n",
    "bmi_mag_arcsec2 = my_convert_to_mag_arcsec2(bmi_pc2)\n",
    "bmi_mag_arcsec2"
   ]
  },
  {
   "cell_type": "code",
   "execution_count": 18,
   "metadata": {},
   "outputs": [
    {
     "data": {
      "image/png": "[encoded data removed]",
      "text/plain": [
       "<Figure size 432x288 with 2 Axes>"
      ]
     },
     "metadata": {},
     "output_type": "display_data"
    }
   ],
   "source": [
    "bmi_mag_arcsec2[bmi_mag_arcsec2 > 29] = np.nan\n",
    "fig, ax = plt.subplots(1)\n",
    "cmap = matplotlib.cm.seismic\n",
    "cmap.set_bad('black')\n",
    "img = ax.imshow(bmi_mag_arcsec2, cmap=cmap, extent=(-width/2, width/2, -width/2, width/2))\n",
    "cbar = fig.colorbar(img);\n",
    "\n",
    "cbar.set_label('B-I [mag/arcsec$^2$]');"
   ]
  },
  {
   "cell_type": "code",
   "execution_count": null,
   "metadata": {},
   "outputs": [],
   "source": []
  },
  {
   "cell_type": "markdown",
   "metadata": {},
   "source": [
    "# Try with a real simulation"
   ]
  },
  {
   "cell_type": "code",
   "execution_count": 19,
   "metadata": {},
   "outputs": [],
   "source": [
    "import simulation"
   ]
  },
  {
   "cell_type": "code",
   "execution_count": 20,
   "metadata": {},
   "outputs": [],
   "source": [
    "SIMPATH = '/media/michele/My Book/Michele/MySimulations/MovingBox/hi_osc/mb.71002_p500_a800_r600/out'"
   ]
  },
  {
   "cell_type": "code",
   "execution_count": 21,
   "metadata": {},
   "outputs": [
    {
     "name": "stderr",
     "output_type": "stream",
     "text": [
      "loading simulation: /media/michele/My Book/Michele/MySimulations/MovingBox/hi_osc/mb.71002_p500_a800_r600/out\n",
      "Found parameter file\n",
      "Found compiler file\n",
      "Loading cosmological parameters\n",
      "Found trace file\n"
     ]
    }
   ],
   "source": [
    "sim = simulation.Simulation(SIMPATH)"
   ]
  },
  {
   "cell_type": "code",
   "execution_count": 22,
   "metadata": {},
   "outputs": [
    {
     "data": {
      "application/vnd.jupyter.widget-view+json": {
       "model_id": "4b239398ee814c229c3dc7dd312d3461",
       "version_major": 2,
       "version_minor": 0
      },
      "text/plain": [
       "interactive(children=(IntSlider(value=0, continuous_update=False, description='Snap:', max=562), Output()), _d…"
      ]
     },
     "metadata": {},
     "output_type": "display_data"
    }
   ],
   "source": [
    "import ipywidgets\n",
    "\n",
    "snap_slider = ipywidgets.IntSlider(min=0,max=len(sim)-1,step=1,value=0, continuous_update=False, description='Snap:')\n",
    "\n",
    "def k(i):\n",
    "    snap = sim[i]\n",
    "    print(len(snap.s))\n",
    "    color_plot(snap, width=20, title='{:.2f}'.format(snap.header.time), center=True, mag_filter=32)\n",
    "\n",
    "w = ipywidgets.interactive(k, i=snap_slider)\n",
    "w"
   ]
  }
 ],
 "metadata": {
  "kernelspec": {
   "display_name": "Python 3",
   "language": "python",
   "name": "python3"
  },
  "language_info": {
   "codemirror_mode": {
    "name": "ipython",
    "version": 3
   },
   "file_extension": ".py",
   "mimetype": "text/x-python",
   "name": "python",
   "nbconvert_exporter": "python",
   "pygments_lexer": "ipython3",
   "version": "3.6.4"
  }
 },
 "nbformat": 4,
 "nbformat_minor": 2
}
