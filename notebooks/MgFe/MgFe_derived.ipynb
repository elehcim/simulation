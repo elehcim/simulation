{
 "cells": [
  {
   "cell_type": "code",
   "execution_count": 1,
   "metadata": {},
   "outputs": [
    {
     "name": "stderr",
     "output_type": "stream",
     "text": [
      "pynbody : Verbose mode is on\n"
     ]
    }
   ],
   "source": [
    "import os\n",
    "import simulation\n",
    "import pynbody\n",
    "import pandas as pd\n",
    "import matplotlib.pylab as plt\n",
    "import numpy as np\n",
    "import ipywidgets"
   ]
  },
  {
   "cell_type": "code",
   "execution_count": 2,
   "metadata": {},
   "outputs": [],
   "source": [
    "@pynbody.derived_array\n",
    "def thricethemass(sim):\n",
    "    return sim['mass']*3"
   ]
  },
  {
   "cell_type": "code",
   "execution_count": 3,
   "metadata": {},
   "outputs": [],
   "source": [
    "SIMPATH = '/media/michele/My Book/Michele/MySimulations/MovingBox/beta/mb.71002/p300_a800_r600/out'"
   ]
  },
  {
   "cell_type": "code",
   "execution_count": 4,
   "metadata": {},
   "outputs": [
    {
     "name": "stderr",
     "output_type": "stream",
     "text": [
      "pynbody.snapshot : Loading using backend <class 'pynbody.snapshot.gadget.GadgetSnap'>\n"
     ]
    }
   ],
   "source": [
    "# sim = simulation.Simulation(SIMPATH)\n",
    "snap = pynbody.load(os.path.join(SIMPATH, 'snapshot_0012'))"
   ]
  },
  {
   "cell_type": "code",
   "execution_count": 5,
   "metadata": {},
   "outputs": [
    {
     "data": {
      "text/plain": [
       "<SimSnap \"/media/michele/My Book/Michele/MySimulations/MovingBox/beta/mb.71002/p300_a800_r600/out/snapshot_0012\" len=456942>"
      ]
     },
     "execution_count": 5,
     "metadata": {},
     "output_type": "execute_result"
    }
   ],
   "source": [
    "snap"
   ]
  },
  {
   "cell_type": "code",
   "execution_count": 6,
   "metadata": {},
   "outputs": [
    {
     "data": {
      "text/plain": [
       "(SimArray([  4.52844204e-18,   1.52136531e-17,   0.00000000e+00, ...,\n",
       "             2.52294693e-16,   4.63360849e-13,   0.00000000e+00], dtype=float32),\n",
       " SimArray([  2.78957335e-18,   9.37178925e-18,   0.00000000e+00, ...,\n",
       "             1.55416504e-16,   2.85435710e-13,   0.00000000e+00], dtype=float32))"
      ]
     },
     "execution_count": 6,
     "metadata": {},
     "output_type": "execute_result"
    }
   ],
   "source": [
    "snap.s['mgst'], snap.s['fest']"
   ]
  },
  {
   "cell_type": "code",
   "execution_count": 7,
   "metadata": {},
   "outputs": [],
   "source": [
    "MgFe_sol = -0.261299\n",
    "FeH_sol = -2.756433\n",
    "\n",
    "@pynbody.derived_array\n",
    "def mgfe(snap):\n",
    "    arr = np.log10(snap.s['mgst']/snap.s['fest']) - MgFe_sol\n",
    "    arr = np.log10(snap.s['mgst']/snap.s['fest']) - MgFe_sol\n",
    "    arr[np.logical_or(snap.s['mgst'] == 0.0, snap.s['fest'] == 0.0)] = 0.471782\n",
    "    return arr\n",
    "\n",
    "@pynbody.derived_array\n",
    "def feh(snap):\n",
    "    arr = np.log10(snap.s['fest']/snap.s['mass']) - FeH_sol\n",
    "    arr[np.logical_or(snap.s['fest'] == 0.0, snap.s['mass'] == 0.0)] = -98.0\n",
    "    return arr"
   ]
  },
  {
   "cell_type": "code",
   "execution_count": 8,
   "metadata": {},
   "outputs": [
    {
     "name": "stderr",
     "output_type": "stream",
     "text": [
      "pynbody.snapshot : Deriving array mgfe\n",
      "/home/michele/Software/miniconda3/lib/python3.6/site-packages/pynbody-0.45-py3.6-linux-x86_64.egg/pynbody/array.py:346: RuntimeWarning: invalid value encountered in true_divide\n",
      "  return np.ndarray.__truediv__(self, rhs)\n"
     ]
    },
    {
     "data": {
      "text/plain": [
       "SimArray([ 0.47171003,  0.47171003,  0.471782  , ...,  0.47171003,\n",
       "           0.47171003,  0.471782  ], dtype=float32)"
      ]
     },
     "execution_count": 8,
     "metadata": {},
     "output_type": "execute_result"
    }
   ],
   "source": [
    "snap.s['mgfe']"
   ]
  },
  {
   "cell_type": "code",
   "execution_count": 12,
   "metadata": {},
   "outputs": [
    {
     "data": {
      "text/plain": [
       "SimArray([ -8.62698746,  -8.10058784, -98.        , ...,  -6.8809104 ,\n",
       "           -3.81009722, -98.        ], dtype=float32)"
      ]
     },
     "execution_count": 12,
     "metadata": {},
     "output_type": "execute_result"
    }
   ],
   "source": [
    "snap.s['feh']"
   ]
  },
  {
   "cell_type": "code",
   "execution_count": null,
   "metadata": {},
   "outputs": [],
   "source": []
  }
 ],
 "metadata": {
  "kernelspec": {
   "display_name": "Python 3",
   "language": "python",
   "name": "python3"
  },
  "language_info": {
   "codemirror_mode": {
    "name": "ipython",
    "version": 3
   },
   "file_extension": ".py",
   "mimetype": "text/x-python",
   "name": "python",
   "nbconvert_exporter": "python",
   "pygments_lexer": "ipython3",
   "version": "3.6.4"
  }
 },
 "nbformat": 4,
 "nbformat_minor": 2
}
