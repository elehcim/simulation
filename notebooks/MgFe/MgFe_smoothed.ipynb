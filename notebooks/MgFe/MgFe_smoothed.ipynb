{
 "cells": [
  {
   "cell_type": "code",
   "execution_count": 1,
   "metadata": {},
   "outputs": [
    {
     "name": "stderr",
     "output_type": "stream",
     "text": [
      "pynbody : Verbose mode is on\n"
     ]
    }
   ],
   "source": [
    "import os\n",
    "import simulation\n",
    "import pynbody\n",
    "import pandas as pd\n",
    "import matplotlib.pylab as plt\n",
    "import numpy as np\n",
    "import ipywidgets"
   ]
  },
  {
   "cell_type": "code",
   "execution_count": 2,
   "metadata": {},
   "outputs": [],
   "source": [
    "@pynbody.derived_array\n",
    "def thricethemass(sim):\n",
    "    return sim['mass']*3"
   ]
  },
  {
   "cell_type": "code",
   "execution_count": 3,
   "metadata": {},
   "outputs": [],
   "source": [
    "SIMPATH = '/media/michele/My Book/Michele/MySimulations/MovingBox/beta/mb.71002/p300_a800_r600/out'"
   ]
  },
  {
   "cell_type": "code",
   "execution_count": 4,
   "metadata": {},
   "outputs": [
    {
     "name": "stderr",
     "output_type": "stream",
     "text": [
      "pynbody.snapshot : Loading using backend <class 'pynbody.snapshot.gadget.GadgetSnap'>\n"
     ]
    }
   ],
   "source": [
    "# sim = simulation.Simulation(SIMPATH)\n",
    "snap = pynbody.load(os.path.join(SIMPATH, 'snapshot_0012'))"
   ]
  },
  {
   "cell_type": "code",
   "execution_count": 5,
   "metadata": {},
   "outputs": [
    {
     "data": {
      "text/plain": [
       "<SimSnap \"/media/michele/My Book/Michele/MySimulations/MovingBox/beta/mb.71002/p300_a800_r600/out/snapshot_0012\" len=456942>"
      ]
     },
     "execution_count": 5,
     "metadata": {},
     "output_type": "execute_result"
    }
   ],
   "source": [
    "snap"
   ]
  },
  {
   "cell_type": "code",
   "execution_count": 6,
   "metadata": {},
   "outputs": [
    {
     "data": {
      "text/plain": [
       "(SimArray([  4.52844204e-18,   1.52136531e-17,   0.00000000e+00, ...,\n",
       "             2.52294693e-16,   4.63360849e-13,   0.00000000e+00], dtype=float32),\n",
       " SimArray([  2.78957335e-18,   9.37178925e-18,   0.00000000e+00, ...,\n",
       "             1.55416504e-16,   2.85435710e-13,   0.00000000e+00], dtype=float32))"
      ]
     },
     "execution_count": 6,
     "metadata": {},
     "output_type": "execute_result"
    }
   ],
   "source": [
    "snap.s['mgst'], snap.s['fest']"
   ]
  },
  {
   "cell_type": "markdown",
   "metadata": {},
   "source": [
    "### Use kdtree"
   ]
  },
  {
   "cell_type": "code",
   "execution_count": 7,
   "metadata": {},
   "outputs": [
    {
     "name": "stderr",
     "output_type": "stream",
     "text": [
      "pynbody.snapshot : Deriving array smooth\n",
      "pynbody.sph : Building tree with leafsize=16\n",
      "pynbody.sph : Tree build done in 0.0195 s\n",
      "pynbody.sph : Smoothing with 50 nearest neighbours\n",
      "pynbody.sph : Smoothing done in 0.00623s\n",
      "pynbody.snapshot : Deriving array rho\n",
      "pynbody.sph : Calculating SPH density\n",
      "pynbody.sph : Density calculation done in 0.00504 s\n"
     ]
    },
    {
     "data": {
      "text/plain": [
       "(SimArray([ 10.0372715 ,   9.14416122,   8.6727457 , ...,   9.62159252,\n",
       "            11.22772026,  10.65406036], dtype=float32, 'kpc'),\n",
       " SimArray([  8.33985603e-10,   1.77489012e-09,   2.22782970e-09, ...,\n",
       "             2.00964356e-09,   1.18864785e-09,   1.51096313e-09], dtype=float32, '1.00e+10 Msol kpc**-3'))"
      ]
     },
     "execution_count": 7,
     "metadata": {},
     "output_type": "execute_result"
    }
   ],
   "source": [
    "snap.s['smooth'], snap.s['rho']"
   ]
  },
  {
   "cell_type": "code",
   "execution_count": 8,
   "metadata": {},
   "outputs": [
    {
     "name": "stderr",
     "output_type": "stream",
     "text": [
      "pynbody.sph.kdtree : Smoothing array with 64 nearest neighbours\n",
      "pynbody.sph.kdtree : SPH smooth done in 0.0132 s\n",
      "pynbody.sph.kdtree : Smoothing array with 64 nearest neighbours\n",
      "pynbody.sph.kdtree : SPH smooth done in 0.00834 s\n",
      "pynbody.sph.kdtree : Smoothing array with 64 nearest neighbours\n",
      "pynbody.sph.kdtree : SPH smooth done in 0.0126 s\n"
     ]
    }
   ],
   "source": [
    "snap.s['mgst_sph'] = snap.s.kdtree.sph_mean(snap.s['mgst'])\n",
    "snap.s['fest_sph'] = snap.s.kdtree.sph_mean(snap.s['fest'])\n",
    "snap.s['mass_sph'] = snap.s.kdtree.sph_mean(snap.s['mass'])"
   ]
  },
  {
   "cell_type": "code",
   "execution_count": 9,
   "metadata": {},
   "outputs": [
    {
     "data": {
      "text/plain": [
       "(SimArray(0.0, dtype=float32), SimArray(7.924007006110401e-10, dtype=float32))"
      ]
     },
     "execution_count": 9,
     "metadata": {},
     "output_type": "execute_result"
    }
   ],
   "source": [
    "snap.s['mgst'].min(), snap.s['mgst'].max()"
   ]
  },
  {
   "cell_type": "code",
   "execution_count": 10,
   "metadata": {},
   "outputs": [
    {
     "data": {
      "text/plain": [
       "(SimArray(3.1318712352482734e-18, dtype=float32),\n",
       " SimArray(2.6859664492562274e-10, dtype=float32))"
      ]
     },
     "execution_count": 10,
     "metadata": {},
     "output_type": "execute_result"
    }
   ],
   "source": [
    "snap.s['mgst_sph'].min(), snap.s['mgst_sph'].max()"
   ]
  },
  {
   "cell_type": "code",
   "execution_count": 11,
   "metadata": {},
   "outputs": [
    {
     "data": {
      "image/png": "[encoded data removed]",
      "text/plain": [
       "<matplotlib.figure.Figure at 0x7f84d66be898>"
      ]
     },
     "metadata": {},
     "output_type": "display_data"
    }
   ],
   "source": [
    "plt.hist(snap.s['mgst'], bins=50);"
   ]
  },
  {
   "cell_type": "code",
   "execution_count": 12,
   "metadata": {},
   "outputs": [
    {
     "data": {
      "image/png": "[encoded data removed]",
      "text/plain": [
       "<matplotlib.figure.Figure at 0x7f84ce66eb38>"
      ]
     },
     "metadata": {},
     "output_type": "display_data"
    }
   ],
   "source": [
    "plt.hist(snap.s['mgst_sph'], bins=50);"
   ]
  },
  {
   "cell_type": "markdown",
   "metadata": {},
   "source": [
    "it is smeared out"
   ]
  },
  {
   "cell_type": "markdown",
   "metadata": {},
   "source": [
    "## Trying to see which is the difference between the mass array and the smoothed mass array"
   ]
  },
  {
   "cell_type": "code",
   "execution_count": 13,
   "metadata": {},
   "outputs": [
    {
     "data": {
      "text/plain": [
       "(SimArray([  3.55982735e-07,   5.65056610e-07,   6.71844987e-07, ...,\n",
       "             9.28981365e-07,   6.03464457e-07,   7.35859658e-07], dtype=float32, '1.00e+10 Msol'),\n",
       " SimArray([  6.74464161e-07,   6.74286071e-07,   6.74273224e-07, ...,\n",
       "             6.74280216e-07,   1.05205538e-06,   6.74272655e-07], dtype=float32, '1.00e+10 Msol'))"
      ]
     },
     "execution_count": 13,
     "metadata": {},
     "output_type": "execute_result"
    }
   ],
   "source": [
    "snap.s['mass_sph'], snap.s['mass']"
   ]
  },
  {
   "cell_type": "code",
   "execution_count": 14,
   "metadata": {},
   "outputs": [
    {
     "data": {
      "text/plain": [
       "(SimArray(6.740278877259698e-07, dtype=float32, '1.00e+10 Msol'),\n",
       " SimArray(1.0888942370002042e-06, dtype=float32, '1.00e+10 Msol'))"
      ]
     },
     "execution_count": 14,
     "metadata": {},
     "output_type": "execute_result"
    }
   ],
   "source": [
    "snap.s['mass'].min(), snap.s['mass'].max()"
   ]
  },
  {
   "cell_type": "code",
   "execution_count": 15,
   "metadata": {},
   "outputs": [
    {
     "data": {
      "text/plain": [
       "(SimArray(3.104282200183661e-07, dtype=float32, '1.00e+10 Msol'),\n",
       " SimArray(1.2064042493875604e-06, dtype=float32, '1.00e+10 Msol'))"
      ]
     },
     "execution_count": 15,
     "metadata": {},
     "output_type": "execute_result"
    }
   ],
   "source": [
    "snap.s['mass_sph'].min(), snap.s['mass_sph'].max()"
   ]
  },
  {
   "cell_type": "code",
   "execution_count": 16,
   "metadata": {},
   "outputs": [
    {
     "data": {
      "text/plain": [
       "(SimArray(6.740278877259698e-07, dtype=float32, '1.00e+10 Msol'),\n",
       " SimArray(1.0888942370002042e-06, dtype=float32, '1.00e+10 Msol'))"
      ]
     },
     "execution_count": 16,
     "metadata": {},
     "output_type": "execute_result"
    },
    {
     "data": {
      "image/png": "[encoded data removed]",
      "text/plain": [
       "<matplotlib.figure.Figure at 0x7f84ce5178d0>"
      ]
     },
     "metadata": {},
     "output_type": "display_data"
    }
   ],
   "source": [
    "fig, ax = plt.subplots(1, figsize=(6, 4))\n",
    "ax.scatter(snap.s['mass'], snap.s['mass_sph'])\n",
    "ax.set_ylim(snap.s['mass_sph'].min(), snap.s['mass_sph'].max())\n",
    "ax.set_xlim(snap.s['mass'].min(), snap.s['mass'].max())"
   ]
  },
  {
   "cell_type": "markdown",
   "metadata": {},
   "source": [
    "### Creating derived arrays"
   ]
  },
  {
   "cell_type": "code",
   "execution_count": 17,
   "metadata": {},
   "outputs": [],
   "source": [
    "MgFe_sol = -0.261299\n",
    "FeH_sol = -2.756433\n",
    "\n",
    "@pynbody.derived_array\n",
    "def mgfe(snap):\n",
    "    arr = np.log10(snap.s['mgst_sph']/snap.s['fest_sph']) - MgFe_sol\n",
    "    arr[np.logical_or(snap.s['mgst_sph'] == 0.0, snap.s['fest_sph'] == 0.0)] = 0.471782\n",
    "    return arr\n",
    "\n",
    "@pynbody.derived_array\n",
    "def feh(snap):\n",
    "    arr = np.log10(snap.s['fest_sph']/snap.s['mass_sph']) - FeH_sol\n",
    "    arr[np.logical_or(snap.s['fest_sph'] == 0.0, snap.s['mass_sph'] == 0.0)] = -98.0\n",
    "    return arr"
   ]
  },
  {
   "cell_type": "code",
   "execution_count": 18,
   "metadata": {},
   "outputs": [],
   "source": [
    "# MgFe_sol = -0.261299\n",
    "# FeH_sol = -2.756433\n",
    "\n",
    "# @pynbody.derived_array\n",
    "# def mgfe(snap):\n",
    "#     arr = np.log10(snap.s['mgst']/snap.s['fest']) - MgFe_sol\n",
    "#     arr[np.logical_or(snap.s['mgst'] == 0.0, snap.s['fest'] == 0.0)] = 0.471782\n",
    "#     return arr\n",
    "\n",
    "# @pynbody.derived_array\n",
    "# def feh(snap):\n",
    "#     arr = np.log10(snap.s['fest']/snap.s['mass']) - FeH_sol\n",
    "#     arr[np.logical_or(snap.s['fest'] == 0.0, snap.s['mass'] == 0.0)] = -98.0\n",
    "#     return arr"
   ]
  },
  {
   "cell_type": "code",
   "execution_count": 19,
   "metadata": {},
   "outputs": [
    {
     "name": "stderr",
     "output_type": "stream",
     "text": [
      "pynbody.snapshot : Deriving array feh\n",
      "pynbody.snapshot : Deriving array mgfe\n",
      "pynbody.snapshot : Deriving array age\n"
     ]
    },
    {
     "data": {
      "image/png": "[encoded data removed]",
      "text/plain": [
       "<matplotlib.figure.Figure at 0x7f84ce52bd30>"
      ]
     },
     "metadata": {},
     "output_type": "display_data"
    }
   ],
   "source": [
    "fig, ax = plt.subplots(1, figsize=(6,4))\n",
    "ax.set_xlabel('[Fe/H]')\n",
    "ax.set_ylabel('[Mg/Fe]')\n",
    "scatter = ax.scatter(snap.s['feh'], snap.s['mgfe'], alpha=0.3, s=10, c=snap.s['age'])\n",
    "fig.colorbar(scatter)\n",
    "ax.set_title('time: {:.2f}'.format(snap.header.time));"
   ]
  },
  {
   "cell_type": "code",
   "execution_count": 20,
   "metadata": {},
   "outputs": [
    {
     "name": "stderr",
     "output_type": "stream",
     "text": [
      "/home/michele/Software/miniconda3/lib/python3.6/site-packages/matplotlib/contour.py:967: UserWarning: The following kwargs were not used by contour: 'xlabel', 'ylabel'\n",
      "  s)\n"
     ]
    },
    {
     "data": {
      "image/png": "[encoded data removed]",
      "text/plain": [
       "<matplotlib.figure.Figure at 0x7f84cd40f828>"
      ]
     },
     "metadata": {},
     "output_type": "display_data"
    }
   ],
   "source": [
    "pynbody.plot.generic.hist2d(snap.s['feh'], snap.s['mgfe'], xlabel='[FeH]', ylabel='[MgFe]', colorbar=True);"
   ]
  },
  {
   "cell_type": "code",
   "execution_count": 22,
   "metadata": {},
   "outputs": [
    {
     "name": "stderr",
     "output_type": "stream",
     "text": [
      "Found trace file\n"
     ]
    }
   ],
   "source": [
    "sim = simulation.Simulation(SIMPATH)"
   ]
  },
  {
   "cell_type": "code",
   "execution_count": 23,
   "metadata": {},
   "outputs": [],
   "source": [
    "from pynbody import filt\n",
    "popIII_filt = filt.BandPass('feh', -5, 100)"
   ]
  },
  {
   "cell_type": "code",
   "execution_count": 26,
   "metadata": {},
   "outputs": [
    {
     "data": {
      "application/vnd.jupyter.widget-view+json": {
       "model_id": "717fc17b4c834473ae108bc73df30561",
       "version_major": 2,
       "version_minor": 0
      },
      "text/plain": [
       "interactive(children=(IntSlider(value=0, continuous_update=False, description='Snap:', max=446), Output()), _d…"
      ]
     },
     "metadata": {},
     "output_type": "display_data"
    }
   ],
   "source": [
    "snap_slider = ipywidgets.IntSlider(min=0,max=len(sim)-1,step=1,value=0, continuous_update=False, description='Snap:')\n",
    "def k(i):\n",
    "    snap = sim[i].s\n",
    "#     snap.s['mgfe'] = mgfe(snap)\n",
    "#     snap.s['feh'] = feh(snap)\n",
    "    \n",
    "    subsnap = snap[popIII_filt]\n",
    "    # I need to initialize these two\n",
    "    subsnap.s['smooth'], subsnap.s['rho']\n",
    "    \n",
    "    subsnap.s['mgst_sph'] = snap.s.kdtree.sph_mean(subsnap.s['mgst'])\n",
    "    subsnap.s['fest_sph'] = snap.s.kdtree.sph_mean(subsnap.s['fest'])\n",
    "    subsnap.s['mass_sph'] = snap.s.kdtree.sph_mean(subsnap.s['mass'])\n",
    "#     snap.s['mgfe'] = np.log10(snap.s['mgst']/snap.s['fest']) - MgFe_sol\n",
    "#     snap.s['feh'] = np.log10(snap.s['fest']/snap.s['mass']) - FeH_sol\n",
    "\n",
    "    fig, ax = plt.subplots(1, figsize=(6,4))\n",
    "    ax.set_xlabel('[Fe/H]')\n",
    "    ax.set_ylabel('[Mg/Fe]')\n",
    "    scatter = ax.scatter(subsnap.s['feh'], subsnap.s['mgfe'], alpha=0.3, s=10, c=subsnap.s['age'])\n",
    "    fig.colorbar(scatter)\n",
    "    ax.set_title('time: {:.2f}'.format(snap.header.time));\n",
    "    return fig\n",
    "\n",
    "w = ipywidgets.interactive(k, i=snap_slider)\n",
    "#                         velocity_proj=_proj,\n",
    "#                         sfh=_sfh,\n",
    "#                         cog=_traj,\n",
    "#                         vrange=_vminmax,\n",
    "#                         width=_width_slider,\n",
    "#                         resolution=_res_slider)\n",
    "w"
   ]
  },
  {
   "cell_type": "code",
   "execution_count": null,
   "metadata": {},
   "outputs": [],
   "source": []
  }
 ],
 "metadata": {
  "kernelspec": {
   "display_name": "Python 3",
   "language": "python",
   "name": "python3"
  },
  "language_info": {
   "codemirror_mode": {
    "name": "ipython",
    "version": 3
   },
   "file_extension": ".py",
   "mimetype": "text/x-python",
   "name": "python",
   "nbconvert_exporter": "python",
   "pygments_lexer": "ipython3",
   "version": "3.6.4"
  }
 },
 "nbformat": 4,
 "nbformat_minor": 2
}
