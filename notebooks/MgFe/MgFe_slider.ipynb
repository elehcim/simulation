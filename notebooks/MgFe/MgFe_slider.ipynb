{
 "cells": [
  {
   "cell_type": "code",
   "execution_count": 1,
   "metadata": {},
   "outputs": [
    {
     "name": "stderr",
     "output_type": "stream",
     "text": [
      "pynbody : Verbose mode is on\n"
     ]
    }
   ],
   "source": [
    "import os\n",
    "import simulation\n",
    "import pynbody\n",
    "import pandas as pd\n",
    "import matplotlib.pylab as plt\n",
    "import numpy as np\n",
    "import ipywidgets"
   ]
  },
  {
   "cell_type": "code",
   "execution_count": 2,
   "metadata": {},
   "outputs": [],
   "source": [
    "SIMPATH = '/media/michele/My Book/Michele/MySimulations/MovingBox/beta/mb.71002/p300_a800_r600/out'"
   ]
  },
  {
   "cell_type": "markdown",
   "metadata": {},
   "source": [
    "### Creating derived arrays"
   ]
  },
  {
   "cell_type": "code",
   "execution_count": 3,
   "metadata": {},
   "outputs": [],
   "source": [
    "MgFe_sol = -0.261299\n",
    "FeH_sol = -2.756433\n",
    "\n",
    "@pynbody.derived_array\n",
    "def mgfe(snap):\n",
    "    arr = np.log10(snap.s['mgst_sph']/snap.s['fest_sph']) - MgFe_sol\n",
    "    arr[np.logical_or(snap.s['mgst_sph'] == 0.0, snap.s['fest_sph'] == 0.0)] = 0.471782\n",
    "    return arr\n",
    "\n",
    "@pynbody.derived_array\n",
    "def feh(snap):\n",
    "    arr = np.log10(snap.s['fest_sph']/snap.s['mass_sph']) - FeH_sol\n",
    "    arr[np.logical_or(snap.s['fest_sph'] == 0.0, snap.s['mass_sph'] == 0.0)] = -98.0\n",
    "    return arr"
   ]
  },
  {
   "cell_type": "code",
   "execution_count": null,
   "metadata": {},
   "outputs": [],
   "source": [
    "sim = simulation.Simulation(SIMPATH)"
   ]
  },
  {
   "cell_type": "code",
   "execution_count": 5,
   "metadata": {},
   "outputs": [],
   "source": [
    "from pynbody import filt\n",
    "popIII_filt = filt.BandPass('feh', -5, 100)"
   ]
  },
  {
   "cell_type": "code",
   "execution_count": 18,
   "metadata": {},
   "outputs": [
    {
     "data": {
      "application/vnd.jupyter.widget-view+json": {
       "model_id": "dba025e8f2ac4a86a0388641e4bafa6a",
       "version_major": 2,
       "version_minor": 0
      },
      "text/plain": [
       "interactive(children=(IntSlider(value=0, continuous_update=False, description='Snap:', max=446), Output()), _d…"
      ]
     },
     "metadata": {},
     "output_type": "display_data"
    }
   ],
   "source": [
    "snap_slider = ipywidgets.IntSlider(min=0,max=len(sim)-1,step=1,value=0, continuous_update=False, description='Snap:')\n",
    "def k(i):\n",
    "    snap = sim[i].s\n",
    "#     snap.s['mgfe'] = mgfe(snap)\n",
    "#     snap.s['feh'] = feh(snap)\n",
    "    \n",
    "#     subsnap = snap#[popIII_filt]\n",
    "    # I need to in\n",
    "    snap.s['smooth'], snap.s['rho']\n",
    "    \n",
    "    snap.s['mgst_sph'] = snap.s.kdtree.sph_mean(snap.s['mgst'], 50)\n",
    "    snap.s['fest_sph'] = snap.s.kdtree.sph_mean(snap.s['fest'], 50)\n",
    "    snap.s['mass_sph'] = snap.s.kdtree.sph_mean(snap.s['mass'], 50)\n",
    "\n",
    "    fig, ax = plt.subplots(1, figsize=(6,4))\n",
    "    ax.set_xlabel('[Fe/H]')\n",
    "    ax.set_ylabel('[Mg/Fe]')\n",
    "    subsnap = snap.s[popIII_filt]\n",
    "    x = subsnap['feh']\n",
    "    y = subsnap['mgfe']\n",
    "    c = subsnap['age']\n",
    "    scatter = ax.scatter(x, y, alpha=0.3, s=10, c=c)\n",
    "    fig.colorbar(scatter)\n",
    "    ax.set_title('time: {:.2f}'.format(snap.ancestor.header.time));\n",
    "    ax.set_ylim([-1,1.])\n",
    "    return fig\n",
    "\n",
    "w = ipywidgets.interactive(k, i=snap_slider)\n",
    "w"
   ]
  },
  {
   "cell_type": "code",
   "execution_count": 16,
   "metadata": {},
   "outputs": [
    {
     "data": {
      "text/plain": [
       "512"
      ]
     },
     "execution_count": 16,
     "metadata": {},
     "output_type": "execute_result"
    }
   ],
   "source": [
    "8**3"
   ]
  },
  {
   "cell_type": "code",
   "execution_count": null,
   "metadata": {},
   "outputs": [],
   "source": []
  }
 ],
 "metadata": {
  "kernelspec": {
   "display_name": "Python 3",
   "language": "python",
   "name": "python3"
  },
  "language_info": {
   "codemirror_mode": {
    "name": "ipython",
    "version": 3
   },
   "file_extension": ".py",
   "mimetype": "text/x-python",
   "name": "python",
   "nbconvert_exporter": "python",
   "pygments_lexer": "ipython3",
   "version": "3.6.4"
  }
 },
 "nbformat": 4,
 "nbformat_minor": 2
}
