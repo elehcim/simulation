{
 "cells": [
  {
   "cell_type": "code",
   "execution_count": 1,
   "metadata": {},
   "outputs": [],
   "source": [
    "import simulation\n",
    "import matplotlib.pylab as plt\n",
    "import numpy as np\n",
    "\n",
    "plt.style.use('dark_background')"
   ]
  },
  {
   "cell_type": "code",
   "execution_count": 2,
   "metadata": {},
   "outputs": [],
   "source": [
    "SIM_ID=['60003_snapshot_0065.kicked_p10.0_a600.0_r600.0_c8.15',\n",
    "        '60003_snapshot_0065.kicked_p200.0_a1000.0_r800.0_c8.15',\n",
    "        '60003_snapshot_0065.kicked_p200.0_a600.0_r600.0_c8.15',\n",
    "        '60003_snapshot_0065.kicked_p400.0_a600.0_r600.0_c8.15',\n",
    "        '60003_snapshot_0065.kicked_p598.0_a600.0_r600.0_c8.15']"
   ]
  },
  {
   "cell_type": "code",
   "execution_count": 3,
   "metadata": {},
   "outputs": [
    {
     "name": "stderr",
     "output_type": "stream",
     "text": [
      "INFO:simulation:loading simulation: 60003_snapshot_0065.kicked_p10.0_a600.0_r600.0_c8.15\n"
     ]
    }
   ],
   "source": [
    "sim = simulation.MoriaSim(SIM_ID[0], kicked=True)"
   ]
  },
  {
   "cell_type": "code",
   "execution_count": 4,
   "metadata": {},
   "outputs": [
    {
     "name": "stderr",
     "output_type": "stream",
     "text": [
      "INFO:simulation:Loading precomputed center of gravity for all the snapshots\n"
     ]
    }
   ],
   "source": [
    "sim.compute_cog(save_cache=True, verbose=False)"
   ]
  },
  {
   "cell_type": "code",
   "execution_count": 35,
   "metadata": {},
   "outputs": [
    {
     "data": {
      "text/plain": [
       "60003_snapshot_0065.kicked_p10.0_a600.0_r600.0_c8.15: (96) <SimSnap \"/home/michele/sim/MySimulations/Moria8Gyr_tidal/sim60003_snapshot_0065.kicked_p10.0_a600.0_r600.0_c8.15/out/snapshot_0001\" len=413034>"
      ]
     },
     "execution_count": 35,
     "metadata": {},
     "output_type": "execute_result"
    }
   ],
   "source": [
    "sim"
   ]
  },
  {
   "cell_type": "code",
   "execution_count": 34,
   "metadata": {},
   "outputs": [
    {
     "data": {
      "text/plain": [
       "{'a': 1.0,\n",
       " 'h': 0.7,\n",
       " 'omegaL0': 0.72,\n",
       " 'omegaM0': 1.0,\n",
       " 'time': Unit(\"1.34e+01 s kpc km**-1\")}"
      ]
     },
     "execution_count": 34,
     "metadata": {},
     "output_type": "execute_result"
    }
   ],
   "source": [
    "sim.snap_list[-1].properties"
   ]
  },
  {
   "cell_type": "code",
   "execution_count": 5,
   "metadata": {},
   "outputs": [],
   "source": [
    "# for s in SIM_ID:\n",
    "#     simulation.MoriaSim(s, kicked=True).compute_cog(save_cache=True, verbose=False)"
   ]
  },
  {
   "cell_type": "code",
   "execution_count": 28,
   "metadata": {},
   "outputs": [],
   "source": [
    "w=sim.interact(5.0e-8, 2.0e-1, 1.0e-7)"
   ]
  },
  {
   "cell_type": "code",
   "execution_count": 29,
   "metadata": {},
   "outputs": [
    {
     "data": {
      "application/vnd.jupyter.widget-view+json": {
       "model_id": "c6da69afa3da48649ab71ffc1f320baf",
       "version_major": 2,
       "version_minor": 0
      },
      "text/html": [
       "<p>Failed to display Jupyter Widget of type <code>VBox</code>.</p>\n",
       "<p>\n",
       "  If you're reading this message in the Jupyter Notebook or JupyterLab Notebook, it may mean\n",
       "  that the widgets JavaScript is still loading. If this message persists, it\n",
       "  likely means that the widgets JavaScript library is either not installed or\n",
       "  not enabled. See the <a href=\"https://ipywidgets.readthedocs.io/en/stable/user_install.html\">Jupyter\n",
       "  Widgets Documentation</a> for setup instructions.\n",
       "</p>\n",
       "<p>\n",
       "  If you're reading this message in another frontend (for example, a static\n",
       "  rendering on GitHub or <a href=\"https://nbviewer.jupyter.org/\">NBViewer</a>),\n",
       "  it may mean that your frontend doesn't currently support widgets.\n",
       "</p>\n"
      ],
      "text/plain": [
       "VBox(children=(HBox(children=(VBox(children=(IntSlider(value=0, continuous_update=False, description='Snap:', max=95), Checkbox(value=False, description='Velocity projection'), Checkbox(value=True, description='SFH'), Checkbox(value=True, description='COG traj.'))), VBox(children=(FloatRangeSlider(value=(5e-08, 0.2), continuous_update=False, description='Rho:', max=0.2, min=5e-08, readout_format='1.0e', step=1e-07), IntSlider(value=20, continuous_update=False, description='Width (kpc):', max=1000, min=5, step=10), IntSlider(value=200, continuous_update=False, description='Resol. (pix):', max=1000, min=100, step=100)))), layout=Layout(display='flex', width='150%')), Output()))"
      ]
     },
     "metadata": {},
     "output_type": "display_data"
    }
   ],
   "source": [
    "w"
   ]
  },
  {
   "cell_type": "code",
   "execution_count": null,
   "metadata": {},
   "outputs": [],
   "source": []
  }
 ],
 "metadata": {
  "kernelspec": {
   "display_name": "Python 3",
   "language": "python",
   "name": "python3"
  },
  "language_info": {
   "codemirror_mode": {
    "name": "ipython",
    "version": 3
   },
   "file_extension": ".py",
   "mimetype": "text/x-python",
   "name": "python",
   "nbconvert_exporter": "python",
   "pygments_lexer": "ipython3",
   "version": "3.6.4"
  }
 },
 "nbformat": 4,
 "nbformat_minor": 2
}
