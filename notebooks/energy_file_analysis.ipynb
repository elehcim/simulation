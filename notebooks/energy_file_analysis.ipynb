{
 "cells": [
  {
   "cell_type": "code",
   "execution_count": 56,
   "metadata": {},
   "outputs": [
    {
     "name": "stdout",
     "output_type": "stream",
     "text": [
      "30\n"
     ]
    }
   ],
   "source": [
    "import os\n",
    "import pandas as pd\n",
    "%matplotlib inline\n",
    "\n",
    "header = [\"time\", \"totIntEnergy\", \"totPotEnergy\", \"totKinEnergy\", \n",
    "\"IntEnergy_gas\",   \"PotEnergy_gas\",   \"KinEnergy_gas\", \n",
    "\"IntEnergy_dm\",    \"PotEnergy_dm\",    \"KinEnergy_dm\", \n",
    "\"IntEnergy_disk\",  \"PotEnergy_disk\",  \"KinEnergy_disk\", \n",
    "\"IntEnergy_bulge\", \"PotEnergy_bulge\", \"KinEnergy_bulge\", \n",
    "\"IntEnergy_s\",     \"PotEnergy_s\",     \"KinEnergy_s\", \n",
    "\"IntEnergy_bndry\", \"PotEnergy_bndry\", \"KinEnergy_bndry\", \n",
    "\"mass_gas\", \"mass_dm\", \"mass_disk\", \"mass_bulge\", \"mass_s\", \"mass_bndry\",\n",
    "\"FB_energy\", \"energy_lost_into_stars\"]\n",
    "usecols = [\"time\", \"totIntEnergy\", \"totPotEnergy\", \"totKinEnergy\", \n",
    "\"IntEnergy_gas\",   \"PotEnergy_gas\",   \"KinEnergy_gas\", \n",
    "\"IntEnergy_dm\",    \"PotEnergy_dm\",    \"KinEnergy_dm\", \n",
    "\"IntEnergy_s\",     \"PotEnergy_s\",     \"KinEnergy_s\", \n",
    "\"mass_gas\", \"mass_dm\", \"mass_s\",\n",
    "\"FB_energy\", \"energy_lost_into_stars\"]\n",
    "\n",
    "header_phys=[\"time\", \"TFB_energy_generated\",\n",
    "\"TFB_energy_received\", \"Tenergy_feedback_final\", \"Tenergy_cooled\",\n",
    "\"Tenergy_viscosity\",\"TnumPartCoolAdiab\"]"
   ]
  },
  {
   "cell_type": "code",
   "execution_count": null,
   "metadata": {
    "collapsed": true
   },
   "outputs": [],
   "source": [
    "simpath = \"~/sim/MySimulations/Moria8Gyr_tidal/sim60003/out\""
   ]
  },
  {
   "cell_type": "code",
   "execution_count": 59,
   "metadata": {},
   "outputs": [],
   "source": [
    "# en = pd.read_csv(os.path.join(simpath, \"energy.txt\"), names=header, delim_whitespace=True)\n",
    "en = pd.read_csv(os.path.join(simpath, \"energy.txt\"), names=header, usecols=usecols, delim_whitespace=True, index_col=0)\n",
    "en_phys = pd.read_csv(os.path.join(simpath, \"energy_phys.dat\"), names=header_phys, delim_whitespace=True, index_col=0)\n"
   ]
  },
  {
   "cell_type": "code",
   "execution_count": 39,
   "metadata": {},
   "outputs": [
    {
     "data": {
      "text/html": [
       "<div>\n",
       "<style>\n",
       "    .dataframe thead tr:only-child th {\n",
       "        text-align: right;\n",
       "    }\n",
       "\n",
       "    .dataframe thead th {\n",
       "        text-align: left;\n",
       "    }\n",
       "\n",
       "    .dataframe tbody tr th {\n",
       "        vertical-align: top;\n",
       "    }\n",
       "</style>\n",
       "<table border=\"1\" class=\"dataframe\">\n",
       "  <thead>\n",
       "    <tr style=\"text-align: right;\">\n",
       "      <th></th>\n",
       "      <th>totIntEnergy</th>\n",
       "      <th>totPotEnergy</th>\n",
       "      <th>totKinEnergy</th>\n",
       "      <th>IntEnergy_gas</th>\n",
       "      <th>PotEnergy_gas</th>\n",
       "      <th>KinEnergy_gas</th>\n",
       "      <th>IntEnergy_dm</th>\n",
       "      <th>PotEnergy_dm</th>\n",
       "      <th>KinEnergy_dm</th>\n",
       "      <th>IntEnergy_s</th>\n",
       "      <th>PotEnergy_s</th>\n",
       "      <th>KinEnergy_s</th>\n",
       "      <th>mass_gas</th>\n",
       "      <th>mass_dm</th>\n",
       "      <th>mass_s</th>\n",
       "      <th>FB_energy</th>\n",
       "      <th>energy_lost_into_stars</th>\n",
       "    </tr>\n",
       "    <tr>\n",
       "      <th>time</th>\n",
       "      <th></th>\n",
       "      <th></th>\n",
       "      <th></th>\n",
       "      <th></th>\n",
       "      <th></th>\n",
       "      <th></th>\n",
       "      <th></th>\n",
       "      <th></th>\n",
       "      <th></th>\n",
       "      <th></th>\n",
       "      <th></th>\n",
       "      <th></th>\n",
       "      <th></th>\n",
       "      <th></th>\n",
       "      <th></th>\n",
       "      <th></th>\n",
       "      <th></th>\n",
       "    </tr>\n",
       "  </thead>\n",
       "  <tbody>\n",
       "    <tr>\n",
       "      <th>8.33488</th>\n",
       "      <td>5.48861</td>\n",
       "      <td>0</td>\n",
       "      <td>69383.8</td>\n",
       "      <td>5.48861</td>\n",
       "      <td>0</td>\n",
       "      <td>12596.0</td>\n",
       "      <td>0</td>\n",
       "      <td>0</td>\n",
       "      <td>56778.5</td>\n",
       "      <td>0</td>\n",
       "      <td>0</td>\n",
       "      <td>9.29400</td>\n",
       "      <td>0.087291</td>\n",
       "      <td>0.413043</td>\n",
       "      <td>0.000068</td>\n",
       "      <td>0.000003</td>\n",
       "      <td>0</td>\n",
       "    </tr>\n",
       "    <tr>\n",
       "      <th>8.33519</th>\n",
       "      <td>7.15582</td>\n",
       "      <td>0</td>\n",
       "      <td>69417.9</td>\n",
       "      <td>7.15582</td>\n",
       "      <td>0</td>\n",
       "      <td>12600.0</td>\n",
       "      <td>0</td>\n",
       "      <td>0</td>\n",
       "      <td>56808.5</td>\n",
       "      <td>0</td>\n",
       "      <td>0</td>\n",
       "      <td>9.29870</td>\n",
       "      <td>0.087291</td>\n",
       "      <td>0.413043</td>\n",
       "      <td>0.000068</td>\n",
       "      <td>0.000005</td>\n",
       "      <td>0</td>\n",
       "    </tr>\n",
       "    <tr>\n",
       "      <th>8.33550</th>\n",
       "      <td>8.82303</td>\n",
       "      <td>0</td>\n",
       "      <td>69452.0</td>\n",
       "      <td>8.82303</td>\n",
       "      <td>0</td>\n",
       "      <td>12604.0</td>\n",
       "      <td>0</td>\n",
       "      <td>0</td>\n",
       "      <td>56838.6</td>\n",
       "      <td>0</td>\n",
       "      <td>0</td>\n",
       "      <td>9.30341</td>\n",
       "      <td>0.087291</td>\n",
       "      <td>0.413043</td>\n",
       "      <td>0.000068</td>\n",
       "      <td>0.000008</td>\n",
       "      <td>0</td>\n",
       "    </tr>\n",
       "    <tr>\n",
       "      <th>8.33581</th>\n",
       "      <td>8.56833</td>\n",
       "      <td>0</td>\n",
       "      <td>69486.1</td>\n",
       "      <td>8.56833</td>\n",
       "      <td>0</td>\n",
       "      <td>12608.0</td>\n",
       "      <td>0</td>\n",
       "      <td>0</td>\n",
       "      <td>56868.7</td>\n",
       "      <td>0</td>\n",
       "      <td>0</td>\n",
       "      <td>9.30801</td>\n",
       "      <td>0.087291</td>\n",
       "      <td>0.413043</td>\n",
       "      <td>0.000068</td>\n",
       "      <td>0.000011</td>\n",
       "      <td>0</td>\n",
       "    </tr>\n",
       "    <tr>\n",
       "      <th>8.33612</th>\n",
       "      <td>9.27466</td>\n",
       "      <td>0</td>\n",
       "      <td>69520.2</td>\n",
       "      <td>9.27466</td>\n",
       "      <td>0</td>\n",
       "      <td>12612.0</td>\n",
       "      <td>0</td>\n",
       "      <td>0</td>\n",
       "      <td>56898.8</td>\n",
       "      <td>0</td>\n",
       "      <td>0</td>\n",
       "      <td>9.31265</td>\n",
       "      <td>0.087291</td>\n",
       "      <td>0.413043</td>\n",
       "      <td>0.000068</td>\n",
       "      <td>0.000013</td>\n",
       "      <td>0</td>\n",
       "    </tr>\n",
       "  </tbody>\n",
       "</table>\n",
       "</div>"
      ],
      "text/plain": [
       "         totIntEnergy  totPotEnergy  totKinEnergy  IntEnergy_gas  \\\n",
       "time                                                               \n",
       "8.33488       5.48861             0       69383.8        5.48861   \n",
       "8.33519       7.15582             0       69417.9        7.15582   \n",
       "8.33550       8.82303             0       69452.0        8.82303   \n",
       "8.33581       8.56833             0       69486.1        8.56833   \n",
       "8.33612       9.27466             0       69520.2        9.27466   \n",
       "\n",
       "         PotEnergy_gas  KinEnergy_gas  IntEnergy_dm  PotEnergy_dm  \\\n",
       "time                                                                \n",
       "8.33488              0        12596.0             0             0   \n",
       "8.33519              0        12600.0             0             0   \n",
       "8.33550              0        12604.0             0             0   \n",
       "8.33581              0        12608.0             0             0   \n",
       "8.33612              0        12612.0             0             0   \n",
       "\n",
       "         KinEnergy_dm  IntEnergy_s  PotEnergy_s  KinEnergy_s  mass_gas  \\\n",
       "time                                                                     \n",
       "8.33488       56778.5            0            0      9.29400  0.087291   \n",
       "8.33519       56808.5            0            0      9.29870  0.087291   \n",
       "8.33550       56838.6            0            0      9.30341  0.087291   \n",
       "8.33581       56868.7            0            0      9.30801  0.087291   \n",
       "8.33612       56898.8            0            0      9.31265  0.087291   \n",
       "\n",
       "          mass_dm    mass_s  FB_energy  energy_lost_into_stars  \n",
       "time                                                            \n",
       "8.33488  0.413043  0.000068   0.000003                       0  \n",
       "8.33519  0.413043  0.000068   0.000005                       0  \n",
       "8.33550  0.413043  0.000068   0.000008                       0  \n",
       "8.33581  0.413043  0.000068   0.000011                       0  \n",
       "8.33612  0.413043  0.000068   0.000013                       0  "
      ]
     },
     "execution_count": 39,
     "metadata": {},
     "output_type": "execute_result"
    }
   ],
   "source": [
    "en.head()"
   ]
  },
  {
   "cell_type": "code",
   "execution_count": 53,
   "metadata": {},
   "outputs": [
    {
     "data": {
      "text/plain": [
       "223.38459157817826"
      ]
     },
     "execution_count": 53,
     "metadata": {},
     "output_type": "execute_result"
    }
   ],
   "source": [
    "en.FB_energy.sum()"
   ]
  },
  {
   "cell_type": "code",
   "execution_count": 78,
   "metadata": {},
   "outputs": [
    {
     "data": {
      "text/plain": [
       "<matplotlib.axes._subplots.AxesSubplot at 0x7fa698737240>"
      ]
     },
     "execution_count": 78,
     "metadata": {},
     "output_type": "execute_result"
    },
    {
     "data": {
      "image/png": "[encoded data removed]",
      "text/plain": [
       "<matplotlib.figure.Figure at 0x7fa698c34c18>"
      ]
     },
     "metadata": {},
     "output_type": "display_data"
    }
   ],
   "source": [
    "# en.KinEnergy_dm.plot(figsize=(10,10))\n",
    "en[[\"KinEnergy_gas\", \"KinEnergy_dm\"]].plot(figsize=(10,10))"
   ]
  },
  {
   "cell_type": "code",
   "execution_count": 72,
   "metadata": {},
   "outputs": [
    {
     "data": {
      "text/html": [
       "<div>\n",
       "<style>\n",
       "    .dataframe thead tr:only-child th {\n",
       "        text-align: right;\n",
       "    }\n",
       "\n",
       "    .dataframe thead th {\n",
       "        text-align: left;\n",
       "    }\n",
       "\n",
       "    .dataframe tbody tr th {\n",
       "        vertical-align: top;\n",
       "    }\n",
       "</style>\n",
       "<table border=\"1\" class=\"dataframe\">\n",
       "  <thead>\n",
       "    <tr style=\"text-align: right;\">\n",
       "      <th></th>\n",
       "      <th>TFB_energy_generated</th>\n",
       "      <th>TFB_energy_received</th>\n",
       "      <th>Tenergy_feedback_final</th>\n",
       "      <th>Tenergy_cooled</th>\n",
       "      <th>Tenergy_viscosity</th>\n",
       "      <th>TnumPartCoolAdiab</th>\n",
       "    </tr>\n",
       "    <tr>\n",
       "      <th>time</th>\n",
       "      <th></th>\n",
       "      <th></th>\n",
       "      <th></th>\n",
       "      <th></th>\n",
       "      <th></th>\n",
       "      <th></th>\n",
       "    </tr>\n",
       "  </thead>\n",
       "  <tbody>\n",
       "    <tr>\n",
       "      <th>13.4103</th>\n",
       "      <td>2.026263e+51</td>\n",
       "      <td>2.026263e+51</td>\n",
       "      <td>24077.4072</td>\n",
       "      <td>14262035.3</td>\n",
       "      <td>1.230360e+10</td>\n",
       "      <td>0</td>\n",
       "    </tr>\n",
       "    <tr>\n",
       "      <th>13.4106</th>\n",
       "      <td>2.026263e+51</td>\n",
       "      <td>2.026263e+51</td>\n",
       "      <td>24077.4072</td>\n",
       "      <td>14266571.3</td>\n",
       "      <td>1.230427e+10</td>\n",
       "      <td>0</td>\n",
       "    </tr>\n",
       "    <tr>\n",
       "      <th>13.4109</th>\n",
       "      <td>2.026263e+51</td>\n",
       "      <td>2.026263e+51</td>\n",
       "      <td>24077.4072</td>\n",
       "      <td>14266576.8</td>\n",
       "      <td>1.230431e+10</td>\n",
       "      <td>0</td>\n",
       "    </tr>\n",
       "    <tr>\n",
       "      <th>13.4112</th>\n",
       "      <td>2.026263e+51</td>\n",
       "      <td>2.026263e+51</td>\n",
       "      <td>24077.4072</td>\n",
       "      <td>14267454.2</td>\n",
       "      <td>1.230510e+10</td>\n",
       "      <td>0</td>\n",
       "    </tr>\n",
       "    <tr>\n",
       "      <th>13.4115</th>\n",
       "      <td>2.026263e+51</td>\n",
       "      <td>2.026263e+51</td>\n",
       "      <td>24077.4072</td>\n",
       "      <td>14267459.7</td>\n",
       "      <td>1.230514e+10</td>\n",
       "      <td>0</td>\n",
       "    </tr>\n",
       "  </tbody>\n",
       "</table>\n",
       "</div>"
      ],
      "text/plain": [
       "         TFB_energy_generated  TFB_energy_received  Tenergy_feedback_final  \\\n",
       "time                                                                         \n",
       "13.4103          2.026263e+51         2.026263e+51              24077.4072   \n",
       "13.4106          2.026263e+51         2.026263e+51              24077.4072   \n",
       "13.4109          2.026263e+51         2.026263e+51              24077.4072   \n",
       "13.4112          2.026263e+51         2.026263e+51              24077.4072   \n",
       "13.4115          2.026263e+51         2.026263e+51              24077.4072   \n",
       "\n",
       "         Tenergy_cooled  Tenergy_viscosity  TnumPartCoolAdiab  \n",
       "time                                                           \n",
       "13.4103      14262035.3       1.230360e+10                  0  \n",
       "13.4106      14266571.3       1.230427e+10                  0  \n",
       "13.4109      14266576.8       1.230431e+10                  0  \n",
       "13.4112      14267454.2       1.230510e+10                  0  \n",
       "13.4115      14267459.7       1.230514e+10                  0  "
      ]
     },
     "execution_count": 72,
     "metadata": {},
     "output_type": "execute_result"
    }
   ],
   "source": [
    "en_phys.tail()"
   ]
  },
  {
   "cell_type": "code",
   "execution_count": 65,
   "metadata": {},
   "outputs": [
    {
     "data": {
      "text/plain": [
       "0"
      ]
     },
     "execution_count": 65,
     "metadata": {},
     "output_type": "execute_result"
    }
   ],
   "source": [
    "en_phys.TnumPartCoolAdiab.sum()"
   ]
  }
 ],
 "metadata": {
  "kernelspec": {
   "display_name": "Python 3",
   "language": "python",
   "name": "python3"
  },
  "language_info": {
   "codemirror_mode": {
    "name": "ipython",
    "version": 3
   },
   "file_extension": ".py",
   "mimetype": "text/x-python",
   "name": "python",
   "nbconvert_exporter": "python",
   "pygments_lexer": "ipython3",
   "version": "3.6.3"
  }
 },
 "nbformat": 4,
 "nbformat_minor": 2
}
