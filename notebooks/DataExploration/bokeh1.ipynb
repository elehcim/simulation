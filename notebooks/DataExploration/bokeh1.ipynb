{
 "cells": [
  {
   "cell_type": "code",
   "execution_count": 1,
   "metadata": {},
   "outputs": [],
   "source": [
    "%matplotlib inline\n",
    "import pynbody\n",
    "from pynbody.analysis import profile\n",
    "import matplotlib.pylab as plt\n",
    "import numpy as np\n",
    "import astropy.units as u\n",
    "import os"
   ]
  },
  {
   "cell_type": "code",
   "execution_count": 2,
   "metadata": {},
   "outputs": [],
   "source": [
    "from halo_functions import halo_Wechsler2002, halo_scaled_radius, halo_scaled_density, RHO_C\n",
    "from cog import compute_cog\n",
    "from snap_io import load_moria_sim_and_kicked"
   ]
  },
  {
   "cell_type": "code",
   "execution_count": 3,
   "metadata": {},
   "outputs": [
    {
     "data": {
      "text/latex": [
       "$8.1476056 \\; \\mathrm{}$"
      ],
      "text/plain": [
       "<Quantity 8.147605556082254>"
      ]
     },
     "execution_count": 3,
     "metadata": {},
     "output_type": "execute_result"
    }
   ],
   "source": [
    "import astropy.units as u\n",
    "M_h = 1e14 * u.solMass\n",
    "c = halo_Wechsler2002(M_h)\n",
    "c"
   ]
  },
  {
   "cell_type": "code",
   "execution_count": 4,
   "metadata": {},
   "outputs": [
    {
     "data": {
      "text/latex": [
       "$978.64136 \\; \\mathrm{kpc}$"
      ],
      "text/plain": [
       "<Quantity 978.6413640634958 kpc>"
      ]
     },
     "execution_count": 4,
     "metadata": {},
     "output_type": "execute_result"
    }
   ],
   "source": [
    "v_r = (M_h/(4.0/3.0*np.pi*200*RHO_C))**(1.0/3.0)\n",
    "v_r"
   ]
  },
  {
   "cell_type": "code",
   "execution_count": 5,
   "metadata": {},
   "outputs": [
    {
     "data": {
      "text/latex": [
       "$978.64136 \\; \\mathrm{kpc}$"
      ],
      "text/plain": [
       "<Quantity 978.6413640634958 kpc>"
      ]
     },
     "execution_count": 5,
     "metadata": {},
     "output_type": "execute_result"
    }
   ],
   "source": [
    "virial_radius = c * halo_scaled_radius(M_h, c)\n",
    "virial_radius"
   ]
  },
  {
   "cell_type": "code",
   "execution_count": 6,
   "metadata": {},
   "outputs": [],
   "source": [
    "SIM_NUMBER = 71002"
   ]
  },
  {
   "cell_type": "code",
   "execution_count": 7,
   "metadata": {},
   "outputs": [],
   "source": [
    "moria_sim, kicked_sim = load_moria_sim_and_kicked(SIM_NUMBER)"
   ]
  },
  {
   "cell_type": "code",
   "execution_count": 8,
   "metadata": {
    "scrolled": true
   },
   "outputs": [
    {
     "data": {
      "text/plain": [
       "(<SimSnap \"/home/michele/sim/MySimulations/Moria8Gyr_tidal/sim71002/out/snapshot_0001\" len=1687632>,\n",
       " <SimSnap \"/home/michele/sim/MySimulations/Moria8Gyr_tidal/sim71002/out/snapshot_0002\" len=1687632>,\n",
       " <SimSnap \"/home/michele/sim/MySimulations/Moria8Gyr_tidal/sim71002/out/snapshot_0003\" len=1687632>,\n",
       " <SimSnap \"/home/michele/sim/MySimulations/Moria8Gyr_tidal/sim71002/out/snapshot_0004\" len=1687632>,\n",
       " <SimSnap \"/home/michele/sim/MySimulations/Moria8Gyr_tidal/sim71002/out/snapshot_0005\" len=1687632>,\n",
       " <SimSnap \"/home/michele/sim/MySimulations/Moria8Gyr_tidal/sim71002/out/snapshot_0006\" len=1687632>,\n",
       " <SimSnap \"/home/michele/sim/MySimulations/Moria8Gyr_tidal/sim71002/out/snapshot_0007\" len=1687632>,\n",
       " <SimSnap \"/home/michele/sim/MySimulations/Moria8Gyr_tidal/sim71002/out/snapshot_0008\" len=1687632>,\n",
       " <SimSnap \"/home/michele/sim/MySimulations/Moria8Gyr_tidal/sim71002/out/snapshot_0009\" len=1687632>,\n",
       " <SimSnap \"/home/michele/sim/MySimulations/Moria8Gyr_tidal/sim71002/out/snapshot_0010\" len=1687632>,\n",
       " <SimSnap \"/home/michele/sim/MySimulations/Moria8Gyr_tidal/sim71002/out/snapshot_0011\" len=1687632>,\n",
       " <SimSnap \"/home/michele/sim/MySimulations/Moria8Gyr_tidal/sim71002/out/snapshot_0012\" len=1687632>,\n",
       " <SimSnap \"/home/michele/sim/MySimulations/Moria8Gyr_tidal/sim71002/out/snapshot_0013\" len=1687632>,\n",
       " <SimSnap \"/home/michele/sim/MySimulations/Moria8Gyr_tidal/sim71002/out/snapshot_0014\" len=1687632>,\n",
       " <SimSnap \"/home/michele/sim/MySimulations/Moria8Gyr_tidal/sim71002/out/snapshot_0015\" len=1687632>,\n",
       " <SimSnap \"/home/michele/sim/MySimulations/Moria8Gyr_tidal/sim71002/out/snapshot_0016\" len=1687632>,\n",
       " <SimSnap \"/home/michele/sim/MySimulations/Moria8Gyr_tidal/sim71002/out/snapshot_0017\" len=1687632>,\n",
       " <SimSnap \"/home/michele/sim/MySimulations/Moria8Gyr_tidal/sim71002/out/snapshot_0018\" len=1687632>,\n",
       " <SimSnap \"/home/michele/sim/MySimulations/Moria8Gyr_tidal/sim71002/out/snapshot_0019\" len=1687632>,\n",
       " <SimSnap \"/home/michele/sim/MySimulations/Moria8Gyr_tidal/sim71002/out/snapshot_0020\" len=1687632>,\n",
       " <SimSnap \"/home/michele/sim/MySimulations/Moria8Gyr_tidal/sim71002/out/snapshot_0021\" len=1687632>,\n",
       " <SimSnap \"/home/michele/sim/MySimulations/Moria8Gyr_tidal/sim71002/out/snapshot_0022\" len=1687632>,\n",
       " <SimSnap \"/home/michele/sim/MySimulations/Moria8Gyr_tidal/sim71002/out/snapshot_0023\" len=1687632>,\n",
       " <SimSnap \"/home/michele/sim/MySimulations/Moria8Gyr_tidal/sim71002/out/snapshot_0024\" len=1687632>,\n",
       " <SimSnap \"/home/michele/sim/MySimulations/Moria8Gyr_tidal/sim71002/out/snapshot_0025\" len=1687632>,\n",
       " <SimSnap \"/home/michele/sim/MySimulations/Moria8Gyr_tidal/sim71002/out/snapshot_0026\" len=1687632>,\n",
       " <SimSnap \"/home/michele/sim/MySimulations/Moria8Gyr_tidal/sim71002/out/snapshot_0027\" len=1687632>,\n",
       " <SimSnap \"/home/michele/sim/MySimulations/Moria8Gyr_tidal/sim71002/out/snapshot_0028\" len=1687632>,\n",
       " <SimSnap \"/home/michele/sim/MySimulations/Moria8Gyr_tidal/sim71002/out/snapshot_0029\" len=1687632>,\n",
       " <SimSnap \"/home/michele/sim/MySimulations/Moria8Gyr_tidal/sim71002/out/snapshot_0030\" len=1687632>,\n",
       " <SimSnap \"/home/michele/sim/MySimulations/Moria8Gyr_tidal/sim71002/out/snapshot_0031\" len=1687632>,\n",
       " <SimSnap \"/home/michele/sim/MySimulations/Moria8Gyr_tidal/sim71002/out/snapshot_0032\" len=1687632>,\n",
       " <SimSnap \"/home/michele/sim/MySimulations/Moria8Gyr_tidal/sim71002/out/snapshot_0033\" len=1687632>,\n",
       " <SimSnap \"/home/michele/sim/MySimulations/Moria8Gyr_tidal/sim71002/out/snapshot_0034\" len=1687632>,\n",
       " <SimSnap \"/home/michele/sim/MySimulations/Moria8Gyr_tidal/sim71002/out/snapshot_0035\" len=1687632>,\n",
       " <SimSnap \"/home/michele/sim/MySimulations/Moria8Gyr_tidal/sim71002/out/snapshot_0036\" len=1687632>,\n",
       " <SimSnap \"/home/michele/sim/MySimulations/Moria8Gyr_tidal/sim71002/out/snapshot_0037\" len=1687632>,\n",
       " <SimSnap \"/home/michele/sim/MySimulations/Moria8Gyr_tidal/sim71002/out/snapshot_0038\" len=1687632>,\n",
       " <SimSnap \"/home/michele/sim/MySimulations/Moria8Gyr_tidal/sim71002/out/snapshot_0039\" len=1687632>,\n",
       " <SimSnap \"/home/michele/sim/MySimulations/Moria8Gyr_tidal/sim71002/out/snapshot_0040\" len=1687632>,\n",
       " <SimSnap \"/home/michele/sim/MySimulations/Moria8Gyr_tidal/sim71002/out/snapshot_0041\" len=1687632>,\n",
       " <SimSnap \"/home/michele/sim/MySimulations/Moria8Gyr_tidal/sim71002/out/snapshot_0042\" len=1687632>,\n",
       " <SimSnap \"/home/michele/sim/MySimulations/Moria8Gyr_tidal/sim71002/out/snapshot_0043\" len=1687632>,\n",
       " <SimSnap \"/home/michele/sim/MySimulations/Moria8Gyr_tidal/sim71002/out/snapshot_0044\" len=1687632>,\n",
       " <SimSnap \"/home/michele/sim/MySimulations/Moria8Gyr_tidal/sim71002/out/snapshot_0045\" len=1687632>,\n",
       " <SimSnap \"/home/michele/sim/MySimulations/Moria8Gyr_tidal/sim71002/out/snapshot_0046\" len=1687632>,\n",
       " <SimSnap \"/home/michele/sim/MySimulations/Moria8Gyr_tidal/sim71002/out/snapshot_0047\" len=1687632>,\n",
       " <SimSnap \"/home/michele/sim/MySimulations/Moria8Gyr_tidal/sim71002/out/snapshot_0048\" len=1687632>,\n",
       " <SimSnap \"/home/michele/sim/MySimulations/Moria8Gyr_tidal/sim71002/out/snapshot_0049\" len=1687632>,\n",
       " <SimSnap \"/home/michele/sim/MySimulations/Moria8Gyr_tidal/sim71002/out/snapshot_0050\" len=1687632>,\n",
       " <SimSnap \"/home/michele/sim/MySimulations/Moria8Gyr_tidal/sim71002/out/snapshot_0051\" len=1687632>,\n",
       " <SimSnap \"/home/michele/sim/MySimulations/Moria8Gyr_tidal/sim71002/out/snapshot_0052\" len=1687632>,\n",
       " <SimSnap \"/home/michele/sim/MySimulations/Moria8Gyr_tidal/sim71002/out/snapshot_0053\" len=1687632>,\n",
       " <SimSnap \"/home/michele/sim/MySimulations/Moria8Gyr_tidal/sim71002/out/snapshot_0054\" len=1687632>,\n",
       " <SimSnap \"/home/michele/sim/MySimulations/Moria8Gyr_tidal/sim71002/out/snapshot_0055\" len=1687632>,\n",
       " <SimSnap \"/home/michele/sim/MySimulations/Moria8Gyr_tidal/sim71002/out/snapshot_0056\" len=1687632>,\n",
       " <SimSnap \"/home/michele/sim/MySimulations/Moria8Gyr_tidal/sim71002/out/snapshot_0057\" len=1687632>,\n",
       " <SimSnap \"/home/michele/sim/MySimulations/Moria8Gyr_tidal/sim71002/out/snapshot_0058\" len=1687632>,\n",
       " <SimSnap \"/home/michele/sim/MySimulations/Moria8Gyr_tidal/sim71002/out/snapshot_0059\" len=1687632>,\n",
       " <SimSnap \"/home/michele/sim/MySimulations/Moria8Gyr_tidal/sim71002/out/snapshot_0060\" len=1687632>,\n",
       " <SimSnap \"/home/michele/sim/MySimulations/Moria8Gyr_tidal/sim71002/out/snapshot_0061\" len=1687632>,\n",
       " <SimSnap \"/home/michele/sim/MySimulations/Moria8Gyr_tidal/sim71002/out/snapshot_0062\" len=1687632>,\n",
       " <SimSnap \"/home/michele/sim/MySimulations/Moria8Gyr_tidal/sim71002/out/snapshot_0063\" len=1687632>,\n",
       " <SimSnap \"/home/michele/sim/MySimulations/Moria8Gyr_tidal/sim71002/out/snapshot_0064\" len=1687632>,\n",
       " <SimSnap \"/home/michele/sim/MySimulations/Moria8Gyr_tidal/sim71002/out/snapshot_0065\" len=1687632>,\n",
       " <SimSnap \"/home/michele/sim/MySimulations/Moria8Gyr_tidal/sim71002/out/snapshot_0066\" len=1687632>,\n",
       " <SimSnap \"/home/michele/sim/MySimulations/Moria8Gyr_tidal/sim71002/out/snapshot_0067\" len=1687632>,\n",
       " <SimSnap \"/home/michele/sim/MySimulations/Moria8Gyr_tidal/sim71002/out/snapshot_0068\" len=1687632>,\n",
       " <SimSnap \"/home/michele/sim/MySimulations/Moria8Gyr_tidal/sim71002/out/snapshot_0069\" len=1687632>,\n",
       " <SimSnap \"/home/michele/sim/MySimulations/Moria8Gyr_tidal/sim71002/out/snapshot_0070\" len=1687632>,\n",
       " <SimSnap \"/home/michele/sim/MySimulations/Moria8Gyr_tidal/sim71002/out/snapshot_0071\" len=1687632>,\n",
       " <SimSnap \"/home/michele/sim/MySimulations/Moria8Gyr_tidal/sim71002/out/snapshot_0072\" len=1687632>,\n",
       " <SimSnap \"/home/michele/sim/MySimulations/Moria8Gyr_tidal/sim71002/out/snapshot_0073\" len=1687632>,\n",
       " <SimSnap \"/home/michele/sim/MySimulations/Moria8Gyr_tidal/sim71002/out/snapshot_0074\" len=1687632>,\n",
       " <SimSnap \"/home/michele/sim/MySimulations/Moria8Gyr_tidal/sim71002/out/snapshot_0075\" len=1687632>,\n",
       " <SimSnap \"/home/michele/sim/MySimulations/Moria8Gyr_tidal/sim71002/out/snapshot_0076\" len=1687632>,\n",
       " <SimSnap \"/home/michele/sim/MySimulations/Moria8Gyr_tidal/sim71002/out/snapshot_0077\" len=1687632>,\n",
       " <SimSnap \"/home/michele/sim/MySimulations/Moria8Gyr_tidal/sim71002/out/snapshot_0078\" len=1687632>,\n",
       " <SimSnap \"/home/michele/sim/MySimulations/Moria8Gyr_tidal/sim71002/out/snapshot_0079\" len=1687632>,\n",
       " <SimSnap \"/home/michele/sim/MySimulations/Moria8Gyr_tidal/sim71002/out/snapshot_0080\" len=1687632>,\n",
       " <SimSnap \"/home/michele/sim/MySimulations/Moria8Gyr_tidal/sim71002/out/snapshot_0081\" len=1687632>,\n",
       " <SimSnap \"/home/michele/sim/MySimulations/Moria8Gyr_tidal/sim71002/out/snapshot_0082\" len=1687632>,\n",
       " <SimSnap \"/home/michele/sim/MySimulations/Moria8Gyr_tidal/sim71002/out/snapshot_0083\" len=1687632>,\n",
       " <SimSnap \"/home/michele/sim/MySimulations/Moria8Gyr_tidal/sim71002/out/snapshot_0084\" len=1687632>,\n",
       " <SimSnap \"/home/michele/sim/MySimulations/Moria8Gyr_tidal/sim71002/out/snapshot_0085\" len=1687632>,\n",
       " <SimSnap \"/home/michele/sim/MySimulations/Moria8Gyr_tidal/sim71002/out/snapshot_0086\" len=1687632>,\n",
       " <SimSnap \"/home/michele/sim/MySimulations/Moria8Gyr_tidal/sim71002/out/snapshot_0087\" len=1687632>,\n",
       " <SimSnap \"/home/michele/sim/MySimulations/Moria8Gyr_tidal/sim71002/out/snapshot_0088\" len=1687632>,\n",
       " <SimSnap \"/home/michele/sim/MySimulations/Moria8Gyr_tidal/sim71002/out/snapshot_0089\" len=1687632>,\n",
       " <SimSnap \"/home/michele/sim/MySimulations/Moria8Gyr_tidal/sim71002/out/snapshot_0090\" len=1687632>,\n",
       " <SimSnap \"/home/michele/sim/MySimulations/Moria8Gyr_tidal/sim71002/out/snapshot_0091\" len=1687632>,\n",
       " <SimSnap \"/home/michele/sim/MySimulations/Moria8Gyr_tidal/sim71002/out/snapshot_0092\" len=1687632>,\n",
       " <SimSnap \"/home/michele/sim/MySimulations/Moria8Gyr_tidal/sim71002/out/snapshot_0093\" len=1687632>,\n",
       " <SimSnap \"/home/michele/sim/MySimulations/Moria8Gyr_tidal/sim71002/out/snapshot_0094\" len=1687632>,\n",
       " <SimSnap \"/home/michele/sim/MySimulations/Moria8Gyr_tidal/sim71002/out/snapshot_0095\" len=1687632>)"
      ]
     },
     "execution_count": 8,
     "metadata": {},
     "output_type": "execute_result"
    }
   ],
   "source": [
    "kicked_sim"
   ]
  },
  {
   "cell_type": "code",
   "execution_count": 9,
   "metadata": {},
   "outputs": [],
   "source": [
    "# sim_path = '/home/michele/sim/MySimulations/Moria8Gyr_tidal/sim60002/out/'\n",
    "# snaplist = snapshot_list(sim_path, include_dir=True)\n",
    "# sim = pynbody.load(snaplist[-1])\n",
    "# sim.physical_units()\n",
    "# print(sim.filename)\n",
    "# print(sim.properties['time'].in_units('Gyr'))\n",
    "# sim.properties\n",
    "# Jtot = np.sqrt(((np.multiply(sim['j'].transpose(), sim['mass']).sum(axis=1))**2).sum()) # calculate angular momentum"
   ]
  },
  {
   "cell_type": "code",
   "execution_count": 10,
   "metadata": {},
   "outputs": [],
   "source": [
    "# p_all = profile.Profile(s62, max='250 kpc')\n",
    "# plt.plot(p_all['rbins'].in_units('kpc'),p_all['vr_disp'].in_units('km s^-1'),'k')\n",
    "# plt.xlabel('$R$ [kpc]'); plt.ylabel('$\\sigma_{r}$')"
   ]
  },
  {
   "cell_type": "code",
   "execution_count": 11,
   "metadata": {
    "scrolled": true
   },
   "outputs": [
    {
     "name": "stdout",
     "output_type": "stream",
     "text": [
      "000 Analysing /home/michele/sim/MoRIA/sim71002/snapshot_0000 (time 4.9999 Gyr)\n",
      "001 Analysing /home/michele/sim/MoRIA/sim71002/snapshot_0001 (time 4.9999 Gyr)\n",
      "002 Analysing /home/michele/sim/MoRIA/sim71002/snapshot_0002 (time 5.0499 Gyr)\n",
      "003 Analysing /home/michele/sim/MoRIA/sim71002/snapshot_0003 (time 5.1000 Gyr)\n",
      "004 Analysing /home/michele/sim/MoRIA/sim71002/snapshot_0004 (time 5.1499 Gyr)\n",
      "005 Analysing /home/michele/sim/MoRIA/sim71002/snapshot_0005 (time 5.1999 Gyr)\n",
      "006 Analysing /home/michele/sim/MoRIA/sim71002/snapshot_0006 (time 5.2499 Gyr)\n",
      "007 Analysing /home/michele/sim/MoRIA/sim71002/snapshot_0007 (time 5.2999 Gyr)\n",
      "008 Analysing /home/michele/sim/MoRIA/sim71002/snapshot_0008 (time 5.3499 Gyr)\n",
      "009 Analysing /home/michele/sim/MoRIA/sim71002/snapshot_0009 (time 5.3999 Gyr)\n",
      "010 Analysing /home/michele/sim/MoRIA/sim71002/snapshot_0010 (time 5.4499 Gyr)\n",
      "011 Analysing /home/michele/sim/MoRIA/sim71002/snapshot_0011 (time 5.4999 Gyr)\n",
      "012 Analysing /home/michele/sim/MoRIA/sim71002/snapshot_0012 (time 5.5499 Gyr)\n",
      "013 Analysing /home/michele/sim/MoRIA/sim71002/snapshot_0013 (time 5.5999 Gyr)\n",
      "014 Analysing /home/michele/sim/MoRIA/sim71002/snapshot_0014 (time 5.6499 Gyr)\n",
      "015 Analysing /home/michele/sim/MoRIA/sim71002/snapshot_0015 (time 5.6999 Gyr)\n",
      "016 Analysing /home/michele/sim/MoRIA/sim71002/snapshot_0016 (time 5.7499 Gyr)\n",
      "017 Analysing /home/michele/sim/MoRIA/sim71002/snapshot_0017 (time 5.7999 Gyr)\n",
      "018 Analysing /home/michele/sim/MoRIA/sim71002/snapshot_0018 (time 5.8499 Gyr)\n",
      "019 Analysing /home/michele/sim/MoRIA/sim71002/snapshot_0019 (time 5.8999 Gyr)\n",
      "020 Analysing /home/michele/sim/MoRIA/sim71002/snapshot_0020 (time 5.9499 Gyr)\n",
      "021 Analysing /home/michele/sim/MoRIA/sim71002/snapshot_0021 (time 5.9999 Gyr)\n",
      "022 Analysing /home/michele/sim/MoRIA/sim71002/snapshot_0022 (time 6.0499 Gyr)\n",
      "023 Analysing /home/michele/sim/MoRIA/sim71002/snapshot_0023 (time 6.0999 Gyr)\n",
      "024 Analysing /home/michele/sim/MoRIA/sim71002/snapshot_0024 (time 6.1499 Gyr)\n",
      "025 Analysing /home/michele/sim/MoRIA/sim71002/snapshot_0025 (time 6.1999 Gyr)\n",
      "026 Analysing /home/michele/sim/MoRIA/sim71002/snapshot_0026 (time 6.2499 Gyr)\n",
      "027 Analysing /home/michele/sim/MoRIA/sim71002/snapshot_0027 (time 6.2999 Gyr)\n",
      "028 Analysing /home/michele/sim/MoRIA/sim71002/snapshot_0028 (time 6.3499 Gyr)\n",
      "029 Analysing /home/michele/sim/MoRIA/sim71002/snapshot_0029 (time 6.3999 Gyr)\n",
      "030 Analysing /home/michele/sim/MoRIA/sim71002/snapshot_0030 (time 6.4499 Gyr)\n",
      "031 Analysing /home/michele/sim/MoRIA/sim71002/snapshot_0031 (time 6.4999 Gyr)\n",
      "032 Analysing /home/michele/sim/MoRIA/sim71002/snapshot_0032 (time 6.5499 Gyr)\n",
      "033 Analysing /home/michele/sim/MoRIA/sim71002/snapshot_0033 (time 6.5999 Gyr)\n",
      "034 Analysing /home/michele/sim/MoRIA/sim71002/snapshot_0034 (time 6.6499 Gyr)\n",
      "035 Analysing /home/michele/sim/MoRIA/sim71002/snapshot_0035 (time 6.6999 Gyr)\n",
      "036 Analysing /home/michele/sim/MoRIA/sim71002/snapshot_0036 (time 6.7499 Gyr)\n",
      "037 Analysing /home/michele/sim/MoRIA/sim71002/snapshot_0037 (time 6.7999 Gyr)\n",
      "038 Analysing /home/michele/sim/MoRIA/sim71002/snapshot_0038 (time 6.8499 Gyr)\n",
      "039 Analysing /home/michele/sim/MoRIA/sim71002/snapshot_0039 (time 6.8999 Gyr)\n",
      "040 Analysing /home/michele/sim/MoRIA/sim71002/snapshot_0040 (time 6.9499 Gyr)\n",
      "041 Analysing /home/michele/sim/MoRIA/sim71002/snapshot_0041 (time 6.9999 Gyr)\n",
      "042 Analysing /home/michele/sim/MoRIA/sim71002/snapshot_0042 (time 7.0499 Gyr)\n",
      "043 Analysing /home/michele/sim/MoRIA/sim71002/snapshot_0043 (time 7.0999 Gyr)\n",
      "044 Analysing /home/michele/sim/MoRIA/sim71002/snapshot_0044 (time 7.1499 Gyr)\n",
      "045 Analysing /home/michele/sim/MoRIA/sim71002/snapshot_0045 (time 7.1999 Gyr)\n",
      "046 Analysing /home/michele/sim/MoRIA/sim71002/snapshot_0046 (time 7.2499 Gyr)\n",
      "047 Analysing /home/michele/sim/MoRIA/sim71002/snapshot_0047 (time 7.2999 Gyr)\n",
      "048 Analysing /home/michele/sim/MoRIA/sim71002/snapshot_0048 (time 7.3499 Gyr)\n",
      "049 Analysing /home/michele/sim/MoRIA/sim71002/snapshot_0049 (time 7.3999 Gyr)\n",
      "050 Analysing /home/michele/sim/MoRIA/sim71002/snapshot_0050 (time 7.4499 Gyr)\n",
      "051 Analysing /home/michele/sim/MoRIA/sim71002/snapshot_0051 (time 7.4999 Gyr)\n",
      "052 Analysing /home/michele/sim/MoRIA/sim71002/snapshot_0052 (time 7.5499 Gyr)\n",
      "053 Analysing /home/michele/sim/MoRIA/sim71002/snapshot_0053 (time 7.5999 Gyr)\n",
      "054 Analysing /home/michele/sim/MoRIA/sim71002/snapshot_0054 (time 7.6499 Gyr)\n",
      "055 Analysing /home/michele/sim/MoRIA/sim71002/snapshot_0055 (time 7.6999 Gyr)\n",
      "056 Analysing /home/michele/sim/MoRIA/sim71002/snapshot_0056 (time 7.7499 Gyr)\n",
      "057 Analysing /home/michele/sim/MoRIA/sim71002/snapshot_0057 (time 7.7999 Gyr)\n",
      "058 Analysing /home/michele/sim/MoRIA/sim71002/snapshot_0058 (time 7.8499 Gyr)\n",
      "059 Analysing /home/michele/sim/MoRIA/sim71002/snapshot_0059 (time 7.8999 Gyr)\n",
      "060 Analysing /home/michele/sim/MoRIA/sim71002/snapshot_0060 (time 7.9499 Gyr)\n",
      "061 Analysing /home/michele/sim/MoRIA/sim71002/snapshot_0061 (time 7.9999 Gyr)\n",
      "062 Analysing /home/michele/sim/MoRIA/sim71002/snapshot_0062 (time 8.0499 Gyr)\n",
      "063 Analysing /home/michele/sim/MoRIA/sim71002/snapshot_0063 (time 8.0999 Gyr)\n",
      "064 Analysing /home/michele/sim/MoRIA/sim71002/snapshot_0064 (time 8.1499 Gyr)\n",
      "065 Analysing /home/michele/sim/MoRIA/sim71002/snapshot_0065 (time 8.1999 Gyr)\n",
      "066 Analysing /home/michele/sim/MoRIA/sim71002/snapshot_0066 (time 8.2499 Gyr)\n",
      "067 Analysing /home/michele/sim/MoRIA/sim71002/snapshot_0067 (time 8.2999 Gyr)\n",
      "068 Analysing /home/michele/sim/MoRIA/sim71002/snapshot_0068 (time 8.3499 Gyr)\n",
      "069 Analysing /home/michele/sim/MoRIA/sim71002/snapshot_0069 (time 8.3999 Gyr)\n",
      "070 Analysing /home/michele/sim/MoRIA/sim71002/snapshot_0070 (time 8.4499 Gyr)\n",
      "071 Analysing /home/michele/sim/MoRIA/sim71002/snapshot_0071 (time 8.4999 Gyr)\n",
      "072 Analysing /home/michele/sim/MoRIA/sim71002/snapshot_0072 (time 8.5499 Gyr)\n",
      "073 Analysing /home/michele/sim/MoRIA/sim71002/snapshot_0073 (time 8.5999 Gyr)\n",
      "074 Analysing /home/michele/sim/MoRIA/sim71002/snapshot_0074 (time 8.6499 Gyr)\n",
      "075 Analysing /home/michele/sim/MoRIA/sim71002/snapshot_0075 (time 8.6999 Gyr)\n",
      "076 Analysing /home/michele/sim/MoRIA/sim71002/snapshot_0076 (time 8.7499 Gyr)\n",
      "077 Analysing /home/michele/sim/MoRIA/sim71002/snapshot_0077 (time 8.7999 Gyr)\n",
      "078 Analysing /home/michele/sim/MoRIA/sim71002/snapshot_0078 (time 8.8499 Gyr)\n",
      "079 Analysing /home/michele/sim/MoRIA/sim71002/snapshot_0079 (time 8.8999 Gyr)\n",
      "080 Analysing /home/michele/sim/MoRIA/sim71002/snapshot_0080 (time 8.9499 Gyr)\n",
      "081 Analysing /home/michele/sim/MoRIA/sim71002/snapshot_0081 (time 8.9999 Gyr)\n",
      "082 Analysing /home/michele/sim/MoRIA/sim71002/snapshot_0082 (time 9.0499 Gyr)\n",
      "083 Analysing /home/michele/sim/MoRIA/sim71002/snapshot_0083 (time 9.0999 Gyr)\n",
      "084 Analysing /home/michele/sim/MoRIA/sim71002/snapshot_0084 (time 9.1499 Gyr)\n",
      "085 Analysing /home/michele/sim/MoRIA/sim71002/snapshot_0085 (time 9.1999 Gyr)\n",
      "086 Analysing /home/michele/sim/MoRIA/sim71002/snapshot_0086 (time 9.2499 Gyr)\n",
      "087 Analysing /home/michele/sim/MoRIA/sim71002/snapshot_0087 (time 9.2999 Gyr)\n",
      "088 Analysing /home/michele/sim/MoRIA/sim71002/snapshot_0088 (time 9.3499 Gyr)\n",
      "089 Analysing /home/michele/sim/MoRIA/sim71002/snapshot_0089 (time 9.3999 Gyr)\n",
      "090 Analysing /home/michele/sim/MoRIA/sim71002/snapshot_0090 (time 9.4499 Gyr)\n",
      "091 Analysing /home/michele/sim/MoRIA/sim71002/snapshot_0091 (time 9.4999 Gyr)\n",
      "092 Analysing /home/michele/sim/MoRIA/sim71002/snapshot_0092 (time 9.5499 Gyr)\n",
      "093 Analysing /home/michele/sim/MoRIA/sim71002/snapshot_0093 (time 9.5999 Gyr)\n",
      "094 Analysing /home/michele/sim/MoRIA/sim71002/snapshot_0094 (time 9.6499 Gyr)\n",
      "095 Analysing /home/michele/sim/MoRIA/sim71002/snapshot_0095 (time 9.6999 Gyr)\n",
      "096 Analysing /home/michele/sim/MoRIA/sim71002/snapshot_0096 (time 9.7499 Gyr)\n",
      "097 Analysing /home/michele/sim/MoRIA/sim71002/snapshot_0097 (time 9.7999 Gyr)\n",
      "098 Analysing /home/michele/sim/MoRIA/sim71002/snapshot_0098 (time 9.8499 Gyr)\n",
      "099 Analysing /home/michele/sim/MoRIA/sim71002/snapshot_0099 (time 9.8999 Gyr)\n",
      "100 Analysing /home/michele/sim/MoRIA/sim71002/snapshot_0100 (time 9.9499 Gyr)\n",
      "101 Analysing /home/michele/sim/MoRIA/sim71002/snapshot_0101 (time 9.9999 Gyr)\n",
      "102 Analysing /home/michele/sim/MoRIA/sim71002/snapshot_0102 (time 10.0499 Gyr)\n",
      "103 Analysing /home/michele/sim/MoRIA/sim71002/snapshot_0103 (time 10.0999 Gyr)\n"
     ]
    },
    {
     "name": "stdout",
     "output_type": "stream",
     "text": [
      "104 Analysing /home/michele/sim/MoRIA/sim71002/snapshot_0104 (time 10.1499 Gyr)\n",
      "105 Analysing /home/michele/sim/MoRIA/sim71002/snapshot_0105 (time 10.1999 Gyr)\n",
      "106 Analysing /home/michele/sim/MoRIA/sim71002/snapshot_0106 (time 10.2499 Gyr)\n",
      "107 Analysing /home/michele/sim/MoRIA/sim71002/snapshot_0107 (time 10.2999 Gyr)\n",
      "108 Analysing /home/michele/sim/MoRIA/sim71002/snapshot_0108 (time 10.3499 Gyr)\n",
      "109 Analysing /home/michele/sim/MoRIA/sim71002/snapshot_0109 (time 10.3999 Gyr)\n",
      "110 Analysing /home/michele/sim/MoRIA/sim71002/snapshot_0110 (time 10.4499 Gyr)\n",
      "111 Analysing /home/michele/sim/MoRIA/sim71002/snapshot_0111 (time 10.4999 Gyr)\n",
      "112 Analysing /home/michele/sim/MoRIA/sim71002/snapshot_0112 (time 10.5499 Gyr)\n",
      "113 Analysing /home/michele/sim/MoRIA/sim71002/snapshot_0113 (time 10.5999 Gyr)\n",
      "114 Analysing /home/michele/sim/MoRIA/sim71002/snapshot_0114 (time 10.6499 Gyr)\n",
      "115 Analysing /home/michele/sim/MoRIA/sim71002/snapshot_0115 (time 10.6999 Gyr)\n",
      "116 Analysing /home/michele/sim/MoRIA/sim71002/snapshot_0116 (time 10.7499 Gyr)\n",
      "117 Analysing /home/michele/sim/MoRIA/sim71002/snapshot_0117 (time 10.7999 Gyr)\n",
      "118 Analysing /home/michele/sim/MoRIA/sim71002/snapshot_0118 (time 10.8499 Gyr)\n",
      "119 Analysing /home/michele/sim/MoRIA/sim71002/snapshot_0119 (time 10.8999 Gyr)\n",
      "120 Analysing /home/michele/sim/MoRIA/sim71002/snapshot_0120 (time 10.9499 Gyr)\n",
      "121 Analysing /home/michele/sim/MoRIA/sim71002/snapshot_0121 (time 10.9999 Gyr)\n",
      "122 Analysing /home/michele/sim/MoRIA/sim71002/snapshot_0122 (time 11.0499 Gyr)\n",
      "123 Analysing /home/michele/sim/MoRIA/sim71002/snapshot_0123 (time 11.0999 Gyr)\n",
      "124 Analysing /home/michele/sim/MoRIA/sim71002/snapshot_0124 (time 11.1499 Gyr)\n",
      "125 Analysing /home/michele/sim/MoRIA/sim71002/snapshot_0125 (time 11.1999 Gyr)\n",
      "126 Analysing /home/michele/sim/MoRIA/sim71002/snapshot_0126 (time 11.2499 Gyr)\n",
      "127 Analysing /home/michele/sim/MoRIA/sim71002/snapshot_0127 (time 11.2999 Gyr)\n",
      "128 Analysing /home/michele/sim/MoRIA/sim71002/snapshot_0128 (time 11.3499 Gyr)\n",
      "129 Analysing /home/michele/sim/MoRIA/sim71002/snapshot_0129 (time 11.3999 Gyr)\n",
      "130 Analysing /home/michele/sim/MoRIA/sim71002/snapshot_0130 (time 11.4499 Gyr)\n",
      "131 Analysing /home/michele/sim/MoRIA/sim71002/snapshot_0131 (time 11.4999 Gyr)\n",
      "132 Analysing /home/michele/sim/MoRIA/sim71002/snapshot_0132 (time 11.5499 Gyr)\n",
      "133 Analysing /home/michele/sim/MoRIA/sim71002/snapshot_0133 (time 11.5999 Gyr)\n",
      "134 Analysing /home/michele/sim/MoRIA/sim71002/snapshot_0134 (time 11.6499 Gyr)\n",
      "135 Analysing /home/michele/sim/MoRIA/sim71002/snapshot_0135 (time 11.6999 Gyr)\n",
      "136 Analysing /home/michele/sim/MoRIA/sim71002/snapshot_0136 (time 11.7499 Gyr)\n",
      "137 Analysing /home/michele/sim/MoRIA/sim71002/snapshot_0137 (time 11.7999 Gyr)\n",
      "138 Analysing /home/michele/sim/MoRIA/sim71002/snapshot_0138 (time 11.8499 Gyr)\n",
      "139 Analysing /home/michele/sim/MoRIA/sim71002/snapshot_0139 (time 11.8999 Gyr)\n",
      "140 Analysing /home/michele/sim/MoRIA/sim71002/snapshot_0140 (time 11.9499 Gyr)\n",
      "141 Analysing /home/michele/sim/MoRIA/sim71002/snapshot_0141 (time 11.9999 Gyr)\n",
      "142 Analysing /home/michele/sim/MoRIA/sim71002/snapshot_0142 (time 12.0499 Gyr)\n",
      "143 Analysing /home/michele/sim/MoRIA/sim71002/snapshot_0143 (time 12.0999 Gyr)\n",
      "144 Analysing /home/michele/sim/MoRIA/sim71002/snapshot_0144 (time 12.1499 Gyr)\n",
      "145 Analysing /home/michele/sim/MoRIA/sim71002/snapshot_0145 (time 12.1999 Gyr)\n",
      "146 Analysing /home/michele/sim/MoRIA/sim71002/snapshot_0146 (time 12.2499 Gyr)\n",
      "147 Analysing /home/michele/sim/MoRIA/sim71002/snapshot_0147 (time 12.2999 Gyr)\n",
      "148 Analysing /home/michele/sim/MoRIA/sim71002/snapshot_0148 (time 12.3499 Gyr)\n",
      "149 Analysing /home/michele/sim/MoRIA/sim71002/snapshot_0149 (time 12.3999 Gyr)\n",
      "150 Analysing /home/michele/sim/MoRIA/sim71002/snapshot_0150 (time 12.4499 Gyr)\n",
      "151 Analysing /home/michele/sim/MoRIA/sim71002/snapshot_0151 (time 12.4999 Gyr)\n",
      "152 Analysing /home/michele/sim/MoRIA/sim71002/snapshot_0152 (time 12.5499 Gyr)\n",
      "153 Analysing /home/michele/sim/MoRIA/sim71002/snapshot_0153 (time 12.5999 Gyr)\n",
      "154 Analysing /home/michele/sim/MoRIA/sim71002/snapshot_0154 (time 12.6499 Gyr)\n",
      "155 Analysing /home/michele/sim/MoRIA/sim71002/snapshot_0155 (time 12.6999 Gyr)\n",
      "156 Analysing /home/michele/sim/MoRIA/sim71002/snapshot_0156 (time 12.7499 Gyr)\n",
      "157 Analysing /home/michele/sim/MoRIA/sim71002/snapshot_0157 (time 12.7999 Gyr)\n",
      "158 Analysing /home/michele/sim/MoRIA/sim71002/snapshot_0158 (time 12.8499 Gyr)\n",
      "159 Analysing /home/michele/sim/MoRIA/sim71002/snapshot_0159 (time 12.8999 Gyr)\n",
      "160 Analysing /home/michele/sim/MoRIA/sim71002/snapshot_0160 (time 12.9499 Gyr)\n",
      "161 Analysing /home/michele/sim/MoRIA/sim71002/snapshot_0161 (time 12.9999 Gyr)\n",
      "162 Analysing /home/michele/sim/MoRIA/sim71002/snapshot_0162 (time 13.0499 Gyr)\n",
      "163 Analysing /home/michele/sim/MoRIA/sim71002/snapshot_0163 (time 13.0999 Gyr)\n",
      "164 Analysing /home/michele/sim/MoRIA/sim71002/snapshot_0164 (time 13.1324 Gyr)\n",
      "000 Analysing /home/michele/sim/MySimulations/Moria8Gyr_tidal/sim71002/out/snapshot_0001 (time 8.2356 Gyr)\n",
      "001 Analysing /home/michele/sim/MySimulations/Moria8Gyr_tidal/sim71002/out/snapshot_0002 (time 8.2880 Gyr)\n",
      "002 Analysing /home/michele/sim/MySimulations/Moria8Gyr_tidal/sim71002/out/snapshot_0003 (time 8.3405 Gyr)\n",
      "003 Analysing /home/michele/sim/MySimulations/Moria8Gyr_tidal/sim71002/out/snapshot_0004 (time 8.3929 Gyr)\n",
      "004 Analysing /home/michele/sim/MySimulations/Moria8Gyr_tidal/sim71002/out/snapshot_0005 (time 8.4454 Gyr)\n",
      "005 Analysing /home/michele/sim/MySimulations/Moria8Gyr_tidal/sim71002/out/snapshot_0006 (time 8.4978 Gyr)\n",
      "006 Analysing /home/michele/sim/MySimulations/Moria8Gyr_tidal/sim71002/out/snapshot_0007 (time 8.5503 Gyr)\n",
      "007 Analysing /home/michele/sim/MySimulations/Moria8Gyr_tidal/sim71002/out/snapshot_0008 (time 8.6028 Gyr)\n",
      "008 Analysing /home/michele/sim/MySimulations/Moria8Gyr_tidal/sim71002/out/snapshot_0009 (time 8.6552 Gyr)\n",
      "009 Analysing /home/michele/sim/MySimulations/Moria8Gyr_tidal/sim71002/out/snapshot_0010 (time 8.7077 Gyr)\n",
      "010 Analysing /home/michele/sim/MySimulations/Moria8Gyr_tidal/sim71002/out/snapshot_0011 (time 8.7601 Gyr)\n",
      "011 Analysing /home/michele/sim/MySimulations/Moria8Gyr_tidal/sim71002/out/snapshot_0012 (time 8.8126 Gyr)\n",
      "012 Analysing /home/michele/sim/MySimulations/Moria8Gyr_tidal/sim71002/out/snapshot_0013 (time 8.8650 Gyr)\n",
      "013 Analysing /home/michele/sim/MySimulations/Moria8Gyr_tidal/sim71002/out/snapshot_0014 (time 8.9175 Gyr)\n",
      "014 Analysing /home/michele/sim/MySimulations/Moria8Gyr_tidal/sim71002/out/snapshot_0015 (time 8.9700 Gyr)\n",
      "015 Analysing /home/michele/sim/MySimulations/Moria8Gyr_tidal/sim71002/out/snapshot_0016 (time 9.0224 Gyr)\n",
      "016 Analysing /home/michele/sim/MySimulations/Moria8Gyr_tidal/sim71002/out/snapshot_0017 (time 9.0749 Gyr)\n",
      "017 Analysing /home/michele/sim/MySimulations/Moria8Gyr_tidal/sim71002/out/snapshot_0018 (time 9.1273 Gyr)\n",
      "018 Analysing /home/michele/sim/MySimulations/Moria8Gyr_tidal/sim71002/out/snapshot_0019 (time 9.1798 Gyr)\n",
      "019 Analysing /home/michele/sim/MySimulations/Moria8Gyr_tidal/sim71002/out/snapshot_0020 (time 9.2322 Gyr)\n",
      "020 Analysing /home/michele/sim/MySimulations/Moria8Gyr_tidal/sim71002/out/snapshot_0021 (time 9.2847 Gyr)\n",
      "021 Analysing /home/michele/sim/MySimulations/Moria8Gyr_tidal/sim71002/out/snapshot_0022 (time 9.3371 Gyr)\n",
      "022 Analysing /home/michele/sim/MySimulations/Moria8Gyr_tidal/sim71002/out/snapshot_0023 (time 9.3896 Gyr)\n",
      "023 Analysing /home/michele/sim/MySimulations/Moria8Gyr_tidal/sim71002/out/snapshot_0024 (time 9.4421 Gyr)\n",
      "024 Analysing /home/michele/sim/MySimulations/Moria8Gyr_tidal/sim71002/out/snapshot_0025 (time 9.4945 Gyr)\n",
      "025 Analysing /home/michele/sim/MySimulations/Moria8Gyr_tidal/sim71002/out/snapshot_0026 (time 9.5470 Gyr)\n",
      "026 Analysing /home/michele/sim/MySimulations/Moria8Gyr_tidal/sim71002/out/snapshot_0027 (time 9.5994 Gyr)\n",
      "027 Analysing /home/michele/sim/MySimulations/Moria8Gyr_tidal/sim71002/out/snapshot_0028 (time 9.6519 Gyr)\n",
      "028 Analysing /home/michele/sim/MySimulations/Moria8Gyr_tidal/sim71002/out/snapshot_0029 (time 9.7043 Gyr)\n",
      "029 Analysing /home/michele/sim/MySimulations/Moria8Gyr_tidal/sim71002/out/snapshot_0030 (time 9.7568 Gyr)\n",
      "030 Analysing /home/michele/sim/MySimulations/Moria8Gyr_tidal/sim71002/out/snapshot_0031 (time 9.8092 Gyr)\n"
     ]
    },
    {
     "name": "stdout",
     "output_type": "stream",
     "text": [
      "031 Analysing /home/michele/sim/MySimulations/Moria8Gyr_tidal/sim71002/out/snapshot_0032 (time 9.8617 Gyr)\n",
      "032 Analysing /home/michele/sim/MySimulations/Moria8Gyr_tidal/sim71002/out/snapshot_0033 (time 9.9142 Gyr)\n",
      "033 Analysing /home/michele/sim/MySimulations/Moria8Gyr_tidal/sim71002/out/snapshot_0034 (time 9.9666 Gyr)\n",
      "034 Analysing /home/michele/sim/MySimulations/Moria8Gyr_tidal/sim71002/out/snapshot_0035 (time 10.0191 Gyr)\n",
      "035 Analysing /home/michele/sim/MySimulations/Moria8Gyr_tidal/sim71002/out/snapshot_0036 (time 10.0715 Gyr)\n",
      "036 Analysing /home/michele/sim/MySimulations/Moria8Gyr_tidal/sim71002/out/snapshot_0037 (time 10.1240 Gyr)\n",
      "037 Analysing /home/michele/sim/MySimulations/Moria8Gyr_tidal/sim71002/out/snapshot_0038 (time 10.1764 Gyr)\n",
      "038 Analysing /home/michele/sim/MySimulations/Moria8Gyr_tidal/sim71002/out/snapshot_0039 (time 10.2289 Gyr)\n",
      "039 Analysing /home/michele/sim/MySimulations/Moria8Gyr_tidal/sim71002/out/snapshot_0040 (time 10.2814 Gyr)\n",
      "040 Analysing /home/michele/sim/MySimulations/Moria8Gyr_tidal/sim71002/out/snapshot_0041 (time 10.3338 Gyr)\n",
      "041 Analysing /home/michele/sim/MySimulations/Moria8Gyr_tidal/sim71002/out/snapshot_0042 (time 10.3863 Gyr)\n",
      "042 Analysing /home/michele/sim/MySimulations/Moria8Gyr_tidal/sim71002/out/snapshot_0043 (time 10.4387 Gyr)\n",
      "043 Analysing /home/michele/sim/MySimulations/Moria8Gyr_tidal/sim71002/out/snapshot_0044 (time 10.4912 Gyr)\n",
      "044 Analysing /home/michele/sim/MySimulations/Moria8Gyr_tidal/sim71002/out/snapshot_0045 (time 10.5436 Gyr)\n",
      "045 Analysing /home/michele/sim/MySimulations/Moria8Gyr_tidal/sim71002/out/snapshot_0046 (time 10.5961 Gyr)\n",
      "046 Analysing /home/michele/sim/MySimulations/Moria8Gyr_tidal/sim71002/out/snapshot_0047 (time 10.6485 Gyr)\n",
      "047 Analysing /home/michele/sim/MySimulations/Moria8Gyr_tidal/sim71002/out/snapshot_0048 (time 10.7010 Gyr)\n",
      "048 Analysing /home/michele/sim/MySimulations/Moria8Gyr_tidal/sim71002/out/snapshot_0049 (time 10.7534 Gyr)\n",
      "049 Analysing /home/michele/sim/MySimulations/Moria8Gyr_tidal/sim71002/out/snapshot_0050 (time 10.8059 Gyr)\n",
      "050 Analysing /home/michele/sim/MySimulations/Moria8Gyr_tidal/sim71002/out/snapshot_0051 (time 10.8584 Gyr)\n",
      "051 Analysing /home/michele/sim/MySimulations/Moria8Gyr_tidal/sim71002/out/snapshot_0052 (time 10.9108 Gyr)\n",
      "052 Analysing /home/michele/sim/MySimulations/Moria8Gyr_tidal/sim71002/out/snapshot_0053 (time 10.9633 Gyr)\n",
      "053 Analysing /home/michele/sim/MySimulations/Moria8Gyr_tidal/sim71002/out/snapshot_0054 (time 11.0157 Gyr)\n",
      "054 Analysing /home/michele/sim/MySimulations/Moria8Gyr_tidal/sim71002/out/snapshot_0055 (time 11.0682 Gyr)\n",
      "055 Analysing /home/michele/sim/MySimulations/Moria8Gyr_tidal/sim71002/out/snapshot_0056 (time 11.1206 Gyr)\n",
      "056 Analysing /home/michele/sim/MySimulations/Moria8Gyr_tidal/sim71002/out/snapshot_0057 (time 11.1730 Gyr)\n",
      "057 Analysing /home/michele/sim/MySimulations/Moria8Gyr_tidal/sim71002/out/snapshot_0058 (time 11.2256 Gyr)\n",
      "058 Analysing /home/michele/sim/MySimulations/Moria8Gyr_tidal/sim71002/out/snapshot_0059 (time 11.2780 Gyr)\n",
      "059 Analysing /home/michele/sim/MySimulations/Moria8Gyr_tidal/sim71002/out/snapshot_0060 (time 11.3305 Gyr)\n",
      "060 Analysing /home/michele/sim/MySimulations/Moria8Gyr_tidal/sim71002/out/snapshot_0061 (time 11.3829 Gyr)\n",
      "061 Analysing /home/michele/sim/MySimulations/Moria8Gyr_tidal/sim71002/out/snapshot_0062 (time 11.4353 Gyr)\n",
      "062 Analysing /home/michele/sim/MySimulations/Moria8Gyr_tidal/sim71002/out/snapshot_0063 (time 11.4878 Gyr)\n",
      "063 Analysing /home/michele/sim/MySimulations/Moria8Gyr_tidal/sim71002/out/snapshot_0064 (time 11.5403 Gyr)\n",
      "064 Analysing /home/michele/sim/MySimulations/Moria8Gyr_tidal/sim71002/out/snapshot_0065 (time 11.5927 Gyr)\n",
      "065 Analysing /home/michele/sim/MySimulations/Moria8Gyr_tidal/sim71002/out/snapshot_0066 (time 11.6452 Gyr)\n",
      "066 Analysing /home/michele/sim/MySimulations/Moria8Gyr_tidal/sim71002/out/snapshot_0067 (time 11.6977 Gyr)\n",
      "067 Analysing /home/michele/sim/MySimulations/Moria8Gyr_tidal/sim71002/out/snapshot_0068 (time 11.7501 Gyr)\n",
      "068 Analysing /home/michele/sim/MySimulations/Moria8Gyr_tidal/sim71002/out/snapshot_0069 (time 11.8025 Gyr)\n",
      "069 Analysing /home/michele/sim/MySimulations/Moria8Gyr_tidal/sim71002/out/snapshot_0070 (time 11.8550 Gyr)\n",
      "070 Analysing /home/michele/sim/MySimulations/Moria8Gyr_tidal/sim71002/out/snapshot_0071 (time 11.9074 Gyr)\n",
      "071 Analysing /home/michele/sim/MySimulations/Moria8Gyr_tidal/sim71002/out/snapshot_0072 (time 11.9599 Gyr)\n",
      "072 Analysing /home/michele/sim/MySimulations/Moria8Gyr_tidal/sim71002/out/snapshot_0073 (time 12.0124 Gyr)\n",
      "073 Analysing /home/michele/sim/MySimulations/Moria8Gyr_tidal/sim71002/out/snapshot_0074 (time 12.0649 Gyr)\n",
      "074 Analysing /home/michele/sim/MySimulations/Moria8Gyr_tidal/sim71002/out/snapshot_0075 (time 12.1173 Gyr)\n",
      "075 Analysing /home/michele/sim/MySimulations/Moria8Gyr_tidal/sim71002/out/snapshot_0076 (time 12.1697 Gyr)\n",
      "076 Analysing /home/michele/sim/MySimulations/Moria8Gyr_tidal/sim71002/out/snapshot_0077 (time 12.2222 Gyr)\n",
      "077 Analysing /home/michele/sim/MySimulations/Moria8Gyr_tidal/sim71002/out/snapshot_0078 (time 12.2747 Gyr)\n",
      "078 Analysing /home/michele/sim/MySimulations/Moria8Gyr_tidal/sim71002/out/snapshot_0079 (time 12.3271 Gyr)\n",
      "079 Analysing /home/michele/sim/MySimulations/Moria8Gyr_tidal/sim71002/out/snapshot_0080 (time 12.3796 Gyr)\n",
      "080 Analysing /home/michele/sim/MySimulations/Moria8Gyr_tidal/sim71002/out/snapshot_0081 (time 12.4320 Gyr)\n",
      "081 Analysing /home/michele/sim/MySimulations/Moria8Gyr_tidal/sim71002/out/snapshot_0082 (time 12.4845 Gyr)\n",
      "082 Analysing /home/michele/sim/MySimulations/Moria8Gyr_tidal/sim71002/out/snapshot_0083 (time 12.5369 Gyr)\n",
      "083 Analysing /home/michele/sim/MySimulations/Moria8Gyr_tidal/sim71002/out/snapshot_0084 (time 12.5894 Gyr)\n",
      "084 Analysing /home/michele/sim/MySimulations/Moria8Gyr_tidal/sim71002/out/snapshot_0085 (time 12.6419 Gyr)\n",
      "085 Analysing /home/michele/sim/MySimulations/Moria8Gyr_tidal/sim71002/out/snapshot_0086 (time 12.6943 Gyr)\n",
      "086 Analysing /home/michele/sim/MySimulations/Moria8Gyr_tidal/sim71002/out/snapshot_0087 (time 12.7468 Gyr)\n",
      "087 Analysing /home/michele/sim/MySimulations/Moria8Gyr_tidal/sim71002/out/snapshot_0088 (time 12.7992 Gyr)\n",
      "088 Analysing /home/michele/sim/MySimulations/Moria8Gyr_tidal/sim71002/out/snapshot_0089 (time 12.8517 Gyr)\n",
      "089 Analysing /home/michele/sim/MySimulations/Moria8Gyr_tidal/sim71002/out/snapshot_0090 (time 12.9041 Gyr)\n",
      "090 Analysing /home/michele/sim/MySimulations/Moria8Gyr_tidal/sim71002/out/snapshot_0091 (time 12.9566 Gyr)\n",
      "091 Analysing /home/michele/sim/MySimulations/Moria8Gyr_tidal/sim71002/out/snapshot_0092 (time 13.0090 Gyr)\n",
      "092 Analysing /home/michele/sim/MySimulations/Moria8Gyr_tidal/sim71002/out/snapshot_0093 (time 13.0615 Gyr)\n",
      "093 Analysing /home/michele/sim/MySimulations/Moria8Gyr_tidal/sim71002/out/snapshot_0094 (time 13.1140 Gyr)\n",
      "094 Analysing /home/michele/sim/MySimulations/Moria8Gyr_tidal/sim71002/out/snapshot_0095 (time 13.1140 Gyr)\n"
     ]
    }
   ],
   "source": [
    "recompute = True\n",
    "# npy_file = 'cog.npy'\n",
    "if not recompute:\n",
    "    data = np.load('cog{}.npz'.format(SIM_NUMBER))\n",
    "    times_moria, cog_moria = data['times'], data['cog']\n",
    "    data = np.load('cog{}_kicked.npz'.format(SIM_NUMBER))\n",
    "    times_kicked, cog_kicked = data['times'], data['cog']\n",
    "else:\n",
    "    times_moria, cog_moria = compute_cog(moria_sim, cache_file='cog{}.npz'.format(SIM_NUMBER));\n",
    "    times_kicked, cog_kicked = compute_cog(kicked_sim, cache_file='cog{}_kicked.npz'.format(SIM_NUMBER));"
   ]
  },
  {
   "cell_type": "code",
   "execution_count": 12,
   "metadata": {},
   "outputs": [
    {
     "data": {
      "text/plain": [
       "((0, 13.11397991328508), 13.132385105582971, 13.11397991328508)"
      ]
     },
     "execution_count": 12,
     "metadata": {},
     "output_type": "execute_result"
    }
   ],
   "source": [
    "bins_sfr = 100\n",
    "trange = (min(np.min(times_moria), np.min(times_kicked)), max(np.max(times_moria), np.max(times_kicked)))\n",
    "trange = (0, min(np.max(times_moria), np.max(times_kicked)))\n",
    "bins = np.linspace(*trange, bins_sfr)\n",
    "trange, times_moria[-1], times_kicked[-1]"
   ]
  },
  {
   "cell_type": "markdown",
   "metadata": {},
   "source": [
    "Use `trange` and `range` keywords to equalize the range of the simulation between the two "
   ]
  },
  {
   "cell_type": "code",
   "execution_count": 13,
   "metadata": {
    "scrolled": false
   },
   "outputs": [
    {
     "name": "stderr",
     "output_type": "stream",
     "text": [
      "/home/michele/Software/miniconda3/lib/python3.6/site-packages/scipy/integrate/quadrature.py:709: AccuracyWarning: divmax (10) exceeded. Latest difference = 5.972695e-08\n",
      "  AccuracyWarning)\n",
      "/home/michele/Software/miniconda3/lib/python3.6/site-packages/scipy/integrate/quadrature.py:709: AccuracyWarning: divmax (10) exceeded. Latest difference = 1.037007e-09\n",
      "  AccuracyWarning)\n",
      "/home/michele/Software/miniconda3/lib/python3.6/site-packages/scipy/integrate/quadrature.py:709: AccuracyWarning: divmax (10) exceeded. Latest difference = 1.825575e-09\n",
      "  AccuracyWarning)\n",
      "/home/michele/Software/miniconda3/lib/python3.6/site-packages/scipy/integrate/quadrature.py:709: AccuracyWarning: divmax (10) exceeded. Latest difference = 3.776510e-09\n",
      "  AccuracyWarning)\n",
      "/home/michele/Software/miniconda3/lib/python3.6/site-packages/scipy/integrate/quadrature.py:709: AccuracyWarning: divmax (10) exceeded. Latest difference = 1.048614e-08\n",
      "  AccuracyWarning)\n"
     ]
    },
    {
     "data": {
      "image/png": "[encoded data removed]",
      "text/plain": [
       "<matplotlib.figure.Figure at 0x7ff941c964a8>"
      ]
     },
     "metadata": {},
     "output_type": "display_data"
    }
   ],
   "source": [
    "fig, ax = plt.subplots(figsize=(8,6))\n",
    "sfr_moria, sfr_moria_bins = pynbody.plot.sfh(moria_sim[-1], bins=bins_sfr, trange=trange, range=trange, label='MoRIA', subplot=ax)\n",
    "sfr_kicked, sfr_kicked_bins = pynbody.plot.sfh(kicked_sim[-1], bins=bins_sfr, trange=trange, range=trange, label='Kicked', subplot=ax)\n",
    "plt.xlabel('Time [Gyr]', fontsize='x-large')\n",
    "plt.ylabel('SFR [M$_\\odot$ yr$^{-1}$]', fontsize='x-large');\n",
    "plt.legend();"
   ]
  },
  {
   "cell_type": "code",
   "execution_count": 14,
   "metadata": {},
   "outputs": [],
   "source": [
    "np.testing.assert_array_equal(sfr_moria_bins, sfr_kicked_bins)"
   ]
  },
  {
   "cell_type": "code",
   "execution_count": 15,
   "metadata": {},
   "outputs": [],
   "source": [
    "# if recompute:\n",
    "#     del moria_sim, kicked_sim\n",
    "# import gc\n",
    "# gc.collect()"
   ]
  },
  {
   "cell_type": "code",
   "execution_count": 16,
   "metadata": {},
   "outputs": [
    {
     "data": {
      "text/plain": [
       "((3, 165), (165,))"
      ]
     },
     "execution_count": 16,
     "metadata": {},
     "output_type": "execute_result"
    }
   ],
   "source": [
    "cog_moria.shape, times_moria.shape"
   ]
  },
  {
   "cell_type": "code",
   "execution_count": 17,
   "metadata": {},
   "outputs": [],
   "source": [
    "def rebin_cog(sfr_times, sim_times, cog):\n",
    "    rebin_x_cog = np.interp(sfr_times, sim_times, cog[0,:])\n",
    "    rebin_y_cog = np.interp(sfr_times, sim_times, cog[1,:])\n",
    "    return rebin_x_cog, rebin_y_cog"
   ]
  },
  {
   "cell_type": "code",
   "execution_count": 18,
   "metadata": {},
   "outputs": [],
   "source": [
    "t_sfr_moria = sfr_moria_bins[:-1]\n",
    "t_sfr_kicked = sfr_kicked_bins[:-1]\n",
    "\n",
    "x_cog_moria, y_cog_moria = rebin_cog(t_sfr_moria, times_moria, cog_moria)\n",
    "x_cog_kicked, y_cog_kicked = rebin_cog(t_sfr_kicked, times_kicked, cog_kicked)"
   ]
  },
  {
   "cell_type": "code",
   "execution_count": 19,
   "metadata": {},
   "outputs": [],
   "source": [
    "np.testing.assert_array_equal(t_sfr_moria, t_sfr_kicked)"
   ]
  },
  {
   "cell_type": "code",
   "execution_count": 20,
   "metadata": {},
   "outputs": [],
   "source": [
    "x_cog, y_cog = cog_moria[0,:], cog_moria[1,:]"
   ]
  },
  {
   "cell_type": "markdown",
   "metadata": {},
   "source": [
    "## Comparing COG position and SFH"
   ]
  },
  {
   "cell_type": "code",
   "execution_count": 21,
   "metadata": {},
   "outputs": [
    {
     "data": {
      "text/html": [
       "\n",
       "    <div class=\"bk-root\">\n",
       "        <a href=\"https://bokeh.pydata.org\" target=\"_blank\" class=\"bk-logo bk-logo-small bk-logo-notebook\"></a>\n",
       "        <span id=\"b4966d70-6516-4af8-a36e-6b30275c69e4\">Loading BokehJS ...</span>\n",
       "    </div>"
      ]
     },
     "metadata": {},
     "output_type": "display_data"
    },
    {
     "data": {
      "application/javascript": [
       "\n",
       "(function(root) {\n",
       "  function now() {\n",
       "    return new Date();\n",
       "  }\n",
       "\n",
       "  var force = true;\n",
       "\n",
       "  if (typeof (root._bokeh_onload_callbacks) === \"undefined\" || force === true) {\n",
       "    root._bokeh_onload_callbacks = [];\n",
       "    root._bokeh_is_loading = undefined;\n",
       "  }\n",
       "\n",
       "  var JS_MIME_TYPE = 'application/javascript';\n",
       "  var HTML_MIME_TYPE = 'text/html';\n",
       "  var EXEC_MIME_TYPE = 'application/vnd.bokehjs_exec.v0+json';\n",
       "  var CLASS_NAME = 'output_bokeh rendered_html';\n",
       "\n",
       "  /**\n",
       "   * Render data to the DOM node\n",
       "   */\n",
       "  function render(props, node) {\n",
       "    var script = document.createElement(\"script\");\n",
       "    node.appendChild(script);\n",
       "  }\n",
       "\n",
       "  /**\n",
       "   * Handle when an output is cleared or removed\n",
       "   */\n",
       "  function handleClearOutput(event, handle) {\n",
       "    var cell = handle.cell;\n",
       "\n",
       "    var id = cell.output_area._bokeh_element_id;\n",
       "    var server_id = cell.output_area._bokeh_server_id;\n",
       "    // Clean up Bokeh references\n",
       "    if (id !== undefined) {\n",
       "      Bokeh.index[id].model.document.clear();\n",
       "      delete Bokeh.index[id];\n",
       "    }\n",
       "\n",
       "    if (server_id !== undefined) {\n",
       "      // Clean up Bokeh references\n",
       "      var cmd = \"from bokeh.io.state import curstate; print(curstate().uuid_to_server['\" + server_id + \"'].get_sessions()[0].document.roots[0]._id)\";\n",
       "      cell.notebook.kernel.execute(cmd, {\n",
       "        iopub: {\n",
       "          output: function(msg) {\n",
       "            var element_id = msg.content.text.trim();\n",
       "            Bokeh.index[element_id].model.document.clear();\n",
       "            delete Bokeh.index[element_id];\n",
       "          }\n",
       "        }\n",
       "      });\n",
       "      // Destroy server and session\n",
       "      var cmd = \"import bokeh.io.notebook as ion; ion.destroy_server('\" + server_id + \"')\";\n",
       "      cell.notebook.kernel.execute(cmd);\n",
       "    }\n",
       "  }\n",
       "\n",
       "  /**\n",
       "   * Handle when a new output is added\n",
       "   */\n",
       "  function handleAddOutput(event, handle) {\n",
       "    var output_area = handle.output_area;\n",
       "    var output = handle.output;\n",
       "\n",
       "    // limit handleAddOutput to display_data with EXEC_MIME_TYPE content only\n",
       "    if ((output.output_type != \"display_data\") || (!output.data.hasOwnProperty(EXEC_MIME_TYPE))) {\n",
       "      return\n",
       "    }\n",
       "\n",
       "    var toinsert = output_area.element.find(\".\" + CLASS_NAME.split(' ')[0]);\n",
       "\n",
       "    if (output.metadata[EXEC_MIME_TYPE][\"id\"] !== undefined) {\n",
       "      toinsert[0].firstChild.textContent = output.data[JS_MIME_TYPE];\n",
       "      // store reference to embed id on output_area\n",
       "      output_area._bokeh_element_id = output.metadata[EXEC_MIME_TYPE][\"id\"];\n",
       "    }\n",
       "    if (output.metadata[EXEC_MIME_TYPE][\"server_id\"] !== undefined) {\n",
       "      var bk_div = document.createElement(\"div\");\n",
       "      bk_div.innerHTML = output.data[HTML_MIME_TYPE];\n",
       "      var script_attrs = bk_div.children[0].attributes;\n",
       "      for (var i = 0; i < script_attrs.length; i++) {\n",
       "        toinsert[0].firstChild.setAttribute(script_attrs[i].name, script_attrs[i].value);\n",
       "      }\n",
       "      // store reference to server id on output_area\n",
       "      output_area._bokeh_server_id = output.metadata[EXEC_MIME_TYPE][\"server_id\"];\n",
       "    }\n",
       "  }\n",
       "\n",
       "  function register_renderer(events, OutputArea) {\n",
       "\n",
       "    function append_mime(data, metadata, element) {\n",
       "      // create a DOM node to render to\n",
       "      var toinsert = this.create_output_subarea(\n",
       "        metadata,\n",
       "        CLASS_NAME,\n",
       "        EXEC_MIME_TYPE\n",
       "      );\n",
       "      this.keyboard_manager.register_events(toinsert);\n",
       "      // Render to node\n",
       "      var props = {data: data, metadata: metadata[EXEC_MIME_TYPE]};\n",
       "      render(props, toinsert[0]);\n",
       "      element.append(toinsert);\n",
       "      return toinsert\n",
       "    }\n",
       "\n",
       "    /* Handle when an output is cleared or removed */\n",
       "    events.on('clear_output.CodeCell', handleClearOutput);\n",
       "    events.on('delete.Cell', handleClearOutput);\n",
       "\n",
       "    /* Handle when a new output is added */\n",
       "    events.on('output_added.OutputArea', handleAddOutput);\n",
       "\n",
       "    /**\n",
       "     * Register the mime type and append_mime function with output_area\n",
       "     */\n",
       "    OutputArea.prototype.register_mime_type(EXEC_MIME_TYPE, append_mime, {\n",
       "      /* Is output safe? */\n",
       "      safe: true,\n",
       "      /* Index of renderer in `output_area.display_order` */\n",
       "      index: 0\n",
       "    });\n",
       "  }\n",
       "\n",
       "  // register the mime type if in Jupyter Notebook environment and previously unregistered\n",
       "  if (root.Jupyter !== undefined) {\n",
       "    var events = require('base/js/events');\n",
       "    var OutputArea = require('notebook/js/outputarea').OutputArea;\n",
       "\n",
       "    if (OutputArea.prototype.mime_types().indexOf(EXEC_MIME_TYPE) == -1) {\n",
       "      register_renderer(events, OutputArea);\n",
       "    }\n",
       "  }\n",
       "\n",
       "  \n",
       "  if (typeof (root._bokeh_timeout) === \"undefined\" || force === true) {\n",
       "    root._bokeh_timeout = Date.now() + 5000;\n",
       "    root._bokeh_failed_load = false;\n",
       "  }\n",
       "\n",
       "  var NB_LOAD_WARNING = {'data': {'text/html':\n",
       "     \"<div style='background-color: #fdd'>\\n\"+\n",
       "     \"<p>\\n\"+\n",
       "     \"BokehJS does not appear to have successfully loaded. If loading BokehJS from CDN, this \\n\"+\n",
       "     \"may be due to a slow or bad network connection. Possible fixes:\\n\"+\n",
       "     \"</p>\\n\"+\n",
       "     \"<ul>\\n\"+\n",
       "     \"<li>re-rerun `output_notebook()` to attempt to load from CDN again, or</li>\\n\"+\n",
       "     \"<li>use INLINE resources instead, as so:</li>\\n\"+\n",
       "     \"</ul>\\n\"+\n",
       "     \"<code>\\n\"+\n",
       "     \"from bokeh.resources import INLINE\\n\"+\n",
       "     \"output_notebook(resources=INLINE)\\n\"+\n",
       "     \"</code>\\n\"+\n",
       "     \"</div>\"}};\n",
       "\n",
       "  function display_loaded() {\n",
       "    var el = document.getElementById(\"b4966d70-6516-4af8-a36e-6b30275c69e4\");\n",
       "    if (el != null) {\n",
       "      el.textContent = \"BokehJS is loading...\";\n",
       "    }\n",
       "    if (root.Bokeh !== undefined) {\n",
       "      if (el != null) {\n",
       "        el.textContent = \"BokehJS \" + root.Bokeh.version + \" successfully loaded.\";\n",
       "      }\n",
       "    } else if (Date.now() < root._bokeh_timeout) {\n",
       "      setTimeout(display_loaded, 100)\n",
       "    }\n",
       "  }\n",
       "\n",
       "\n",
       "  function run_callbacks() {\n",
       "    try {\n",
       "      root._bokeh_onload_callbacks.forEach(function(callback) { callback() });\n",
       "    }\n",
       "    finally {\n",
       "      delete root._bokeh_onload_callbacks\n",
       "    }\n",
       "    console.info(\"Bokeh: all callbacks have finished\");\n",
       "  }\n",
       "\n",
       "  function load_libs(js_urls, callback) {\n",
       "    root._bokeh_onload_callbacks.push(callback);\n",
       "    if (root._bokeh_is_loading > 0) {\n",
       "      console.log(\"Bokeh: BokehJS is being loaded, scheduling callback at\", now());\n",
       "      return null;\n",
       "    }\n",
       "    if (js_urls == null || js_urls.length === 0) {\n",
       "      run_callbacks();\n",
       "      return null;\n",
       "    }\n",
       "    console.log(\"Bokeh: BokehJS not loaded, scheduling load and callback at\", now());\n",
       "    root._bokeh_is_loading = js_urls.length;\n",
       "    for (var i = 0; i < js_urls.length; i++) {\n",
       "      var url = js_urls[i];\n",
       "      var s = document.createElement('script');\n",
       "      s.src = url;\n",
       "      s.async = false;\n",
       "      s.onreadystatechange = s.onload = function() {\n",
       "        root._bokeh_is_loading--;\n",
       "        if (root._bokeh_is_loading === 0) {\n",
       "          console.log(\"Bokeh: all BokehJS libraries loaded\");\n",
       "          run_callbacks()\n",
       "        }\n",
       "      };\n",
       "      s.onerror = function() {\n",
       "        console.warn(\"failed to load library \" + url);\n",
       "      };\n",
       "      console.log(\"Bokeh: injecting script tag for BokehJS library: \", url);\n",
       "      document.getElementsByTagName(\"head\")[0].appendChild(s);\n",
       "    }\n",
       "  };var element = document.getElementById(\"b4966d70-6516-4af8-a36e-6b30275c69e4\");\n",
       "  if (element == null) {\n",
       "    console.log(\"Bokeh: ERROR: autoload.js configured with elementid 'b4966d70-6516-4af8-a36e-6b30275c69e4' but no matching script tag was found. \")\n",
       "    return false;\n",
       "  }\n",
       "\n",
       "  var js_urls = [\"https://cdn.pydata.org/bokeh/release/bokeh-0.12.13.min.js\", \"https://cdn.pydata.org/bokeh/release/bokeh-widgets-0.12.13.min.js\", \"https://cdn.pydata.org/bokeh/release/bokeh-tables-0.12.13.min.js\", \"https://cdn.pydata.org/bokeh/release/bokeh-gl-0.12.13.min.js\"];\n",
       "\n",
       "  var inline_js = [\n",
       "    function(Bokeh) {\n",
       "      Bokeh.set_log_level(\"info\");\n",
       "    },\n",
       "    \n",
       "    function(Bokeh) {\n",
       "      \n",
       "    },\n",
       "    function(Bokeh) {\n",
       "      console.log(\"Bokeh: injecting CSS: https://cdn.pydata.org/bokeh/release/bokeh-0.12.13.min.css\");\n",
       "      Bokeh.embed.inject_css(\"https://cdn.pydata.org/bokeh/release/bokeh-0.12.13.min.css\");\n",
       "      console.log(\"Bokeh: injecting CSS: https://cdn.pydata.org/bokeh/release/bokeh-widgets-0.12.13.min.css\");\n",
       "      Bokeh.embed.inject_css(\"https://cdn.pydata.org/bokeh/release/bokeh-widgets-0.12.13.min.css\");\n",
       "      console.log(\"Bokeh: injecting CSS: https://cdn.pydata.org/bokeh/release/bokeh-tables-0.12.13.min.css\");\n",
       "      Bokeh.embed.inject_css(\"https://cdn.pydata.org/bokeh/release/bokeh-tables-0.12.13.min.css\");\n",
       "    }\n",
       "  ];\n",
       "\n",
       "  function run_inline_js() {\n",
       "    \n",
       "    if ((root.Bokeh !== undefined) || (force === true)) {\n",
       "      for (var i = 0; i < inline_js.length; i++) {\n",
       "        inline_js[i].call(root, root.Bokeh);\n",
       "      }if (force === true) {\n",
       "        display_loaded();\n",
       "      }} else if (Date.now() < root._bokeh_timeout) {\n",
       "      setTimeout(run_inline_js, 100);\n",
       "    } else if (!root._bokeh_failed_load) {\n",
       "      console.log(\"Bokeh: BokehJS failed to load within specified timeout.\");\n",
       "      root._bokeh_failed_load = true;\n",
       "    } else if (force !== true) {\n",
       "      var cell = $(document.getElementById(\"b4966d70-6516-4af8-a36e-6b30275c69e4\")).parents('.cell').data().cell;\n",
       "      cell.output_area.append_execute_result(NB_LOAD_WARNING)\n",
       "    }\n",
       "\n",
       "  }\n",
       "\n",
       "  if (root._bokeh_is_loading === 0) {\n",
       "    console.log(\"Bokeh: BokehJS loaded, going straight to plotting\");\n",
       "    run_inline_js();\n",
       "  } else {\n",
       "    load_libs(js_urls, function() {\n",
       "      console.log(\"Bokeh: BokehJS plotting callback run at\", now());\n",
       "      run_inline_js();\n",
       "    });\n",
       "  }\n",
       "}(window));"
      ],
      "application/vnd.bokehjs_load.v0+json": "\n(function(root) {\n  function now() {\n    return new Date();\n  }\n\n  var force = true;\n\n  if (typeof (root._bokeh_onload_callbacks) === \"undefined\" || force === true) {\n    root._bokeh_onload_callbacks = [];\n    root._bokeh_is_loading = undefined;\n  }\n\n  \n\n  \n  if (typeof (root._bokeh_timeout) === \"undefined\" || force === true) {\n    root._bokeh_timeout = Date.now() + 5000;\n    root._bokeh_failed_load = false;\n  }\n\n  var NB_LOAD_WARNING = {'data': {'text/html':\n     \"<div style='background-color: #fdd'>\\n\"+\n     \"<p>\\n\"+\n     \"BokehJS does not appear to have successfully loaded. If loading BokehJS from CDN, this \\n\"+\n     \"may be due to a slow or bad network connection. Possible fixes:\\n\"+\n     \"</p>\\n\"+\n     \"<ul>\\n\"+\n     \"<li>re-rerun `output_notebook()` to attempt to load from CDN again, or</li>\\n\"+\n     \"<li>use INLINE resources instead, as so:</li>\\n\"+\n     \"</ul>\\n\"+\n     \"<code>\\n\"+\n     \"from bokeh.resources import INLINE\\n\"+\n     \"output_notebook(resources=INLINE)\\n\"+\n     \"</code>\\n\"+\n     \"</div>\"}};\n\n  function display_loaded() {\n    var el = document.getElementById(\"b4966d70-6516-4af8-a36e-6b30275c69e4\");\n    if (el != null) {\n      el.textContent = \"BokehJS is loading...\";\n    }\n    if (root.Bokeh !== undefined) {\n      if (el != null) {\n        el.textContent = \"BokehJS \" + root.Bokeh.version + \" successfully loaded.\";\n      }\n    } else if (Date.now() < root._bokeh_timeout) {\n      setTimeout(display_loaded, 100)\n    }\n  }\n\n\n  function run_callbacks() {\n    try {\n      root._bokeh_onload_callbacks.forEach(function(callback) { callback() });\n    }\n    finally {\n      delete root._bokeh_onload_callbacks\n    }\n    console.info(\"Bokeh: all callbacks have finished\");\n  }\n\n  function load_libs(js_urls, callback) {\n    root._bokeh_onload_callbacks.push(callback);\n    if (root._bokeh_is_loading > 0) {\n      console.log(\"Bokeh: BokehJS is being loaded, scheduling callback at\", now());\n      return null;\n    }\n    if (js_urls == null || js_urls.length === 0) {\n      run_callbacks();\n      return null;\n    }\n    console.log(\"Bokeh: BokehJS not loaded, scheduling load and callback at\", now());\n    root._bokeh_is_loading = js_urls.length;\n    for (var i = 0; i < js_urls.length; i++) {\n      var url = js_urls[i];\n      var s = document.createElement('script');\n      s.src = url;\n      s.async = false;\n      s.onreadystatechange = s.onload = function() {\n        root._bokeh_is_loading--;\n        if (root._bokeh_is_loading === 0) {\n          console.log(\"Bokeh: all BokehJS libraries loaded\");\n          run_callbacks()\n        }\n      };\n      s.onerror = function() {\n        console.warn(\"failed to load library \" + url);\n      };\n      console.log(\"Bokeh: injecting script tag for BokehJS library: \", url);\n      document.getElementsByTagName(\"head\")[0].appendChild(s);\n    }\n  };var element = document.getElementById(\"b4966d70-6516-4af8-a36e-6b30275c69e4\");\n  if (element == null) {\n    console.log(\"Bokeh: ERROR: autoload.js configured with elementid 'b4966d70-6516-4af8-a36e-6b30275c69e4' but no matching script tag was found. \")\n    return false;\n  }\n\n  var js_urls = [\"https://cdn.pydata.org/bokeh/release/bokeh-0.12.13.min.js\", \"https://cdn.pydata.org/bokeh/release/bokeh-widgets-0.12.13.min.js\", \"https://cdn.pydata.org/bokeh/release/bokeh-tables-0.12.13.min.js\", \"https://cdn.pydata.org/bokeh/release/bokeh-gl-0.12.13.min.js\"];\n\n  var inline_js = [\n    function(Bokeh) {\n      Bokeh.set_log_level(\"info\");\n    },\n    \n    function(Bokeh) {\n      \n    },\n    function(Bokeh) {\n      console.log(\"Bokeh: injecting CSS: https://cdn.pydata.org/bokeh/release/bokeh-0.12.13.min.css\");\n      Bokeh.embed.inject_css(\"https://cdn.pydata.org/bokeh/release/bokeh-0.12.13.min.css\");\n      console.log(\"Bokeh: injecting CSS: https://cdn.pydata.org/bokeh/release/bokeh-widgets-0.12.13.min.css\");\n      Bokeh.embed.inject_css(\"https://cdn.pydata.org/bokeh/release/bokeh-widgets-0.12.13.min.css\");\n      console.log(\"Bokeh: injecting CSS: https://cdn.pydata.org/bokeh/release/bokeh-tables-0.12.13.min.css\");\n      Bokeh.embed.inject_css(\"https://cdn.pydata.org/bokeh/release/bokeh-tables-0.12.13.min.css\");\n    }\n  ];\n\n  function run_inline_js() {\n    \n    if ((root.Bokeh !== undefined) || (force === true)) {\n      for (var i = 0; i < inline_js.length; i++) {\n        inline_js[i].call(root, root.Bokeh);\n      }if (force === true) {\n        display_loaded();\n      }} else if (Date.now() < root._bokeh_timeout) {\n      setTimeout(run_inline_js, 100);\n    } else if (!root._bokeh_failed_load) {\n      console.log(\"Bokeh: BokehJS failed to load within specified timeout.\");\n      root._bokeh_failed_load = true;\n    } else if (force !== true) {\n      var cell = $(document.getElementById(\"b4966d70-6516-4af8-a36e-6b30275c69e4\")).parents('.cell').data().cell;\n      cell.output_area.append_execute_result(NB_LOAD_WARNING)\n    }\n\n  }\n\n  if (root._bokeh_is_loading === 0) {\n    console.log(\"Bokeh: BokehJS loaded, going straight to plotting\");\n    run_inline_js();\n  } else {\n    load_libs(js_urls, function() {\n      console.log(\"Bokeh: BokehJS plotting callback run at\", now());\n      run_inline_js();\n    });\n  }\n}(window));"
     },
     "metadata": {},
     "output_type": "display_data"
    }
   ],
   "source": [
    "import bokeh\n",
    "from bokeh.layouts import gridplot, row, column\n",
    "from bokeh.io import output_notebook\n",
    "from bokeh.plotting import figure, show\n",
    "from bokeh.models import ColumnDataSource\n",
    "import pandas as pd\n",
    "bokeh.io.output_notebook()"
   ]
  },
  {
   "cell_type": "code",
   "execution_count": 22,
   "metadata": {
    "scrolled": true
   },
   "outputs": [],
   "source": [
    "# df = pd.DataFrame(dict(t_m=t_sfr_moria,\n",
    "#                                     sfr_m=sfr_moria,\n",
    "#                                     x_cog_m=x_cog_moria,\n",
    "#                                     y_cog_m=y_cog_moria,\n",
    "#                                     t_k=t_sfr_kicked,\n",
    "#                                     sfr_k=sfr_kicked,\n",
    "#                                     x_cog_k=x_cog_kicked,\n",
    "#                                     y_cog_k=y_cog_kicked));\n",
    "# df.r = np.sqrt(df.x_cog_k**2 +df.y_cog_k**2)\n",
    "# df.sfr_rescaled = df.sfr*4e2"
   ]
  },
  {
   "cell_type": "code",
   "execution_count": 23,
   "metadata": {},
   "outputs": [
    {
     "data": {
      "text/plain": [
       "['t', 'sfr', 'x_cog', 'y_cog']"
      ]
     },
     "execution_count": 23,
     "metadata": {},
     "output_type": "execute_result"
    }
   ],
   "source": [
    "source_moria = ColumnDataSource(data=dict(t=t_sfr_moria,\n",
    "                                          sfr=sfr_moria,\n",
    "                                          x_cog=x_cog_moria,\n",
    "                                          y_cog=y_cog_moria))\n",
    "source_moria.column_names"
   ]
  },
  {
   "cell_type": "code",
   "execution_count": 24,
   "metadata": {},
   "outputs": [],
   "source": [
    "source_kicked = ColumnDataSource(data=dict(t=t_sfr_kicked,\n",
    "                                           sfr=sfr_kicked,\n",
    "                                           x_cog=x_cog_kicked,\n",
    "                                           y_cog=y_cog_kicked))\n",
    "# t = source_kicked.data['t']"
   ]
  },
  {
   "cell_type": "code",
   "execution_count": 25,
   "metadata": {},
   "outputs": [],
   "source": [
    "source = ColumnDataSource(data=dict(t_m=t_sfr_moria,\n",
    "                                    sfr_m=sfr_moria,\n",
    "                                    x_cog_m=x_cog_moria,\n",
    "                                    y_cog_m=y_cog_moria,\n",
    "                                    t_k=t_sfr_kicked,\n",
    "                                    sfr_k=sfr_kicked,\n",
    "                                    x_cog_k=x_cog_kicked,\n",
    "                                    y_cog_k=y_cog_kicked))"
   ]
  },
  {
   "cell_type": "code",
   "execution_count": 26,
   "metadata": {},
   "outputs": [],
   "source": [
    "from bokeh.models.annotations import Span\n",
    "from bokeh.models import HoverTool"
   ]
  },
  {
   "cell_type": "code",
   "execution_count": 27,
   "metadata": {},
   "outputs": [],
   "source": [
    "def compare_cog_sfh_single(df):\n",
    "    start = (source.data['x_cog'][0], source.data['y_cog'][0])\n",
    "    end = (source.data['x_cog'][-1], source.data['y_cog'][-1])\n",
    "\n",
    "    hover = HoverTool(tooltips=[\n",
    "            (\"(x,y)\", \"(@x_cog, @y_cog)\"),\n",
    "            (\"r\", \"hypot(@x_cog**2, @y_cog)\"),\n",
    "            (\"time\", \"@t\"),\n",
    "            (\"SFR\", \"@sfr Msol/yr\" ),\n",
    "        ],\n",
    "                      names=[\"cog\"])\n",
    "    source.add(source.data['sfr']*4e2, \"sfr_rescaled\")\n",
    "    source.add(source.data['x_cog']**2 + source.data['y_cog']**2, \"r\")\n",
    "    tools = 'lasso_select, box_select, tap, wheel_zoom, pan, box_zoom, reset'\n",
    "    \n",
    "    # COG figure\n",
    "    f1 = figure(width=400, height=400, title='Center of gravity position',\n",
    "                x_axis_label=\"x (kpc)\", y_axis_label=\"y (kpc)\",\n",
    "                tools=tools, match_aspect=True)\n",
    "    f1.circle('x_cog', 'y_cog', source=source, name='cog')\n",
    "    f1.circle(*start, color='yellow')\n",
    "    f1.circle(*end, color='red')\n",
    "#     f1.circle(0,0, radius=virial_radius.value, alpha=0.1)\n",
    "    f1.circle(0,0, radius=200, alpha=0.4)\n",
    "    f1.circle(0,0, radius=1000, alpha=0.3)\n",
    "    \n",
    "    f1.x(0,0)\n",
    "    f1.add_tools(hover) # do not hover on the virial radius!\n",
    "\n",
    "    # SFH figure\n",
    "    f2 = figure(width=400, height=400, title='SFH',\n",
    "                x_axis_label=\"Time (Gyr)\", y_axis_label=\"SFR (Msol/yr)\",\n",
    "                tools=tools)\n",
    "    # f2.tools.pop(4)  # remove pan\n",
    "    \n",
    "    # f2.line(t[:-1], sfr)\n",
    "    f2.vbar(x='t', top='sfr', width=.1, source=source)\n",
    "    \n",
    "    \n",
    "#     t = source.data['t']\n",
    "#     sfr = source.data['sfr']\n",
    "#     interval = t[1]-t[0]\n",
    "#     f2.quad(top='sfr', bottom=np.zeros_like(t), left=t,\n",
    "#             right=t+interval, alpha=0.5)#, color=\"#B3DE69\")\n",
    "    simulation_start_line = Span(location=times_moria[0], dimension='height', line_color='firebrick', line_width=1)\n",
    "    f2.add_layout(simulation_start_line)\n",
    "    p = row([f1, f2])\n",
    "    # p = gridplot([[f1, f2]])\n",
    "    show(p)\n",
    "    return f1, f2"
   ]
  },
  {
   "cell_type": "code",
   "execution_count": 28,
   "metadata": {},
   "outputs": [
    {
     "ename": "KeyError",
     "evalue": "'x_cog'",
     "output_type": "error",
     "traceback": [
      "\u001b[0;31m---------------------------------------------------------------------------\u001b[0m",
      "\u001b[0;31mKeyError\u001b[0m                                  Traceback (most recent call last)",
      "\u001b[0;32m<ipython-input-28-cdc2b55ad13e>\u001b[0m in \u001b[0;36m<module>\u001b[0;34m()\u001b[0m\n\u001b[0;32m----> 1\u001b[0;31m \u001b[0mcompare_cog_sfh_single\u001b[0m\u001b[0;34m(\u001b[0m\u001b[0msource_moria\u001b[0m\u001b[0;34m)\u001b[0m\u001b[0;34m\u001b[0m\u001b[0m\n\u001b[0m\u001b[1;32m      2\u001b[0m \u001b[0msource_moria\u001b[0m\u001b[0;34m.\u001b[0m\u001b[0mcolumn_names\u001b[0m\u001b[0;34m\u001b[0m\u001b[0m\n",
      "\u001b[0;32m<ipython-input-27-571439a0f76a>\u001b[0m in \u001b[0;36mcompare_cog_sfh_single\u001b[0;34m(df)\u001b[0m\n\u001b[1;32m      1\u001b[0m \u001b[0;32mdef\u001b[0m \u001b[0mcompare_cog_sfh_single\u001b[0m\u001b[0;34m(\u001b[0m\u001b[0mdf\u001b[0m\u001b[0;34m)\u001b[0m\u001b[0;34m:\u001b[0m\u001b[0;34m\u001b[0m\u001b[0m\n\u001b[0;32m----> 2\u001b[0;31m     \u001b[0mstart\u001b[0m \u001b[0;34m=\u001b[0m \u001b[0;34m(\u001b[0m\u001b[0msource\u001b[0m\u001b[0;34m.\u001b[0m\u001b[0mdata\u001b[0m\u001b[0;34m[\u001b[0m\u001b[0;34m'x_cog'\u001b[0m\u001b[0;34m]\u001b[0m\u001b[0;34m[\u001b[0m\u001b[0;36m0\u001b[0m\u001b[0;34m]\u001b[0m\u001b[0;34m,\u001b[0m \u001b[0msource\u001b[0m\u001b[0;34m.\u001b[0m\u001b[0mdata\u001b[0m\u001b[0;34m[\u001b[0m\u001b[0;34m'y_cog'\u001b[0m\u001b[0;34m]\u001b[0m\u001b[0;34m[\u001b[0m\u001b[0;36m0\u001b[0m\u001b[0;34m]\u001b[0m\u001b[0;34m)\u001b[0m\u001b[0;34m\u001b[0m\u001b[0m\n\u001b[0m\u001b[1;32m      3\u001b[0m     \u001b[0mend\u001b[0m \u001b[0;34m=\u001b[0m \u001b[0;34m(\u001b[0m\u001b[0msource\u001b[0m\u001b[0;34m.\u001b[0m\u001b[0mdata\u001b[0m\u001b[0;34m[\u001b[0m\u001b[0;34m'x_cog'\u001b[0m\u001b[0;34m]\u001b[0m\u001b[0;34m[\u001b[0m\u001b[0;34m-\u001b[0m\u001b[0;36m1\u001b[0m\u001b[0;34m]\u001b[0m\u001b[0;34m,\u001b[0m \u001b[0msource\u001b[0m\u001b[0;34m.\u001b[0m\u001b[0mdata\u001b[0m\u001b[0;34m[\u001b[0m\u001b[0;34m'y_cog'\u001b[0m\u001b[0;34m]\u001b[0m\u001b[0;34m[\u001b[0m\u001b[0;34m-\u001b[0m\u001b[0;36m1\u001b[0m\u001b[0;34m]\u001b[0m\u001b[0;34m)\u001b[0m\u001b[0;34m\u001b[0m\u001b[0m\n\u001b[1;32m      4\u001b[0m \u001b[0;34m\u001b[0m\u001b[0m\n\u001b[1;32m      5\u001b[0m     hover = HoverTool(tooltips=[\n",
      "\u001b[0;31mKeyError\u001b[0m: 'x_cog'"
     ]
    }
   ],
   "source": [
    "compare_cog_sfh_single(source_moria)\n",
    "source_moria.column_names"
   ]
  },
  {
   "cell_type": "code",
   "execution_count": 77,
   "metadata": {},
   "outputs": [
    {
     "data": {
      "text/plain": [
       "860.23252670426268"
      ]
     },
     "execution_count": 77,
     "metadata": {},
     "output_type": "execute_result"
    }
   ],
   "source": [
    "np.sqrt(500**2+700**2)"
   ]
  },
  {
   "cell_type": "code",
   "execution_count": 78,
   "metadata": {
    "scrolled": false
   },
   "outputs": [
    {
     "data": {
      "text/html": [
       "\n",
       "<div class=\"bk-root\">\n",
       "    <div class=\"bk-plotdiv\" id=\"073e916c-28ff-4d25-8d79-4e04c98934ed\"></div>\n",
       "</div>"
      ]
     },
     "metadata": {},
     "output_type": "display_data"
    },
    {
     "data": {
      "application/javascript": [
       "(function(root) {\n",
       "  function embed_document(root) {\n",
       "    var docs_json = {\"3df72c56-3c4a-49eb-84f0-4b84ef08574a\":{\"roots\":{\"references\":[{\"attributes\":{\"data_source\":{\"id\":\"84e59139-3bd8-4327-bc61-b7a55c8077f0\",\"type\":\"ColumnDataSource\"},\"glyph\":{\"id\":\"39ca5bab-b3a7-421c-ada4-9cb28c8db933\",\"type\":\"Circle\"},\"hover_glyph\":null,\"muted_glyph\":null,\"nonselection_glyph\":{\"id\":\"1bb6591a-7e32-483f-9db6-975844732afb\",\"type\":\"Circle\"},\"selection_glyph\":null,\"view\":{\"id\":\"fc6088f4-1e52-4d9f-bd8e-630fb5d2596d\",\"type\":\"CDSView\"}},\"id\":\"ae288e97-5528-4bc6-8a3f-6069f1efb417\",\"type\":\"GlyphRenderer\"},{\"attributes\":{\"data_source\":{\"id\":\"468f646f-0a89-4ba3-ac82-433f8e9c5ff0\",\"type\":\"ColumnDataSource\"},\"glyph\":{\"id\":\"ef63be90-5cee-4e25-9098-ce3aaf758ed7\",\"type\":\"X\"},\"hover_glyph\":null,\"muted_glyph\":null,\"nonselection_glyph\":{\"id\":\"33ef6125-c11b-4d7e-9297-7299066fad39\",\"type\":\"X\"},\"selection_glyph\":null,\"view\":{\"id\":\"819d46ea-5231-4dc9-875f-338bc1378915\",\"type\":\"CDSView\"}},\"id\":\"e92279dd-7f22-4f31-b2df-fbe22f957dad\",\"type\":\"GlyphRenderer\"},{\"attributes\":{\"callback\":null,\"data\":{}},\"id\":\"84e59139-3bd8-4327-bc61-b7a55c8077f0\",\"type\":\"ColumnDataSource\"},{\"attributes\":{\"callback\":null},\"id\":\"93e82a04-0ecf-441c-99ec-f5eabdbedb56\",\"type\":\"TapTool\"},{\"attributes\":{\"axis_label\":\"SFR (Msol/yr)\",\"formatter\":{\"id\":\"c7fb2a7e-2e2a-458b-a437-18e6a7451d5e\",\"type\":\"BasicTickFormatter\"},\"plot\":{\"id\":\"f599d647-ce24-4b7a-a75d-e778d4be88e6\",\"subtype\":\"Figure\",\"type\":\"Plot\"},\"ticker\":{\"id\":\"e9d472a4-9f9c-49a5-9639-c44d7b164087\",\"type\":\"BasicTicker\"}},\"id\":\"a22cd3d5-e430-468b-9c91-bb3a244c9f0d\",\"type\":\"LinearAxis\"},{\"attributes\":{\"fill_color\":{\"value\":\"yellow\"},\"line_color\":{\"value\":\"yellow\"},\"x\":{\"value\":-16.886945724487305},\"y\":{\"value\":-785.463623046875}},\"id\":\"39ca5bab-b3a7-421c-ada4-9cb28c8db933\",\"type\":\"Circle\"},{\"attributes\":{},\"id\":\"65a86b21-f0a5-4b8d-9cf2-799b21c76a80\",\"type\":\"BasicTicker\"},{\"attributes\":{\"bottom_units\":\"screen\",\"fill_alpha\":{\"value\":0.5},\"fill_color\":{\"value\":\"lightgrey\"},\"left_units\":\"screen\",\"level\":\"overlay\",\"line_alpha\":{\"value\":1.0},\"line_color\":{\"value\":\"black\"},\"line_dash\":[4,4],\"line_width\":{\"value\":2},\"plot\":null,\"render_mode\":\"css\",\"right_units\":\"screen\",\"top_units\":\"screen\"},\"id\":\"fe590d22-b68c-4fb3-96eb-a62b5e525379\",\"type\":\"BoxAnnotation\"},{\"attributes\":{},\"id\":\"47037579-3250-4d6c-ba6e-b28da734d5f7\",\"type\":\"ResetTool\"},{\"attributes\":{\"callback\":null,\"overlay\":{\"id\":\"7c274f32-4d22-4405-b9cc-20a3cde3f2a4\",\"type\":\"PolyAnnotation\"}},\"id\":\"44c9afb2-eb7b-4f92-888a-ee173308623c\",\"type\":\"LassoSelectTool\"},{\"attributes\":{\"active_drag\":\"auto\",\"active_inspect\":\"auto\",\"active_scroll\":\"auto\",\"active_tap\":\"auto\",\"tools\":[{\"id\":\"9d449c88-cfce-4097-86e0-ab40ce7828b6\",\"type\":\"LassoSelectTool\"},{\"id\":\"517ee42d-eda8-41ba-8831-dad8f5b283e0\",\"type\":\"BoxSelectTool\"},{\"id\":\"93e82a04-0ecf-441c-99ec-f5eabdbedb56\",\"type\":\"TapTool\"},{\"id\":\"81eb1a6e-a9af-4409-bf34-4fbbbeb6ceca\",\"type\":\"WheelZoomTool\"},{\"id\":\"d54a0d7a-231d-4cb1-b41b-e4cc917fa6ba\",\"type\":\"PanTool\"},{\"id\":\"4ffe8b4a-98e0-42c6-bc71-cd63b5358792\",\"type\":\"BoxZoomTool\"},{\"id\":\"47037579-3250-4d6c-ba6e-b28da734d5f7\",\"type\":\"ResetTool\"}]},\"id\":\"d7e37171-4546-4e68-9171-9db0cea86537\",\"type\":\"Toolbar\"},{\"attributes\":{\"source\":{\"id\":\"a84146ea-d958-4154-8759-00e450e8e00d\",\"type\":\"ColumnDataSource\"}},\"id\":\"90065411-d265-4c21-9279-da1ac5b65918\",\"type\":\"CDSView\"},{\"attributes\":{\"bottom_units\":\"screen\",\"fill_alpha\":{\"value\":0.5},\"fill_color\":{\"value\":\"lightgrey\"},\"left_units\":\"screen\",\"level\":\"overlay\",\"line_alpha\":{\"value\":1.0},\"line_color\":{\"value\":\"black\"},\"line_dash\":[4,4],\"line_width\":{\"value\":2},\"plot\":null,\"render_mode\":\"css\",\"right_units\":\"screen\",\"top_units\":\"screen\"},\"id\":\"24922dd0-fef3-4968-8576-30bda2776f6f\",\"type\":\"BoxAnnotation\"},{\"attributes\":{\"callback\":null},\"id\":\"a5911e44-d862-444a-a847-8dd1de0027da\",\"type\":\"DataRange1d\"},{\"attributes\":{\"callback\":null,\"data\":{}},\"id\":\"57279daf-4489-47f1-9ef5-e049df566d44\",\"type\":\"ColumnDataSource\"},{\"attributes\":{\"source\":{\"id\":\"57279daf-4489-47f1-9ef5-e049df566d44\",\"type\":\"ColumnDataSource\"}},\"id\":\"3657f550-c95d-4975-b6bc-47f3ceff1a60\",\"type\":\"CDSView\"},{\"attributes\":{\"bottom_units\":\"screen\",\"fill_alpha\":{\"value\":0.5},\"fill_color\":{\"value\":\"lightgrey\"},\"left_units\":\"screen\",\"level\":\"overlay\",\"line_alpha\":{\"value\":1.0},\"line_color\":{\"value\":\"black\"},\"line_dash\":[4,4],\"line_width\":{\"value\":2},\"plot\":null,\"render_mode\":\"css\",\"right_units\":\"screen\",\"top_units\":\"screen\"},\"id\":\"ceddec44-006a-4209-b67f-eae8a06aa762\",\"type\":\"BoxAnnotation\"},{\"attributes\":{},\"id\":\"0c7ce917-503e-4000-8704-eed76ed4ce95\",\"type\":\"ResetTool\"},{\"attributes\":{},\"id\":\"619eadcc-1189-4e37-9aa3-63c24c43c6f5\",\"type\":\"LinearScale\"},{\"attributes\":{\"fill_alpha\":{\"value\":0.1},\"fill_color\":{\"value\":\"#1f77b4\"},\"line_alpha\":{\"value\":0.1},\"line_color\":{\"value\":\"#1f77b4\"},\"top\":{\"field\":\"sfr\"},\"width\":{\"value\":0.1},\"x\":{\"field\":\"t\"}},\"id\":\"1ad9f072-31d8-4872-8fdc-ed13c0ff7727\",\"type\":\"VBar\"},{\"attributes\":{\"fill_alpha\":{\"value\":0.1},\"fill_color\":{\"value\":\"#1f77b4\"},\"line_alpha\":{\"value\":0.1},\"line_color\":{\"value\":\"#1f77b4\"},\"x\":{\"value\":0},\"y\":{\"value\":0}},\"id\":\"33ef6125-c11b-4d7e-9297-7299066fad39\",\"type\":\"X\"},{\"attributes\":{\"fill_color\":{\"value\":\"#1f77b4\"},\"line_color\":{\"value\":\"#1f77b4\"},\"x\":{\"field\":\"x_cog\"},\"y\":{\"field\":\"y_cog\"}},\"id\":\"bc327d64-d6eb-492e-a648-1c739d395d8a\",\"type\":\"Circle\"},{\"attributes\":{\"callback\":null,\"data\":{}},\"id\":\"962d8f27-8779-4b37-b95e-bed8db730f18\",\"type\":\"ColumnDataSource\"},{\"attributes\":{\"children\":[{\"id\":\"ec1b0655-8d5e-49b7-8164-821ceefe1943\",\"subtype\":\"Figure\",\"type\":\"Plot\"},{\"id\":\"f599d647-ce24-4b7a-a75d-e778d4be88e6\",\"subtype\":\"Figure\",\"type\":\"Plot\"}]},\"id\":\"324de53c-0bdb-4c14-b135-daf799f8bd5c\",\"type\":\"Row\"},{\"attributes\":{\"callback\":null,\"overlay\":{\"id\":\"fe590d22-b68c-4fb3-96eb-a62b5e525379\",\"type\":\"BoxAnnotation\"},\"renderers\":[{\"id\":\"cc691c3d-6134-4bc1-b66d-c98eed219dac\",\"type\":\"GlyphRenderer\"},{\"id\":\"ae288e97-5528-4bc6-8a3f-6069f1efb417\",\"type\":\"GlyphRenderer\"},{\"id\":\"f9c2fc02-451d-4afd-b3a4-7f5d4c028c61\",\"type\":\"GlyphRenderer\"},{\"id\":\"4c0e2908-7c41-42cd-8474-ce872a7ae4ae\",\"type\":\"GlyphRenderer\"},{\"id\":\"d834d3e5-fb1b-4103-8824-c50cdc56444c\",\"type\":\"GlyphRenderer\"},{\"id\":\"e92279dd-7f22-4f31-b2df-fbe22f957dad\",\"type\":\"GlyphRenderer\"}]},\"id\":\"f27e5634-ee05-4e32-8fc1-b9fa68e22428\",\"type\":\"BoxSelectTool\"},{\"attributes\":{},\"id\":\"7f716721-6663-43dc-bb78-d5c7dc9cf4d8\",\"type\":\"LinearScale\"},{\"attributes\":{\"fill_alpha\":{\"value\":0.5},\"fill_color\":{\"value\":\"lightgrey\"},\"level\":\"overlay\",\"line_alpha\":{\"value\":1.0},\"line_color\":{\"value\":\"black\"},\"line_dash\":[4,4],\"line_width\":{\"value\":2},\"plot\":null,\"xs_units\":\"screen\",\"ys_units\":\"screen\"},\"id\":\"7c274f32-4d22-4405-b9cc-20a3cde3f2a4\",\"type\":\"PolyAnnotation\"},{\"attributes\":{\"plot\":null,\"text\":\"Center of gravity position\"},\"id\":\"0faa17cc-afdc-4d2c-9083-e349ac727be8\",\"type\":\"Title\"},{\"attributes\":{\"fill_alpha\":{\"value\":0.4},\"fill_color\":{\"value\":\"#1f77b4\"},\"line_alpha\":{\"value\":0.4},\"line_color\":{\"value\":\"#1f77b4\"},\"radius\":{\"units\":\"data\",\"value\":200},\"x\":{\"value\":0},\"y\":{\"value\":0}},\"id\":\"c5aba58c-9a26-44fa-8dbc-5d53d97cdb19\",\"type\":\"Circle\"},{\"attributes\":{\"dimension\":1,\"plot\":{\"id\":\"ec1b0655-8d5e-49b7-8164-821ceefe1943\",\"subtype\":\"Figure\",\"type\":\"Plot\"},\"ticker\":{\"id\":\"42fb25b3-6a31-4fac-ad1a-933e91641142\",\"type\":\"BasicTicker\"}},\"id\":\"62f2f8b3-f2e4-4178-8b1f-2d61037b3fa5\",\"type\":\"Grid\"},{\"attributes\":{\"plot\":{\"id\":\"f599d647-ce24-4b7a-a75d-e778d4be88e6\",\"subtype\":\"Figure\",\"type\":\"Plot\"},\"ticker\":{\"id\":\"65a86b21-f0a5-4b8d-9cf2-799b21c76a80\",\"type\":\"BasicTicker\"}},\"id\":\"0c9f5891-3d82-45a8-a141-361197e644d5\",\"type\":\"Grid\"},{\"attributes\":{\"axis_label\":\"x (kpc)\",\"formatter\":{\"id\":\"c9126abd-79fb-43b4-9055-48740367b929\",\"type\":\"BasicTickFormatter\"},\"plot\":{\"id\":\"ec1b0655-8d5e-49b7-8164-821ceefe1943\",\"subtype\":\"Figure\",\"type\":\"Plot\"},\"ticker\":{\"id\":\"025c4482-68cc-4f3f-b4ff-5955fbb8b46a\",\"type\":\"BasicTicker\"}},\"id\":\"08513bbe-3820-42de-91f5-89e92040ec66\",\"type\":\"LinearAxis\"},{\"attributes\":{\"callback\":null,\"column_names\":[\"t\",\"sfr\",\"x_cog\",\"y_cog\",\"sfr_rescaled\",\"sfr_rescaled\",\"sfr_rescaled\",\"sfr_rescaled\",\"sfr_rescaled\",\"sfr_rescaled\",\"sfr_rescaled\",\"sfr_rescaled\"],\"data\":{\"sfr\":{\"__ndarray__\":\"AAAAwFcooz8AAACgrHSiPwAAAEAxxJk/AAAAAK7zoj8AAAAAYnF4PwAAAECxt18/AAAAYBJagD8AAAAg3Wl8PwAAAED5t18/AAAAQO0Yej8AAACAiCU1PwAAAGA1LXE/AAAAAIq1Pz8AAAAAJ7gvPwAAAMAmt08/AAAAAHjUYz8AAAAgyShjPwAAAOAsdlY/AAAAAAAAAAAAAADAC9NTPwAAAKDugVI/AAAAYFYwFT8AAABA+BxZPwAAAMCl8y8/AAAAQHl/Qj8AAABguoBkPwAAAIDIZn8/AAAAIGRUFT8AAAAAAAAAAAAAAIAFUTU/AAAAYKF/Zj8AAAAAcPmIPwAAAIAq4YI/AAAAQMBhgD8AAABAQFyGPwAAAAAjDJA/AAAAYIkxkz8AAACAFvVTPwAAAGDBfow/AAAAINE+RT8AAADAtLGNPwAAAMAtDkg/AAAAwKuXgD8AAACggfqDPwAAAIAuSHI/AAAAwG/nhz8AAABgTXmDPwAAACBAm3E/AAAA4OsVez8AAACgLi2FPwAAAMAPLoU/AAAAAN2Ahz8AAADAj3ZnPwAAAKCX65U/AAAAQNkYUD8AAAAAbnd+PwAAAEDotGA/AAAAgAkBgj8AAADgA5WDPwAAAEDc1pM/AAAA4FfbcT8AAAAArx+APwAAAKAW3XE/AAAAABr6mj8AAAAgERRmPwAAAIAAy6I/AAAAwGJkbD8AAAAgZDOSPwAAAGCNxIw/AAAA4Avkjz8AAAAAsoWaPwAAAOCfrIM/AAAAgNH1qj8AAADgAe5ePwAAAEBbSmA/AAAAYMTFfD8AAAAA1wFbPwAAAGBbwW0/AAAAYMX9Vj8AAADAHZNxPwAAAOBK6m4/AAAAANvMRT8AAABATzFtPwAAAIAmxGc/AAAAIKxeUD8AAACg7iV3PwAAAICE7HM/AAAA4JYoWz8AAACgC9RtPwAAAGCuA1c/AAAA4DbgWT8AAACAwm1sPwAAAAD+p2M/AAAAQG3gTT8AAAAgI6lhPwAAAGDFclQ/AAAAoMTUYT8AAACArPtZPwAAAEABU1c/AAAAYIZJXz8=\",\"dtype\":\"float64\",\"shape\":[100]},\"sfr_rescaled\":{\"__ndarray__\":\"AAAAHAnvLUAAAAC6TdYsQAAAAHpGISRAAAAA4L+cLUAAAACQlBgDQAAAAHqCx+g/AAAAtryMCUAAAADBtDIGQAAAALq6x+g/AAAAWnljBEAAAACkUoXAPwAAAGaj1vo/AAAA0NPFyD8AAAB43se4PwAAAEYWx9g/AAAAgPv77j8AAABCuu/tPwAAAA9TjOE/AAAAAAAAAAAAAABcwvnePwAAANoE69w/AAAAe8ONoD8AAADyoZ7jPwAAAH5Z9rg/AAAAdC3nzD8AAACbkQTwPwAAAKRMiAhAAAAAOe6poD8AAAAAAAAAAAAAAExMp8A/AAAAE7aT8T8AAACA34ITQAAAAGjSfw1AAAAAZLyYCUAAAAAyEngRQAAAALD2EhlAAAAApmb9HUAAAAAo8y7fPwAAABMHQxZAAAAAYROZ0D8AAAA21TIXQAAAAL4Ty9I/AAAAXPzsCUAAAACKajcPQAAAAKjIkPw/AAAATs+sEkAAAADmiG0OQAAAADKUgvs/AAAARyApBUAAAABtTIsQQAAAAE78ixBAAAAAqKxcEkAAAABOoFTyPwAAAHUOICFAAAAAdNMm2T8AAADwTc0HQAAAAOSqGuo/AAAA2J4hDEAAAAAO1pgOQAAAACS4/x5AAAAATrnm+z8AAABwgTEJQAAAAFpz6fs/AAAAUGQTJUAAAABhrT/xPwAAAMgwXS1AAAAAJm0u9j8AAAByTHAcQAAAAHOOeRZAAAAARynqGEAAAAAQc7gkQAAAAM65vQ5AAAAArAsQNUAAAAB38SnoPwAAAJQudOk/AAAAa4F6BkAAAAD4bxnlPwAAAGMPP/c/AAAAM0L24T8AAAB83nX7PwAAAH8KJ/g/AAAAGAsI0T8AAADqhc72PwAAABQ+kfI/AAAA8uyT2T8AAABtohUCQAAAAAiPIf8/AAAA37U35T8AAAAVqU33PwAAADvg+uE/AAAA3yo35D8AAAD0vzX2PwAAAOB8tu4/AAAAWlVX1z8AAADiRpjrPwAAAGZU898/AAAAOnPc6z8AAADEnkzkPwAAAPrYOOI/AAAA+3Bx6D8=\",\"dtype\":\"float64\",\"shape\":[100]},\"t\":{\"__ndarray__\":\"AAAAAAAAAACkYz1eMMnAP6RjPV4wydA/dhVcjcgt2T+kYz1eMMngP428zHV8++Q/dhVcjcgt6T9fbuukFGDtP6RjPV4wyfA/GBAFalbi8j+NvMx1fPv0PwJplIGiFPc/dhVcjcgt+T/qwSOZ7kb7P19u66QUYP0/1BqzsDp5/z+kYz1eMMkAQN45IWTD1QFAGBAFalbiAkBT5uhv6e4DQI28zHV8+wRAx5Kwew8IBkACaZSBohQHQDw/eIc1IQhAdhVcjcgtCUCw6z+TWzoKQOrBI5nuRgtAJZgHn4FTDEBfbuukFGANQJlEz6qnbA5A1BqzsDp5D0CHeEvb5kIQQKRjPV4wyRBAwU4v4XlPEUDeOSFkw9URQPskE+cMXBJAGBAFalbiEkA2+/bsn2gTQFPm6G/p7hNAcNHa8jJ1FECNvMx1fPsUQKqnvvjFgRVAx5Kwew8IFkDkfaL+WI4WQAJplIGiFBdAH1SGBOyaF0A8P3iHNSEYQFkqagp/pxhAdhVcjcgtGUCTAE4QErQZQLDrP5NbOhpAzdYxFqXAGkDqwSOZ7kYbQAitFRw4zRtAJZgHn4FTHEBCg/khy9kcQF9u66QUYB1AfFndJ17mHUCZRM+qp2weQLYvwS3x8h5A1BqzsDp5H0DxBaUzhP8fQId4S9vmQiBAFW7EnAuGIECkYz1eMMkgQDNZth9VDCFAwU4v4XlPIUBQRKiinpIhQN45IWTD1SFAbS+aJegYIkD7JBPnDFwiQIoajKgxnyJAGBAFalbiIkCnBX4reyUjQDb79uyfaCNAxPBvrsSrI0BT5uhv6e4jQOHbYTEOMiRAcNHa8jJ1JED+xlO0V7gkQI28zHV8+yRAHLJFN6E+JUCqp774xYElQDmdN7rqxCVAx5Kwew8IJkBWiCk9NEsmQOR9ov5YjiZAc3MbwH3RJkACaZSBohQnQJBeDUPHVydAH1SGBOyaJ0CtSf/FEN4nQDw/eIc1IShAyjTxSFpkKEBZKmoKf6coQOcf48uj6ihAdhVcjcgtKUAFC9VO7XApQJMAThAStClAIvbG0Tb3KUA=\",\"dtype\":\"float64\",\"shape\":[100]},\"x_cog\":{\"__ndarray__\":\"AAAA4A7jMMAAAADgDuMwwAAAAOAO4zDAAAAA4A7jMMAAAADgDuMwwAAAAOAO4zDAAAAA4A7jMMAAAADgDuMwwAAAAOAO4zDAAAAA4A7jMMAAAADgDuMwwAAAAOAO4zDAAAAA4A7jMMAAAADgDuMwwAAAAOAO4zDAAAAA4A7jMMAAAADgDuMwwAAAAOAO4zDAAAAA4A7jMMAAAADgDuMwwAAAAOAO4zDAAAAA4A7jMMAAAADgDuMwwAAAAOAO4zDAAAAA4A7jMMAAAADgDuMwwAAAAOAO4zDAAAAA4A7jMMAAAADgDuMwwAAAAOAO4zDAAAAA4A7jMMAAAADgDuMwwAAAAOAO4zDAAAAA4A7jMMAAAADgDuMwwAAAAOAO4zDAAAAA4A7jMMAAAADgDuMwwAAAAOAO4zDAAAAA4A7jMMAAAADgDuMwwAAAAOAO4zDAAAAA4A7jMMAAAADgDuMwwAAAAOAO4zDAAAAA4A7jMMAAAADgDuMwwAAAAOAO4zDAAAAA4A7jMMAAAADgDuMwwAAAAOAO4zDAAAAA4A7jMMAAAADgDuMwwAAAAOAO4zDAAAAA4A7jMMAAAADgDuMwwAAAAOAO4zDAAAAA4A7jMMAAAADgDuMwwAAAAOAO4zDAAAAA4A7jMMAAAADgDuMwwAAAAOAO4zDA6oEfI0GIOcCeEF34vCFRwNYCLlU7mlvAWQraYfzCYsAzHPB77S1nwEpYyMRYq2rAeI632hFFbMAcRIIhNaBqwFkSUp9qQ2TAvTR3YZGkVcAQukcdaKb5v3OToxv27VRA3N3XIgStZEBi4WepgU9uQE78dbgpl3NAXOHSuI20d0BQUyHv2XF7QIk6P1zay35AZJCadSDqgEBZrnf4LECCQAaqiq3lYoNAaWPJB5tYhEC1Si6mkSOFQBW7MTIFsoVAPvGn3TcahkAwuxSF0kWGQOzLRWGgPoZA7KkR7d3/hUCyHEaR4nyFQIwggZ7pxIRA433we0W4g0B5tI2Fp16CQPtis0tNooBAXW++wBQnfUDfobj9NWN4QMYEDFRLLnNAtnB3tCVaa0A=\",\"dtype\":\"float64\",\"shape\":[100]},\"y_cog\":{\"__ndarray__\":\"AAAAgLWLiMAAAACAtYuIwAAAAIC1i4jAAAAAgLWLiMAAAACAtYuIwAAAAIC1i4jAAAAAgLWLiMAAAACAtYuIwAAAAIC1i4jAAAAAgLWLiMAAAACAtYuIwAAAAIC1i4jAAAAAgLWLiMAAAACAtYuIwAAAAIC1i4jAAAAAgLWLiMAAAACAtYuIwAAAAIC1i4jAAAAAgLWLiMAAAACAtYuIwAAAAIC1i4jAAAAAgLWLiMAAAACAtYuIwAAAAIC1i4jAAAAAgLWLiMAAAACAtYuIwAAAAIC1i4jAAAAAgLWLiMAAAACAtYuIwAAAAIC1i4jAAAAAgLWLiMAAAACAtYuIwAAAAIC1i4jAAAAAgLWLiMAAAACAtYuIwAAAAIC1i4jAAAAAgLWLiMAAAACAtYuIwAAAAIC1i4jAAAAAgLWLiMAAAACAtYuIwAAAAIC1i4jAAAAAgLWLiMAAAACAtYuIwAAAAIC1i4jAAAAAgLWLiMAAAACAtYuIwAAAAIC1i4jAAAAAgLWLiMAAAACAtYuIwAAAAIC1i4jAAAAAgLWLiMAAAACAtYuIwAAAAIC1i4jAAAAAgLWLiMAAAACAtYuIwAAAAIC1i4jAAAAAgLWLiMAAAACAtYuIwAAAAIC1i4jAAAAAgLWLiMAAAACAtYuIwAAAAIC1i4jAw041UCc1iMC0E9qwXD+GwAJ0lO9a6oPA9C4TOiwzgcDv88IA3Q58wK7cqQykr3TAmjWZC+ctaMAfFNGiaY5EwMpEF6BH8VpA5Cj1tuIkbUDJB9lrhqR0QM60amI0WHlAlA/9aIDpfEAMu0INxJt/QB+aUg5JyoBAXe4repl3gUBQnN2CYOGBQFyJajZMEIJAcVnbFd8OgkCaa+hId+GBQDxEc7SKhIFAZX1zw1r/gEAxhuj7PFmAQHxdZaxkJn9AfoIN4AxUfUC8aHPbUk17QEAbbsc2FnlACc5nXOGrdkCEVhZJxRF0QGBHnVq7WHFAlhM0ky/4bEB4q4YCUyZnQDodUCIdd2FA7kf8iaB7WED7w11WCUpPQEDpuB2mckFAef36D3paMEA=\",\"dtype\":\"float64\",\"shape\":[100]}}},\"id\":\"a84146ea-d958-4154-8759-00e450e8e00d\",\"type\":\"ColumnDataSource\"},{\"attributes\":{\"axis_label\":\"y (kpc)\",\"formatter\":{\"id\":\"cff071ec-45a1-4ba3-9649-7ec236bf796d\",\"type\":\"BasicTickFormatter\"},\"plot\":{\"id\":\"ec1b0655-8d5e-49b7-8164-821ceefe1943\",\"subtype\":\"Figure\",\"type\":\"Plot\"},\"ticker\":{\"id\":\"42fb25b3-6a31-4fac-ad1a-933e91641142\",\"type\":\"BasicTicker\"}},\"id\":\"40766258-527d-4cf1-999c-9a40df90c987\",\"type\":\"LinearAxis\"},{\"attributes\":{\"active_drag\":\"auto\",\"active_inspect\":\"auto\",\"active_scroll\":\"auto\",\"active_tap\":\"auto\",\"tools\":[{\"id\":\"44c9afb2-eb7b-4f92-888a-ee173308623c\",\"type\":\"LassoSelectTool\"},{\"id\":\"f27e5634-ee05-4e32-8fc1-b9fa68e22428\",\"type\":\"BoxSelectTool\"},{\"id\":\"85a62159-f6b8-4698-baf9-b4187f8f799c\",\"type\":\"TapTool\"},{\"id\":\"d6ea7682-ebca-47f4-bb5e-21232e705369\",\"type\":\"WheelZoomTool\"},{\"id\":\"da553d96-6d8a-4ab1-bc91-836058526793\",\"type\":\"PanTool\"},{\"id\":\"7251c298-0488-4e3e-92e3-cf745b74a8b2\",\"type\":\"BoxZoomTool\"},{\"id\":\"0c7ce917-503e-4000-8704-eed76ed4ce95\",\"type\":\"ResetTool\"},{\"id\":\"1a9d6f50-e97d-4c2e-9bec-56dc0e616bb3\",\"type\":\"HoverTool\"}]},\"id\":\"1024502b-a7f2-45cd-933f-533baa018d74\",\"type\":\"Toolbar\"},{\"attributes\":{\"below\":[{\"id\":\"08513bbe-3820-42de-91f5-89e92040ec66\",\"type\":\"LinearAxis\"}],\"left\":[{\"id\":\"40766258-527d-4cf1-999c-9a40df90c987\",\"type\":\"LinearAxis\"}],\"match_aspect\":true,\"plot_height\":400,\"plot_width\":400,\"renderers\":[{\"id\":\"08513bbe-3820-42de-91f5-89e92040ec66\",\"type\":\"LinearAxis\"},{\"id\":\"1acfaf2c-8476-4650-8940-3461b94d3e94\",\"type\":\"Grid\"},{\"id\":\"40766258-527d-4cf1-999c-9a40df90c987\",\"type\":\"LinearAxis\"},{\"id\":\"62f2f8b3-f2e4-4178-8b1f-2d61037b3fa5\",\"type\":\"Grid\"},{\"id\":\"7c274f32-4d22-4405-b9cc-20a3cde3f2a4\",\"type\":\"PolyAnnotation\"},{\"id\":\"fe590d22-b68c-4fb3-96eb-a62b5e525379\",\"type\":\"BoxAnnotation\"},{\"id\":\"ceddec44-006a-4209-b67f-eae8a06aa762\",\"type\":\"BoxAnnotation\"},{\"id\":\"cc691c3d-6134-4bc1-b66d-c98eed219dac\",\"type\":\"GlyphRenderer\"},{\"id\":\"ae288e97-5528-4bc6-8a3f-6069f1efb417\",\"type\":\"GlyphRenderer\"},{\"id\":\"f9c2fc02-451d-4afd-b3a4-7f5d4c028c61\",\"type\":\"GlyphRenderer\"},{\"id\":\"4c0e2908-7c41-42cd-8474-ce872a7ae4ae\",\"type\":\"GlyphRenderer\"},{\"id\":\"d834d3e5-fb1b-4103-8824-c50cdc56444c\",\"type\":\"GlyphRenderer\"},{\"id\":\"e92279dd-7f22-4f31-b2df-fbe22f957dad\",\"type\":\"GlyphRenderer\"}],\"title\":{\"id\":\"0faa17cc-afdc-4d2c-9083-e349ac727be8\",\"type\":\"Title\"},\"toolbar\":{\"id\":\"1024502b-a7f2-45cd-933f-533baa018d74\",\"type\":\"Toolbar\"},\"x_range\":{\"id\":\"92be81c0-97b1-492a-b2a3-7098ebaa254e\",\"type\":\"DataRange1d\"},\"x_scale\":{\"id\":\"54430b17-a3f3-46fb-b2cb-6263fdc2683b\",\"type\":\"LinearScale\"},\"y_range\":{\"id\":\"a5911e44-d862-444a-a847-8dd1de0027da\",\"type\":\"DataRange1d\"},\"y_scale\":{\"id\":\"619eadcc-1189-4e37-9aa3-63c24c43c6f5\",\"type\":\"LinearScale\"}},\"id\":\"ec1b0655-8d5e-49b7-8164-821ceefe1943\",\"subtype\":\"Figure\",\"type\":\"Plot\"},{\"attributes\":{\"fill_alpha\":{\"value\":0.1},\"fill_color\":{\"value\":\"#1f77b4\"},\"line_alpha\":{\"value\":0.1},\"line_color\":{\"value\":\"#1f77b4\"},\"x\":{\"value\":-16.886945724487305},\"y\":{\"value\":-785.463623046875}},\"id\":\"1bb6591a-7e32-483f-9db6-975844732afb\",\"type\":\"Circle\"},{\"attributes\":{},\"id\":\"5d9ab067-708a-427c-9068-62f51e2ad203\",\"type\":\"LinearScale\"},{\"attributes\":{\"overlay\":{\"id\":\"ceddec44-006a-4209-b67f-eae8a06aa762\",\"type\":\"BoxAnnotation\"}},\"id\":\"7251c298-0488-4e3e-92e3-cf745b74a8b2\",\"type\":\"BoxZoomTool\"},{\"attributes\":{\"callback\":null},\"id\":\"85a62159-f6b8-4698-baf9-b4187f8f799c\",\"type\":\"TapTool\"},{\"attributes\":{},\"id\":\"d54a0d7a-231d-4cb1-b41b-e4cc917fa6ba\",\"type\":\"PanTool\"},{\"attributes\":{\"callback\":null,\"data\":{}},\"id\":\"c8cd7ce7-029e-4451-bcc1-f586188c3c0f\",\"type\":\"ColumnDataSource\"},{\"attributes\":{\"data_source\":{\"id\":\"57279daf-4489-47f1-9ef5-e049df566d44\",\"type\":\"ColumnDataSource\"},\"glyph\":{\"id\":\"0c29f03f-0634-4a37-b6d9-281f82bf7d42\",\"type\":\"Circle\"},\"hover_glyph\":null,\"muted_glyph\":null,\"nonselection_glyph\":{\"id\":\"cac6894c-a1cf-443b-9363-d4e0b9bcd3ba\",\"type\":\"Circle\"},\"selection_glyph\":null,\"view\":{\"id\":\"3657f550-c95d-4975-b6bc-47f3ceff1a60\",\"type\":\"CDSView\"}},\"id\":\"d834d3e5-fb1b-4103-8824-c50cdc56444c\",\"type\":\"GlyphRenderer\"},{\"attributes\":{\"overlay\":{\"id\":\"24922dd0-fef3-4968-8576-30bda2776f6f\",\"type\":\"BoxAnnotation\"}},\"id\":\"4ffe8b4a-98e0-42c6-bc71-cd63b5358792\",\"type\":\"BoxZoomTool\"},{\"attributes\":{\"fill_alpha\":{\"value\":0.1},\"fill_color\":{\"value\":\"#1f77b4\"},\"line_alpha\":{\"value\":0.1},\"line_color\":{\"value\":\"#1f77b4\"},\"x\":{\"value\":218.81710265472583},\"y\":{\"value\":16.35342502477349}},\"id\":\"2bcfbad7-9082-4fa0-b6b9-5730dad5588d\",\"type\":\"Circle\"},{\"attributes\":{\"plot\":{\"id\":\"ec1b0655-8d5e-49b7-8164-821ceefe1943\",\"subtype\":\"Figure\",\"type\":\"Plot\"},\"ticker\":{\"id\":\"025c4482-68cc-4f3f-b4ff-5955fbb8b46a\",\"type\":\"BasicTicker\"}},\"id\":\"1acfaf2c-8476-4650-8940-3461b94d3e94\",\"type\":\"Grid\"},{\"attributes\":{\"callback\":null,\"names\":[\"cog\"],\"tooltips\":[[\"(x,y)\",\"($x_cog, $y_cog)\"],[\"time\",\"@t\"],[\"SFR\",\"@sfr Msol/yr\"]]},\"id\":\"1a9d6f50-e97d-4c2e-9bec-56dc0e616bb3\",\"type\":\"HoverTool\"},{\"attributes\":{\"fill_color\":{\"value\":\"#1f77b4\"},\"line_color\":{\"value\":\"#1f77b4\"},\"top\":{\"field\":\"sfr\"},\"width\":{\"value\":0.1},\"x\":{\"field\":\"t\"}},\"id\":\"8adda45a-0c48-4e01-974c-70c83f913898\",\"type\":\"VBar\"},{\"attributes\":{\"fill_alpha\":{\"value\":0.1},\"fill_color\":{\"value\":\"#1f77b4\"},\"line_alpha\":{\"value\":0.1},\"line_color\":{\"value\":\"#1f77b4\"},\"radius\":{\"units\":\"data\",\"value\":200},\"x\":{\"value\":0},\"y\":{\"value\":0}},\"id\":\"b4d46955-88d2-4fd8-9e3b-d324453d09fe\",\"type\":\"Circle\"},{\"attributes\":{\"callback\":null,\"data\":{}},\"id\":\"468f646f-0a89-4ba3-ac82-433f8e9c5ff0\",\"type\":\"ColumnDataSource\"},{\"attributes\":{\"fill_color\":{\"value\":\"red\"},\"line_color\":{\"value\":\"red\"},\"x\":{\"value\":218.81710265472583},\"y\":{\"value\":16.35342502477349}},\"id\":\"249d4359-f158-485c-b2b6-71a2cd646ca9\",\"type\":\"Circle\"},{\"attributes\":{\"bottom_units\":\"screen\",\"fill_alpha\":{\"value\":0.5},\"fill_color\":{\"value\":\"lightgrey\"},\"left_units\":\"screen\",\"level\":\"overlay\",\"line_alpha\":{\"value\":1.0},\"line_color\":{\"value\":\"black\"},\"line_dash\":[4,4],\"line_width\":{\"value\":2},\"plot\":null,\"render_mode\":\"css\",\"right_units\":\"screen\",\"top_units\":\"screen\"},\"id\":\"26f7c3e2-54c7-488e-a2ed-5bfdd1a30775\",\"type\":\"BoxAnnotation\"},{\"attributes\":{\"callback\":null},\"id\":\"92be81c0-97b1-492a-b2a3-7098ebaa254e\",\"type\":\"DataRange1d\"},{\"attributes\":{},\"id\":\"e9d472a4-9f9c-49a5-9639-c44d7b164087\",\"type\":\"BasicTicker\"},{\"attributes\":{\"fill_alpha\":{\"value\":0.3},\"fill_color\":{\"value\":\"#1f77b4\"},\"line_alpha\":{\"value\":0.3},\"line_color\":{\"value\":\"#1f77b4\"},\"radius\":{\"units\":\"data\",\"value\":1000},\"x\":{\"value\":0},\"y\":{\"value\":0}},\"id\":\"0c29f03f-0634-4a37-b6d9-281f82bf7d42\",\"type\":\"Circle\"},{\"attributes\":{\"source\":{\"id\":\"84e59139-3bd8-4327-bc61-b7a55c8077f0\",\"type\":\"ColumnDataSource\"}},\"id\":\"fc6088f4-1e52-4d9f-bd8e-630fb5d2596d\",\"type\":\"CDSView\"},{\"attributes\":{\"plot\":null,\"text\":\"SFH\"},\"id\":\"4ba3f60d-8baa-4afb-89c0-e5a23e4fa559\",\"type\":\"Title\"},{\"attributes\":{\"source\":{\"id\":\"962d8f27-8779-4b37-b95e-bed8db730f18\",\"type\":\"ColumnDataSource\"}},\"id\":\"734215c3-f0c4-405e-ba19-346809071f78\",\"type\":\"CDSView\"},{\"attributes\":{},\"id\":\"54430b17-a3f3-46fb-b2cb-6263fdc2683b\",\"type\":\"LinearScale\"},{\"attributes\":{\"source\":{\"id\":\"468f646f-0a89-4ba3-ac82-433f8e9c5ff0\",\"type\":\"ColumnDataSource\"}},\"id\":\"819d46ea-5231-4dc9-875f-338bc1378915\",\"type\":\"CDSView\"},{\"attributes\":{},\"id\":\"da553d96-6d8a-4ab1-bc91-836058526793\",\"type\":\"PanTool\"},{\"attributes\":{\"source\":{\"id\":\"a84146ea-d958-4154-8759-00e450e8e00d\",\"type\":\"ColumnDataSource\"}},\"id\":\"9a927fcc-f968-46bb-b585-d674a19cac7e\",\"type\":\"CDSView\"},{\"attributes\":{},\"id\":\"025c4482-68cc-4f3f-b4ff-5955fbb8b46a\",\"type\":\"BasicTicker\"},{\"attributes\":{\"callback\":null,\"overlay\":{\"id\":\"dad9ce74-b8b2-49d1-82be-9b3cc2892126\",\"type\":\"PolyAnnotation\"}},\"id\":\"9d449c88-cfce-4097-86e0-ab40ce7828b6\",\"type\":\"LassoSelectTool\"},{\"attributes\":{},\"id\":\"42fb25b3-6a31-4fac-ad1a-933e91641142\",\"type\":\"BasicTicker\"},{\"attributes\":{\"axis_label\":\"Time (Gyr)\",\"formatter\":{\"id\":\"4aee8bfc-1145-43c1-8e4f-f512685fc4c7\",\"type\":\"BasicTickFormatter\"},\"plot\":{\"id\":\"f599d647-ce24-4b7a-a75d-e778d4be88e6\",\"subtype\":\"Figure\",\"type\":\"Plot\"},\"ticker\":{\"id\":\"65a86b21-f0a5-4b8d-9cf2-799b21c76a80\",\"type\":\"BasicTicker\"}},\"id\":\"8325b192-6916-4a32-b876-bf8c4da558db\",\"type\":\"LinearAxis\"},{\"attributes\":{\"fill_alpha\":{\"value\":0.5},\"fill_color\":{\"value\":\"lightgrey\"},\"level\":\"overlay\",\"line_alpha\":{\"value\":1.0},\"line_color\":{\"value\":\"black\"},\"line_dash\":[4,4],\"line_width\":{\"value\":2},\"plot\":null,\"xs_units\":\"screen\",\"ys_units\":\"screen\"},\"id\":\"dad9ce74-b8b2-49d1-82be-9b3cc2892126\",\"type\":\"PolyAnnotation\"},{\"attributes\":{\"source\":{\"id\":\"c8cd7ce7-029e-4451-bcc1-f586188c3c0f\",\"type\":\"ColumnDataSource\"}},\"id\":\"1f87b15f-22cd-428b-80bc-c05226a478da\",\"type\":\"CDSView\"},{\"attributes\":{\"fill_alpha\":{\"value\":0.1},\"fill_color\":{\"value\":\"#1f77b4\"},\"line_alpha\":{\"value\":0.1},\"line_color\":{\"value\":\"#1f77b4\"},\"x\":{\"field\":\"x_cog\"},\"y\":{\"field\":\"y_cog\"}},\"id\":\"1b3bb36f-1743-4f66-b567-bea7dfdc70ea\",\"type\":\"Circle\"},{\"attributes\":{\"data_source\":{\"id\":\"a84146ea-d958-4154-8759-00e450e8e00d\",\"type\":\"ColumnDataSource\"},\"glyph\":{\"id\":\"8adda45a-0c48-4e01-974c-70c83f913898\",\"type\":\"VBar\"},\"hover_glyph\":null,\"muted_glyph\":null,\"nonselection_glyph\":{\"id\":\"1ad9f072-31d8-4872-8fdc-ed13c0ff7727\",\"type\":\"VBar\"},\"selection_glyph\":null,\"view\":{\"id\":\"9a927fcc-f968-46bb-b585-d674a19cac7e\",\"type\":\"CDSView\"}},\"id\":\"52113d1d-0a16-45c8-a8e3-857be7d3a10c\",\"type\":\"GlyphRenderer\"},{\"attributes\":{},\"id\":\"81eb1a6e-a9af-4409-bf34-4fbbbeb6ceca\",\"type\":\"WheelZoomTool\"},{\"attributes\":{\"dimension\":\"height\",\"line_color\":{\"value\":\"firebrick\"},\"location\":4.9999260794160945,\"plot\":{\"id\":\"f599d647-ce24-4b7a-a75d-e778d4be88e6\",\"subtype\":\"Figure\",\"type\":\"Plot\"}},\"id\":\"9de1bb7d-e3b2-4ecd-adda-0a7908bf703b\",\"type\":\"Span\"},{\"attributes\":{\"data_source\":{\"id\":\"a84146ea-d958-4154-8759-00e450e8e00d\",\"type\":\"ColumnDataSource\"},\"glyph\":{\"id\":\"bc327d64-d6eb-492e-a648-1c739d395d8a\",\"type\":\"Circle\"},\"hover_glyph\":null,\"muted_glyph\":null,\"name\":\"cog\",\"nonselection_glyph\":{\"id\":\"1b3bb36f-1743-4f66-b567-bea7dfdc70ea\",\"type\":\"Circle\"},\"selection_glyph\":null,\"view\":{\"id\":\"90065411-d265-4c21-9279-da1ac5b65918\",\"type\":\"CDSView\"}},\"id\":\"cc691c3d-6134-4bc1-b66d-c98eed219dac\",\"type\":\"GlyphRenderer\"},{\"attributes\":{},\"id\":\"d6ea7682-ebca-47f4-bb5e-21232e705369\",\"type\":\"WheelZoomTool\"},{\"attributes\":{},\"id\":\"c7fb2a7e-2e2a-458b-a437-18e6a7451d5e\",\"type\":\"BasicTickFormatter\"},{\"attributes\":{\"dimension\":1,\"plot\":{\"id\":\"f599d647-ce24-4b7a-a75d-e778d4be88e6\",\"subtype\":\"Figure\",\"type\":\"Plot\"},\"ticker\":{\"id\":\"e9d472a4-9f9c-49a5-9639-c44d7b164087\",\"type\":\"BasicTicker\"}},\"id\":\"07004709-a64a-4527-b50e-7fe09321ea1d\",\"type\":\"Grid\"},{\"attributes\":{\"callback\":null},\"id\":\"b8089116-b713-4204-b6ad-f5eec788c748\",\"type\":\"DataRange1d\"},{\"attributes\":{\"below\":[{\"id\":\"8325b192-6916-4a32-b876-bf8c4da558db\",\"type\":\"LinearAxis\"}],\"left\":[{\"id\":\"a22cd3d5-e430-468b-9c91-bb3a244c9f0d\",\"type\":\"LinearAxis\"}],\"plot_height\":400,\"plot_width\":400,\"renderers\":[{\"id\":\"8325b192-6916-4a32-b876-bf8c4da558db\",\"type\":\"LinearAxis\"},{\"id\":\"0c9f5891-3d82-45a8-a141-361197e644d5\",\"type\":\"Grid\"},{\"id\":\"a22cd3d5-e430-468b-9c91-bb3a244c9f0d\",\"type\":\"LinearAxis\"},{\"id\":\"07004709-a64a-4527-b50e-7fe09321ea1d\",\"type\":\"Grid\"},{\"id\":\"dad9ce74-b8b2-49d1-82be-9b3cc2892126\",\"type\":\"PolyAnnotation\"},{\"id\":\"26f7c3e2-54c7-488e-a2ed-5bfdd1a30775\",\"type\":\"BoxAnnotation\"},{\"id\":\"24922dd0-fef3-4968-8576-30bda2776f6f\",\"type\":\"BoxAnnotation\"},{\"id\":\"52113d1d-0a16-45c8-a8e3-857be7d3a10c\",\"type\":\"GlyphRenderer\"},{\"id\":\"9de1bb7d-e3b2-4ecd-adda-0a7908bf703b\",\"type\":\"Span\"}],\"title\":{\"id\":\"4ba3f60d-8baa-4afb-89c0-e5a23e4fa559\",\"type\":\"Title\"},\"toolbar\":{\"id\":\"d7e37171-4546-4e68-9171-9db0cea86537\",\"type\":\"Toolbar\"},\"x_range\":{\"id\":\"b8089116-b713-4204-b6ad-f5eec788c748\",\"type\":\"DataRange1d\"},\"x_scale\":{\"id\":\"7f716721-6663-43dc-bb78-d5c7dc9cf4d8\",\"type\":\"LinearScale\"},\"y_range\":{\"id\":\"d9a297b5-b3d5-4ae5-a061-1309d326c7cc\",\"type\":\"DataRange1d\"},\"y_scale\":{\"id\":\"5d9ab067-708a-427c-9068-62f51e2ad203\",\"type\":\"LinearScale\"}},\"id\":\"f599d647-ce24-4b7a-a75d-e778d4be88e6\",\"subtype\":\"Figure\",\"type\":\"Plot\"},{\"attributes\":{},\"id\":\"c9126abd-79fb-43b4-9055-48740367b929\",\"type\":\"BasicTickFormatter\"},{\"attributes\":{\"fill_color\":{\"value\":\"#1f77b4\"},\"line_color\":{\"value\":\"#1f77b4\"},\"x\":{\"value\":0},\"y\":{\"value\":0}},\"id\":\"ef63be90-5cee-4e25-9098-ce3aaf758ed7\",\"type\":\"X\"},{\"attributes\":{\"fill_alpha\":{\"value\":0.1},\"fill_color\":{\"value\":\"#1f77b4\"},\"line_alpha\":{\"value\":0.1},\"line_color\":{\"value\":\"#1f77b4\"},\"radius\":{\"units\":\"data\",\"value\":1000},\"x\":{\"value\":0},\"y\":{\"value\":0}},\"id\":\"cac6894c-a1cf-443b-9363-d4e0b9bcd3ba\",\"type\":\"Circle\"},{\"attributes\":{\"data_source\":{\"id\":\"c8cd7ce7-029e-4451-bcc1-f586188c3c0f\",\"type\":\"ColumnDataSource\"},\"glyph\":{\"id\":\"249d4359-f158-485c-b2b6-71a2cd646ca9\",\"type\":\"Circle\"},\"hover_glyph\":null,\"muted_glyph\":null,\"nonselection_glyph\":{\"id\":\"2bcfbad7-9082-4fa0-b6b9-5730dad5588d\",\"type\":\"Circle\"},\"selection_glyph\":null,\"view\":{\"id\":\"1f87b15f-22cd-428b-80bc-c05226a478da\",\"type\":\"CDSView\"}},\"id\":\"f9c2fc02-451d-4afd-b3a4-7f5d4c028c61\",\"type\":\"GlyphRenderer\"},{\"attributes\":{},\"id\":\"cff071ec-45a1-4ba3-9649-7ec236bf796d\",\"type\":\"BasicTickFormatter\"},{\"attributes\":{\"callback\":null,\"overlay\":{\"id\":\"26f7c3e2-54c7-488e-a2ed-5bfdd1a30775\",\"type\":\"BoxAnnotation\"},\"renderers\":[{\"id\":\"52113d1d-0a16-45c8-a8e3-857be7d3a10c\",\"type\":\"GlyphRenderer\"}]},\"id\":\"517ee42d-eda8-41ba-8831-dad8f5b283e0\",\"type\":\"BoxSelectTool\"},{\"attributes\":{},\"id\":\"4aee8bfc-1145-43c1-8e4f-f512685fc4c7\",\"type\":\"BasicTickFormatter\"},{\"attributes\":{\"callback\":null},\"id\":\"d9a297b5-b3d5-4ae5-a061-1309d326c7cc\",\"type\":\"DataRange1d\"},{\"attributes\":{\"data_source\":{\"id\":\"962d8f27-8779-4b37-b95e-bed8db730f18\",\"type\":\"ColumnDataSource\"},\"glyph\":{\"id\":\"c5aba58c-9a26-44fa-8dbc-5d53d97cdb19\",\"type\":\"Circle\"},\"hover_glyph\":null,\"muted_glyph\":null,\"nonselection_glyph\":{\"id\":\"b4d46955-88d2-4fd8-9e3b-d324453d09fe\",\"type\":\"Circle\"},\"selection_glyph\":null,\"view\":{\"id\":\"734215c3-f0c4-405e-ba19-346809071f78\",\"type\":\"CDSView\"}},\"id\":\"4c0e2908-7c41-42cd-8474-ce872a7ae4ae\",\"type\":\"GlyphRenderer\"}],\"root_ids\":[\"324de53c-0bdb-4c14-b135-daf799f8bd5c\"]},\"title\":\"Bokeh Application\",\"version\":\"0.12.10\"}};\n",
       "    var render_items = [{\"docid\":\"3df72c56-3c4a-49eb-84f0-4b84ef08574a\",\"elementid\":\"073e916c-28ff-4d25-8d79-4e04c98934ed\",\"modelid\":\"324de53c-0bdb-4c14-b135-daf799f8bd5c\"}];\n",
       "\n",
       "    root.Bokeh.embed.embed_items(docs_json, render_items);\n",
       "  }\n",
       "\n",
       "  if (root.Bokeh !== undefined) {\n",
       "    embed_document(root);\n",
       "  } else {\n",
       "    var attempts = 0;\n",
       "    var timer = setInterval(function(root) {\n",
       "      if (root.Bokeh !== undefined) {\n",
       "        embed_document(root);\n",
       "        clearInterval(timer);\n",
       "      }\n",
       "      attempts++;\n",
       "      if (attempts > 100) {\n",
       "        console.log(\"Bokeh: ERROR: Unable to embed document because BokehJS library is missing\")\n",
       "        clearInterval(timer);\n",
       "      }\n",
       "    }, 10, root)\n",
       "  }\n",
       "})(window);"
      ],
      "application/vnd.bokehjs_exec.v0+json": ""
     },
     "metadata": {
      "application/vnd.bokehjs_exec.v0+json": {
       "id": "324de53c-0bdb-4c14-b135-daf799f8bd5c"
      }
     },
     "output_type": "display_data"
    }
   ],
   "source": [
    "f1, f2 = compare_cog_sfh_single(source_kicked)"
   ]
  },
  {
   "cell_type": "code",
   "execution_count": 74,
   "metadata": {
    "collapsed": true
   },
   "outputs": [],
   "source": [
    "# TODO\n",
    "def compare_cog_sfh(source):\n",
    "    start = (source.data['x_cog'][0], source.data['y_cog'][0])\n",
    "    end = (source.data['x_cog'][-1], source.data['y_cog'][-1])\n",
    "\n",
    "    hover = HoverTool(tooltips=[\n",
    "#             (\"(x,y)\", \"($x_cog, $y_cog)\"),\n",
    "                     (\"time\", \"@t\")],\n",
    "                      names=[\"cog\"])\n",
    "\n",
    "    tools = 'lasso_select, box_select, tap, wheel_zoom, pan, box_zoom, reset'\n",
    "    \n",
    "    # COG figure\n",
    "    f1 = figure(width=400, height=400, title='Center of gravity position',\n",
    "                x_axis_label=\"x (kpc)\", y_axis_label=\"y (kpc)\",\n",
    "                tools=tools)\n",
    "    f1.circle('x_cog', 'y_cog', source=source, name='cog')\n",
    "    f1.circle(*start, color='yellow')\n",
    "    f1.circle(*end, color='red')\n",
    "    f1.circle(0,0, radius=virial_radius.value, alpha=0.1)\n",
    "    f1.x(0,0)\n",
    "    f1.add_tools(hover) # do not hover on the virial radius!\n",
    "\n",
    "    # SFH figure\n",
    "    f2 = figure(width=400, height=400, title='SFH',\n",
    "                x_axis_label=\"Time (Gyr)\", y_axis_label=\"SFR (Msol/yr)\",\n",
    "                tools=tools)\n",
    "    # f2.tools.pop(4)  # remove pan\n",
    "    \n",
    "    # f2.line(t[:-1], sfr)\n",
    "    f2.vbar(x='t', top='sfr', width=.1, source=source)\n",
    "    \n",
    "    \n",
    "#     t = source.data['t']\n",
    "#     sfr = source.data['sfr']\n",
    "#     interval = t[1]-t[0]\n",
    "#     f2.quad(top='sfr', bottom=np.zeros_like(t), left=t,\n",
    "#             right=t+interval, alpha=0.5)#, color=\"#B3DE69\")\n",
    "    simulation_start_line = Span(location=times_moria[0], dimension='height', line_color='firebrick', line_width=1)\n",
    "    f2.add_layout(simulation_start_line)\n",
    "    p = row([f1, f2])\n",
    "    # p = gridplot([[f1, f2]])\n",
    "    show(p)\n",
    "    return f1, f2\n"
   ]
  },
  {
   "cell_type": "code",
   "execution_count": 30,
   "metadata": {},
   "outputs": [
    {
     "ename": "KeyError",
     "evalue": "'x_cog'",
     "output_type": "error",
     "traceback": [
      "\u001b[0;31m---------------------------------------------------------------------------\u001b[0m",
      "\u001b[0;31mKeyError\u001b[0m                                  Traceback (most recent call last)",
      "\u001b[0;32m<ipython-input-30-cdbcfd6c70d1>\u001b[0m in \u001b[0;36m<module>\u001b[0;34m()\u001b[0m\n\u001b[0;32m----> 1\u001b[0;31m \u001b[0mcompare_cog_sfh\u001b[0m\u001b[0;34m(\u001b[0m\u001b[0msource\u001b[0m\u001b[0;34m)\u001b[0m\u001b[0;34m\u001b[0m\u001b[0m\n\u001b[0m",
      "\u001b[0;32m<ipython-input-29-2570685712ce>\u001b[0m in \u001b[0;36mcompare_cog_sfh\u001b[0;34m(source)\u001b[0m\n\u001b[1;32m      1\u001b[0m \u001b[0;32mdef\u001b[0m \u001b[0mcompare_cog_sfh\u001b[0m\u001b[0;34m(\u001b[0m\u001b[0msource\u001b[0m\u001b[0;34m)\u001b[0m\u001b[0;34m:\u001b[0m\u001b[0;34m\u001b[0m\u001b[0m\n\u001b[0;32m----> 2\u001b[0;31m     \u001b[0mstart\u001b[0m \u001b[0;34m=\u001b[0m \u001b[0;34m(\u001b[0m\u001b[0msource\u001b[0m\u001b[0;34m.\u001b[0m\u001b[0mdata\u001b[0m\u001b[0;34m[\u001b[0m\u001b[0;34m'x_cog'\u001b[0m\u001b[0;34m]\u001b[0m\u001b[0;34m[\u001b[0m\u001b[0;36m0\u001b[0m\u001b[0;34m]\u001b[0m\u001b[0;34m,\u001b[0m \u001b[0msource\u001b[0m\u001b[0;34m.\u001b[0m\u001b[0mdata\u001b[0m\u001b[0;34m[\u001b[0m\u001b[0;34m'y_cog'\u001b[0m\u001b[0;34m]\u001b[0m\u001b[0;34m[\u001b[0m\u001b[0;36m0\u001b[0m\u001b[0;34m]\u001b[0m\u001b[0;34m)\u001b[0m\u001b[0;34m\u001b[0m\u001b[0m\n\u001b[0m\u001b[1;32m      3\u001b[0m     \u001b[0mend\u001b[0m \u001b[0;34m=\u001b[0m \u001b[0;34m(\u001b[0m\u001b[0msource\u001b[0m\u001b[0;34m.\u001b[0m\u001b[0mdata\u001b[0m\u001b[0;34m[\u001b[0m\u001b[0;34m'x_cog'\u001b[0m\u001b[0;34m]\u001b[0m\u001b[0;34m[\u001b[0m\u001b[0;34m-\u001b[0m\u001b[0;36m1\u001b[0m\u001b[0;34m]\u001b[0m\u001b[0;34m,\u001b[0m \u001b[0msource\u001b[0m\u001b[0;34m.\u001b[0m\u001b[0mdata\u001b[0m\u001b[0;34m[\u001b[0m\u001b[0;34m'y_cog'\u001b[0m\u001b[0;34m]\u001b[0m\u001b[0;34m[\u001b[0m\u001b[0;34m-\u001b[0m\u001b[0;36m1\u001b[0m\u001b[0;34m]\u001b[0m\u001b[0;34m)\u001b[0m\u001b[0;34m\u001b[0m\u001b[0m\n\u001b[1;32m      4\u001b[0m \u001b[0;34m\u001b[0m\u001b[0m\n\u001b[1;32m      5\u001b[0m     hover = HoverTool(tooltips=[\n",
      "\u001b[0;31mKeyError\u001b[0m: 'x_cog'"
     ]
    }
   ],
   "source": [
    "compare_cog_sfh(source)"
   ]
  },
  {
   "cell_type": "markdown",
   "metadata": {},
   "source": [
    "# Profiles"
   ]
  },
  {
   "cell_type": "code",
   "execution_count": 31,
   "metadata": {
    "collapsed": true
   },
   "outputs": [],
   "source": [
    "which_snap = -1"
   ]
  },
  {
   "cell_type": "code",
   "execution_count": 32,
   "metadata": {},
   "outputs": [
    {
     "name": "stdout",
     "output_type": "stream",
     "text": [
      "Recentering into: kpc [-19.68741208  -1.1828672   -1.81357363]\n",
      "[ 0.1  0.1  0.1 ...,  0.1  0.1  0.1]\n"
     ]
    }
   ],
   "source": [
    "h1 = moria_sim[which_snap]\n",
    "c = pynbody.analysis.halo.center(h1, retcen=True)\n",
    "print(\"Recentering into: kpc\", c)\n",
    "pynbody.analysis.halo.center(h1)\n",
    "# print(c)\n",
    "# h1.properties['eps'] = pynbody.units.Unit(\"1.1 kpc\")\n",
    "my_eps_value = 0.1\n",
    "# Beware of the dtype of the SimArray (if something goes wrong remember to \"del h1['eps']\")\n",
    "h1['eps'] = pynbody.array.SimArray(np.ones(len(h1['pos'])), \"kpc\", dtype=np.float32) * my_eps_value\n",
    "print(h1['eps'])\n",
    "pd = pynbody.analysis.profile.Profile(h1.d, max=50, type = 'log')\n",
    "ps = pynbody.analysis.profile.Profile(h1.s, max=50, type = 'log')\n",
    "pg = pynbody.analysis.profile.Profile(h1.g, max=50, type = 'log')\n",
    "ptot = pynbody.analysis.profile.Profile(h1, min=.01,max=50, type = 'log')\n",
    "prof_list = [ptot,pd,ps,pg]"
   ]
  },
  {
   "cell_type": "code",
   "execution_count": 45,
   "metadata": {},
   "outputs": [
    {
     "name": "stdout",
     "output_type": "stream",
     "text": [
      "Recentering into: kpc [  1.56211898e-09  -4.07901039e-11  -7.13790582e-10]\n",
      "[ 0.1  0.1  0.1 ...,  0.1  0.1  0.1]\n"
     ]
    }
   ],
   "source": [
    "h2 = kicked_sim[which_snap]\n",
    "c = pynbody.analysis.halo.center(h2, retcen=True)\n",
    "print(\"Recentering into: kpc\", c)\n",
    "pynbody.analysis.halo.center(h2)\n",
    "# print(c)\n",
    "# h1.properties['eps'] = pynbody.units.Unit(\"1.1 kpc\")\n",
    "my_eps_value = 0.1\n",
    "# Beware of the dtype of the SimArray (if something goes wrong remember to \"del h1['eps']\")\n",
    "h2['eps'] = pynbody.array.SimArray(np.ones(len(h2['pos'])), \"kpc\", dtype=np.float32) * my_eps_value\n",
    "print(h2['eps'])\n",
    "pd_k = pynbody.analysis.profile.Profile(h2.d, max=50, type = 'log')\n",
    "ps_k = pynbody.analysis.profile.Profile(h2.s, max=50, type = 'log')\n",
    "pg_k = pynbody.analysis.profile.Profile(h2.g, max=50, type = 'log')\n",
    "ptot_k = pynbody.analysis.profile.Profile(h2, min=.01,max=50, type = 'log')\n",
    "prof_list_k = [ptot_k,pd_k,ps_k,pg_k]"
   ]
  },
  {
   "cell_type": "markdown",
   "metadata": {},
   "source": [
    "### Circular velocity"
   ]
  },
  {
   "cell_type": "code",
   "execution_count": 52,
   "metadata": {
    "scrolled": false
   },
   "outputs": [
    {
     "data": {
      "image/png": "[encoded data removed]",
      "text/plain": [
       "<matplotlib.figure.Figure at 0x7f0f8fd3de48>"
      ]
     },
     "metadata": {},
     "output_type": "display_data"
    }
   ],
   "source": [
    "fig, axes = plt.subplots(2, figsize=(8,6))\n",
    "fig.suptitle(\"Circular velocity\")\n",
    "\n",
    "titles = ('MoRIA sim{}', 'Kicked sim{}')\n",
    "for ax, title, p, in zip(axes, titles, (prof_list, prof_list_k)):\n",
    "    for prof, name in zip(p,['total','dm','stars','gas']):\n",
    "        ax.plot(prof['rbins'], prof['d_v_circ'], label=name)\n",
    "        ax.set_title(title.format(SIM_NUMBER))\n",
    "        ax.set_xlabel('$R$ [kpc]');\n",
    "        ax.set_ylabel('$v_{circ}$ [km/s]');\n",
    "plt.legend(loc=1);\n",
    "plt.tight_layout()\n",
    "fig.subplots_adjust(top=0.88)"
   ]
  },
  {
   "cell_type": "code",
   "execution_count": 36,
   "metadata": {
    "collapsed": true
   },
   "outputs": [],
   "source": [
    "### Rotation Curve Spherical ?\n"
   ]
  },
  {
   "cell_type": "code",
   "execution_count": 37,
   "metadata": {},
   "outputs": [
    {
     "data": {
      "image/png": "[encoded data removed]",
      "text/plain": [
       "<matplotlib.figure.Figure at 0x7f0f908df278>"
      ]
     },
     "metadata": {},
     "output_type": "display_data"
    }
   ],
   "source": [
    "fig, axes = plt.subplots(2, figsize=(8,6))\n",
    "fig.suptitle(\"Rotation Curve Spherical\")\n",
    "\n",
    "for ax, title, p, in zip(axes, titles, (prof_list, prof_list_k)):\n",
    "    for prof, name in zip(p, ['total','dm','stars','gas']):\n",
    "        ax.plot(prof['rbins'], prof['rotation_curve_spherical'], label=name)\n",
    "        ax.set_title(title.format(SIM_NUMBER))\n",
    "        ax.set_xlabel('$R$ [kpc]');\n",
    "        ax.set_ylabel('$v_{rot}$ [km/s]');\n",
    "plt.legend()\n",
    "plt.tight_layout()\n",
    "fig.subplots_adjust(top=0.88)"
   ]
  },
  {
   "cell_type": "code",
   "execution_count": 38,
   "metadata": {},
   "outputs": [
    {
     "data": {
      "text/plain": [
       "(dtype('float32'), dtype('float32'))"
      ]
     },
     "execution_count": 38,
     "metadata": {},
     "output_type": "execute_result"
    }
   ],
   "source": [
    "h1['mass'].dtype, h1['pos'].dtype"
   ]
  },
  {
   "cell_type": "markdown",
   "metadata": {},
   "source": [
    "### Velocity dispersion of stars"
   ]
  },
  {
   "cell_type": "code",
   "execution_count": 39,
   "metadata": {},
   "outputs": [
    {
     "data": {
      "text/plain": [
       "{'a': 0.9803380531654599,\n",
       " 'boxsize': Unit(\"1.00e+01 Mpc\"),\n",
       " 'h': 0.7,\n",
       " 'omegaL0': 0.72,\n",
       " 'omegaM0': 1.0,\n",
       " 'time': Unit(\"1.34e+01 s kpc km**-1\")}"
      ]
     },
     "execution_count": 39,
     "metadata": {},
     "output_type": "execute_result"
    }
   ],
   "source": [
    "h1.properties['boxsize'] = pynbody.units.Unit('10 Mpc')\n",
    "h1.properties"
   ]
  },
  {
   "cell_type": "code",
   "execution_count": 40,
   "metadata": {},
   "outputs": [
    {
     "data": {
      "text/plain": [
       "{'a': 1.0,\n",
       " 'boxsize': Unit(\"1.00e+01 Mpc\"),\n",
       " 'h': 0.7,\n",
       " 'omegaL0': 0.72,\n",
       " 'omegaM0': 1.0,\n",
       " 'time': Unit(\"1.34e+01 s kpc km**-1\")}"
      ]
     },
     "execution_count": 40,
     "metadata": {},
     "output_type": "execute_result"
    }
   ],
   "source": [
    "h2.properties['boxsize'] = pynbody.units.Unit('10 Mpc')\n",
    "h2.properties"
   ]
  },
  {
   "cell_type": "code",
   "execution_count": 41,
   "metadata": {},
   "outputs": [
    {
     "name": "stderr",
     "output_type": "stream",
     "text": [
      "/home/michele/Software/miniconda3/lib/python3.6/site-packages/pynbody-0.41-py3.6-linux-x86_64.egg/pynbody/analysis/profile.py:422: RuntimeWarning: invalid value encountered in true_divide\n",
      "  result[i] = (name_array * mass_array).sum() / self['weight_fn'][i]\n"
     ]
    },
    {
     "data": {
      "image/png": "[encoded data removed]",
      "text/plain": [
       "<matplotlib.figure.Figure at 0x7f0f90b3bd68>"
      ]
     },
     "metadata": {},
     "output_type": "display_data"
    }
   ],
   "source": [
    "fig, ax = plt.subplots(figsize=(8,6))\n",
    "ax.plot(ps_k['rbins'], ps_k['v_disp'])\n",
    "plt.xlabel('$R$ [kpc]', fontsize='x-large');\n",
    "plt.ylabel('$v_{\\star}^{disp}$ [km/s]', fontsize='x-large');"
   ]
  },
  {
   "cell_type": "code",
   "execution_count": 42,
   "metadata": {},
   "outputs": [
    {
     "name": "stderr",
     "output_type": "stream",
     "text": [
      "/home/michele/Software/miniconda3/lib/python3.6/site-packages/pynbody-0.41-py3.6-linux-x86_64.egg/pynbody/analysis/profile.py:422: RuntimeWarning: invalid value encountered in true_divide\n",
      "  result[i] = (name_array * mass_array).sum() / self['weight_fn'][i]\n"
     ]
    },
    {
     "data": {
      "image/png": "[encoded data removed]",
      "text/plain": [
       "<matplotlib.figure.Figure at 0x7f0f907e62b0>"
      ]
     },
     "metadata": {},
     "output_type": "display_data"
    }
   ],
   "source": [
    "fig, axes = plt.subplots(2, figsize=(8,6))\n",
    "#reprofile a few of h-l radii\n",
    "for ax, title, p, in zip(axes, titles, (ps, ps_k)):\n",
    "    ax.plot(p['rbins'], p['v_disp'])\n",
    "    ax.set_title(title.format(SIM_NUMBER))\n",
    "    ax.set_xlabel('$R$ [kpc]', fontsize='x-large');\n",
    "    ax.set_ylabel('$v_{\\star}^{disp}$ [km/s]', fontsize='x-large');\n",
    "# plt.xlabel('$R$ [kpc]', fontsize='x-large');\n",
    "# plt.ylabel('$v_{\\star}^{disp}$ [km/s]', fontsize='x-large');\n",
    "plt.tight_layout()\n",
    "fig.subplots_adjust(top=0.88)"
   ]
  },
  {
   "cell_type": "code",
   "execution_count": 43,
   "metadata": {},
   "outputs": [
    {
     "data": {
      "image/png": "[encoded data removed]",
      "text/plain": [
       "<matplotlib.figure.Figure at 0x7f0f8feb2940>"
      ]
     },
     "metadata": {},
     "output_type": "display_data"
    }
   ],
   "source": [
    "# fig, ax = plt.subplots(figsize=(8,6))\n",
    "# for prof, name in zip([p,pd,ps,pg],['total','dm','stars','gas']) : ax.plot(prof['rbins'], prof['rotation_curve_spherical'], label=name)\n",
    "# plt.legend();"
   ]
  },
  {
   "cell_type": "code",
   "execution_count": 44,
   "metadata": {
    "collapsed": true,
    "scrolled": true
   },
   "outputs": [],
   "source": [
    "# f1 = figure(width=400, height=400, title='Center of gravity position', x_axis_label=\"x (kpc)\", y_axis_label=\"y (kpc)\")\n",
    "# f1.line(x_cog, y_cog)\n",
    "# f1.circle(0,0, radius=virial_radius.value, alpha=0.1)\n",
    "# f2 = figure(width=400, height=400, x_axis_label=\"Time (Gyr)\", y_axis_label=\"SFR (Msol/yr)\")\n",
    "# # f2.line(t[:-1], sfr)\n",
    "# f2.vbar(x=t[:-1], top=sfr, width=None)\n",
    "# p = row([f1, f2])\n",
    "# show(p)"
   ]
  },
  {
   "cell_type": "code",
   "execution_count": null,
   "metadata": {
    "collapsed": true
   },
   "outputs": [],
   "source": [
    "# from bokeh.layouts import layout, row, widgetbox\n",
    "# from bokeh.models import (\n",
    "#     ColumnDataSource, HoverTool, TextInput, SingleIntervalTicker, Slider, Button, Label,\n",
    "#     CategoricalColorMapper,\n",
    "# )\n",
    "\n",
    "# def animate_update():\n",
    "#     gyr = slider.value + 1\n",
    "#     if gyr > years[-1]:\n",
    "#         gyr = years[0]\n",
    "#     slider.value = gyr\n",
    "\n",
    "# def animate():\n",
    "#     if button.label == '► Play':\n",
    "#         button.label = '❚❚ Pause'\n",
    "#         curdoc().add_periodic_callback(animate_update, 200)\n",
    "#     else:\n",
    "#         button.label = '► Play'\n",
    "#         curdoc().remove_periodic_callback(animate_update)\n",
    "\n",
    "# button = Button(label='► Play', width=60)\n",
    "# button.on_click(animate)"
   ]
  },
  {
   "cell_type": "code",
   "execution_count": null,
   "metadata": {
    "collapsed": true
   },
   "outputs": [],
   "source": [
    "import numpy as np\n",
    "from bokeh.layouts import layout, row, widgetbox\n",
    "from bokeh.models import (\n",
    "    ColumnDataSource, HoverTool, TextInput, SingleIntervalTicker, Slider, Button, Label,\n",
    "    CategoricalColorMapper,\n",
    ")\n",
    "from bokeh.application.handlers import FunctionHandler\n",
    "from bokeh.application import Application\n",
    "from bokeh.plotting import figure, show\n",
    "\n",
    "def modify_doc(doc):\n",
    "\n",
    "    # Set up data\n",
    "    N = 200\n",
    "    x = np.linspace(0, 4*np.pi, N)\n",
    "    y = np.sin(x)\n",
    "    source = ColumnDataSource(data=dict(x=x, y=y))\n",
    "\n",
    "\n",
    "    # Set up plot\n",
    "    plot = figure(plot_height=400, plot_width=400, title=\"my sine wave\",\n",
    "                  tools=\"crosshair,pan,reset,save,wheel_zoom\",\n",
    "                  x_range=[0, 4*np.pi], y_range=[-2.5, 2.5])\n",
    "\n",
    "    plot.line('x', 'y', source=source, line_width=3, line_alpha=0.6)\n",
    "\n",
    "    # Set up widgets\n",
    "    text = TextInput(title=\"title\", value='my sine wave')\n",
    "    offset = Slider(title=\"offset\", value=0.0, start=-5.0, end=5.0, step=0.1)\n",
    "    amplitude = Slider(title=\"amplitude\", value=1.0, start=-5.0, end=5.0, step=0.1)\n",
    "    phase = Slider(title=\"phase\", value=0.0, start=0.0, end=2*np.pi)\n",
    "    freq = Slider(title=\"frequency\", value=1.0, start=0.1, end=5.1, step=0.1)\n",
    "\n",
    "    # Set up callbacks\n",
    "    def update_title(attrname, old, new):\n",
    "        plot.title.text = text.value\n",
    "\n",
    "    text.on_change('value', update_title)\n",
    "\n",
    "    def update_data(attrname, old, new):\n",
    "\n",
    "        # Get the current slider values\n",
    "        a = amplitude.value\n",
    "        b = offset.value\n",
    "        w = phase.value\n",
    "        k = freq.value\n",
    "\n",
    "        # Generate the new curve\n",
    "        x = np.linspace(0, 4*np.pi, N)\n",
    "        y = a*np.sin(k*x + w) + b\n",
    "\n",
    "        source.data = dict(x=x, y=y)\n",
    "\n",
    "    for w in [offset, amplitude, phase, freq]:\n",
    "        w.on_change('value', update_data)\n",
    "\n",
    "    # Set up layouts and add to document\n",
    "    inputs = widgetbox(text, offset, amplitude, phase, freq)\n",
    "\n",
    "    doc.add_root(row(inputs, plot, width=800))\n",
    "    doc.title = \"Sliders\"\n",
    "\n",
    "    # Set up the Application \n",
    "handler = FunctionHandler(modify_doc)\n",
    "app = Application(handler)\n"
   ]
  },
  {
   "cell_type": "code",
   "execution_count": null,
   "metadata": {
    "collapsed": true
   },
   "outputs": [],
   "source": [
    "doc = app.create_document()\n",
    "# Show the application\n",
    "# Make sure the URL matches your Jupyter instance\n",
    "show(app, notebook_url=\"localhost:8888\")"
   ]
  },
  {
   "cell_type": "code",
   "execution_count": null,
   "metadata": {
    "collapsed": true
   },
   "outputs": [],
   "source": []
  },
  {
   "cell_type": "code",
   "execution_count": null,
   "metadata": {
    "collapsed": true
   },
   "outputs": [],
   "source": []
  }
 ],
 "metadata": {
  "kernelspec": {
   "display_name": "Python 3",
   "language": "python",
   "name": "python3"
  },
  "language_info": {
   "codemirror_mode": {
    "name": "ipython",
    "version": 3
   },
   "file_extension": ".py",
   "mimetype": "text/x-python",
   "name": "python",
   "nbconvert_exporter": "python",
   "pygments_lexer": "ipython3",
   "version": "3.6.4"
  }
 },
 "nbformat": 4,
 "nbformat_minor": 2
}
