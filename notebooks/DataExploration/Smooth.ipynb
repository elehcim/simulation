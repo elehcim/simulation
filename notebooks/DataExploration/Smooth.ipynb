{
 "cells": [
  {
   "cell_type": "code",
   "execution_count": 1,
   "metadata": {},
   "outputs": [
    {
     "name": "stderr",
     "output_type": "stream",
     "text": [
      "pynbody : Verbose mode is on\n"
     ]
    }
   ],
   "source": [
    "import simulation\n",
    "import pynbody\n",
    "import pandas as pd\n",
    "import matplotlib.pylab as plt\n",
    "import numpy as np\n",
    "import ipywidgets"
   ]
  },
  {
   "cell_type": "code",
   "execution_count": 2,
   "metadata": {},
   "outputs": [
    {
     "name": "stderr",
     "output_type": "stream",
     "text": [
      "pynbody.snapshot : Loading using backend <class 'pynbody.snapshot.gadget.GadgetSnap'>\n"
     ]
    }
   ],
   "source": [
    "snap = pynbody.load('/media/michele/My Book/Michele/MySimulations/MovingBox/beta/mb.71002/p300_a800_r600/out/snapshot_0010')"
   ]
  },
  {
   "cell_type": "code",
   "execution_count": 11,
   "metadata": {},
   "outputs": [
    {
     "data": {
      "text/plain": [
       "['z', 'x', 'smooth', 'pos', 'mass', 'y']"
      ]
     },
     "execution_count": 11,
     "metadata": {},
     "output_type": "execute_result"
    }
   ],
   "source": [
    "snap.dm.keys()"
   ]
  },
  {
   "cell_type": "markdown",
   "metadata": {},
   "source": [
    "For the kdtree attribute to show up you shoud build first the `rho` **and** the `smooth` array."
   ]
  },
  {
   "cell_type": "code",
   "execution_count": 18,
   "metadata": {},
   "outputs": [
    {
     "name": "stderr",
     "output_type": "stream",
     "text": [
      "pynbody.snapshot : Deriving array rho\n",
      "pynbody.sph : Calculating SPH density\n",
      "pynbody.sph : Density calculation done in 0.182 s\n"
     ]
    },
    {
     "data": {
      "text/plain": [
       "(SimArray([ 2.19015813,  1.75531399,  1.99765885, ...,  2.2123847 ,\n",
       "            2.24847984,  2.98216677], dtype=float32, 'kpc'),\n",
       " SimArray([  8.65491700e-07,   1.32599951e-06,   1.14450575e-06, ...,\n",
       "             5.61360650e-07,   3.93162765e-07,   1.51724066e-07], dtype=float32, '1.00e+10 Msol kpc**-3'))"
      ]
     },
     "execution_count": 18,
     "metadata": {},
     "output_type": "execute_result"
    }
   ],
   "source": [
    "snap.dm['smooth'], snap.dm['rho']"
   ]
  },
  {
   "cell_type": "code",
   "execution_count": 19,
   "metadata": {},
   "outputs": [
    {
     "name": "stderr",
     "output_type": "stream",
     "text": [
      "pynbody.sph.kdtree : Smoothing array with 64 nearest neighbours\n",
      "pynbody.sph.kdtree : SPH smooth done in 0.176 s\n"
     ]
    },
    {
     "data": {
      "text/plain": [
       "SimArray([ 1.17912078,  2.52506638,  1.69464195, ...,  2.85601354,\n",
       "           1.40468645,  1.45904732], dtype=float32, 'kpc')"
      ]
     },
     "execution_count": 19,
     "metadata": {},
     "output_type": "execute_result"
    }
   ],
   "source": [
    "snap.dm.kdtree.sph_mean(snap.dm['y'])"
   ]
  },
  {
   "cell_type": "code",
   "execution_count": 13,
   "metadata": {},
   "outputs": [
    {
     "name": "stderr",
     "output_type": "stream",
     "text": [
      "pynbody.snapshot.tipsy : Loading /home/michele/Software/pynbody/testdata/g15784.lr.01024\n",
      "pynbody.snapshot : Loading using backend <class 'pynbody.snapshot.tipsy.TipsySnap'>\n",
      "pynbody.snapshot.tipsy : Loading /home/michele/Software/pynbody/testdata/g15784.lr.01024\n"
     ]
    }
   ],
   "source": [
    "f = pynbody.load(\"/home/michele/Software/pynbody/testdata/g15784.lr.01024\")"
   ]
  },
  {
   "cell_type": "code",
   "execution_count": 15,
   "metadata": {},
   "outputs": [
    {
     "name": "stderr",
     "output_type": "stream",
     "text": [
      "pynbody.snapshot : Deriving array smooth\n",
      "pynbody.sph : Building tree with leafsize=16\n",
      "pynbody.snapshot.tipsy : Loading data from main file /home/michele/Software/pynbody/testdata/g15784.lr.01024\n",
      "pynbody.sph : Tree build done in 0.968 s\n",
      "pynbody.sph : Smoothing with 32 nearest neighbours\n",
      "pynbody.sph : Smoothing done in     1s\n"
     ]
    },
    {
     "data": {
      "text/plain": [
       "SimArray([ 0.00057978,  0.00022092,  0.00016521, ...,  0.05197698,\n",
       "           0.0523429 ,  0.05336367], '6.85e+04 kpc a')"
      ]
     },
     "execution_count": 15,
     "metadata": {},
     "output_type": "execute_result"
    }
   ],
   "source": [
    "f.dm['smooth'], f.dm['rho']"
   ]
  },
  {
   "cell_type": "code",
   "execution_count": 16,
   "metadata": {},
   "outputs": [
    {
     "name": "stderr",
     "output_type": "stream",
     "text": [
      "pynbody.sph.kdtree : Smoothing array with 32 nearest neighbours\n"
     ]
    },
    {
     "ename": "ValueError",
     "evalue": "Unspecified array in kdtree",
     "output_type": "error",
     "traceback": [
      "\u001b[0;31m---------------------------------------------------------------------------\u001b[0m",
      "\u001b[0;31mValueError\u001b[0m                                Traceback (most recent call last)",
      "\u001b[0;32m<ipython-input-16-1bac03a8c092>\u001b[0m in \u001b[0;36m<module>\u001b[0;34m()\u001b[0m\n\u001b[0;32m----> 1\u001b[0;31m \u001b[0mvz_mean\u001b[0m \u001b[0;34m=\u001b[0m \u001b[0mf\u001b[0m\u001b[0;34m.\u001b[0m\u001b[0mdm\u001b[0m\u001b[0;34m.\u001b[0m\u001b[0mkdtree\u001b[0m\u001b[0;34m.\u001b[0m\u001b[0msph_mean\u001b[0m\u001b[0;34m(\u001b[0m\u001b[0mf\u001b[0m\u001b[0;34m.\u001b[0m\u001b[0mdm\u001b[0m\u001b[0;34m[\u001b[0m\u001b[0;34m'vz'\u001b[0m\u001b[0;34m]\u001b[0m\u001b[0;34m,\u001b[0m\u001b[0;36m32\u001b[0m\u001b[0;34m)\u001b[0m\u001b[0;34m\u001b[0m\u001b[0m\n\u001b[0m",
      "\u001b[0;32m~/Software/miniconda3/lib/python3.6/site-packages/pynbody-0.45-py3.6-linux-x86_64.egg/pynbody/sph/kdtree.py\u001b[0m in \u001b[0;36msph_mean\u001b[0;34m(self, array, nsmooth)\u001b[0m\n\u001b[1;32m    140\u001b[0m         \u001b[0mlogger\u001b[0m\u001b[0;34m.\u001b[0m\u001b[0minfo\u001b[0m\u001b[0;34m(\u001b[0m\u001b[0;34m\"Smoothing array with %d nearest neighbours\"\u001b[0m\u001b[0;34m%\u001b[0m\u001b[0mnsmooth\u001b[0m\u001b[0;34m)\u001b[0m\u001b[0;34m\u001b[0m\u001b[0m\n\u001b[1;32m    141\u001b[0m         \u001b[0mstart\u001b[0m \u001b[0;34m=\u001b[0m \u001b[0mtime\u001b[0m\u001b[0;34m.\u001b[0m\u001b[0mtime\u001b[0m\u001b[0;34m(\u001b[0m\u001b[0;34m)\u001b[0m\u001b[0;34m\u001b[0m\u001b[0m\n\u001b[0;32m--> 142\u001b[0;31m         \u001b[0mself\u001b[0m\u001b[0;34m.\u001b[0m\u001b[0mpopulate\u001b[0m\u001b[0;34m(\u001b[0m\u001b[0;34m'qty_mean'\u001b[0m\u001b[0;34m,\u001b[0m\u001b[0mnsmooth\u001b[0m\u001b[0;34m)\u001b[0m\u001b[0;34m\u001b[0m\u001b[0m\n\u001b[0m\u001b[1;32m    143\u001b[0m         \u001b[0mend\u001b[0m \u001b[0;34m=\u001b[0m \u001b[0mtime\u001b[0m\u001b[0;34m.\u001b[0m\u001b[0mtime\u001b[0m\u001b[0;34m(\u001b[0m\u001b[0;34m)\u001b[0m\u001b[0;34m\u001b[0m\u001b[0m\n\u001b[1;32m    144\u001b[0m \u001b[0;34m\u001b[0m\u001b[0m\n",
      "\u001b[0;32m~/Software/miniconda3/lib/python3.6/site-packages/pynbody-0.45-py3.6-linux-x86_64.egg/pynbody/sph/kdtree.py\u001b[0m in \u001b[0;36mpopulate\u001b[0;34m(self, mode, nn)\u001b[0m\n\u001b[1;32m    122\u001b[0m             \u001b[0mkdmain\u001b[0m\u001b[0;34m.\u001b[0m\u001b[0mpopulate\u001b[0m\u001b[0;34m(\u001b[0m\u001b[0mself\u001b[0m\u001b[0;34m.\u001b[0m\u001b[0mkdtree\u001b[0m\u001b[0;34m,\u001b[0m\u001b[0msmx\u001b[0m\u001b[0;34m,\u001b[0m\u001b[0mpropid\u001b[0m\u001b[0;34m,\u001b[0m\u001b[0;36m0\u001b[0m\u001b[0;34m)\u001b[0m\u001b[0;34m\u001b[0m\u001b[0m\n\u001b[1;32m    123\u001b[0m         \u001b[0;32melse\u001b[0m \u001b[0;34m:\u001b[0m\u001b[0;34m\u001b[0m\u001b[0m\n\u001b[0;32m--> 124\u001b[0;31m             \u001b[0m_thread_map\u001b[0m\u001b[0;34m(\u001b[0m\u001b[0mkdmain\u001b[0m\u001b[0;34m.\u001b[0m\u001b[0mpopulate\u001b[0m\u001b[0;34m,\u001b[0m\u001b[0;34m[\u001b[0m\u001b[0mself\u001b[0m\u001b[0;34m.\u001b[0m\u001b[0mkdtree\u001b[0m\u001b[0;34m]\u001b[0m\u001b[0;34m*\u001b[0m\u001b[0mn_proc\u001b[0m\u001b[0;34m,\u001b[0m\u001b[0;34m[\u001b[0m\u001b[0msmx\u001b[0m\u001b[0;34m]\u001b[0m\u001b[0;34m*\u001b[0m\u001b[0mn_proc\u001b[0m\u001b[0;34m,\u001b[0m\u001b[0;34m[\u001b[0m\u001b[0mpropid\u001b[0m\u001b[0;34m]\u001b[0m\u001b[0;34m*\u001b[0m\u001b[0mn_proc\u001b[0m\u001b[0;34m,\u001b[0m\u001b[0mlist\u001b[0m\u001b[0;34m(\u001b[0m\u001b[0mrange\u001b[0m\u001b[0;34m(\u001b[0m\u001b[0;36m0\u001b[0m\u001b[0;34m,\u001b[0m\u001b[0mn_proc\u001b[0m\u001b[0;34m)\u001b[0m\u001b[0;34m)\u001b[0m\u001b[0;34m)\u001b[0m\u001b[0;34m\u001b[0m\u001b[0m\n\u001b[0m\u001b[1;32m    125\u001b[0m \u001b[0;34m\u001b[0m\u001b[0m\n\u001b[1;32m    126\u001b[0m         \u001b[0mkdmain\u001b[0m\u001b[0;34m.\u001b[0m\u001b[0mnn_stop\u001b[0m\u001b[0;34m(\u001b[0m\u001b[0mself\u001b[0m\u001b[0;34m.\u001b[0m\u001b[0mkdtree\u001b[0m\u001b[0;34m,\u001b[0m \u001b[0msmx\u001b[0m\u001b[0;34m)\u001b[0m\u001b[0;34m\u001b[0m\u001b[0m\n",
      "\u001b[0;32m~/Software/miniconda3/lib/python3.6/site-packages/pynbody-0.45-py3.6-linux-x86_64.egg/pynbody/sph/__init__.py\u001b[0m in \u001b[0;36m_thread_map\u001b[0;34m(func, *args)\u001b[0m\n\u001b[1;32m     65\u001b[0m         \u001b[0;31m# Here we re-raise the exception that was actually generated in a thread\u001b[0m\u001b[0;34m\u001b[0m\u001b[0;34m\u001b[0m\u001b[0m\n\u001b[1;32m     66\u001b[0m         \u001b[0mt\u001b[0m\u001b[0;34m,\u001b[0m\u001b[0mobj\u001b[0m\u001b[0;34m,\u001b[0m\u001b[0mtrace\u001b[0m\u001b[0;34m=\u001b[0m \u001b[0mexceptions\u001b[0m\u001b[0;34m[\u001b[0m\u001b[0;36m0\u001b[0m\u001b[0;34m]\u001b[0m\u001b[0;34m\u001b[0m\u001b[0m\n\u001b[0;32m---> 67\u001b[0;31m         \u001b[0;32mraise\u001b[0m \u001b[0mt\u001b[0m\u001b[0;34m(\u001b[0m\u001b[0mobj\u001b[0m\u001b[0;34m)\u001b[0m\u001b[0;34m.\u001b[0m\u001b[0mwith_traceback\u001b[0m\u001b[0;34m(\u001b[0m\u001b[0mtrace\u001b[0m\u001b[0;34m)\u001b[0m\u001b[0;34m\u001b[0m\u001b[0m\n\u001b[0m\u001b[1;32m     68\u001b[0m \u001b[0;34m\u001b[0m\u001b[0m\n\u001b[1;32m     69\u001b[0m \u001b[0;32mdef\u001b[0m \u001b[0m_kernel_suitable_for_denoise\u001b[0m\u001b[0;34m(\u001b[0m\u001b[0mkernel\u001b[0m\u001b[0;34m)\u001b[0m\u001b[0;34m:\u001b[0m\u001b[0;34m\u001b[0m\u001b[0m\n",
      "\u001b[0;32m~/Software/miniconda3/lib/python3.6/site-packages/pynbody-0.45-py3.6-linux-x86_64.egg/pynbody/sph/__init__.py\u001b[0m in \u001b[0;36m_exception_catcher\u001b[0;34m(call_fn, exception_list, *args)\u001b[0m\n\u001b[1;32m     45\u001b[0m \u001b[0;32mdef\u001b[0m \u001b[0m_exception_catcher\u001b[0m\u001b[0;34m(\u001b[0m\u001b[0mcall_fn\u001b[0m\u001b[0;34m,\u001b[0m \u001b[0mexception_list\u001b[0m\u001b[0;34m,\u001b[0m \u001b[0;34m*\u001b[0m\u001b[0margs\u001b[0m\u001b[0;34m)\u001b[0m\u001b[0;34m:\u001b[0m\u001b[0;34m\u001b[0m\u001b[0m\n\u001b[1;32m     46\u001b[0m     \u001b[0;32mtry\u001b[0m\u001b[0;34m:\u001b[0m\u001b[0;34m\u001b[0m\u001b[0m\n\u001b[0;32m---> 47\u001b[0;31m         \u001b[0mcall_fn\u001b[0m\u001b[0;34m(\u001b[0m\u001b[0;34m*\u001b[0m\u001b[0margs\u001b[0m\u001b[0;34m)\u001b[0m\u001b[0;34m\u001b[0m\u001b[0m\n\u001b[0m\u001b[1;32m     48\u001b[0m     \u001b[0;32mexcept\u001b[0m \u001b[0mException\u001b[0m \u001b[0;32mas\u001b[0m \u001b[0me\u001b[0m\u001b[0;34m:\u001b[0m\u001b[0;34m\u001b[0m\u001b[0m\n\u001b[1;32m     49\u001b[0m         \u001b[0mexception_list\u001b[0m\u001b[0;34m.\u001b[0m\u001b[0mappend\u001b[0m\u001b[0;34m(\u001b[0m\u001b[0msys\u001b[0m\u001b[0;34m.\u001b[0m\u001b[0mexc_info\u001b[0m\u001b[0;34m(\u001b[0m\u001b[0;34m)\u001b[0m\u001b[0;34m)\u001b[0m\u001b[0;34m\u001b[0m\u001b[0m\n",
      "\u001b[0;31mValueError\u001b[0m: Unspecified array in kdtree"
     ]
    }
   ],
   "source": [
    "vz_mean = f.dm.kdtree.sph_mean(f.dm['vz'],32)"
   ]
  },
  {
   "cell_type": "code",
   "execution_count": null,
   "metadata": {},
   "outputs": [],
   "source": []
  }
 ],
 "metadata": {
  "kernelspec": {
   "display_name": "Python 3",
   "language": "python",
   "name": "python3"
  },
  "language_info": {
   "codemirror_mode": {
    "name": "ipython",
    "version": 3
   },
   "file_extension": ".py",
   "mimetype": "text/x-python",
   "name": "python",
   "nbconvert_exporter": "python",
   "pygments_lexer": "ipython3",
   "version": "3.6.4"
  }
 },
 "nbformat": 4,
 "nbformat_minor": 2
}
