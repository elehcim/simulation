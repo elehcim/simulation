{
 "cells": [
  {
   "cell_type": "code",
   "execution_count": 3,
   "metadata": {
    "collapsed": true
   },
   "outputs": [],
   "source": [
    "import pynbody\n",
    "import pynbody.plot.sph as sph\n",
    "import pynbody.plot as pp\n",
    "from pynbody.analysis import angmom\n",
    "import matplotlib.pylab as plt\n",
    "import numpy as np"
   ]
  },
  {
   "cell_type": "code",
   "execution_count": 4,
   "metadata": {
    "collapsed": true
   },
   "outputs": [],
   "source": [
    "s = pynbody.load('/home/michele/sim/analysis/snapshot_0065')\n",
    "s.physical_units()\n",
    "sk = pynbody.load('/home/michele/sim/analysis/snapshot_0065.kicked')\n",
    "sk.physical_units()"
   ]
  },
  {
   "cell_type": "code",
   "execution_count": 5,
   "metadata": {
    "collapsed": true
   },
   "outputs": [],
   "source": [
    "# pynbody.analysis.angmom.sideon(s)"
   ]
  },
  {
   "cell_type": "code",
   "execution_count": 6,
   "metadata": {},
   "outputs": [
    {
     "data": {
      "text/plain": [
       "{'centering-scheme': 'ssc',\n",
       " 'default-cosmology': {'a': 1.0,\n",
       "  'h': 0.6777,\n",
       "  'ns': 0.96,\n",
       "  'omegaB0': 0.0482,\n",
       "  'omegaL0': 0.691,\n",
       "  'omegaM0': 0.309,\n",
       "  'running': 0.0,\n",
       "  'sigma8': 0.8288},\n",
       " 'disk-fit-function': 'expsech',\n",
       " 'gravity_calculation_mode': 'direct_omp',\n",
       " 'halo-class-priority': [pynbody.halo.GrpCatalogue,\n",
       "  pynbody.halo.AmigaGrpCatalogue,\n",
       "  pynbody.halo.RockstarIntermediateCatalogue,\n",
       "  pynbody.halo.RockstarCatalogue,\n",
       "  pynbody.halo.AHFCatalogue,\n",
       "  pynbody.halo.SubfindCatalogue],\n",
       " 'number_of_threads': 8,\n",
       " 'snap-class-priority': [pynbody.snapshot.ramses.RamsesSnap,\n",
       "  pynbody.snapshot.grafic.GrafICSnap,\n",
       "  pynbody.snapshot.nchilada.NchiladaSnap,\n",
       "  pynbody.snapshot.gadget.GadgetSnap,\n",
       "  pynbody.snapshot.gadgethdf.GadgetHDFSnap,\n",
       "  pynbody.snapshot.gadgethdf.SubFindHDFSnap,\n",
       "  pynbody.snapshot.tipsy.TipsySnap,\n",
       "  pynbody.snapshot.ascii.AsciiSnap],\n",
       " 'sph': {'smooth-particles': 32, 'tree-leafsize': 16},\n",
       " 'threading': 'True',\n",
       " 'verbose': False}"
      ]
     },
     "execution_count": 6,
     "metadata": {},
     "output_type": "execute_result"
    }
   ],
   "source": [
    "pynbody.config"
   ]
  },
  {
   "cell_type": "code",
   "execution_count": 7,
   "metadata": {},
   "outputs": [
    {
     "data": {
      "text/plain": [
       "{'a': 0.6552559150121577,\n",
       " 'boxsize': Unit(\"1.11e+01 kpc\"),\n",
       " 'h': 0.7,\n",
       " 'omegaL0': 0.72,\n",
       " 'omegaM0': 1.0,\n",
       " 'time': Unit(\"8.33e+00 kpc s km**-1\")}"
      ]
     },
     "execution_count": 7,
     "metadata": {},
     "output_type": "execute_result"
    }
   ],
   "source": [
    "s.properties"
   ]
  },
  {
   "cell_type": "markdown",
   "metadata": {},
   "source": [
    "Try to explore cell n. 4"
   ]
  },
  {
   "cell_type": "code",
   "execution_count": 38,
   "metadata": {
    "collapsed": true
   },
   "outputs": [],
   "source": [
    "mass=s['mass']\n",
    "pos=s['pos']\n"
   ]
  },
  {
   "cell_type": "code",
   "execution_count": 8,
   "metadata": {},
   "outputs": [
    {
     "data": {
      "text/plain": [
       "Unit(\"8.33e+00 kpc s km**-1\")"
      ]
     },
     "execution_count": 8,
     "metadata": {},
     "output_type": "execute_result"
    }
   ],
   "source": [
    "s.properties['time']"
   ]
  },
  {
   "cell_type": "code",
   "execution_count": 5,
   "metadata": {
    "collapsed": true
   },
   "outputs": [],
   "source": [
    "dm_array = s.d['iord']"
   ]
  },
  {
   "cell_type": "code",
   "execution_count": 6,
   "metadata": {
    "collapsed": true,
    "scrolled": true
   },
   "outputs": [],
   "source": [
    "# To get the numpy array from a SimArray use view(type=np.ndarray)\n",
    "dm_array=s.d['iord'].view(type=np.ndarray)\n",
    "# np.where(s.d['iord']==4, s.)"
   ]
  },
  {
   "cell_type": "code",
   "execution_count": 20,
   "metadata": {
    "collapsed": true
   },
   "outputs": [],
   "source": [
    "v = s['vel']"
   ]
  },
  {
   "cell_type": "code",
   "execution_count": 21,
   "metadata": {},
   "outputs": [
    {
     "data": {
      "text/plain": [
       "SimArray([[-332.82037354, -381.28024292,  -46.24300766],\n",
       "          [-167.11138916, -446.81335449, -100.39344025],\n",
       "          [-113.73114777, -457.40158081,  -69.64994812],\n",
       "          ..., \n",
       "          [   6.44213343,  -24.25647736,   -1.13038325],\n",
       "          [   6.72775459,  -71.16104889,   18.95964622],\n",
       "          [  55.82160568,  -36.37310791,    4.00564814]], dtype=float32, 'km s**-1')"
      ]
     },
     "execution_count": 21,
     "metadata": {},
     "output_type": "execute_result"
    }
   ],
   "source": [
    "v"
   ]
  },
  {
   "cell_type": "code",
   "execution_count": 22,
   "metadata": {},
   "outputs": [
    {
     "data": {
      "text/plain": [
       "1239102"
      ]
     },
     "execution_count": 22,
     "metadata": {},
     "output_type": "execute_result"
    }
   ],
   "source": [
    "v.size"
   ]
  },
  {
   "cell_type": "code",
   "execution_count": 23,
   "metadata": {},
   "outputs": [
    {
     "data": {
      "text/plain": [
       "SimArray([[-357.84228516,  366.46292114,  -13.79944706],\n",
       "          [-352.07485962,  365.11547852,  -11.76179314],\n",
       "          [-352.28573608,  371.97714233,  -17.34726524],\n",
       "          ..., \n",
       "          [-345.00912476,  371.80169678,   26.90209198],\n",
       "          [-348.91119385,  370.52923584,   22.00664139],\n",
       "          [-357.91485596,  371.8460083 ,   21.47101212]], dtype=float32, 'km s**-1')"
      ]
     },
     "execution_count": 23,
     "metadata": {},
     "output_type": "execute_result"
    }
   ],
   "source": [
    "sk.d['vel']"
   ]
  },
  {
   "cell_type": "markdown",
   "metadata": {},
   "source": [
    "Plot stars"
   ]
  },
  {
   "cell_type": "code",
   "execution_count": 30,
   "metadata": {},
   "outputs": [
    {
     "data": {
      "image/png": "[encoded data removed]",
      "text/plain": [
       "<matplotlib.figure.Figure at 0x7f1339b3cda0>"
      ]
     },
     "metadata": {},
     "output_type": "display_data"
    }
   ],
   "source": [
    "pynbody.plot.stars.render(s, width=10)\n",
    "plt.show()"
   ]
  },
  {
   "cell_type": "code",
   "execution_count": 17,
   "metadata": {
    "collapsed": true
   },
   "outputs": [],
   "source": [
    "simname='plots/t'"
   ]
  },
  {
   "cell_type": "code",
   "execution_count": 31,
   "metadata": {},
   "outputs": [
    {
     "data": {
      "image/png": "[encoded data removed]",
      "text/plain": [
       "<matplotlib.figure.Figure at 0x7f13388f07f0>"
      ]
     },
     "metadata": {},
     "output_type": "display_data"
    }
   ],
   "source": [
    "pp.sph.image(s.gas, filename=simname+'.facegas.png', width=1000, title=\"Gas density\")\n",
    "plt.show()"
   ]
  },
  {
   "cell_type": "code",
   "execution_count": 25,
   "metadata": {},
   "outputs": [
    {
     "data": {
      "text/plain": [
       "SimArray([[ 0.00043989,  0.00043488,  0.00042987, ...,  0.01509718,\n",
       "            0.01476877,  0.01444036],\n",
       "          [ 0.00046353,  0.00045791,  0.0004523 , ...,  0.01536556,\n",
       "            0.01502456,  0.01468357],\n",
       "          [ 0.00048716,  0.00048094,  0.00047472, ...,  0.01563395,\n",
       "            0.01528036,  0.01492677],\n",
       "          ..., \n",
       "          [ 0.00534293,  0.00538038,  0.00541783, ...,  0.00341213,\n",
       "            0.00336604,  0.00331995],\n",
       "          [ 0.00509167,  0.00512458,  0.00515748, ...,  0.00330154,\n",
       "            0.00325664,  0.00321174],\n",
       "          [ 0.00484041,  0.00486877,  0.00489713, ...,  0.00319094,\n",
       "            0.00314723,  0.00310353]], dtype=float32, 'Msol kpc**-3')"
      ]
     },
     "execution_count": 25,
     "metadata": {},
     "output_type": "execute_result"
    }
   ],
   "source": [
    "pp.sph.image(s.star, filename=simname+'.facestar.png', width=100, title=\"Star particles\")"
   ]
  },
  {
   "cell_type": "code",
   "execution_count": 29,
   "metadata": {},
   "outputs": [
    {
     "data": {
      "image/png": "[encoded data removed]",
      "text/plain": [
       "<matplotlib.figure.Figure at 0x7f1339aa2278>"
      ]
     },
     "metadata": {},
     "output_type": "display_data"
    }
   ],
   "source": [
    "pp.sph.image(s.gas, qty='temp', #filename=simname+'.tempgasdiskface.png',\n",
    "             width=5, vmin=1, vmax=100, title='Gas temperature')\n",
    "plt.show()"
   ]
  },
  {
   "cell_type": "code",
   "execution_count": 44,
   "metadata": {},
   "outputs": [
    {
     "data": {
      "text/plain": [
       "8.149660006021044"
      ]
     },
     "execution_count": 44,
     "metadata": {},
     "output_type": "execute_result"
    }
   ],
   "source": [
    "time = s.properties['time']\n",
    "time.in_units(\"Gyr\")"
   ]
  },
  {
   "cell_type": "code",
   "execution_count": 58,
   "metadata": {
    "collapsed": true
   },
   "outputs": [],
   "source": [
    "from pynbody.analysis import pkdgrav_cosmo as cosmo\n",
    "c = cosmo.Cosmology(sim=s)"
   ]
  },
  {
   "cell_type": "code",
   "execution_count": 64,
   "metadata": {
    "collapsed": true
   },
   "outputs": [],
   "source": [
    "c.a"
   ]
  },
  {
   "cell_type": "code",
   "execution_count": 57,
   "metadata": {},
   "outputs": [
    {
     "name": "stdout",
     "output_type": "stream",
     "text": [
      "0.008996599353849888\n",
      "4.353330135345459\n"
     ]
    },
    {
     "name": "stderr",
     "output_type": "stream",
     "text": [
      "/home/michele/Software/miniconda3/lib/python3.6/site-packages/scipy/integrate/quadrature.py:709: AccuracyWarning: divmax (10) exceeded. Latest difference = 5.972695e-08\n",
      "  AccuracyWarning)\n",
      "/home/michele/Software/miniconda3/lib/python3.6/site-packages/scipy/integrate/quadrature.py:709: AccuracyWarning: divmax (10) exceeded. Latest difference = 1.037007e-09\n",
      "  AccuracyWarning)\n",
      "/home/michele/Software/miniconda3/lib/python3.6/site-packages/scipy/integrate/quadrature.py:709: AccuracyWarning: divmax (10) exceeded. Latest difference = 1.825575e-09\n",
      "  AccuracyWarning)\n",
      "/home/michele/Software/miniconda3/lib/python3.6/site-packages/scipy/integrate/quadrature.py:709: AccuracyWarning: divmax (10) exceeded. Latest difference = 3.776510e-09\n",
      "  AccuracyWarning)\n",
      "/home/michele/Software/miniconda3/lib/python3.6/site-packages/scipy/integrate/quadrature.py:709: AccuracyWarning: divmax (10) exceeded. Latest difference = 1.048614e-08\n",
      "  AccuracyWarning)\n"
     ]
    },
    {
     "data": {
      "image/png": "[encoded data removed]",
      "text/plain": [
       "<matplotlib.figure.Figure at 0x7f13380c45f8>"
      ]
     },
     "metadata": {},
     "output_type": "display_data"
    }
   ],
   "source": [
    "pp.sfh(s,filename=simname + '.sfh.png', massform=False, nbins=50)\n",
    "print(s.stars['tform'].in_units(\"Gyr\").min())\n",
    "print(s.stars['tform'].in_units(\"Gyr\").max())\n",
    "\n",
    "plt.show()"
   ]
  },
  {
   "cell_type": "code",
   "execution_count": null,
   "metadata": {
    "collapsed": true,
    "scrolled": true
   },
   "outputs": [],
   "source": [
    "s.gas['hiden'] = s.gas['rho']*s.gas['HI']\n",
    "s.gas['hiden'].units = s.gas['rho'].units\n",
    "\n",
    "pynbody.plot.image(s.gas, qty='hiden', units='m_p cm^-2', width=1000,\n",
    "                   center=False,filename=simname+'.hi500kpc.png', vmin=14,vmax=22)\n",
    "pynbody.plot.image(s.gas, qty='hiden', units='m_p cm^-2', width=500,\n",
    "                   center=False, filename=simname+'.hi250kpc.png', vmin=14,vmax=22)"
   ]
  },
  {
   "cell_type": "code",
   "execution_count": null,
   "metadata": {
    "collapsed": true
   },
   "outputs": [],
   "source": [
    "oviif = pynbody.analysis.ionfrac.calculate(s.gas)\n",
    "s.gas['oviden'] = s.gas['rho']*s.gas['OxMassFrac']*oviif\n",
    "s.gas['oviden'].units = s.gas['rho'].units\n",
    "soviim = pynbody.plot.image(s.gas[notdiskf], qty='oviden',\n",
    "                            units='16 m_p cm^-2', width=1000,\n",
    "                            filename=simname+'.ovi500kpc.png',\n",
    "                            vmin=12,vmax=17)\n",
    "s.gas['oxden'] = s.gas['rho']*s.gas['OxMassFrac']\n",
    "s.gas['oxden'].units = s.gas['rho'].units\n",
    "pynbody.plot.image(s.gas,qty='oxden',units='16 m_p cm^-2',\n",
    "                   width=500,center=False,\n",
    "                   filename=simname+'.ox500kpc.png',vmin=12,vmax=18)\n",
    "pynbody.analysis.angmom.sideon(h[i])"
   ]
  },
  {
   "cell_type": "code",
   "execution_count": null,
   "metadata": {
    "collapsed": true
   },
   "outputs": [],
   "source": [
    "pp.sph.image(s.gas,qty='temp', filename=simname+'.tempgasside.png',\n",
    "             width=3, vmin=3, vmax=7)\n",
    "pp.sph.image(s.gas,qty='temp', filename=simname+'.tempgasdiskside.png',\n",
    "             width=30, vmin=3, vmax=7)\n",
    "pynbody.plot.image(s.gas,qty='temp',width=500,\n",
    "                   filename=simname+'.temp500kpc.png',vmin=3,vmax=7)"
   ]
  },
  {
   "cell_type": "code",
   "execution_count": null,
   "metadata": {
    "collapsed": true
   },
   "outputs": [],
   "source": [
    "simlist = [s, sk]"
   ]
  },
  {
   "cell_type": "code",
   "execution_count": null,
   "metadata": {
    "collapsed": true
   },
   "outputs": [],
   "source": [
    "#you can also make a stream visualization instead of a quiver plot\n",
    "#pynbody.analysis.angmom.faceon(h[1])\n",
    "sph.velocity_image(s.g, width='100 Mpc', cmap = \"Greys_r\", mode='stream', units='Msol kpc^-2',\n",
    "                   density=3.0, vector_resolution=100, vmin=1e-3,\n",
    "                   show_cbar=False, vector_color='black')\n",
    "plt.show()"
   ]
  },
  {
   "cell_type": "code",
   "execution_count": null,
   "metadata": {
    "collapsed": true
   },
   "outputs": [],
   "source": [
    "s.g['temp']"
   ]
  },
  {
   "cell_type": "code",
   "execution_count": null,
   "metadata": {
    "collapsed": true,
    "scrolled": true
   },
   "outputs": [],
   "source": [
    "# sph.velocity_image(s.g, vector_color=\"cyan\", qty=\"temp\", cmap=\"YlOrRd\",\n",
    "#                    denoise=True, approximate_fast=False, show_cbar = False)"
   ]
  },
  {
   "cell_type": "code",
   "execution_count": null,
   "metadata": {
    "collapsed": true
   },
   "outputs": [],
   "source": [
    "#create a simple slice showing the gas temperature, with velocity vectors overlaid\n",
    "\n",
    "# f, axs = plt.subplots(1,2,figsize=(14,6))\n",
    "\n",
    "# simlist = [s, sk]\n",
    "# for i, s in enumerate(simlist):\n",
    "#     print('Printing ', s.filename)\n",
    "#     sph.velocity_image(s.g, vector_color=\"cyan\", qty=\"temp\", cmap=\"YlOrRd\",\n",
    "#                        denoise=True,approximate_fast=False, show_cbar = False, subplot=axs[i])\n",
    "# plt.show()"
   ]
  },
  {
   "cell_type": "markdown",
   "metadata": {},
   "source": [
    "# Working plots"
   ]
  },
  {
   "cell_type": "code",
   "execution_count": null,
   "metadata": {
    "collapsed": true
   },
   "outputs": [],
   "source": [
    "s.s.loadable_keys()"
   ]
  },
  {
   "cell_type": "code",
   "execution_count": null,
   "metadata": {
    "collapsed": true
   },
   "outputs": [],
   "source": [
    "pp.sfh(s,filename=\"f\"+'.sfh.png',nbins=500);"
   ]
  },
  {
   "cell_type": "markdown",
   "metadata": {},
   "source": [
    "## Rotation curve"
   ]
  },
  {
   "cell_type": "code",
   "execution_count": null,
   "metadata": {
    "collapsed": true
   },
   "outputs": [],
   "source": [
    "pp.rotation_curve(s, filename=simname+'.rc.png', quick=True,\n",
    "                  max='40 kpc', center=False);"
   ]
  },
  {
   "cell_type": "markdown",
   "metadata": {},
   "source": [
    "## Rotation curve with parts"
   ]
  },
  {
   "cell_type": "code",
   "execution_count": null,
   "metadata": {
    "collapsed": true
   },
   "outputs": [],
   "source": [
    "pp.rotation_curve(s, filename=simname+'.rcparts.png', quick=True,\n",
    "                  parts=True, legend=True, max='40 Mpc', center=False);"
   ]
  },
  {
   "cell_type": "markdown",
   "metadata": {},
   "source": [
    "## Density temperature"
   ]
  },
  {
   "cell_type": "code",
   "execution_count": null,
   "metadata": {
    "collapsed": true
   },
   "outputs": [],
   "source": [
    "pp.rho_T(s,filename=simname+'.phase.png');"
   ]
  },
  {
   "cell_type": "markdown",
   "metadata": {},
   "source": [
    "## Star density and dark matter density profiles"
   ]
  },
  {
   "cell_type": "code",
   "execution_count": null,
   "metadata": {
    "collapsed": true
   },
   "outputs": [],
   "source": [
    "# create a profile object for the stars (by default this is a 2D profile)\n",
    "p = pynbody.analysis.profile.Profile(s.s, min=.01, max=50)\n",
    "\n",
    "# make the figure and sub plots\n",
    "f, axs = plt.subplots(1, 2, figsize=(14,6))\n",
    "\n",
    "# make the plot\n",
    "axs[0].plot(p['rbins'], p['density'], 'k')\n",
    "axs[0].semilogy()\n",
    "axs[0].set_xlabel('R [kpc]')\n",
    "axs[0].set_ylabel(r'$\\Sigma_{\\star}$ [M$_{\\odot}$ kpc$^{-2}$]')\n",
    "\n",
    "# make a 3D density plot of the dark matter (note ndim=3 in the constructor below)\n",
    "p = pynbody.analysis.profile.Profile(s.d, min=.01, max=50, ndim=3)\n",
    "\n",
    "axs[1].plot(p['rbins'], p['density'], 'k')\n",
    "axs[1].semilogy()\n",
    "axs[1].set_xlabel('R [kpc]')\n",
    "axs[1].set_ylabel(r'$\\rho_{DM}$ [M$_{\\odot}$ kpc$^{-3}$]')\n",
    "plt.savefig(filename=simname+'.density_profiles.png')"
   ]
  },
  {
   "cell_type": "markdown",
   "metadata": {},
   "source": [
    "## Surface brightness profile in V band "
   ]
  },
  {
   "cell_type": "code",
   "execution_count": null,
   "metadata": {
    "collapsed": true
   },
   "outputs": [],
   "source": [
    "pp.sbprofile(s, filename=simname+'.sbprof.png', \n",
    "             center=False, rmax='100 Mpc', diskheight='400 Mpc')  # Surface brightness profile"
   ]
  },
  {
   "cell_type": "markdown",
   "metadata": {},
   "source": [
    "## Dark matter density profile\n",
    "To plot the y value in terms of rho_{cr} (only if in_units parameter is None) it is using the h value sim.properties['h]\n",
    "It is plotting the error bar dividing the value of the density for the number of particle in the bin"
   ]
  },
  {
   "cell_type": "code",
   "execution_count": null,
   "metadata": {
    "collapsed": true
   },
   "outputs": [],
   "source": [
    "pp.density_profile(s.dark, filename=simname+'.dmprof.png', center=False)"
   ]
  },
  {
   "cell_type": "markdown",
   "metadata": {},
   "source": [
    "# Not working plots"
   ]
  },
  {
   "cell_type": "code",
   "execution_count": null,
   "metadata": {
    "collapsed": true,
    "scrolled": true
   },
   "outputs": [],
   "source": [
    "pp.guo(s, baryfrac=True, filename=simname+'.guo.png')"
   ]
  },
  {
   "cell_type": "code",
   "execution_count": null,
   "metadata": {
    "collapsed": true
   },
   "outputs": [],
   "source": [
    "pp.ofefeh(s.stars, filename=simname+'.ofefeh.png',\n",
    "          weights=s.stars['mass'].in_units('Msol'), scalemin=1e3,\n",
    "          scalemax=1e6, x_range=[-3,0.3],y_range=[-0.5,1.0])"
   ]
  },
  {
   "cell_type": "code",
   "execution_count": null,
   "metadata": {
    "collapsed": true
   },
   "outputs": [],
   "source": [
    "# Trying to center the rotation curve\n",
    "t = angmom.faceon(s, cen_size='400 Mpc')\n",
    "pp.rotation_curve(t, filename=simname+'.rcparts.png', quick=True,\n",
    "                  parts=True, legend=True, min='0 Mpc', max='40 Mpc', center=False)"
   ]
  },
  {
   "cell_type": "code",
   "execution_count": null,
   "metadata": {
    "collapsed": true
   },
   "outputs": [],
   "source": [
    "# import pynbody.plot as pp\n",
    "# simname = 'ppp'\n",
    "# ### Make plots\n",
    "# # try:\n",
    "\n",
    "# pp.ofefeh(h[i].stars, filename=simname+'.ofefeh.png',\n",
    "#               weights=h[i].stars['mass'].in_units('Msol'), scalemin=1e3,\n",
    "#               scalemax=1e6, x_range=[-3,0.3],y_range=[-0.5,1.0])\n",
    "# pp.mdf(h[i].stars,filename=simname+'.mdf.png', range=[-4,0.5])\n",
    "# pp.guo(h,baryfrac=True,filename=simname+'.guo.png')\n",
    "# pp.schmidtlaw(h[i],filename=simname+'.schmidt.png',center=False)\n",
    "# pp.satlf(h[i],filename=simname+'.satlf.png')\n",
    "# # except:\n",
    "# #     pass"
   ]
  },
  {
   "cell_type": "code",
   "execution_count": null,
   "metadata": {
    "collapsed": true
   },
   "outputs": [],
   "source": [
    "t = angmom.faceon(s, cen_size='1 Mpc')\n",
    "pp.rotation_curve(t, filename=simname+'.rcparts.png', quick=True,\n",
    "                  parts=True, legend=True, min='0 Mpc', max='40 Mpc', center=False)"
   ]
  },
  {
   "cell_type": "code",
   "execution_count": null,
   "metadata": {
    "collapsed": true
   },
   "outputs": [],
   "source": []
  }
 ],
 "metadata": {
  "kernelspec": {
   "display_name": "Python 3",
   "language": "python",
   "name": "python3"
  },
  "language_info": {
   "codemirror_mode": {
    "name": "ipython",
    "version": 3
   },
   "file_extension": ".py",
   "mimetype": "text/x-python",
   "name": "python",
   "nbconvert_exporter": "python",
   "pygments_lexer": "ipython3",
   "version": "3.6.4"
  }
 },
 "nbformat": 4,
 "nbformat_minor": 2
}
