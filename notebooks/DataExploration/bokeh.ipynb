{
 "cells": [
  {
   "cell_type": "code",
   "execution_count": 1,
   "metadata": {
    "collapsed": true
   },
   "outputs": [
    {
     "name": "stderr",
     "output_type": "stream",
     "text": [
      "pynbody : Verbose mode is on\n"
     ]
    }
   ],
   "source": [
    "%matplotlib inline\n",
    "import pynbody\n",
    "from pynbody.analysis import profile\n",
    "import matplotlib.pylab as plt\n",
    "import numpy as np\n",
    "import astropy.units as u\n",
    "import os"
   ]
  },
  {
   "cell_type": "code",
   "execution_count": 2,
   "metadata": {},
   "outputs": [],
   "source": [
    "from halo_functions import halo_Wechsler2002, halo_scaled_radius, halo_scaled_density, RHO_C\n",
    "from cog import compute_cog\n",
    "from snap_io import load_moria_sim_and_kicked, load_sim"
   ]
  },
  {
   "cell_type": "code",
   "execution_count": 3,
   "metadata": {},
   "outputs": [
    {
     "data": {
      "text/latex": [
       "$8.1476056 \\; \\mathrm{}$"
      ],
      "text/plain": [
       "<Quantity 8.147605556082254>"
      ]
     },
     "execution_count": 3,
     "metadata": {},
     "output_type": "execute_result"
    }
   ],
   "source": [
    "import astropy.units as u\n",
    "M_h = 1e14 * u.solMass\n",
    "c = halo_Wechsler2002(M_h)\n",
    "c"
   ]
  },
  {
   "cell_type": "code",
   "execution_count": 4,
   "metadata": {},
   "outputs": [
    {
     "data": {
      "text/latex": [
       "$978.64136 \\; \\mathrm{kpc}$"
      ],
      "text/plain": [
       "<Quantity 978.6413640634958 kpc>"
      ]
     },
     "execution_count": 4,
     "metadata": {},
     "output_type": "execute_result"
    }
   ],
   "source": [
    "v_r = (M_h/(4.0/3.0*np.pi*200*RHO_C))**(1.0/3.0)\n",
    "v_r"
   ]
  },
  {
   "cell_type": "code",
   "execution_count": 5,
   "metadata": {},
   "outputs": [
    {
     "data": {
      "text/latex": [
       "$978.64136 \\; \\mathrm{kpc}$"
      ],
      "text/plain": [
       "<Quantity 978.6413640634958 kpc>"
      ]
     },
     "execution_count": 5,
     "metadata": {},
     "output_type": "execute_result"
    }
   ],
   "source": [
    "virial_radius = c * halo_scaled_radius(M_h, c)\n",
    "virial_radius"
   ]
  },
  {
   "cell_type": "code",
   "execution_count": 6,
   "metadata": {
    "collapsed": true
   },
   "outputs": [],
   "source": [
    "SIM_NUMBER = 71002"
   ]
  },
  {
   "cell_type": "code",
   "execution_count": 7,
   "metadata": {
    "collapsed": true
   },
   "outputs": [
    {
     "name": "stderr",
     "output_type": "stream",
     "text": [
      "pynbody.snapshot : Loading using backend <class 'pynbody.snapshot.gadget.GadgetSnap'>\n",
      "pynbody.snapshot : Loading using backend <class 'pynbody.snapshot.gadget.GadgetSnap'>\n",
      "pynbody.snapshot : Loading using backend <class 'pynbody.snapshot.gadget.GadgetSnap'>\n",
      "pynbody.snapshot : Loading using backend <class 'pynbody.snapshot.gadget.GadgetSnap'>\n",
      "pynbody.snapshot : Loading using backend <class 'pynbody.snapshot.gadget.GadgetSnap'>\n",
      "pynbody.snapshot : Loading using backend <class 'pynbody.snapshot.gadget.GadgetSnap'>\n",
      "pynbody.snapshot : Loading using backend <class 'pynbody.snapshot.gadget.GadgetSnap'>\n",
      "pynbody.snapshot : Loading using backend <class 'pynbody.snapshot.gadget.GadgetSnap'>\n",
      "pynbody.snapshot : Loading using backend <class 'pynbody.snapshot.gadget.GadgetSnap'>\n",
      "pynbody.snapshot : Loading using backend <class 'pynbody.snapshot.gadget.GadgetSnap'>\n",
      "pynbody.snapshot : Loading using backend <class 'pynbody.snapshot.gadget.GadgetSnap'>\n",
      "pynbody.snapshot : Loading using backend <class 'pynbody.snapshot.gadget.GadgetSnap'>\n",
      "pynbody.snapshot : Loading using backend <class 'pynbody.snapshot.gadget.GadgetSnap'>\n",
      "pynbody.snapshot : Loading using backend <class 'pynbody.snapshot.gadget.GadgetSnap'>\n",
      "pynbody.snapshot : Loading using backend <class 'pynbody.snapshot.gadget.GadgetSnap'>\n",
      "pynbody.snapshot : Loading using backend <class 'pynbody.snapshot.gadget.GadgetSnap'>\n",
      "pynbody.snapshot : Loading using backend <class 'pynbody.snapshot.gadget.GadgetSnap'>\n",
      "pynbody.snapshot : Loading using backend <class 'pynbody.snapshot.gadget.GadgetSnap'>\n",
      "pynbody.snapshot : Loading using backend <class 'pynbody.snapshot.gadget.GadgetSnap'>\n",
      "pynbody.snapshot : Loading using backend <class 'pynbody.snapshot.gadget.GadgetSnap'>\n",
      "pynbody.snapshot : Loading using backend <class 'pynbody.snapshot.gadget.GadgetSnap'>\n",
      "pynbody.snapshot : Loading using backend <class 'pynbody.snapshot.gadget.GadgetSnap'>\n",
      "pynbody.snapshot : Loading using backend <class 'pynbody.snapshot.gadget.GadgetSnap'>\n",
      "pynbody.snapshot : Loading using backend <class 'pynbody.snapshot.gadget.GadgetSnap'>\n",
      "pynbody.snapshot : Loading using backend <class 'pynbody.snapshot.gadget.GadgetSnap'>\n",
      "pynbody.snapshot : Loading using backend <class 'pynbody.snapshot.gadget.GadgetSnap'>\n",
      "pynbody.snapshot : Loading using backend <class 'pynbody.snapshot.gadget.GadgetSnap'>\n",
      "pynbody.snapshot : Loading using backend <class 'pynbody.snapshot.gadget.GadgetSnap'>\n",
      "pynbody.snapshot : Loading using backend <class 'pynbody.snapshot.gadget.GadgetSnap'>\n",
      "pynbody.snapshot : Loading using backend <class 'pynbody.snapshot.gadget.GadgetSnap'>\n",
      "pynbody.snapshot : Loading using backend <class 'pynbody.snapshot.gadget.GadgetSnap'>\n",
      "pynbody.snapshot : Loading using backend <class 'pynbody.snapshot.gadget.GadgetSnap'>\n",
      "pynbody.snapshot : Loading using backend <class 'pynbody.snapshot.gadget.GadgetSnap'>\n",
      "pynbody.snapshot : Loading using backend <class 'pynbody.snapshot.gadget.GadgetSnap'>\n",
      "pynbody.snapshot : Loading using backend <class 'pynbody.snapshot.gadget.GadgetSnap'>\n",
      "pynbody.snapshot : Loading using backend <class 'pynbody.snapshot.gadget.GadgetSnap'>\n",
      "pynbody.snapshot : Loading using backend <class 'pynbody.snapshot.gadget.GadgetSnap'>\n",
      "pynbody.snapshot : Loading using backend <class 'pynbody.snapshot.gadget.GadgetSnap'>\n",
      "pynbody.snapshot : Loading using backend <class 'pynbody.snapshot.gadget.GadgetSnap'>\n",
      "pynbody.snapshot : Loading using backend <class 'pynbody.snapshot.gadget.GadgetSnap'>\n",
      "pynbody.snapshot : Loading using backend <class 'pynbody.snapshot.gadget.GadgetSnap'>\n",
      "pynbody.snapshot : Loading using backend <class 'pynbody.snapshot.gadget.GadgetSnap'>\n",
      "pynbody.snapshot : Loading using backend <class 'pynbody.snapshot.gadget.GadgetSnap'>\n",
      "pynbody.snapshot : Loading using backend <class 'pynbody.snapshot.gadget.GadgetSnap'>\n",
      "pynbody.snapshot : Loading using backend <class 'pynbody.snapshot.gadget.GadgetSnap'>\n",
      "pynbody.snapshot : Loading using backend <class 'pynbody.snapshot.gadget.GadgetSnap'>\n",
      "pynbody.snapshot : Loading using backend <class 'pynbody.snapshot.gadget.GadgetSnap'>\n",
      "pynbody.snapshot : Loading using backend <class 'pynbody.snapshot.gadget.GadgetSnap'>\n",
      "pynbody.snapshot : Loading using backend <class 'pynbody.snapshot.gadget.GadgetSnap'>\n",
      "pynbody.snapshot : Loading using backend <class 'pynbody.snapshot.gadget.GadgetSnap'>\n",
      "pynbody.snapshot : Loading using backend <class 'pynbody.snapshot.gadget.GadgetSnap'>\n",
      "pynbody.snapshot : Loading using backend <class 'pynbody.snapshot.gadget.GadgetSnap'>\n",
      "pynbody.snapshot : Loading using backend <class 'pynbody.snapshot.gadget.GadgetSnap'>\n",
      "pynbody.snapshot : Loading using backend <class 'pynbody.snapshot.gadget.GadgetSnap'>\n",
      "pynbody.snapshot : Loading using backend <class 'pynbody.snapshot.gadget.GadgetSnap'>\n",
      "pynbody.snapshot : Loading using backend <class 'pynbody.snapshot.gadget.GadgetSnap'>\n",
      "pynbody.snapshot : Loading using backend <class 'pynbody.snapshot.gadget.GadgetSnap'>\n",
      "pynbody.snapshot : Loading using backend <class 'pynbody.snapshot.gadget.GadgetSnap'>\n",
      "pynbody.snapshot : Loading using backend <class 'pynbody.snapshot.gadget.GadgetSnap'>\n",
      "pynbody.snapshot : Loading using backend <class 'pynbody.snapshot.gadget.GadgetSnap'>\n",
      "pynbody.snapshot : Loading using backend <class 'pynbody.snapshot.gadget.GadgetSnap'>\n",
      "pynbody.snapshot : Loading using backend <class 'pynbody.snapshot.gadget.GadgetSnap'>\n",
      "pynbody.snapshot : Loading using backend <class 'pynbody.snapshot.gadget.GadgetSnap'>\n",
      "pynbody.snapshot : Loading using backend <class 'pynbody.snapshot.gadget.GadgetSnap'>\n",
      "pynbody.snapshot : Loading using backend <class 'pynbody.snapshot.gadget.GadgetSnap'>\n",
      "pynbody.snapshot : Loading using backend <class 'pynbody.snapshot.gadget.GadgetSnap'>\n",
      "pynbody.snapshot : Loading using backend <class 'pynbody.snapshot.gadget.GadgetSnap'>\n",
      "pynbody.snapshot : Loading using backend <class 'pynbody.snapshot.gadget.GadgetSnap'>\n",
      "pynbody.snapshot : Loading using backend <class 'pynbody.snapshot.gadget.GadgetSnap'>\n",
      "pynbody.snapshot : Loading using backend <class 'pynbody.snapshot.gadget.GadgetSnap'>\n",
      "pynbody.snapshot : Loading using backend <class 'pynbody.snapshot.gadget.GadgetSnap'>\n",
      "pynbody.snapshot : Loading using backend <class 'pynbody.snapshot.gadget.GadgetSnap'>\n",
      "pynbody.snapshot : Loading using backend <class 'pynbody.snapshot.gadget.GadgetSnap'>\n",
      "pynbody.snapshot : Loading using backend <class 'pynbody.snapshot.gadget.GadgetSnap'>\n",
      "pynbody.snapshot : Loading using backend <class 'pynbody.snapshot.gadget.GadgetSnap'>\n",
      "pynbody.snapshot : Loading using backend <class 'pynbody.snapshot.gadget.GadgetSnap'>\n",
      "pynbody.snapshot : Loading using backend <class 'pynbody.snapshot.gadget.GadgetSnap'>\n",
      "pynbody.snapshot : Loading using backend <class 'pynbody.snapshot.gadget.GadgetSnap'>\n",
      "pynbody.snapshot : Loading using backend <class 'pynbody.snapshot.gadget.GadgetSnap'>\n",
      "pynbody.snapshot : Loading using backend <class 'pynbody.snapshot.gadget.GadgetSnap'>\n",
      "pynbody.snapshot : Loading using backend <class 'pynbody.snapshot.gadget.GadgetSnap'>\n",
      "pynbody.snapshot : Loading using backend <class 'pynbody.snapshot.gadget.GadgetSnap'>\n",
      "pynbody.snapshot : Loading using backend <class 'pynbody.snapshot.gadget.GadgetSnap'>\n",
      "pynbody.snapshot : Loading using backend <class 'pynbody.snapshot.gadget.GadgetSnap'>\n",
      "pynbody.snapshot : Loading using backend <class 'pynbody.snapshot.gadget.GadgetSnap'>\n",
      "pynbody.snapshot : Loading using backend <class 'pynbody.snapshot.gadget.GadgetSnap'>\n",
      "pynbody.snapshot : Loading using backend <class 'pynbody.snapshot.gadget.GadgetSnap'>\n",
      "pynbody.snapshot : Loading using backend <class 'pynbody.snapshot.gadget.GadgetSnap'>\n",
      "pynbody.snapshot : Loading using backend <class 'pynbody.snapshot.gadget.GadgetSnap'>\n",
      "pynbody.snapshot : Loading using backend <class 'pynbody.snapshot.gadget.GadgetSnap'>\n",
      "pynbody.snapshot : Loading using backend <class 'pynbody.snapshot.gadget.GadgetSnap'>\n",
      "pynbody.snapshot : Loading using backend <class 'pynbody.snapshot.gadget.GadgetSnap'>\n",
      "pynbody.snapshot : Loading using backend <class 'pynbody.snapshot.gadget.GadgetSnap'>\n",
      "pynbody.snapshot : Loading using backend <class 'pynbody.snapshot.gadget.GadgetSnap'>\n",
      "pynbody.snapshot : Loading using backend <class 'pynbody.snapshot.gadget.GadgetSnap'>\n",
      "pynbody.snapshot : Loading using backend <class 'pynbody.snapshot.gadget.GadgetSnap'>\n",
      "pynbody.snapshot : Loading using backend <class 'pynbody.snapshot.gadget.GadgetSnap'>\n",
      "pynbody.snapshot : Loading using backend <class 'pynbody.snapshot.gadget.GadgetSnap'>\n",
      "pynbody.snapshot : Loading using backend <class 'pynbody.snapshot.gadget.GadgetSnap'>\n",
      "pynbody.snapshot : Loading using backend <class 'pynbody.snapshot.gadget.GadgetSnap'>\n",
      "pynbody.snapshot : Loading using backend <class 'pynbody.snapshot.gadget.GadgetSnap'>\n",
      "pynbody.snapshot : Loading using backend <class 'pynbody.snapshot.gadget.GadgetSnap'>\n",
      "pynbody.snapshot : Loading using backend <class 'pynbody.snapshot.gadget.GadgetSnap'>\n",
      "pynbody.snapshot : Loading using backend <class 'pynbody.snapshot.gadget.GadgetSnap'>\n",
      "pynbody.snapshot : Loading using backend <class 'pynbody.snapshot.gadget.GadgetSnap'>\n",
      "pynbody.snapshot : Loading using backend <class 'pynbody.snapshot.gadget.GadgetSnap'>\n",
      "pynbody.snapshot : Loading using backend <class 'pynbody.snapshot.gadget.GadgetSnap'>\n",
      "pynbody.snapshot : Loading using backend <class 'pynbody.snapshot.gadget.GadgetSnap'>\n",
      "pynbody.snapshot : Loading using backend <class 'pynbody.snapshot.gadget.GadgetSnap'>\n",
      "pynbody.snapshot : Loading using backend <class 'pynbody.snapshot.gadget.GadgetSnap'>\n",
      "pynbody.snapshot : Loading using backend <class 'pynbody.snapshot.gadget.GadgetSnap'>\n",
      "pynbody.snapshot : Loading using backend <class 'pynbody.snapshot.gadget.GadgetSnap'>\n",
      "pynbody.snapshot : Loading using backend <class 'pynbody.snapshot.gadget.GadgetSnap'>\n",
      "pynbody.snapshot : Loading using backend <class 'pynbody.snapshot.gadget.GadgetSnap'>\n",
      "pynbody.snapshot : Loading using backend <class 'pynbody.snapshot.gadget.GadgetSnap'>\n",
      "pynbody.snapshot : Loading using backend <class 'pynbody.snapshot.gadget.GadgetSnap'>\n",
      "pynbody.snapshot : Loading using backend <class 'pynbody.snapshot.gadget.GadgetSnap'>\n",
      "pynbody.snapshot : Loading using backend <class 'pynbody.snapshot.gadget.GadgetSnap'>\n",
      "pynbody.snapshot : Loading using backend <class 'pynbody.snapshot.gadget.GadgetSnap'>\n",
      "pynbody.snapshot : Loading using backend <class 'pynbody.snapshot.gadget.GadgetSnap'>\n",
      "pynbody.snapshot : Loading using backend <class 'pynbody.snapshot.gadget.GadgetSnap'>\n",
      "pynbody.snapshot : Loading using backend <class 'pynbody.snapshot.gadget.GadgetSnap'>\n",
      "pynbody.snapshot : Loading using backend <class 'pynbody.snapshot.gadget.GadgetSnap'>\n",
      "pynbody.snapshot : Loading using backend <class 'pynbody.snapshot.gadget.GadgetSnap'>\n",
      "pynbody.snapshot : Loading using backend <class 'pynbody.snapshot.gadget.GadgetSnap'>\n",
      "pynbody.snapshot : Loading using backend <class 'pynbody.snapshot.gadget.GadgetSnap'>\n",
      "pynbody.snapshot : Loading using backend <class 'pynbody.snapshot.gadget.GadgetSnap'>\n",
      "pynbody.snapshot : Loading using backend <class 'pynbody.snapshot.gadget.GadgetSnap'>\n",
      "pynbody.snapshot : Loading using backend <class 'pynbody.snapshot.gadget.GadgetSnap'>\n",
      "pynbody.snapshot : Loading using backend <class 'pynbody.snapshot.gadget.GadgetSnap'>\n",
      "pynbody.snapshot : Loading using backend <class 'pynbody.snapshot.gadget.GadgetSnap'>\n",
      "pynbody.snapshot : Loading using backend <class 'pynbody.snapshot.gadget.GadgetSnap'>\n",
      "pynbody.snapshot : Loading using backend <class 'pynbody.snapshot.gadget.GadgetSnap'>\n",
      "pynbody.snapshot : Loading using backend <class 'pynbody.snapshot.gadget.GadgetSnap'>\n",
      "pynbody.snapshot : Loading using backend <class 'pynbody.snapshot.gadget.GadgetSnap'>\n",
      "pynbody.snapshot : Loading using backend <class 'pynbody.snapshot.gadget.GadgetSnap'>\n",
      "pynbody.snapshot : Loading using backend <class 'pynbody.snapshot.gadget.GadgetSnap'>\n",
      "pynbody.snapshot : Loading using backend <class 'pynbody.snapshot.gadget.GadgetSnap'>\n",
      "pynbody.snapshot : Loading using backend <class 'pynbody.snapshot.gadget.GadgetSnap'>\n",
      "pynbody.snapshot : Loading using backend <class 'pynbody.snapshot.gadget.GadgetSnap'>\n",
      "pynbody.snapshot : Loading using backend <class 'pynbody.snapshot.gadget.GadgetSnap'>\n",
      "pynbody.snapshot : Loading using backend <class 'pynbody.snapshot.gadget.GadgetSnap'>\n",
      "pynbody.snapshot : Loading using backend <class 'pynbody.snapshot.gadget.GadgetSnap'>\n",
      "pynbody.snapshot : Loading using backend <class 'pynbody.snapshot.gadget.GadgetSnap'>\n",
      "pynbody.snapshot : Loading using backend <class 'pynbody.snapshot.gadget.GadgetSnap'>\n",
      "pynbody.snapshot : Loading using backend <class 'pynbody.snapshot.gadget.GadgetSnap'>\n",
      "pynbody.snapshot : Loading using backend <class 'pynbody.snapshot.gadget.GadgetSnap'>\n",
      "pynbody.snapshot : Loading using backend <class 'pynbody.snapshot.gadget.GadgetSnap'>\n",
      "pynbody.snapshot : Loading using backend <class 'pynbody.snapshot.gadget.GadgetSnap'>\n",
      "pynbody.snapshot : Loading using backend <class 'pynbody.snapshot.gadget.GadgetSnap'>\n",
      "pynbody.snapshot : Loading using backend <class 'pynbody.snapshot.gadget.GadgetSnap'>\n",
      "pynbody.snapshot : Loading using backend <class 'pynbody.snapshot.gadget.GadgetSnap'>\n",
      "pynbody.snapshot : Loading using backend <class 'pynbody.snapshot.gadget.GadgetSnap'>\n",
      "pynbody.snapshot : Loading using backend <class 'pynbody.snapshot.gadget.GadgetSnap'>\n",
      "pynbody.snapshot : Loading using backend <class 'pynbody.snapshot.gadget.GadgetSnap'>\n",
      "pynbody.snapshot : Loading using backend <class 'pynbody.snapshot.gadget.GadgetSnap'>\n",
      "pynbody.snapshot : Loading using backend <class 'pynbody.snapshot.gadget.GadgetSnap'>\n",
      "pynbody.snapshot : Loading using backend <class 'pynbody.snapshot.gadget.GadgetSnap'>\n",
      "pynbody.snapshot : Loading using backend <class 'pynbody.snapshot.gadget.GadgetSnap'>\n",
      "pynbody.snapshot : Loading using backend <class 'pynbody.snapshot.gadget.GadgetSnap'>\n",
      "pynbody.snapshot : Loading using backend <class 'pynbody.snapshot.gadget.GadgetSnap'>\n",
      "pynbody.snapshot : Loading using backend <class 'pynbody.snapshot.gadget.GadgetSnap'>\n",
      "pynbody.snapshot : Loading using backend <class 'pynbody.snapshot.gadget.GadgetSnap'>\n",
      "pynbody.snapshot : Loading using backend <class 'pynbody.snapshot.gadget.GadgetSnap'>\n",
      "pynbody.snapshot : Loading using backend <class 'pynbody.snapshot.gadget.GadgetSnap'>\n",
      "pynbody.snapshot : Loading using backend <class 'pynbody.snapshot.gadget.GadgetSnap'>\n",
      "pynbody.snapshot : Loading using backend <class 'pynbody.snapshot.gadget.GadgetSnap'>\n",
      "pynbody.snapshot : Loading using backend <class 'pynbody.snapshot.gadget.GadgetSnap'>\n",
      "pynbody.snapshot : Loading using backend <class 'pynbody.snapshot.gadget.GadgetSnap'>\n",
      "pynbody.snapshot : Loading using backend <class 'pynbody.snapshot.gadget.GadgetSnap'>\n",
      "pynbody.snapshot : Loading using backend <class 'pynbody.snapshot.gadget.GadgetSnap'>\n",
      "pynbody.snapshot : Loading using backend <class 'pynbody.snapshot.gadget.GadgetSnap'>\n",
      "pynbody.snapshot : Loading using backend <class 'pynbody.snapshot.gadget.GadgetSnap'>\n",
      "pynbody.snapshot : Loading using backend <class 'pynbody.snapshot.gadget.GadgetSnap'>\n",
      "pynbody.snapshot : Loading using backend <class 'pynbody.snapshot.gadget.GadgetSnap'>\n",
      "pynbody.snapshot : Loading using backend <class 'pynbody.snapshot.gadget.GadgetSnap'>\n",
      "pynbody.snapshot : Loading using backend <class 'pynbody.snapshot.gadget.GadgetSnap'>\n",
      "pynbody.snapshot : Loading using backend <class 'pynbody.snapshot.gadget.GadgetSnap'>\n",
      "pynbody.snapshot : Loading using backend <class 'pynbody.snapshot.gadget.GadgetSnap'>\n",
      "pynbody.snapshot : Loading using backend <class 'pynbody.snapshot.gadget.GadgetSnap'>\n",
      "pynbody.snapshot : Loading using backend <class 'pynbody.snapshot.gadget.GadgetSnap'>\n",
      "pynbody.snapshot : Loading using backend <class 'pynbody.snapshot.gadget.GadgetSnap'>\n",
      "pynbody.snapshot : Loading using backend <class 'pynbody.snapshot.gadget.GadgetSnap'>\n",
      "pynbody.snapshot : Loading using backend <class 'pynbody.snapshot.gadget.GadgetSnap'>\n",
      "pynbody.snapshot : Loading using backend <class 'pynbody.snapshot.gadget.GadgetSnap'>\n",
      "pynbody.snapshot : Loading using backend <class 'pynbody.snapshot.gadget.GadgetSnap'>\n",
      "pynbody.snapshot : Loading using backend <class 'pynbody.snapshot.gadget.GadgetSnap'>\n",
      "pynbody.snapshot : Loading using backend <class 'pynbody.snapshot.gadget.GadgetSnap'>\n",
      "pynbody.snapshot : Loading using backend <class 'pynbody.snapshot.gadget.GadgetSnap'>\n",
      "pynbody.snapshot : Loading using backend <class 'pynbody.snapshot.gadget.GadgetSnap'>\n",
      "pynbody.snapshot : Loading using backend <class 'pynbody.snapshot.gadget.GadgetSnap'>\n",
      "pynbody.snapshot : Loading using backend <class 'pynbody.snapshot.gadget.GadgetSnap'>\n",
      "pynbody.snapshot : Loading using backend <class 'pynbody.snapshot.gadget.GadgetSnap'>\n",
      "pynbody.snapshot : Loading using backend <class 'pynbody.snapshot.gadget.GadgetSnap'>\n",
      "pynbody.snapshot : Loading using backend <class 'pynbody.snapshot.gadget.GadgetSnap'>\n",
      "pynbody.snapshot : Loading using backend <class 'pynbody.snapshot.gadget.GadgetSnap'>\n",
      "pynbody.snapshot : Loading using backend <class 'pynbody.snapshot.gadget.GadgetSnap'>\n",
      "pynbody.snapshot : Loading using backend <class 'pynbody.snapshot.gadget.GadgetSnap'>\n",
      "pynbody.snapshot : Loading using backend <class 'pynbody.snapshot.gadget.GadgetSnap'>\n",
      "pynbody.snapshot : Loading using backend <class 'pynbody.snapshot.gadget.GadgetSnap'>\n",
      "pynbody.snapshot : Loading using backend <class 'pynbody.snapshot.gadget.GadgetSnap'>\n",
      "pynbody.snapshot : Loading using backend <class 'pynbody.snapshot.gadget.GadgetSnap'>\n",
      "pynbody.snapshot : Loading using backend <class 'pynbody.snapshot.gadget.GadgetSnap'>\n",
      "pynbody.snapshot : Loading using backend <class 'pynbody.snapshot.gadget.GadgetSnap'>\n",
      "pynbody.snapshot : Loading using backend <class 'pynbody.snapshot.gadget.GadgetSnap'>\n",
      "pynbody.snapshot : Loading using backend <class 'pynbody.snapshot.gadget.GadgetSnap'>\n",
      "pynbody.snapshot : Loading using backend <class 'pynbody.snapshot.gadget.GadgetSnap'>\n",
      "pynbody.snapshot : Loading using backend <class 'pynbody.snapshot.gadget.GadgetSnap'>\n",
      "pynbody.snapshot : Loading using backend <class 'pynbody.snapshot.gadget.GadgetSnap'>\n",
      "pynbody.snapshot : Loading using backend <class 'pynbody.snapshot.gadget.GadgetSnap'>\n",
      "pynbody.snapshot : Loading using backend <class 'pynbody.snapshot.gadget.GadgetSnap'>\n",
      "pynbody.snapshot : Loading using backend <class 'pynbody.snapshot.gadget.GadgetSnap'>\n",
      "pynbody.snapshot : Loading using backend <class 'pynbody.snapshot.gadget.GadgetSnap'>\n",
      "pynbody.snapshot : Loading using backend <class 'pynbody.snapshot.gadget.GadgetSnap'>\n",
      "pynbody.snapshot : Loading using backend <class 'pynbody.snapshot.gadget.GadgetSnap'>\n",
      "pynbody.snapshot : Loading using backend <class 'pynbody.snapshot.gadget.GadgetSnap'>\n",
      "pynbody.snapshot : Loading using backend <class 'pynbody.snapshot.gadget.GadgetSnap'>\n",
      "pynbody.snapshot : Loading using backend <class 'pynbody.snapshot.gadget.GadgetSnap'>\n",
      "pynbody.snapshot : Loading using backend <class 'pynbody.snapshot.gadget.GadgetSnap'>\n",
      "pynbody.snapshot : Loading using backend <class 'pynbody.snapshot.gadget.GadgetSnap'>\n",
      "pynbody.snapshot : Loading using backend <class 'pynbody.snapshot.gadget.GadgetSnap'>\n",
      "pynbody.snapshot : Loading using backend <class 'pynbody.snapshot.gadget.GadgetSnap'>\n",
      "pynbody.snapshot : Loading using backend <class 'pynbody.snapshot.gadget.GadgetSnap'>\n",
      "pynbody.snapshot : Loading using backend <class 'pynbody.snapshot.gadget.GadgetSnap'>\n",
      "pynbody.snapshot : Loading using backend <class 'pynbody.snapshot.gadget.GadgetSnap'>\n",
      "pynbody.snapshot : Loading using backend <class 'pynbody.snapshot.gadget.GadgetSnap'>\n",
      "pynbody.snapshot : Loading using backend <class 'pynbody.snapshot.gadget.GadgetSnap'>\n",
      "pynbody.snapshot : Loading using backend <class 'pynbody.snapshot.gadget.GadgetSnap'>\n",
      "pynbody.snapshot : Loading using backend <class 'pynbody.snapshot.gadget.GadgetSnap'>\n",
      "pynbody.snapshot : Loading using backend <class 'pynbody.snapshot.gadget.GadgetSnap'>\n",
      "pynbody.snapshot : Loading using backend <class 'pynbody.snapshot.gadget.GadgetSnap'>\n",
      "pynbody.snapshot : Loading using backend <class 'pynbody.snapshot.gadget.GadgetSnap'>\n",
      "pynbody.snapshot : Loading using backend <class 'pynbody.snapshot.gadget.GadgetSnap'>\n",
      "pynbody.snapshot : Loading using backend <class 'pynbody.snapshot.gadget.GadgetSnap'>\n",
      "pynbody.snapshot : Loading using backend <class 'pynbody.snapshot.gadget.GadgetSnap'>\n",
      "pynbody.snapshot : Loading using backend <class 'pynbody.snapshot.gadget.GadgetSnap'>\n",
      "pynbody.snapshot : Loading using backend <class 'pynbody.snapshot.gadget.GadgetSnap'>\n",
      "pynbody.snapshot : Loading using backend <class 'pynbody.snapshot.gadget.GadgetSnap'>\n",
      "pynbody.snapshot : Loading using backend <class 'pynbody.snapshot.gadget.GadgetSnap'>\n",
      "pynbody.snapshot : Loading using backend <class 'pynbody.snapshot.gadget.GadgetSnap'>\n",
      "pynbody.snapshot : Loading using backend <class 'pynbody.snapshot.gadget.GadgetSnap'>\n",
      "pynbody.snapshot : Loading using backend <class 'pynbody.snapshot.gadget.GadgetSnap'>\n",
      "pynbody.snapshot : Loading using backend <class 'pynbody.snapshot.gadget.GadgetSnap'>\n",
      "pynbody.snapshot : Loading using backend <class 'pynbody.snapshot.gadget.GadgetSnap'>\n",
      "pynbody.snapshot : Loading using backend <class 'pynbody.snapshot.gadget.GadgetSnap'>\n",
      "pynbody.snapshot : Loading using backend <class 'pynbody.snapshot.gadget.GadgetSnap'>\n",
      "pynbody.snapshot : Loading using backend <class 'pynbody.snapshot.gadget.GadgetSnap'>\n",
      "pynbody.snapshot : Loading using backend <class 'pynbody.snapshot.gadget.GadgetSnap'>\n",
      "pynbody.snapshot : Loading using backend <class 'pynbody.snapshot.gadget.GadgetSnap'>\n",
      "pynbody.snapshot : Loading using backend <class 'pynbody.snapshot.gadget.GadgetSnap'>\n",
      "pynbody.snapshot : Loading using backend <class 'pynbody.snapshot.gadget.GadgetSnap'>\n",
      "pynbody.snapshot : Loading using backend <class 'pynbody.snapshot.gadget.GadgetSnap'>\n",
      "pynbody.snapshot : Loading using backend <class 'pynbody.snapshot.gadget.GadgetSnap'>\n",
      "pynbody.snapshot : Loading using backend <class 'pynbody.snapshot.gadget.GadgetSnap'>\n",
      "pynbody.snapshot : Loading using backend <class 'pynbody.snapshot.gadget.GadgetSnap'>\n",
      "pynbody.snapshot : Loading using backend <class 'pynbody.snapshot.gadget.GadgetSnap'>\n",
      "pynbody.snapshot : Loading using backend <class 'pynbody.snapshot.gadget.GadgetSnap'>\n",
      "pynbody.snapshot : Loading using backend <class 'pynbody.snapshot.gadget.GadgetSnap'>\n",
      "pynbody.snapshot : Loading using backend <class 'pynbody.snapshot.gadget.GadgetSnap'>\n",
      "pynbody.snapshot : Loading using backend <class 'pynbody.snapshot.gadget.GadgetSnap'>\n"
     ]
    }
   ],
   "source": [
    "moria_sim, kicked_sim = load_moria_sim_and_kicked(SIM_NUMBER)"
   ]
  },
  {
   "cell_type": "code",
   "execution_count": 8,
   "metadata": {
    "collapsed": true
   },
   "outputs": [],
   "source": [
    "# sim_path = '/home/michele/sim/MySimulations/Moria8Gyr_tidal/sim60002/out/'\n",
    "# snaplist = snapshot_list(sim_path, include_dir=True)\n",
    "# sim = pynbody.load(snaplist[-1])\n",
    "# sim.physical_units()\n",
    "# print(sim.filename)\n",
    "# print(sim.properties['time'].in_units('Gyr'))\n",
    "# sim.properties\n",
    "# Jtot = np.sqrt(((np.multiply(sim['j'].transpose(), sim['mass']).sum(axis=1))**2).sum()) # calculate angular momentum"
   ]
  },
  {
   "cell_type": "code",
   "execution_count": 9,
   "metadata": {
    "collapsed": true
   },
   "outputs": [],
   "source": [
    "# p_all = profile.Profile(s62, max='250 kpc')\n",
    "# plt.plot(p_all['rbins'].in_units('kpc'),p_all['vr_disp'].in_units('km s^-1'),'k')\n",
    "# plt.xlabel('$R$ [kpc]'); plt.ylabel('$\\sigma_{r}$')"
   ]
  },
  {
   "cell_type": "code",
   "execution_count": 10,
   "metadata": {
    "collapsed": true,
    "scrolled": true
   },
   "outputs": [],
   "source": [
    "recompute = False\n",
    "# npy_file = 'cog.npy'\n",
    "if not recompute:\n",
    "    data = np.load('cog{}.npz'.format(SIM_NUMBER))\n",
    "    times_moria, cog_moria = data['times'], data['cog']\n",
    "    data = np.load('cog{}_kicked.npz'.format(SIM_NUMBER))\n",
    "    times_kicked, cog_kicked = data['times'], data['cog']\n",
    "else:\n",
    "    times_moria, cog_moria = compute_cog(moria_sim, cache_file='cog{}.npz'.format(SIM_NUMBER));\n",
    "    times_kicked, cog_kicked = compute_cog(kicked_sim, cache_file='cog{}_kicked.npz'.format(SIM_NUMBER));"
   ]
  },
  {
   "cell_type": "code",
   "execution_count": 11,
   "metadata": {},
   "outputs": [
    {
     "data": {
      "text/plain": [
       "((0, 13.11397991328508), 13.132385105582971, 13.11397991328508)"
      ]
     },
     "execution_count": 11,
     "metadata": {},
     "output_type": "execute_result"
    }
   ],
   "source": [
    "bins_sfr = 100\n",
    "trange = (min(np.min(times_moria), np.min(times_kicked)), max(np.max(times_moria), np.max(times_kicked)))\n",
    "trange = (0, min(np.max(times_moria), np.max(times_kicked)))\n",
    "bins = np.linspace(*trange, bins_sfr)\n",
    "trange, times_moria[-1], times_kicked[-1]"
   ]
  },
  {
   "cell_type": "markdown",
   "metadata": {},
   "source": [
    "Use `trange` and `range` keywords to equalize the range of the simulation between the two "
   ]
  },
  {
   "cell_type": "code",
   "execution_count": 12,
   "metadata": {
    "scrolled": false
   },
   "outputs": [
    {
     "name": "stderr",
     "output_type": "stream",
     "text": [
      "/home/michele/Software/miniconda3/lib/python3.6/site-packages/scipy/integrate/quadrature.py:709: AccuracyWarning: divmax (10) exceeded. Latest difference = 5.972695e-08\n",
      "  AccuracyWarning)\n",
      "/home/michele/Software/miniconda3/lib/python3.6/site-packages/scipy/integrate/quadrature.py:709: AccuracyWarning: divmax (10) exceeded. Latest difference = 1.037007e-09\n",
      "  AccuracyWarning)\n",
      "/home/michele/Software/miniconda3/lib/python3.6/site-packages/scipy/integrate/quadrature.py:709: AccuracyWarning: divmax (10) exceeded. Latest difference = 1.825575e-09\n",
      "  AccuracyWarning)\n",
      "/home/michele/Software/miniconda3/lib/python3.6/site-packages/scipy/integrate/quadrature.py:709: AccuracyWarning: divmax (10) exceeded. Latest difference = 3.776510e-09\n",
      "  AccuracyWarning)\n",
      "/home/michele/Software/miniconda3/lib/python3.6/site-packages/scipy/integrate/quadrature.py:709: AccuracyWarning: divmax (10) exceeded. Latest difference = 1.048614e-08\n",
      "  AccuracyWarning)\n"
     ]
    },
    {
     "data": {
      "image/png": "[encoded data removed]",
      "text/plain": [
       "<matplotlib.figure.Figure at 0x7fdaa71daf60>"
      ]
     },
     "metadata": {},
     "output_type": "display_data"
    }
   ],
   "source": [
    "fig, ax = plt.subplots(figsize=(8,6))\n",
    "sfr_moria, sfr_moria_bins = pynbody.plot.sfh(moria_sim[-1], bins=bins_sfr, trange=trange, range=trange, label='MoRIA', subplot=ax)\n",
    "sfr_kicked, sfr_kicked_bins = pynbody.plot.sfh(kicked_sim[-1], bins=bins_sfr, trange=trange, range=trange, label='Kicked', subplot=ax)\n",
    "plt.xlabel('Time [Gyr]', fontsize='x-large')\n",
    "plt.ylabel('SFR [M$_\\odot$ yr$^{-1}$]', fontsize='x-large');\n",
    "plt.legend();"
   ]
  },
  {
   "cell_type": "code",
   "execution_count": 13,
   "metadata": {
    "collapsed": true
   },
   "outputs": [],
   "source": [
    "np.testing.assert_array_equal(sfr_moria_bins, sfr_kicked_bins)"
   ]
  },
  {
   "cell_type": "code",
   "execution_count": 14,
   "metadata": {
    "collapsed": true
   },
   "outputs": [],
   "source": [
    "# if recompute:\n",
    "#     del moria_sim, kicked_sim\n",
    "# import gc\n",
    "# gc.collect()"
   ]
  },
  {
   "cell_type": "code",
   "execution_count": 15,
   "metadata": {},
   "outputs": [
    {
     "data": {
      "text/plain": [
       "((3, 165), (165,))"
      ]
     },
     "execution_count": 15,
     "metadata": {},
     "output_type": "execute_result"
    }
   ],
   "source": [
    "cog_moria.shape, times_moria.shape"
   ]
  },
  {
   "cell_type": "code",
   "execution_count": 16,
   "metadata": {
    "collapsed": true
   },
   "outputs": [],
   "source": [
    "def rebin_cog(sfr_times, sim_times, cog):\n",
    "    rebin_x_cog = np.interp(sfr_times, sim_times, cog[0,:])\n",
    "    rebin_y_cog = np.interp(sfr_times, sim_times, cog[1,:])\n",
    "    return rebin_x_cog, rebin_y_cog"
   ]
  },
  {
   "cell_type": "code",
   "execution_count": 17,
   "metadata": {
    "collapsed": true
   },
   "outputs": [],
   "source": [
    "t_sfr_moria = sfr_moria_bins[:-1]\n",
    "t_sfr_kicked = sfr_kicked_bins[:-1]\n",
    "\n",
    "x_cog_moria, y_cog_moria = rebin_cog(t_sfr_moria, times_moria, cog_moria)\n",
    "x_cog_kicked, y_cog_kicked = rebin_cog(t_sfr_kicked, times_kicked, cog_kicked)"
   ]
  },
  {
   "cell_type": "code",
   "execution_count": 18,
   "metadata": {
    "collapsed": true
   },
   "outputs": [],
   "source": [
    "np.testing.assert_array_equal(t_sfr_moria, t_sfr_kicked)"
   ]
  },
  {
   "cell_type": "code",
   "execution_count": 19,
   "metadata": {
    "collapsed": true
   },
   "outputs": [],
   "source": [
    "x_cog, y_cog = cog_moria[0,:], cog_moria[1,:]"
   ]
  },
  {
   "cell_type": "markdown",
   "metadata": {},
   "source": [
    "## Checking the COG orbit"
   ]
  },
  {
   "cell_type": "code",
   "execution_count": 20,
   "metadata": {},
   "outputs": [
    {
     "data": {
      "text/plain": [
       "(192.70822847125675, 855.40691006350107)"
      ]
     },
     "execution_count": 20,
     "metadata": {},
     "output_type": "execute_result"
    },
    {
     "data": {
      "image/png": "[encoded data removed]",
      "text/plain": [
       "<matplotlib.figure.Figure at 0x7fda9ca1a5f8>"
      ]
     },
     "metadata": {},
     "output_type": "display_data"
    }
   ],
   "source": [
    "fig, ax = plt.subplots(figsize=(8,6))\n",
    "ax.set_xlabel(\"x (kpc)\")\n",
    "ax.set_ylabel(\"y (kpc)\")\n",
    "ax.scatter(*cog_kicked[:2], marker='o')\n",
    "ax.plot((0,0), '')\n",
    "c1, c2 = plt.Circle((0,0), radius=1000, fill=False), plt.Circle((0,0), radius=200, fill=False)\n",
    "ax.add_artist(c1)\n",
    "ax.add_artist(c2)\n",
    "ax.axis('equal')\n",
    "ax.grid()\n",
    "r = np.sqrt(cog_kicked[0,:]**2+cog_kicked[1,:]**2+cog_kicked[2,:]**2)\n",
    "r[:-10].min(), r.max()"
   ]
  },
  {
   "cell_type": "code",
   "execution_count": 21,
   "metadata": {
    "collapsed": true
   },
   "outputs": [],
   "source": [
    "orig = plt.cross"
   ]
  },
  {
   "cell_type": "markdown",
   "metadata": {},
   "source": [
    "## Comparing COG position and SFH"
   ]
  },
  {
   "cell_type": "code",
   "execution_count": 22,
   "metadata": {},
   "outputs": [
    {
     "data": {
      "text/html": [
       "\n",
       "    <div class=\"bk-root\">\n",
       "        <a href=\"https://bokeh.pydata.org\" target=\"_blank\" class=\"bk-logo bk-logo-small bk-logo-notebook\"></a>\n",
       "        <span id=\"147cc9e1-5d6d-47e3-8701-7674457f7d84\">Loading BokehJS ...</span>\n",
       "    </div>"
      ]
     },
     "metadata": {},
     "output_type": "display_data"
    },
    {
     "data": {
      "application/javascript": [
       "\n",
       "(function(root) {\n",
       "  function now() {\n",
       "    return new Date();\n",
       "  }\n",
       "\n",
       "  var force = true;\n",
       "\n",
       "  if (typeof (root._bokeh_onload_callbacks) === \"undefined\" || force === true) {\n",
       "    root._bokeh_onload_callbacks = [];\n",
       "    root._bokeh_is_loading = undefined;\n",
       "  }\n",
       "\n",
       "  var JS_MIME_TYPE = 'application/javascript';\n",
       "  var HTML_MIME_TYPE = 'text/html';\n",
       "  var EXEC_MIME_TYPE = 'application/vnd.bokehjs_exec.v0+json';\n",
       "  var CLASS_NAME = 'output_bokeh rendered_html';\n",
       "\n",
       "  /**\n",
       "   * Render data to the DOM node\n",
       "   */\n",
       "  function render(props, node) {\n",
       "    var script = document.createElement(\"script\");\n",
       "    node.appendChild(script);\n",
       "  }\n",
       "\n",
       "  /**\n",
       "   * Handle when an output is cleared or removed\n",
       "   */\n",
       "  function handleClearOutput(event, handle) {\n",
       "    var cell = handle.cell;\n",
       "\n",
       "    var id = cell.output_area._bokeh_element_id;\n",
       "    var server_id = cell.output_area._bokeh_server_id;\n",
       "    // Clean up Bokeh references\n",
       "    if (id !== undefined) {\n",
       "      Bokeh.index[id].model.document.clear();\n",
       "      delete Bokeh.index[id];\n",
       "    }\n",
       "\n",
       "    if (server_id !== undefined) {\n",
       "      // Clean up Bokeh references\n",
       "      var cmd = \"from bokeh.io.state import curstate; print(curstate().uuid_to_server['\" + server_id + \"'].get_sessions()[0].document.roots[0]._id)\";\n",
       "      cell.notebook.kernel.execute(cmd, {\n",
       "        iopub: {\n",
       "          output: function(msg) {\n",
       "            var element_id = msg.content.text.trim();\n",
       "            Bokeh.index[element_id].model.document.clear();\n",
       "            delete Bokeh.index[element_id];\n",
       "          }\n",
       "        }\n",
       "      });\n",
       "      // Destroy server and session\n",
       "      var cmd = \"import bokeh.io.notebook as ion; ion.destroy_server('\" + server_id + \"')\";\n",
       "      cell.notebook.kernel.execute(cmd);\n",
       "    }\n",
       "  }\n",
       "\n",
       "  /**\n",
       "   * Handle when a new output is added\n",
       "   */\n",
       "  function handleAddOutput(event, handle) {\n",
       "    var output_area = handle.output_area;\n",
       "    var output = handle.output;\n",
       "\n",
       "    // limit handleAddOutput to display_data with EXEC_MIME_TYPE content only\n",
       "    if ((output.output_type != \"display_data\") || (!output.data.hasOwnProperty(EXEC_MIME_TYPE))) {\n",
       "      return\n",
       "    }\n",
       "\n",
       "    var toinsert = output_area.element.find(\".\" + CLASS_NAME.split(' ')[0]);\n",
       "\n",
       "    if (output.metadata[EXEC_MIME_TYPE][\"id\"] !== undefined) {\n",
       "      toinsert[0].firstChild.textContent = output.data[JS_MIME_TYPE];\n",
       "      // store reference to embed id on output_area\n",
       "      output_area._bokeh_element_id = output.metadata[EXEC_MIME_TYPE][\"id\"];\n",
       "    }\n",
       "    if (output.metadata[EXEC_MIME_TYPE][\"server_id\"] !== undefined) {\n",
       "      var bk_div = document.createElement(\"div\");\n",
       "      bk_div.innerHTML = output.data[HTML_MIME_TYPE];\n",
       "      var script_attrs = bk_div.children[0].attributes;\n",
       "      for (var i = 0; i < script_attrs.length; i++) {\n",
       "        toinsert[0].firstChild.setAttribute(script_attrs[i].name, script_attrs[i].value);\n",
       "      }\n",
       "      // store reference to server id on output_area\n",
       "      output_area._bokeh_server_id = output.metadata[EXEC_MIME_TYPE][\"server_id\"];\n",
       "    }\n",
       "  }\n",
       "\n",
       "  function register_renderer(events, OutputArea) {\n",
       "\n",
       "    function append_mime(data, metadata, element) {\n",
       "      // create a DOM node to render to\n",
       "      var toinsert = this.create_output_subarea(\n",
       "        metadata,\n",
       "        CLASS_NAME,\n",
       "        EXEC_MIME_TYPE\n",
       "      );\n",
       "      this.keyboard_manager.register_events(toinsert);\n",
       "      // Render to node\n",
       "      var props = {data: data, metadata: metadata[EXEC_MIME_TYPE]};\n",
       "      render(props, toinsert[0]);\n",
       "      element.append(toinsert);\n",
       "      return toinsert\n",
       "    }\n",
       "\n",
       "    /* Handle when an output is cleared or removed */\n",
       "    events.on('clear_output.CodeCell', handleClearOutput);\n",
       "    events.on('delete.Cell', handleClearOutput);\n",
       "\n",
       "    /* Handle when a new output is added */\n",
       "    events.on('output_added.OutputArea', handleAddOutput);\n",
       "\n",
       "    /**\n",
       "     * Register the mime type and append_mime function with output_area\n",
       "     */\n",
       "    OutputArea.prototype.register_mime_type(EXEC_MIME_TYPE, append_mime, {\n",
       "      /* Is output safe? */\n",
       "      safe: true,\n",
       "      /* Index of renderer in `output_area.display_order` */\n",
       "      index: 0\n",
       "    });\n",
       "  }\n",
       "\n",
       "  // register the mime type if in Jupyter Notebook environment and previously unregistered\n",
       "  if (root.Jupyter !== undefined) {\n",
       "    var events = require('base/js/events');\n",
       "    var OutputArea = require('notebook/js/outputarea').OutputArea;\n",
       "\n",
       "    if (OutputArea.prototype.mime_types().indexOf(EXEC_MIME_TYPE) == -1) {\n",
       "      register_renderer(events, OutputArea);\n",
       "    }\n",
       "  }\n",
       "\n",
       "  \n",
       "  if (typeof (root._bokeh_timeout) === \"undefined\" || force === true) {\n",
       "    root._bokeh_timeout = Date.now() + 5000;\n",
       "    root._bokeh_failed_load = false;\n",
       "  }\n",
       "\n",
       "  var NB_LOAD_WARNING = {'data': {'text/html':\n",
       "     \"<div style='background-color: #fdd'>\\n\"+\n",
       "     \"<p>\\n\"+\n",
       "     \"BokehJS does not appear to have successfully loaded. If loading BokehJS from CDN, this \\n\"+\n",
       "     \"may be due to a slow or bad network connection. Possible fixes:\\n\"+\n",
       "     \"</p>\\n\"+\n",
       "     \"<ul>\\n\"+\n",
       "     \"<li>re-rerun `output_notebook()` to attempt to load from CDN again, or</li>\\n\"+\n",
       "     \"<li>use INLINE resources instead, as so:</li>\\n\"+\n",
       "     \"</ul>\\n\"+\n",
       "     \"<code>\\n\"+\n",
       "     \"from bokeh.resources import INLINE\\n\"+\n",
       "     \"output_notebook(resources=INLINE)\\n\"+\n",
       "     \"</code>\\n\"+\n",
       "     \"</div>\"}};\n",
       "\n",
       "  function display_loaded() {\n",
       "    var el = document.getElementById(\"147cc9e1-5d6d-47e3-8701-7674457f7d84\");\n",
       "    if (el != null) {\n",
       "      el.textContent = \"BokehJS is loading...\";\n",
       "    }\n",
       "    if (root.Bokeh !== undefined) {\n",
       "      if (el != null) {\n",
       "        el.textContent = \"BokehJS \" + root.Bokeh.version + \" successfully loaded.\";\n",
       "      }\n",
       "    } else if (Date.now() < root._bokeh_timeout) {\n",
       "      setTimeout(display_loaded, 100)\n",
       "    }\n",
       "  }\n",
       "\n",
       "\n",
       "  function run_callbacks() {\n",
       "    try {\n",
       "      root._bokeh_onload_callbacks.forEach(function(callback) { callback() });\n",
       "    }\n",
       "    finally {\n",
       "      delete root._bokeh_onload_callbacks\n",
       "    }\n",
       "    console.info(\"Bokeh: all callbacks have finished\");\n",
       "  }\n",
       "\n",
       "  function load_libs(js_urls, callback) {\n",
       "    root._bokeh_onload_callbacks.push(callback);\n",
       "    if (root._bokeh_is_loading > 0) {\n",
       "      console.log(\"Bokeh: BokehJS is being loaded, scheduling callback at\", now());\n",
       "      return null;\n",
       "    }\n",
       "    if (js_urls == null || js_urls.length === 0) {\n",
       "      run_callbacks();\n",
       "      return null;\n",
       "    }\n",
       "    console.log(\"Bokeh: BokehJS not loaded, scheduling load and callback at\", now());\n",
       "    root._bokeh_is_loading = js_urls.length;\n",
       "    for (var i = 0; i < js_urls.length; i++) {\n",
       "      var url = js_urls[i];\n",
       "      var s = document.createElement('script');\n",
       "      s.src = url;\n",
       "      s.async = false;\n",
       "      s.onreadystatechange = s.onload = function() {\n",
       "        root._bokeh_is_loading--;\n",
       "        if (root._bokeh_is_loading === 0) {\n",
       "          console.log(\"Bokeh: all BokehJS libraries loaded\");\n",
       "          run_callbacks()\n",
       "        }\n",
       "      };\n",
       "      s.onerror = function() {\n",
       "        console.warn(\"failed to load library \" + url);\n",
       "      };\n",
       "      console.log(\"Bokeh: injecting script tag for BokehJS library: \", url);\n",
       "      document.getElementsByTagName(\"head\")[0].appendChild(s);\n",
       "    }\n",
       "  };var element = document.getElementById(\"147cc9e1-5d6d-47e3-8701-7674457f7d84\");\n",
       "  if (element == null) {\n",
       "    console.log(\"Bokeh: ERROR: autoload.js configured with elementid '147cc9e1-5d6d-47e3-8701-7674457f7d84' but no matching script tag was found. \")\n",
       "    return false;\n",
       "  }\n",
       "\n",
       "  var js_urls = [\"https://cdn.pydata.org/bokeh/release/bokeh-0.12.13.min.js\", \"https://cdn.pydata.org/bokeh/release/bokeh-widgets-0.12.13.min.js\", \"https://cdn.pydata.org/bokeh/release/bokeh-tables-0.12.13.min.js\", \"https://cdn.pydata.org/bokeh/release/bokeh-gl-0.12.13.min.js\"];\n",
       "\n",
       "  var inline_js = [\n",
       "    function(Bokeh) {\n",
       "      Bokeh.set_log_level(\"info\");\n",
       "    },\n",
       "    \n",
       "    function(Bokeh) {\n",
       "      \n",
       "    },\n",
       "    function(Bokeh) {\n",
       "      console.log(\"Bokeh: injecting CSS: https://cdn.pydata.org/bokeh/release/bokeh-0.12.13.min.css\");\n",
       "      Bokeh.embed.inject_css(\"https://cdn.pydata.org/bokeh/release/bokeh-0.12.13.min.css\");\n",
       "      console.log(\"Bokeh: injecting CSS: https://cdn.pydata.org/bokeh/release/bokeh-widgets-0.12.13.min.css\");\n",
       "      Bokeh.embed.inject_css(\"https://cdn.pydata.org/bokeh/release/bokeh-widgets-0.12.13.min.css\");\n",
       "      console.log(\"Bokeh: injecting CSS: https://cdn.pydata.org/bokeh/release/bokeh-tables-0.12.13.min.css\");\n",
       "      Bokeh.embed.inject_css(\"https://cdn.pydata.org/bokeh/release/bokeh-tables-0.12.13.min.css\");\n",
       "    }\n",
       "  ];\n",
       "\n",
       "  function run_inline_js() {\n",
       "    \n",
       "    if ((root.Bokeh !== undefined) || (force === true)) {\n",
       "      for (var i = 0; i < inline_js.length; i++) {\n",
       "        inline_js[i].call(root, root.Bokeh);\n",
       "      }if (force === true) {\n",
       "        display_loaded();\n",
       "      }} else if (Date.now() < root._bokeh_timeout) {\n",
       "      setTimeout(run_inline_js, 100);\n",
       "    } else if (!root._bokeh_failed_load) {\n",
       "      console.log(\"Bokeh: BokehJS failed to load within specified timeout.\");\n",
       "      root._bokeh_failed_load = true;\n",
       "    } else if (force !== true) {\n",
       "      var cell = $(document.getElementById(\"147cc9e1-5d6d-47e3-8701-7674457f7d84\")).parents('.cell').data().cell;\n",
       "      cell.output_area.append_execute_result(NB_LOAD_WARNING)\n",
       "    }\n",
       "\n",
       "  }\n",
       "\n",
       "  if (root._bokeh_is_loading === 0) {\n",
       "    console.log(\"Bokeh: BokehJS loaded, going straight to plotting\");\n",
       "    run_inline_js();\n",
       "  } else {\n",
       "    load_libs(js_urls, function() {\n",
       "      console.log(\"Bokeh: BokehJS plotting callback run at\", now());\n",
       "      run_inline_js();\n",
       "    });\n",
       "  }\n",
       "}(window));"
      ],
      "application/vnd.bokehjs_load.v0+json": "\n(function(root) {\n  function now() {\n    return new Date();\n  }\n\n  var force = true;\n\n  if (typeof (root._bokeh_onload_callbacks) === \"undefined\" || force === true) {\n    root._bokeh_onload_callbacks = [];\n    root._bokeh_is_loading = undefined;\n  }\n\n  \n\n  \n  if (typeof (root._bokeh_timeout) === \"undefined\" || force === true) {\n    root._bokeh_timeout = Date.now() + 5000;\n    root._bokeh_failed_load = false;\n  }\n\n  var NB_LOAD_WARNING = {'data': {'text/html':\n     \"<div style='background-color: #fdd'>\\n\"+\n     \"<p>\\n\"+\n     \"BokehJS does not appear to have successfully loaded. If loading BokehJS from CDN, this \\n\"+\n     \"may be due to a slow or bad network connection. Possible fixes:\\n\"+\n     \"</p>\\n\"+\n     \"<ul>\\n\"+\n     \"<li>re-rerun `output_notebook()` to attempt to load from CDN again, or</li>\\n\"+\n     \"<li>use INLINE resources instead, as so:</li>\\n\"+\n     \"</ul>\\n\"+\n     \"<code>\\n\"+\n     \"from bokeh.resources import INLINE\\n\"+\n     \"output_notebook(resources=INLINE)\\n\"+\n     \"</code>\\n\"+\n     \"</div>\"}};\n\n  function display_loaded() {\n    var el = document.getElementById(\"147cc9e1-5d6d-47e3-8701-7674457f7d84\");\n    if (el != null) {\n      el.textContent = \"BokehJS is loading...\";\n    }\n    if (root.Bokeh !== undefined) {\n      if (el != null) {\n        el.textContent = \"BokehJS \" + root.Bokeh.version + \" successfully loaded.\";\n      }\n    } else if (Date.now() < root._bokeh_timeout) {\n      setTimeout(display_loaded, 100)\n    }\n  }\n\n\n  function run_callbacks() {\n    try {\n      root._bokeh_onload_callbacks.forEach(function(callback) { callback() });\n    }\n    finally {\n      delete root._bokeh_onload_callbacks\n    }\n    console.info(\"Bokeh: all callbacks have finished\");\n  }\n\n  function load_libs(js_urls, callback) {\n    root._bokeh_onload_callbacks.push(callback);\n    if (root._bokeh_is_loading > 0) {\n      console.log(\"Bokeh: BokehJS is being loaded, scheduling callback at\", now());\n      return null;\n    }\n    if (js_urls == null || js_urls.length === 0) {\n      run_callbacks();\n      return null;\n    }\n    console.log(\"Bokeh: BokehJS not loaded, scheduling load and callback at\", now());\n    root._bokeh_is_loading = js_urls.length;\n    for (var i = 0; i < js_urls.length; i++) {\n      var url = js_urls[i];\n      var s = document.createElement('script');\n      s.src = url;\n      s.async = false;\n      s.onreadystatechange = s.onload = function() {\n        root._bokeh_is_loading--;\n        if (root._bokeh_is_loading === 0) {\n          console.log(\"Bokeh: all BokehJS libraries loaded\");\n          run_callbacks()\n        }\n      };\n      s.onerror = function() {\n        console.warn(\"failed to load library \" + url);\n      };\n      console.log(\"Bokeh: injecting script tag for BokehJS library: \", url);\n      document.getElementsByTagName(\"head\")[0].appendChild(s);\n    }\n  };var element = document.getElementById(\"147cc9e1-5d6d-47e3-8701-7674457f7d84\");\n  if (element == null) {\n    console.log(\"Bokeh: ERROR: autoload.js configured with elementid '147cc9e1-5d6d-47e3-8701-7674457f7d84' but no matching script tag was found. \")\n    return false;\n  }\n\n  var js_urls = [\"https://cdn.pydata.org/bokeh/release/bokeh-0.12.13.min.js\", \"https://cdn.pydata.org/bokeh/release/bokeh-widgets-0.12.13.min.js\", \"https://cdn.pydata.org/bokeh/release/bokeh-tables-0.12.13.min.js\", \"https://cdn.pydata.org/bokeh/release/bokeh-gl-0.12.13.min.js\"];\n\n  var inline_js = [\n    function(Bokeh) {\n      Bokeh.set_log_level(\"info\");\n    },\n    \n    function(Bokeh) {\n      \n    },\n    function(Bokeh) {\n      console.log(\"Bokeh: injecting CSS: https://cdn.pydata.org/bokeh/release/bokeh-0.12.13.min.css\");\n      Bokeh.embed.inject_css(\"https://cdn.pydata.org/bokeh/release/bokeh-0.12.13.min.css\");\n      console.log(\"Bokeh: injecting CSS: https://cdn.pydata.org/bokeh/release/bokeh-widgets-0.12.13.min.css\");\n      Bokeh.embed.inject_css(\"https://cdn.pydata.org/bokeh/release/bokeh-widgets-0.12.13.min.css\");\n      console.log(\"Bokeh: injecting CSS: https://cdn.pydata.org/bokeh/release/bokeh-tables-0.12.13.min.css\");\n      Bokeh.embed.inject_css(\"https://cdn.pydata.org/bokeh/release/bokeh-tables-0.12.13.min.css\");\n    }\n  ];\n\n  function run_inline_js() {\n    \n    if ((root.Bokeh !== undefined) || (force === true)) {\n      for (var i = 0; i < inline_js.length; i++) {\n        inline_js[i].call(root, root.Bokeh);\n      }if (force === true) {\n        display_loaded();\n      }} else if (Date.now() < root._bokeh_timeout) {\n      setTimeout(run_inline_js, 100);\n    } else if (!root._bokeh_failed_load) {\n      console.log(\"Bokeh: BokehJS failed to load within specified timeout.\");\n      root._bokeh_failed_load = true;\n    } else if (force !== true) {\n      var cell = $(document.getElementById(\"147cc9e1-5d6d-47e3-8701-7674457f7d84\")).parents('.cell').data().cell;\n      cell.output_area.append_execute_result(NB_LOAD_WARNING)\n    }\n\n  }\n\n  if (root._bokeh_is_loading === 0) {\n    console.log(\"Bokeh: BokehJS loaded, going straight to plotting\");\n    run_inline_js();\n  } else {\n    load_libs(js_urls, function() {\n      console.log(\"Bokeh: BokehJS plotting callback run at\", now());\n      run_inline_js();\n    });\n  }\n}(window));"
     },
     "metadata": {},
     "output_type": "display_data"
    }
   ],
   "source": [
    "import bokeh\n",
    "from bokeh.layouts import gridplot, row, column\n",
    "from bokeh.io import output_notebook\n",
    "from bokeh.plotting import figure, show\n",
    "from bokeh.models import ColumnDataSource\n",
    "import pandas as pd\n",
    "bokeh.io.output_notebook()"
   ]
  },
  {
   "cell_type": "code",
   "execution_count": 23,
   "metadata": {
    "collapsed": true,
    "scrolled": true
   },
   "outputs": [
    {
     "name": "stderr",
     "output_type": "stream",
     "text": [
      "/home/michele/Software/miniconda3/lib/python3.6/site-packages/ipykernel_launcher.py:9: UserWarning: Pandas doesn't allow columns to be created via a new attribute name - see https://pandas.pydata.org/pandas-docs/stable/indexing.html#attribute-access\n",
      "  if __name__ == '__main__':\n"
     ]
    }
   ],
   "source": [
    "df = pd.DataFrame(dict(t_m=t_sfr_moria,\n",
    "                        sfr_m=sfr_moria,\n",
    "                        x_cog_m=x_cog_moria,\n",
    "                        y_cog_m=y_cog_moria,\n",
    "                        t_k=t_sfr_kicked,\n",
    "                        sfr_k=sfr_kicked,\n",
    "                        x_cog_k=x_cog_kicked,\n",
    "                        y_cog_k=y_cog_kicked));\n",
    "df.r = np.sqrt(df.x_cog_k**2 + df.y_cog_k**2)\n",
    "# df.sfr_rescaled = df.sfr*4e2"
   ]
  },
  {
   "cell_type": "code",
   "execution_count": 24,
   "metadata": {},
   "outputs": [
    {
     "data": {
      "text/plain": [
       "['t', 'sfr', 'x_cog', 'y_cog']"
      ]
     },
     "execution_count": 24,
     "metadata": {},
     "output_type": "execute_result"
    }
   ],
   "source": [
    "source_moria = ColumnDataSource(data=dict(t=t_sfr_moria,\n",
    "                                          sfr=sfr_moria,\n",
    "                                          x_cog=x_cog_moria,\n",
    "                                          y_cog=y_cog_moria))\n",
    "source_moria.column_names"
   ]
  },
  {
   "cell_type": "code",
   "execution_count": 25,
   "metadata": {
    "collapsed": true
   },
   "outputs": [],
   "source": [
    "source_kicked = ColumnDataSource(data=dict(t=t_sfr_kicked,\n",
    "                                           sfr=sfr_kicked,\n",
    "                                           x_cog=x_cog_kicked,\n",
    "                                           y_cog=y_cog_kicked))\n",
    "# t = source_kicked.data['t']"
   ]
  },
  {
   "cell_type": "code",
   "execution_count": 26,
   "metadata": {
    "collapsed": true
   },
   "outputs": [],
   "source": [
    "from bokeh.models.annotations import Span\n",
    "from bokeh.models import HoverTool"
   ]
  },
  {
   "cell_type": "code",
   "execution_count": 27,
   "metadata": {
    "collapsed": true
   },
   "outputs": [],
   "source": [
    "def compare_cog_sfh_single(df):\n",
    "    start = (df.x_cog[0], df.y_cog[0])\n",
    "    end = (df.x_cog[-1], df.y_cog[-1])\n",
    "\n",
    "    hover = HoverTool(tooltips=[\n",
    "            (\"(x,y)\", \"(@x_cog, @y_cog)\"),\n",
    "            (\"r\", \"hypot(@x_cog**2, @y_cog)\"),\n",
    "            (\"time\", \"@t\"),\n",
    "            (\"SFR\", \"@sfr Msol/yr\" ),\n",
    "        ],\n",
    "                      names=[\"cog\"])\n",
    "    source.add(source.data['sfr']*4e2, \"sfr_rescaled\")\n",
    "    source.add(source.data['x_cog']**2 + source.data['y_cog']**2, \"r\")\n",
    "    tools = 'lasso_select, box_select, tap, wheel_zoom, pan, box_zoom, reset'\n",
    "    \n",
    "    # COG figure\n",
    "    f1 = figure(width=400, height=400, title='Center of gravity position',\n",
    "                x_axis_label=\"x (kpc)\", y_axis_label=\"y (kpc)\",\n",
    "                tools=tools, match_aspect=True)\n",
    "    f1.circle('x_cog', 'y_cog', source=source, name='cog')\n",
    "    f1.circle(*start, color='yellow')\n",
    "    f1.circle(*end, color='red')\n",
    "#     f1.circle(0,0, radius=virial_radius.value, alpha=0.1)\n",
    "    f1.circle(0,0, radius=200, alpha=0.4)\n",
    "    f1.circle(0,0, radius=1000, alpha=0.3)\n",
    "    \n",
    "    f1.x(0,0)\n",
    "    f1.add_tools(hover) # do not hover on the virial radius!\n",
    "\n",
    "    # SFH figure\n",
    "    f2 = figure(width=400, height=400, title='SFH',\n",
    "                x_axis_label=\"Time (Gyr)\", y_axis_label=\"SFR (Msol/yr)\",\n",
    "                tools=tools)\n",
    "    # f2.tools.pop(4)  # remove pan\n",
    "    \n",
    "    # f2.line(t[:-1], sfr)\n",
    "    f2.vbar(x='t', top='sfr', width=.1, source=source)\n",
    "    \n",
    "    \n",
    "#     t = source.data['t']\n",
    "#     sfr = source.data['sfr']\n",
    "#     interval = t[1]-t[0]\n",
    "#     f2.quad(top='sfr', bottom=np.zeros_like(t), left=t,\n",
    "#             right=t+interval, alpha=0.5)#, color=\"#B3DE69\")\n",
    "    simulation_start_line = Span(location=times_moria[0], dimension='height', line_color='firebrick', line_width=1)\n",
    "    f2.add_layout(simulation_start_line)\n",
    "    p = row([f1, f2])\n",
    "    # p = gridplot([[f1, f2]])\n",
    "    show(p)\n",
    "    return f1, f2"
   ]
  },
  {
   "cell_type": "code",
   "execution_count": 28,
   "metadata": {
    "collapsed": true
   },
   "outputs": [],
   "source": [
    "def compare_cog_sfh_single_source(source):\n",
    "    start = (source.data['x_cog'][0], source.data['y_cog'][0])\n",
    "    end = (source.data['x_cog'][-1], source.data['y_cog'][-1])\n",
    "\n",
    "    hover = HoverTool(tooltips=[\n",
    "            (\"(x,y)\", \"(@x_cog, @y_cog)\"),\n",
    "            (\"r\", \"hypot(@x_cog**2, @y_cog)\"),\n",
    "            (\"time\", \"@t\"),\n",
    "            (\"SFR\", \"@sfr Msol/yr\" ),\n",
    "        ],\n",
    "                      names=[\"cog\"])\n",
    "    source.add(source.data['sfr']*4e2, \"sfr_rescaled\")\n",
    "    source.add(source.data['x_cog']**2 + source.data['y_cog']**2, \"r\")\n",
    "    tools = 'lasso_select, box_select, tap, wheel_zoom, pan, box_zoom, reset'\n",
    "    \n",
    "    # COG figure\n",
    "    f1 = figure(width=400, height=400, title='Center of gravity position',\n",
    "                x_axis_label=\"x (kpc)\", y_axis_label=\"y (kpc)\",\n",
    "                tools=tools, match_aspect=True)\n",
    "    f1.circle('x_cog', 'y_cog', source=source, name='cog')\n",
    "    f1.circle(*start, color='yellow')\n",
    "    f1.circle(*end, color='red')\n",
    "#     f1.circle(0,0, radius=virial_radius.value, alpha=0.1)\n",
    "    f1.circle(0,0, radius=200, alpha=0.4)\n",
    "    f1.circle(0,0, radius=1000, alpha=0.3)\n",
    "    \n",
    "    f1.x(0,0)\n",
    "    f1.add_tools(hover) # do not hover on the virial radius!\n",
    "\n",
    "    # SFH figure\n",
    "    f2 = figure(width=400, height=400, title='SFH',\n",
    "                x_axis_label=\"Time (Gyr)\", y_axis_label=\"SFR (Msol/yr)\",\n",
    "                tools=tools)\n",
    "    # f2.tools.pop(4)  # remove pan\n",
    "    \n",
    "    # f2.line(t[:-1], sfr)\n",
    "    f2.vbar(x='t', top='sfr', width=.1, source=source)\n",
    "    \n",
    "    \n",
    "#     t = source.data['t']\n",
    "#     sfr = source.data['sfr']\n",
    "#     interval = t[1]-t[0]\n",
    "#     f2.quad(top='sfr', bottom=np.zeros_like(t), left=t,\n",
    "#             right=t+interval, alpha=0.5)#, color=\"#B3DE69\")\n",
    "    simulation_start_line = Span(location=times_moria[0], dimension='height', line_color='firebrick', line_width=1)\n",
    "    f2.add_layout(simulation_start_line)\n",
    "    p = row([f1, f2])\n",
    "    # p = gridplot([[f1, f2]])\n",
    "    show(p)\n",
    "    return f1, f2"
   ]
  },
  {
   "cell_type": "code",
   "execution_count": 29,
   "metadata": {},
   "outputs": [
    {
     "ename": "AttributeError",
     "evalue": "'ColumnDataSource' object has no attribute 'x_cog'",
     "output_type": "error",
     "traceback": [
      "\u001b[0;31m---------------------------------------------------------------------------\u001b[0m",
      "\u001b[0;31mAttributeError\u001b[0m                            Traceback (most recent call last)",
      "\u001b[0;32m<ipython-input-29-cdc2b55ad13e>\u001b[0m in \u001b[0;36m<module>\u001b[0;34m()\u001b[0m\n\u001b[0;32m----> 1\u001b[0;31m \u001b[0mcompare_cog_sfh_single\u001b[0m\u001b[0;34m(\u001b[0m\u001b[0msource_moria\u001b[0m\u001b[0;34m)\u001b[0m\u001b[0;34m\u001b[0m\u001b[0m\n\u001b[0m\u001b[1;32m      2\u001b[0m \u001b[0msource_moria\u001b[0m\u001b[0;34m.\u001b[0m\u001b[0mcolumn_names\u001b[0m\u001b[0;34m\u001b[0m\u001b[0m\n",
      "\u001b[0;32m<ipython-input-27-66f662ba46bf>\u001b[0m in \u001b[0;36mcompare_cog_sfh_single\u001b[0;34m(df)\u001b[0m\n\u001b[1;32m      1\u001b[0m \u001b[0;32mdef\u001b[0m \u001b[0mcompare_cog_sfh_single\u001b[0m\u001b[0;34m(\u001b[0m\u001b[0mdf\u001b[0m\u001b[0;34m)\u001b[0m\u001b[0;34m:\u001b[0m\u001b[0;34m\u001b[0m\u001b[0m\n\u001b[0;32m----> 2\u001b[0;31m     \u001b[0mstart\u001b[0m \u001b[0;34m=\u001b[0m \u001b[0;34m(\u001b[0m\u001b[0mdf\u001b[0m\u001b[0;34m.\u001b[0m\u001b[0mx_cog\u001b[0m\u001b[0;34m[\u001b[0m\u001b[0;36m0\u001b[0m\u001b[0;34m]\u001b[0m\u001b[0;34m,\u001b[0m \u001b[0mdf\u001b[0m\u001b[0;34m.\u001b[0m\u001b[0my_cog\u001b[0m\u001b[0;34m[\u001b[0m\u001b[0;36m0\u001b[0m\u001b[0;34m]\u001b[0m\u001b[0;34m)\u001b[0m\u001b[0;34m\u001b[0m\u001b[0m\n\u001b[0m\u001b[1;32m      3\u001b[0m     \u001b[0mend\u001b[0m \u001b[0;34m=\u001b[0m \u001b[0;34m(\u001b[0m\u001b[0mdf\u001b[0m\u001b[0;34m.\u001b[0m\u001b[0mx_cog\u001b[0m\u001b[0;34m[\u001b[0m\u001b[0;34m-\u001b[0m\u001b[0;36m1\u001b[0m\u001b[0;34m]\u001b[0m\u001b[0;34m,\u001b[0m \u001b[0mdf\u001b[0m\u001b[0;34m.\u001b[0m\u001b[0my_cog\u001b[0m\u001b[0;34m[\u001b[0m\u001b[0;34m-\u001b[0m\u001b[0;36m1\u001b[0m\u001b[0;34m]\u001b[0m\u001b[0;34m)\u001b[0m\u001b[0;34m\u001b[0m\u001b[0m\n\u001b[1;32m      4\u001b[0m \u001b[0;34m\u001b[0m\u001b[0m\n\u001b[1;32m      5\u001b[0m     hover = HoverTool(tooltips=[\n",
      "\u001b[0;31mAttributeError\u001b[0m: 'ColumnDataSource' object has no attribute 'x_cog'"
     ]
    }
   ],
   "source": [
    "compare_cog_sfh_single(source_moria)\n",
    "source_moria.column_names"
   ]
  },
  {
   "cell_type": "code",
   "execution_count": 30,
   "metadata": {},
   "outputs": [
    {
     "data": {
      "text/plain": [
       "860.23252670426268"
      ]
     },
     "execution_count": 30,
     "metadata": {},
     "output_type": "execute_result"
    }
   ],
   "source": [
    "np.sqrt(500**2+700**2)"
   ]
  },
  {
   "cell_type": "code",
   "execution_count": 31,
   "metadata": {
    "scrolled": false
   },
   "outputs": [
    {
     "ename": "AttributeError",
     "evalue": "'ColumnDataSource' object has no attribute 'x_cog'",
     "output_type": "error",
     "traceback": [
      "\u001b[0;31m---------------------------------------------------------------------------\u001b[0m",
      "\u001b[0;31mAttributeError\u001b[0m                            Traceback (most recent call last)",
      "\u001b[0;32m<ipython-input-31-b8b7bcf6dc25>\u001b[0m in \u001b[0;36m<module>\u001b[0;34m()\u001b[0m\n\u001b[0;32m----> 1\u001b[0;31m \u001b[0mf1\u001b[0m\u001b[0;34m,\u001b[0m \u001b[0mf2\u001b[0m \u001b[0;34m=\u001b[0m \u001b[0mcompare_cog_sfh_single\u001b[0m\u001b[0;34m(\u001b[0m\u001b[0msource_kicked\u001b[0m\u001b[0;34m)\u001b[0m\u001b[0;34m\u001b[0m\u001b[0m\n\u001b[0m",
      "\u001b[0;32m<ipython-input-27-66f662ba46bf>\u001b[0m in \u001b[0;36mcompare_cog_sfh_single\u001b[0;34m(df)\u001b[0m\n\u001b[1;32m      1\u001b[0m \u001b[0;32mdef\u001b[0m \u001b[0mcompare_cog_sfh_single\u001b[0m\u001b[0;34m(\u001b[0m\u001b[0mdf\u001b[0m\u001b[0;34m)\u001b[0m\u001b[0;34m:\u001b[0m\u001b[0;34m\u001b[0m\u001b[0m\n\u001b[0;32m----> 2\u001b[0;31m     \u001b[0mstart\u001b[0m \u001b[0;34m=\u001b[0m \u001b[0;34m(\u001b[0m\u001b[0mdf\u001b[0m\u001b[0;34m.\u001b[0m\u001b[0mx_cog\u001b[0m\u001b[0;34m[\u001b[0m\u001b[0;36m0\u001b[0m\u001b[0;34m]\u001b[0m\u001b[0;34m,\u001b[0m \u001b[0mdf\u001b[0m\u001b[0;34m.\u001b[0m\u001b[0my_cog\u001b[0m\u001b[0;34m[\u001b[0m\u001b[0;36m0\u001b[0m\u001b[0;34m]\u001b[0m\u001b[0;34m)\u001b[0m\u001b[0;34m\u001b[0m\u001b[0m\n\u001b[0m\u001b[1;32m      3\u001b[0m     \u001b[0mend\u001b[0m \u001b[0;34m=\u001b[0m \u001b[0;34m(\u001b[0m\u001b[0mdf\u001b[0m\u001b[0;34m.\u001b[0m\u001b[0mx_cog\u001b[0m\u001b[0;34m[\u001b[0m\u001b[0;34m-\u001b[0m\u001b[0;36m1\u001b[0m\u001b[0;34m]\u001b[0m\u001b[0;34m,\u001b[0m \u001b[0mdf\u001b[0m\u001b[0;34m.\u001b[0m\u001b[0my_cog\u001b[0m\u001b[0;34m[\u001b[0m\u001b[0;34m-\u001b[0m\u001b[0;36m1\u001b[0m\u001b[0;34m]\u001b[0m\u001b[0;34m)\u001b[0m\u001b[0;34m\u001b[0m\u001b[0m\n\u001b[1;32m      4\u001b[0m \u001b[0;34m\u001b[0m\u001b[0m\n\u001b[1;32m      5\u001b[0m     hover = HoverTool(tooltips=[\n",
      "\u001b[0;31mAttributeError\u001b[0m: 'ColumnDataSource' object has no attribute 'x_cog'"
     ]
    }
   ],
   "source": [
    "f1, f2 = compare_cog_sfh_single(source_kicked)"
   ]
  },
  {
   "cell_type": "code",
   "execution_count": 32,
   "metadata": {
    "collapsed": true
   },
   "outputs": [],
   "source": [
    "# TODO\n",
    "def compare_cog_sfh(df):\n",
    "    start = (source.data['x_cog'][0], source.data['y_cog'][0])\n",
    "    end = (source.data['x_cog'][-1], source.data['y_cog'][-1])\n",
    "\n",
    "    hover = HoverTool(tooltips=[\n",
    "#             (\"(x,y)\", \"($x_cog, $y_cog)\"),\n",
    "                     (\"time\", \"@t\")],\n",
    "                      names=[\"cog\"])\n",
    "\n",
    "    tools = 'lasso_select, box_select, tap, wheel_zoom, pan, box_zoom, reset'\n",
    "    \n",
    "    # COG figure\n",
    "    f1 = figure(width=400, height=400, title='Center of gravity position',\n",
    "                x_axis_label=\"x (kpc)\", y_axis_label=\"y (kpc)\",\n",
    "                tools=tools)\n",
    "    f1.circle('x_cog', 'y_cog', source=source, name='cog')\n",
    "    f1.circle(*start, color='yellow')\n",
    "    f1.circle(*end, color='red')\n",
    "    f1.circle(0,0, radius=virial_radius.value, alpha=0.1)\n",
    "    f1.x(0,0)\n",
    "    f1.add_tools(hover) # do not hover on the virial radius!\n",
    "\n",
    "    # SFH figure\n",
    "    f2 = figure(width=400, height=400, title='SFH',\n",
    "                x_axis_label=\"Time (Gyr)\", y_axis_label=\"SFR (Msol/yr)\",\n",
    "                tools=tools)\n",
    "    # f2.tools.pop(4)  # remove pan\n",
    "    \n",
    "    # f2.line(t[:-1], sfr)\n",
    "    f2.vbar(x='t', top='sfr', width=.1, source=source)\n",
    "    \n",
    "    \n",
    "#     t = source.data['t']\n",
    "#     sfr = source.data['sfr']\n",
    "#     interval = t[1]-t[0]\n",
    "#     f2.quad(top='sfr', bottom=np.zeros_like(t), left=t,\n",
    "#             right=t+interval, alpha=0.5)#, color=\"#B3DE69\")\n",
    "    simulation_start_line = Span(location=times_moria[0], dimension='height', line_color='firebrick', line_width=1)\n",
    "    f2.add_layout(simulation_start_line)\n",
    "    p = row([f1, f2])\n",
    "    # p = gridplot([[f1, f2]])\n",
    "    show(p)\n",
    "    return f1, f2\n"
   ]
  },
  {
   "cell_type": "code",
   "execution_count": 33,
   "metadata": {},
   "outputs": [
    {
     "ename": "NameError",
     "evalue": "name 'source' is not defined",
     "output_type": "error",
     "traceback": [
      "\u001b[0;31m---------------------------------------------------------------------------\u001b[0m",
      "\u001b[0;31mNameError\u001b[0m                                 Traceback (most recent call last)",
      "\u001b[0;32m<ipython-input-33-e39bc2bbbdb1>\u001b[0m in \u001b[0;36m<module>\u001b[0;34m()\u001b[0m\n\u001b[0;32m----> 1\u001b[0;31m \u001b[0mcompare_cog_sfh\u001b[0m\u001b[0;34m(\u001b[0m\u001b[0msource\u001b[0m\u001b[0;34m)\u001b[0m\u001b[0;34m\u001b[0m\u001b[0m\n\u001b[0m",
      "\u001b[0;31mNameError\u001b[0m: name 'source' is not defined"
     ]
    }
   ],
   "source": [
    "compare_cog_sfh(source)"
   ]
  },
  {
   "cell_type": "code",
   "execution_count": 34,
   "metadata": {
    "collapsed": true
   },
   "outputs": [],
   "source": [
    "# from bokeh.layouts import layout, row, widgetbox\n",
    "# from bokeh.models import (\n",
    "#     ColumnDataSource, HoverTool, TextInput, SingleIntervalTicker, Slider, Button, Label,\n",
    "#     CategoricalColorMapper,\n",
    "# )\n",
    "\n",
    "# def animate_update():\n",
    "#     gyr = slider.value + 1\n",
    "#     if gyr > years[-1]:\n",
    "#         gyr = years[0]\n",
    "#     slider.value = gyr\n",
    "\n",
    "# def animate():\n",
    "#     if button.label == '► Play':\n",
    "#         button.label = '❚❚ Pause'\n",
    "#         curdoc().add_periodic_callback(animate_update, 200)\n",
    "#     else:\n",
    "#         button.label = '► Play'\n",
    "#         curdoc().remove_periodic_callback(animate_update)\n",
    "\n",
    "# button = Button(label='► Play', width=60)\n",
    "# button.on_click(animate)"
   ]
  },
  {
   "cell_type": "code",
   "execution_count": 35,
   "metadata": {
    "collapsed": true
   },
   "outputs": [],
   "source": [
    "import numpy as np\n",
    "from bokeh.layouts import layout, row, widgetbox\n",
    "from bokeh.models import (\n",
    "    ColumnDataSource, HoverTool, TextInput, SingleIntervalTicker, Slider, Button, Label,\n",
    "    CategoricalColorMapper,\n",
    ")\n",
    "from bokeh.application.handlers import FunctionHandler\n",
    "from bokeh.application import Application\n",
    "from bokeh.plotting import figure, show\n",
    "\n",
    "def modify_doc(doc):\n",
    "\n",
    "    # Set up data\n",
    "    N = 200\n",
    "    x = np.linspace(0, 4*np.pi, N)\n",
    "    y = np.sin(x)\n",
    "    source = ColumnDataSource(data=dict(x=x, y=y))\n",
    "\n",
    "\n",
    "    # Set up plot\n",
    "    plot = figure(plot_height=400, plot_width=400, title=\"my sine wave\",\n",
    "                  tools=\"crosshair,pan,reset,save,wheel_zoom\",\n",
    "                  x_range=[0, 4*np.pi], y_range=[-2.5, 2.5])\n",
    "\n",
    "    plot.line('x', 'y', source=source, line_width=3, line_alpha=0.6)\n",
    "\n",
    "    # Set up widgets\n",
    "    text = TextInput(title=\"title\", value='my sine wave')\n",
    "    offset = Slider(title=\"offset\", value=0.0, start=-5.0, end=5.0, step=0.1)\n",
    "    amplitude = Slider(title=\"amplitude\", value=1.0, start=-5.0, end=5.0, step=0.1)\n",
    "    phase = Slider(title=\"phase\", value=0.0, start=0.0, end=2*np.pi)\n",
    "    freq = Slider(title=\"frequency\", value=1.0, start=0.1, end=5.1, step=0.1)\n",
    "\n",
    "    # Set up callbacks\n",
    "    def update_title(attrname, old, new):\n",
    "        plot.title.text = text.value\n",
    "\n",
    "    text.on_change('value', update_title)\n",
    "\n",
    "    def update_data(attrname, old, new):\n",
    "\n",
    "        # Get the current slider values\n",
    "        a = amplitude.value\n",
    "        b = offset.value\n",
    "        w = phase.value\n",
    "        k = freq.value\n",
    "\n",
    "        # Generate the new curve\n",
    "        x = np.linspace(0, 4*np.pi, N)\n",
    "        y = a*np.sin(k*x + w) + b\n",
    "\n",
    "        source.data = dict(x=x, y=y)\n",
    "\n",
    "    for w in [offset, amplitude, phase, freq]:\n",
    "        w.on_change('value', update_data)\n",
    "\n",
    "    # Set up layouts and add to document\n",
    "    inputs = widgetbox(text, offset, amplitude, phase, freq)\n",
    "\n",
    "    doc.add_root(row(inputs, plot, width=800))\n",
    "    doc.title = \"Sliders\"\n",
    "\n",
    "    # Set up the Application \n",
    "handler = FunctionHandler(modify_doc)\n",
    "app = Application(handler)\n"
   ]
  },
  {
   "cell_type": "code",
   "execution_count": 36,
   "metadata": {},
   "outputs": [
    {
     "data": {
      "application/vnd.bokehjs_exec.v0+json": "",
      "text/html": [
       "\n",
       "<script\n",
       "    src=\"http://localhost:32835/autoload.js?bokeh-autoload-element=53549f38-9408-4490-b606-8289ce453eac&bokeh-absolute-url=http://localhost:32835\"\n",
       "    id=\"53549f38-9408-4490-b606-8289ce453eac\"\n",
       "    data-bokeh-model-id=\"\"\n",
       "    data-bokeh-doc-id=\"\"\n",
       "></script>"
      ]
     },
     "metadata": {
      "application/vnd.bokehjs_exec.v0+json": {
       "server_id": "37237dc666c84fff90c567eb72c0e926"
      }
     },
     "output_type": "display_data"
    }
   ],
   "source": [
    "doc = app.create_document()\n",
    "# Show the application\n",
    "# Make sure the URL matches your Jupyter instance\n",
    "show(app, notebook_url=\"localhost:8888\")"
   ]
  },
  {
   "cell_type": "code",
   "execution_count": null,
   "metadata": {
    "collapsed": true
   },
   "outputs": [],
   "source": []
  },
  {
   "cell_type": "code",
   "execution_count": null,
   "metadata": {
    "collapsed": true
   },
   "outputs": [],
   "source": []
  }
 ],
 "metadata": {
  "kernelspec": {
   "display_name": "Python 3",
   "language": "python",
   "name": "python3"
  },
  "language_info": {
   "codemirror_mode": {
    "name": "ipython",
    "version": 3
   },
   "file_extension": ".py",
   "mimetype": "text/x-python",
   "name": "python",
   "nbconvert_exporter": "python",
   "pygments_lexer": "ipython3",
   "version": "3.6.4"
  }
 },
 "nbformat": 4,
 "nbformat_minor": 2
}
