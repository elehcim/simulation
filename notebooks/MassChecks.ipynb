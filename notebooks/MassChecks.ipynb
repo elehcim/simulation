{
 "cells": [
  {
   "cell_type": "code",
   "execution_count": 1,
   "metadata": {},
   "outputs": [],
   "source": [
    "import os\n",
    "import simulation\n",
    "import pynbody\n",
    "import pandas as pd\n",
    "import matplotlib.pylab as plt\n",
    "import numpy as np\n",
    "import ipywidgets\n",
    "import tqdm\n",
    "import pickle"
   ]
  },
  {
   "cell_type": "code",
   "execution_count": 2,
   "metadata": {},
   "outputs": [],
   "source": [
    "SIMPATH = \"/home/michele/sim/MySimulations/mb.beta/p100_a800_r600/out\""
   ]
  },
  {
   "cell_type": "code",
   "execution_count": 3,
   "metadata": {},
   "outputs": [
    {
     "name": "stderr",
     "output_type": "stream",
     "text": [
      "loading simulation: /home/michele/sim/MySimulations/mb.beta/p100_a800_r600/out\n",
      "Found parameter file\n",
      "Found compiler file\n",
      "Loading cosmological parameters\n",
      "Found trace file\n"
     ]
    }
   ],
   "source": [
    "sim = simulation.Simulation(SIMPATH)"
   ]
  },
  {
   "cell_type": "code",
   "execution_count": 4,
   "metadata": {},
   "outputs": [],
   "source": [
    "snap = sim[0]"
   ]
  },
  {
   "cell_type": "code",
   "execution_count": 5,
   "metadata": {},
   "outputs": [
    {
     "data": {
      "text/plain": [
       "[<Family gas>, <Family dm>, <Family star>]"
      ]
     },
     "execution_count": 5,
     "metadata": {},
     "output_type": "execute_result"
    }
   ],
   "source": [
    "snap.families()"
   ]
  },
  {
   "cell_type": "markdown",
   "metadata": {},
   "source": [
    "It seems like I have to call the dm smooth array before accessing the global (all-family) `snap['smooth']` array.\n",
    "Till now it is unclear where this smooth for the d are taken from "
   ]
  },
  {
   "cell_type": "code",
   "execution_count": 19,
   "metadata": {},
   "outputs": [
    {
     "data": {
      "text/plain": [
       "SimArray([ 2.17192388,  1.63504446,  1.65413785, ...,  1.57437134,\n",
       "           1.72708368,  1.84514678], dtype=float32, 'kpc')"
      ]
     },
     "execution_count": 19,
     "metadata": {},
     "output_type": "execute_result"
    }
   ],
   "source": [
    "snap.dm['smooth']"
   ]
  },
  {
   "cell_type": "code",
   "execution_count": 20,
   "metadata": {},
   "outputs": [
    {
     "data": {
      "text/plain": [
       "SimArray([  7.05567837,   7.08886099,   7.25461578, ...,   8.11081696,\n",
       "            8.33779526,  10.45652866], dtype=float32, 'kpc')"
      ]
     },
     "execution_count": 20,
     "metadata": {},
     "output_type": "execute_result"
    }
   ],
   "source": [
    "snap.s['smooth']"
   ]
  },
  {
   "cell_type": "code",
   "execution_count": 21,
   "metadata": {},
   "outputs": [
    {
     "data": {
      "text/plain": [
       "['vel', 'iord', 'pos', 'mass']"
      ]
     },
     "execution_count": 21,
     "metadata": {},
     "output_type": "execute_result"
    }
   ],
   "source": [
    "snap.dm.loadable_keys()"
   ]
  },
  {
   "cell_type": "code",
   "execution_count": 22,
   "metadata": {},
   "outputs": [
    {
     "data": {
      "text/plain": [
       "{b'POS ': <pynbody.snapshot.gadget.GadgetBlock at 0x7f94e08a0be0>,\n",
       " b'VEL ': <pynbody.snapshot.gadget.GadgetBlock at 0x7f94e08a0ac8>,\n",
       " b'ID  ': <pynbody.snapshot.gadget.GadgetBlock at 0x7f94e08a0c18>,\n",
       " b'MASS': <pynbody.snapshot.gadget.GadgetBlock at 0x7f94e08a0c50>,\n",
       " b'U   ': <pynbody.snapshot.gadget.GadgetBlock at 0x7f94e08a0c88>,\n",
       " b'RHO ': <pynbody.snapshot.gadget.GadgetBlock at 0x7f94e08a0cc0>,\n",
       " b'HSML': <pynbody.snapshot.gadget.GadgetBlock at 0x7f94e08a0cf8>,\n",
       " b'ZSPH': <pynbody.snapshot.gadget.GadgetBlock at 0x7f94e08a0d30>,\n",
       " b'ZSTA': <pynbody.snapshot.gadget.GadgetBlock at 0x7f94e08a0d68>,\n",
       " b'FESP': <pynbody.snapshot.gadget.GadgetBlock at 0x7f94e08a0da0>,\n",
       " b'FEST': <pynbody.snapshot.gadget.GadgetBlock at 0x7f94e08a0dd8>,\n",
       " b'MGSP': <pynbody.snapshot.gadget.GadgetBlock at 0x7f94e08a0e10>,\n",
       " b'MGST': <pynbody.snapshot.gadget.GadgetBlock at 0x7f94e08a0e48>,\n",
       " b'INMA': <pynbody.snapshot.gadget.GadgetBlock at 0x7f94e08a0e80>,\n",
       " b'MYP ': <pynbody.snapshot.gadget.GadgetBlock at 0x7f94e08a0eb8>,\n",
       " b'TFOR': <pynbody.snapshot.gadget.GadgetBlock at 0x7f94e08a0ef0>,\n",
       " b'TEMP': <pynbody.snapshot.gadget.GadgetBlock at 0x7f94e08a0f28>,\n",
       " b'PRES': <pynbody.snapshot.gadget.GadgetBlock at 0x7f94e08a0f60>}"
      ]
     },
     "execution_count": 22,
     "metadata": {},
     "output_type": "execute_result"
    }
   ],
   "source": [
    "snap._files[0].blocks"
   ]
  },
  {
   "cell_type": "code",
   "execution_count": 23,
   "metadata": {},
   "outputs": [
    {
     "data": {
      "text/plain": [
       "SimArray([  6.56709576,   5.72590923,   6.41375875, ...,   8.11081696,\n",
       "            8.33779526,  10.45652866], dtype=float32, 'kpc')"
      ]
     },
     "execution_count": 23,
     "metadata": {},
     "output_type": "execute_result"
    }
   ],
   "source": [
    "snap['smooth']"
   ]
  },
  {
   "cell_type": "code",
   "execution_count": 26,
   "metadata": {},
   "outputs": [],
   "source": [
    "rho_mass = 4/3 * np.pi * snap.g['smooth']**3 * snap.g['rho']"
   ]
  },
  {
   "cell_type": "code",
   "execution_count": null,
   "metadata": {},
   "outputs": [],
   "source": [
    "mass = snap.g['mass']"
   ]
  },
  {
   "cell_type": "markdown",
   "metadata": {},
   "source": []
  }
 ],
 "metadata": {
  "kernelspec": {
   "display_name": "Python 3",
   "language": "python",
   "name": "python3"
  },
  "language_info": {
   "codemirror_mode": {
    "name": "ipython",
    "version": 3
   },
   "file_extension": ".py",
   "mimetype": "text/x-python",
   "name": "python",
   "nbconvert_exporter": "python",
   "pygments_lexer": "ipython3",
   "version": "3.6.4"
  }
 },
 "nbformat": 4,
 "nbformat_minor": 2
}
