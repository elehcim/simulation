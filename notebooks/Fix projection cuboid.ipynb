{
 "cells": [
  {
   "cell_type": "code",
   "execution_count": 1,
   "metadata": {},
   "outputs": [],
   "source": [
    "import pynbody\n",
    "import numpy as np\n",
    "import matplotlib.pyplot as plt\n",
    "import ipywidgets\n",
    "from luminosity import surface_brightness"
   ]
  },
  {
   "cell_type": "code",
   "execution_count": 2,
   "metadata": {},
   "outputs": [],
   "source": [
    "def bounding_box(snap):\n",
    "    unit = snap['pos'].units\n",
    "    for coord in 'x y z'.split():\n",
    "        print(\"{}: {:10.2f}, {:10.2f} ({})\".format(coord, snap[coord].min(), snap[coord].max(), unit))\n",
    "    return [(float(snap[coord].min()), float(snap[coord].max())) for coord in 'x y z'.split()]"
   ]
  },
  {
   "cell_type": "code",
   "execution_count": 3,
   "metadata": {},
   "outputs": [],
   "source": [
    "snap = \"/home/michele/sim/MoRIA/M1-10_Verbeke2017/M10sim41001/snapshot_0036\"\n",
    "s = pynbody.load(snap)"
   ]
  },
  {
   "cell_type": "code",
   "execution_count": 4,
   "metadata": {},
   "outputs": [],
   "source": [
    "max_boxsize = 4000"
   ]
  },
  {
   "cell_type": "code",
   "execution_count": 5,
   "metadata": {},
   "outputs": [],
   "source": [
    "s.properties['boxsize'] = pynbody.units.Unit(\"{} kpc\".format(max_boxsize))"
   ]
  },
  {
   "cell_type": "code",
   "execution_count": 6,
   "metadata": {},
   "outputs": [],
   "source": [
    "width = 8\n",
    "resolution=500"
   ]
  },
  {
   "cell_type": "code",
   "execution_count": 7,
   "metadata": {},
   "outputs": [
    {
     "data": {
      "text/plain": [
       "<pynbody.transformation.GenericTranslation at 0x7f31aafbe198>"
      ]
     },
     "execution_count": 7,
     "metadata": {},
     "output_type": "execute_result"
    }
   ],
   "source": [
    "pynbody.analysis.halo.center(s.s)#, vel=False)\n",
    "# pynbody.analysis.angmom.sideon(s.s)"
   ]
  },
  {
   "cell_type": "code",
   "execution_count": 8,
   "metadata": {},
   "outputs": [
    {
     "data": {
      "text/plain": [
       "SimArray(1.24955014, 'kpc')"
      ]
     },
     "execution_count": 8,
     "metadata": {},
     "output_type": "execute_result"
    }
   ],
   "source": [
    "half_light_radius = pynbody.analysis.luminosity.half_light_r(s, cylindrical=False)\n",
    "half_light_radius"
   ]
  },
  {
   "cell_type": "code",
   "execution_count": 9,
   "metadata": {},
   "outputs": [],
   "source": [
    "def ss_angmom(flux, r, v_los, v_disp):\n",
    "    return np.sum(flux * r * np.abs(v_los)) / np.sum(flux * r * np.sqrt(v_los**2 + v_disp**2))\n",
    "def compute_stellar_specific_angmom(snap, width, resolution, radii, eccentricity, a_delta, theta):\n",
    "    luminosity_sim = surface_brightness(snap.s, band='v', width=width, resolution=resolution, mag_filter=None, cmap_name='Greys')\n",
    "    v_los_sim = pynbody.plot.sph.image(snap.s, qty='vz', av_z='rho', width=width, resolution=resolution, log=False)\n",
    "    v_disp_sim = pynbody.plot.sph.image(snap.s, qty='v_disp', av_z='rho', width=width, resolution=resolution, log=False)\n",
    "    lum = to_astropy_quantity(luminosity_sim, units='mag/arcsec**2')\n",
    "    v_los = to_astropy_quantity(v_los_sim)\n",
    "    v_disp = to_astropy_quantity(v_disp_sim)\n",
    "    lum_annuli = integrate_annulus(lum, center, radii, eccentricity, a_delta, theta)\n",
    "    v_los_annuli = integrate_annulus(v_los, center, radii, eccentricity, a_delta, theta)\n",
    "    v_disp_annuli = integrate_annulus(v_disp, center, radii, eccentricity, a_delta, theta)\n",
    "    stellar_specific_angmom = ss_angmom(lum_annuli, radii, v_los_annuli, v_disp_annuli)\n",
    "    return stellar_specific_angmom"
   ]
  },
  {
   "cell_type": "code",
   "execution_count": 10,
   "metadata": {},
   "outputs": [
    {
     "data": {
      "application/vnd.jupyter.widget-view+json": {
       "model_id": "7e115df7664a4982b820265b10413348",
       "version_major": 2,
       "version_minor": 0
      },
      "text/plain": [
       "interactive(children=(IntSlider(value=5, description='r', max=12), IntSlider(value=8, description='w', max=12)…"
      ]
     },
     "metadata": {},
     "output_type": "display_data"
    }
   ],
   "source": [
    "max_r = 10 * half_light_radius\n",
    "radius_slider = ipywidgets.IntSlider(min=0, max=max_r, value=5)\n",
    "width_slider = ipywidgets.IntSlider(min=0, max=max_r, value=width)\n",
    "vel_slider = ipywidgets.IntSlider(min=0, max=100, value=10, step=5)\n",
    "\n",
    "def k(r, w, v):\n",
    "    subsnap = s[pynbody.filt.Cuboid('{} kpc'.format(-r))]\n",
    "    print(pynbody.analysis.angmom.ang_mom_vec(subsnap.s))\n",
    "    pynbody.analysis.angmom.sideon(subsnap.s)\n",
    "    print(pynbody.analysis.angmom.ang_mom_vec(subsnap.s))\n",
    "#     fig, ((ax1, ax2, ax3), (cb1, cb2, cb3)) = plt.subplots(ncols=3, nrows=2, figsize=(12, 6))\n",
    "    fig, ((ax1, ax2, ax3)) = plt.subplots(ncols=3, figsize=(12, 6))\n",
    "    vlos = pynbody.plot.sph.image(subsnap.s, qty='vz', av_z=True, width=w, resolution=resolution, log=False,\n",
    "                           vmin=-v, vmax=v, show_cbar=False, subplot=ax1)\n",
    "    \n",
    "#     fig, ax2 = plt.subplots()#surface_brightness(s, width=width, resolution=resolution);\n",
    "    sigma = pynbody.plot.sph.image(subsnap.s, qty='v_disp', av_z=True, width=w, resolution=resolution, log=False,\n",
    "                           show_cbar=False, subplot=ax2)\n",
    "\n",
    "#     cbar2 = cb2.figure.colorbar(sigma);\n",
    "#     cbar2.set_label('{} [{}]'.format(\"$\\sigma\", subsnap.s['v_disp'].units));\n",
    "\n",
    "    flux = surface_brightness(subsnap, width=w, resolution=resolution, subplot=ax3, show_cbar=False);\n",
    "#     cmap = plt.get_cmap(cmap_name)\n",
    "#     cmap.set_bad('black')\n",
    "#     cbar3 = cb3.figure.colorbar(flux);\n",
    "#     cbar3.set_label('{} [mag/arcsec$^2$]'.format(band.upper()));\n",
    "    \n",
    "    fig.subplots_adjust(wspace=0.3)\n",
    "    \n",
    "w = ipywidgets.interactive(k, r=radius_slider, w=width_slider, v=vel_slider, show_cbar=False)\n",
    "w"
   ]
  },
  {
   "cell_type": "code",
   "execution_count": 11,
   "metadata": {},
   "outputs": [
    {
     "data": {
      "application/vnd.jupyter.widget-view+json": {
       "model_id": "134681a0b8324cf18de40a4820b99418",
       "version_major": 2,
       "version_minor": 0
      },
      "text/plain": [
       "interactive(children=(IntSlider(value=5, description='r', max=12), IntSlider(value=8, description='w', max=12)…"
      ]
     },
     "metadata": {},
     "output_type": "display_data"
    }
   ],
   "source": [
    "max_r = 10 * half_light_radius\n",
    "radius_slider = ipywidgets.IntSlider(min=0, max=max_r, value=5)\n",
    "width_slider = ipywidgets.IntSlider(min=0, max=max_r, value=width)\n",
    "vel_slider = ipywidgets.IntSlider(min=0, max=100, value=10, step=5)\n",
    "\n",
    "def k(r, w, v):\n",
    "    subsnap = s[pynbody.filt.Cuboid('{} kpc'.format(-r))]\n",
    "#     print(pynbody.analysis.angmom.ang_mom_vec(subsnap.s))\n",
    "    pynbody.analysis.angmom.sideon(subsnap.s)\n",
    "#     print(pynbody.analysis.angmom.ang_mom_vec(subsnap.s))\n",
    "    figsize=None#(6,6)\n",
    "    fig1, ax1 = plt.subplots(figsize=figsize)\n",
    "    vlos = pynbody.plot.sph.image(subsnap.s, qty='vz', av_z=True, width=w, resolution=resolution, log=False,\n",
    "                           vmin=-v, vmax=v, show_cbar=True, subplot=ax1)\n",
    "    \n",
    "    fig2, ax2 = plt.subplots(figsize=figsize)\n",
    "    sigma = pynbody.plot.sph.image(subsnap.s, qty='v_disp', av_z=True, width=w, resolution=resolution, log=False,\n",
    "                           show_cbar=True, subplot=ax2)\n",
    "\n",
    "#     cbar2 = cb2.figure.colorbar(sigma);\n",
    "#     cbar2.set_label('{} [{}]'.format(\"$\\sigma\", subsnap.s['v_disp'].units));\n",
    "    fig3, ax3 = plt.subplots(figsize=figsize)\n",
    "    flux = surface_brightness(subsnap, width=w, resolution=resolution, subplot=ax3, show_cbar=True);\n",
    "#     cmap = plt.get_cmap(cmap_name)\n",
    "#     cmap.set_bad('black')\n",
    "#     cbar3 = cb3.figure.colorbar(flux);\n",
    "#     cbar3.set_label('{} [mag/arcsec$^2$]'.format(band.upper()));    \n",
    "w = ipywidgets.interactive(k, r=radius_slider, w=width_slider, v=vel_slider, show_cbar=False)\n",
    "w"
   ]
  },
  {
   "cell_type": "code",
   "execution_count": null,
   "metadata": {},
   "outputs": [],
   "source": []
  }
 ],
 "metadata": {
  "kernelspec": {
   "display_name": "Python 3",
   "language": "python",
   "name": "python3"
  },
  "language_info": {
   "codemirror_mode": {
    "name": "ipython",
    "version": 3
   },
   "file_extension": ".py",
   "mimetype": "text/x-python",
   "name": "python",
   "nbconvert_exporter": "python",
   "pygments_lexer": "ipython3",
   "version": "3.6.6"
  }
 },
 "nbformat": 4,
 "nbformat_minor": 2
}
