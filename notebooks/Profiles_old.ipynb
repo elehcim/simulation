{
 "cells": [
  {
   "cell_type": "markdown",
   "metadata": {},
   "source": [
    "# Profiles"
   ]
  },
  {
   "cell_type": "code",
   "execution_count": null,
   "metadata": {
    "collapsed": true
   },
   "outputs": [],
   "source": [
    "import numpy as np\n",
    "import pynbody\n",
    "import matplotlib.pylab as plt\n",
    "%matplotlib inline\n",
    "from snap_io import load_moria_sim_and_kicked, load_moria, load_kicked, load_snap"
   ]
  },
  {
   "cell_type": "code",
   "execution_count": null,
   "metadata": {
    "collapsed": true
   },
   "outputs": [],
   "source": [
    "SIM_NUMBER = 71002\n",
    "snap = -1"
   ]
  },
  {
   "cell_type": "code",
   "execution_count": null,
   "metadata": {},
   "outputs": [],
   "source": [
    "moria_sim_snap = load_moria(SIM_NUMBER, snap)\n",
    "kicked_sim_snap = load_kicked(SIM_NUMBER, snap)"
   ]
  },
  {
   "cell_type": "code",
   "execution_count": null,
   "metadata": {},
   "outputs": [],
   "source": [
    "h1 = moria_sim_snap\n",
    "c = pynbody.analysis.halo.center(h1, retcen=True)\n",
    "print(\"Recentering into: kpc\", c)\n",
    "pynbody.analysis.halo.center(h1)\n",
    "# print(c)\n",
    "# h1.properties['eps'] = pynbody.units.Unit(\"1.1 kpc\")\n",
    "my_eps_value = 0.1\n",
    "# Beware of the dtype of the SimArray (if something goes wrong remember to \"del h1['eps']\")\n",
    "h1['eps'] = pynbody.array.SimArray(np.ones(len(h1['pos'])), \"kpc\", dtype=np.float32) * my_eps_value\n",
    "print(h1['eps'])\n",
    "pd = pynbody.analysis.profile.Profile(h1.d, max=50, type = 'log')\n",
    "ps = pynbody.analysis.profile.Profile(h1.s, max=50, type = 'log')\n",
    "pg = pynbody.analysis.profile.Profile(h1.g, max=50, type = 'log')\n",
    "ptot = pynbody.analysis.profile.Profile(h1, min=.01,max=50, type = 'log')\n",
    "prof_list = [ptot,pd,ps,pg]"
   ]
  },
  {
   "cell_type": "code",
   "execution_count": null,
   "metadata": {},
   "outputs": [],
   "source": [
    "h2 = kicked_sim_snap\n",
    "c = pynbody.analysis.halo.center(h2, retcen=True)\n",
    "print(\"Recentering into: kpc\", c)\n",
    "pynbody.analysis.halo.center(h2)\n",
    "# print(c)\n",
    "# h1.properties['eps'] = pynbody.units.Unit(\"1.1 kpc\")\n",
    "my_eps_value = 0.1\n",
    "# Beware of the dtype of the SimArray (if something goes wrong remember to \"del h1['eps']\")\n",
    "h2['eps'] = pynbody.array.SimArray(np.ones(len(h2['pos'])), \"kpc\", dtype=np.float32) * my_eps_value\n",
    "print(h2['eps'])\n",
    "pd_k = pynbody.analysis.profile.Profile(h2.d, max=50, type = 'log')\n",
    "ps_k = pynbody.analysis.profile.Profile(h2.s, max=50, type = 'log')\n",
    "pg_k = pynbody.analysis.profile.Profile(h2.g, max=50, type = 'log')\n",
    "ptot_k = pynbody.analysis.profile.Profile(h2, min=.01,max=50, type = 'log')\n",
    "prof_list_k = [ptot_k,pd_k,ps_k,pg_k]"
   ]
  },
  {
   "cell_type": "markdown",
   "metadata": {},
   "source": [
    "### Circular velocity"
   ]
  },
  {
   "cell_type": "code",
   "execution_count": null,
   "metadata": {},
   "outputs": [],
   "source": [
    "fig, axes = plt.subplots(2, figsize=(8,6))\n",
    "fig.suptitle(\"Circular velocity\")\n",
    "\n",
    "titles = ('MoRIA sim{}', 'Kicked sim{}')\n",
    "for ax, title, p, in zip(axes, titles, (prof_list, prof_list_k)):\n",
    "    for prof, name in zip(p,['total','dm','stars','gas']):\n",
    "        ax.plot(prof['rbins'], prof['v_circ'], label=name)\n",
    "        ax.set_title(title.format(SIM_NUMBER))\n",
    "        ax.set_xlabel('$R$ [kpc]');\n",
    "        ax.set_ylabel('$v_{circ}$ [km/s]');\n",
    "plt.legend(loc='upper right');\n",
    "plt.tight_layout()\n",
    "fig.subplots_adjust(top=0.88)"
   ]
  },
  {
   "cell_type": "code",
   "execution_count": null,
   "metadata": {
    "scrolled": false
   },
   "outputs": [],
   "source": [
    "fig, axes = plt.subplots(2, figsize=(8,6))\n",
    "fig.suptitle(\"Derivative of the circular velocity\")\n",
    "\n",
    "titles = ('MoRIA sim{}', 'Kicked sim{}')\n",
    "for ax, title, p, in zip(axes, titles, (prof_list, prof_list_k)):\n",
    "    for prof, name in zip(p,['total','dm','stars','gas']):\n",
    "        ax.plot(prof['rbins'], prof['d_v_circ'], label=name)\n",
    "        ax.set_title(title.format(SIM_NUMBER))\n",
    "        ax.set_xlabel('$R$ [kpc]');\n",
    "        ax.set_ylabel('$d/dr(v_{circ})$ [km/s]');\n",
    "plt.legend(loc='upper right');\n",
    "plt.tight_layout()\n",
    "fig.subplots_adjust(top=0.88)"
   ]
  },
  {
   "cell_type": "code",
   "execution_count": null,
   "metadata": {
    "collapsed": true
   },
   "outputs": [],
   "source": [
    "### Rotation Curve Spherical ?\n"
   ]
  },
  {
   "cell_type": "code",
   "execution_count": null,
   "metadata": {},
   "outputs": [],
   "source": [
    "fig, axes = plt.subplots(2, figsize=(8,6))\n",
    "fig.suptitle(\"Rotation Curve Spherical\")\n",
    "\n",
    "for ax, title, p, in zip(axes, titles, (prof_list, prof_list_k)):\n",
    "    for prof, name in zip(p, ['total','dm','stars','gas']):\n",
    "        ax.plot(prof['rbins'], prof['rotation_curve_spherical'], label=name)\n",
    "        ax.set_title(title.format(SIM_NUMBER))\n",
    "        ax.set_xlabel('$R$ [kpc]');\n",
    "        ax.set_ylabel('$v_{rot}$ [km/s]');\n",
    "plt.legend()\n",
    "plt.tight_layout()\n",
    "fig.subplots_adjust(top=0.88)"
   ]
  },
  {
   "cell_type": "code",
   "execution_count": null,
   "metadata": {},
   "outputs": [],
   "source": [
    "h1['mass'].dtype, h1['pos'].dtype"
   ]
  },
  {
   "cell_type": "markdown",
   "metadata": {},
   "source": [
    "### Velocity dispersion of stars"
   ]
  },
  {
   "cell_type": "code",
   "execution_count": null,
   "metadata": {},
   "outputs": [],
   "source": [
    "h1.properties['boxsize'] = pynbody.units.Unit('10 Mpc')\n",
    "h1.properties"
   ]
  },
  {
   "cell_type": "code",
   "execution_count": null,
   "metadata": {},
   "outputs": [],
   "source": [
    "h2.properties['boxsize'] = pynbody.units.Unit('10 Mpc')\n",
    "h2.properties"
   ]
  },
  {
   "cell_type": "code",
   "execution_count": null,
   "metadata": {},
   "outputs": [],
   "source": [
    "fig, ax = plt.subplots(figsize=(8,6))\n",
    "ax.plot(ps_k['rbins'], ps_k['v_disp'])\n",
    "plt.xlabel('$R$ [kpc]', fontsize='x-large');\n",
    "plt.ylabel('$v_{\\star}^{disp}$ [km/s]', fontsize='x-large');"
   ]
  },
  {
   "cell_type": "code",
   "execution_count": null,
   "metadata": {},
   "outputs": [],
   "source": [
    "fig, axes = plt.subplots(2, figsize=(8,6))\n",
    "#reprofile a few of h-l radii\n",
    "for ax, title, p, in zip(axes, titles, (ps, ps_k)):\n",
    "    ax.plot(p['rbins'], p['v_disp'])\n",
    "    ax.set_title(title.format(SIM_NUMBER))\n",
    "    ax.set_xlabel('$R$ [kpc]', fontsize='x-large');\n",
    "    ax.set_ylabel('$v_{\\star}^{disp}$ [km/s]', fontsize='x-large');\n",
    "# plt.xlabel('$R$ [kpc]', fontsize='x-large');\n",
    "# plt.ylabel('$v_{\\star}^{disp}$ [km/s]', fontsize='x-large');\n",
    "plt.tight_layout()\n",
    "fig.subplots_adjust(top=0.88)"
   ]
  },
  {
   "cell_type": "code",
   "execution_count": null,
   "metadata": {
    "collapsed": true
   },
   "outputs": [],
   "source": [
    "# fig, ax = plt.subplots(figsize=(8,6))\n",
    "# for prof, name in zip([p,pd,ps,pg],['total','dm','stars','gas']) : ax.plot(prof['rbins'], prof['rotation_curve_spherical'], label=name)\n",
    "# plt.legend();"
   ]
  },
  {
   "cell_type": "code",
   "execution_count": null,
   "metadata": {
    "collapsed": true,
    "scrolled": true
   },
   "outputs": [],
   "source": [
    "# f1 = figure(width=400, height=400, title='Center of gravity position', x_axis_label=\"x (kpc)\", y_axis_label=\"y (kpc)\")\n",
    "# f1.line(x_cog, y_cog)\n",
    "# f1.circle(0,0, radius=virial_radius.value, alpha=0.1)\n",
    "# f2 = figure(width=400, height=400, x_axis_label=\"Time (Gyr)\", y_axis_label=\"SFR (Msol/yr)\")\n",
    "# # f2.line(t[:-1], sfr)\n",
    "# f2.vbar(x=t[:-1], top=sfr, width=None)\n",
    "# p = row([f1, f2])\n",
    "# show(p)"
   ]
  },
  {
   "cell_type": "code",
   "execution_count": null,
   "metadata": {
    "collapsed": true
   },
   "outputs": [],
   "source": []
  },
  {
   "cell_type": "code",
   "execution_count": null,
   "metadata": {
    "collapsed": true
   },
   "outputs": [],
   "source": []
  },
  {
   "cell_type": "code",
   "execution_count": null,
   "metadata": {},
   "outputs": [],
   "source": []
  }
 ],
 "metadata": {
  "kernelspec": {
   "display_name": "Python 3",
   "language": "python",
   "name": "python3"
  },
  "language_info": {
   "codemirror_mode": {
    "name": "ipython",
    "version": 3
   },
   "file_extension": ".py",
   "mimetype": "text/x-python",
   "name": "python",
   "nbconvert_exporter": "python",
   "pygments_lexer": "ipython3",
   "version": "3.6.4"
  }
 },
 "nbformat": 4,
 "nbformat_minor": 2
}
