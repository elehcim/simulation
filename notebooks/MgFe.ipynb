{
 "cells": [
  {
   "cell_type": "code",
   "execution_count": 1,
   "metadata": {},
   "outputs": [],
   "source": [
    "import simulation\n",
    "import pynbody\n",
    "import matplotlib.pylab as plt\n",
    "import numpy as np\n",
    "import ipywidgets"
   ]
  },
  {
   "cell_type": "code",
   "execution_count": 2,
   "metadata": {},
   "outputs": [
    {
     "name": "stderr",
     "output_type": "stream",
     "text": [
      "loading simulation: /media/michele/My Book/Michele/MySimulations/MovingBox/beta/mb.71002/p300_a800_r600/out\n",
      "Found parameter file\n",
      "Found compiler file\n",
      "Loading cosmological parameters\n",
      "Found trace file\n"
     ]
    }
   ],
   "source": [
    "sim = simulation.Simulation('/media/michele/My Book/Michele/MySimulations/MovingBox/beta/mb.71002/p300_a800_r600/out')"
   ]
  },
  {
   "cell_type": "code",
   "execution_count": 3,
   "metadata": {},
   "outputs": [],
   "source": [
    "snap = sim[20]"
   ]
  },
  {
   "cell_type": "code",
   "execution_count": 4,
   "metadata": {},
   "outputs": [],
   "source": [
    "MgFe_sol = -0.261299\n",
    "FeH_sol = -2.756433"
   ]
  },
  {
   "cell_type": "code",
   "execution_count": 5,
   "metadata": {},
   "outputs": [
    {
     "name": "stderr",
     "output_type": "stream",
     "text": [
      "/home/michele/Software/miniconda3/lib/python3.6/site-packages/pynbody-0.45-py3.6-linux-x86_64.egg/pynbody/array.py:346: RuntimeWarning: invalid value encountered in true_divide\n",
      "  return np.ndarray.__truediv__(self, rhs)\n",
      "/home/michele/Software/miniconda3/lib/python3.6/site-packages/ipykernel_launcher.py:2: RuntimeWarning: divide by zero encountered in log10\n",
      "  \n"
     ]
    }
   ],
   "source": [
    "snap.s['mgfe'] = np.log10(snap.s['mgst']/snap.s['fest']) - MgFe_sol\n",
    "snap.s['feh'] = np.log10(snap.s['fest']/snap.s['mass']) - FeH_sol\n",
    "\n",
    "# Fortran Code\n",
    "# log10(M_mgsol/M_fesol) = -0.281304, source: Asplund et al, 2005\n",
    "# [Mg/Fe] = log10(M_Mg/M_Fe)-log10(M_Mg_sol/M_Fe_sol)"
   ]
  },
  {
   "cell_type": "markdown",
   "metadata": {},
   "source": [
    "From hyplot:\n",
    "\n",
    "$[Mg/Fe]$\n",
    "\n",
    " * log10(M_mgsol/M_fesol) = -0.261299, source: Grevesse et al. 2007 en 2010\n",
    " * [Mg/Fe] = log10(M_Mg/M_Fe)-log10(M_Mg_sol/M_Fe_sol)\n",
    "    \n",
    "$[Fe/H]$\n",
    "\n",
    " * log10(Fe_mass / particleMass) + 2.756433 (see Valcke masters thesis).\n",
    " * formula: [A/B] = log10(A/B)-log10(A_sol/B_sol)"
   ]
  },
  {
   "cell_type": "code",
   "execution_count": 6,
   "metadata": {},
   "outputs": [],
   "source": [
    "# filt.And(filt.HighPass('tform', str(trange[0]) + ' Gyr'),\n",
    "# filt.LowPass('tform', str(trange[1]) + ' Gyr'))\n",
    "# tforms = simstars[trangefilt]['tform'].in_units('Gyr')"
   ]
  },
  {
   "cell_type": "code",
   "execution_count": 10,
   "metadata": {},
   "outputs": [
    {
     "data": {
      "application/vnd.jupyter.widget-view+json": {
       "model_id": "b85b228ed38d469287b93c4c9ffaff63",
       "version_major": 2,
       "version_minor": 0
      },
      "text/html": [
       "<p>Failed to display Jupyter Widget of type <code>interactive</code>.</p>\n",
       "<p>\n",
       "  If you're reading this message in the Jupyter Notebook or JupyterLab Notebook, it may mean\n",
       "  that the widgets JavaScript is still loading. If this message persists, it\n",
       "  likely means that the widgets JavaScript library is either not installed or\n",
       "  not enabled. See the <a href=\"https://ipywidgets.readthedocs.io/en/stable/user_install.html\">Jupyter\n",
       "  Widgets Documentation</a> for setup instructions.\n",
       "</p>\n",
       "<p>\n",
       "  If you're reading this message in another frontend (for example, a static\n",
       "  rendering on GitHub or <a href=\"https://nbviewer.jupyter.org/\">NBViewer</a>),\n",
       "  it may mean that your frontend doesn't currently support widgets.\n",
       "</p>\n"
      ],
      "text/plain": [
       "interactive(children=(IntSlider(value=0, continuous_update=False, description='Snap:', max=446), Output()), _dom_classes=('widget-interact',))"
      ]
     },
     "metadata": {},
     "output_type": "display_data"
    }
   ],
   "source": [
    "snap_slider = ipywidgets.IntSlider(min=0,max=len(sim)-1,step=1,value=0, continuous_update=False, description='Snap:')\n",
    "def k(i):\n",
    "    snap = sim[i]\n",
    "    snap.s['mgfe'] = np.log10(snap.s['mgst']/snap.s['fest']) - MgFe_sol\n",
    "    snap.s['feh'] = np.log10(snap.s['fest']/snap.s['mass']) - FeH_sol\n",
    "    plt.scatter(snap.s['feh'], snap.s['mgfe'], alpha = 0.2)\n",
    "\n",
    "w = ipywidgets.interactive(k, i=snap_slider)\n",
    "#                         velocity_proj=_proj,\n",
    "#                         sfh=_sfh,\n",
    "#                         cog=_traj,\n",
    "#                         vrange=_vminmax,\n",
    "#                         width=_width_slider,\n",
    "#                         resolution=_res_slider)\n",
    "w"
   ]
  },
  {
   "cell_type": "code",
   "execution_count": 11,
   "metadata": {},
   "outputs": [],
   "source": [
    "# plt.scatter(snap.s['feh'],snap.s['mgfe'])"
   ]
  },
  {
   "cell_type": "code",
   "execution_count": null,
   "metadata": {},
   "outputs": [],
   "source": []
  }
 ],
 "metadata": {
  "kernelspec": {
   "display_name": "Python 3",
   "language": "python",
   "name": "python3"
  },
  "language_info": {
   "codemirror_mode": {
    "name": "ipython",
    "version": 3
   },
   "file_extension": ".py",
   "mimetype": "text/x-python",
   "name": "python",
   "nbconvert_exporter": "python",
   "pygments_lexer": "ipython3",
   "version": "3.6.4"
  }
 },
 "nbformat": 4,
 "nbformat_minor": 2
}
