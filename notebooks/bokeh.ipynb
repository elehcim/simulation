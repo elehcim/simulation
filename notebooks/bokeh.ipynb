{
 "cells": [
  {
   "cell_type": "code",
   "execution_count": null,
   "metadata": {},
   "outputs": [],
   "source": [
    "%matplotlib inline\n",
    "import pynbody\n",
    "import pynbody.plot.sph as sph\n",
    "import pynbody.plot as pp\n",
    "from pynbody.analysis import profile\n",
    "import matplotlib.pylab as plt\n",
    "import numpy as np\n",
    "import os\n",
    "import bokeh\n",
    "from bokeh.layouts import gridplot, row, column\n",
    "from bokeh.io import output_notebook\n",
    "from bokeh.plotting import figure, show\n",
    "from bokeh.models import ColumnDataSource\n",
    "\n",
    "bokeh.io.output_notebook()"
   ]
  },
  {
   "cell_type": "code",
   "execution_count": null,
   "metadata": {},
   "outputs": [],
   "source": [
    "from astropy import cosmology\n",
    "import astropy.units as u\n",
    "cosmo = cosmology.Planck15\n",
    "print(cosmo)\n",
    "RHO_C = cosmo.critical_density0.to('solMass/kpc**3')\n",
    "RHO_C"
   ]
  },
  {
   "cell_type": "code",
   "execution_count": null,
   "metadata": {
    "collapsed": true
   },
   "outputs": [],
   "source": [
    "@u.quantity_input\n",
    "def halo_Wechsler2002(M: u.solMass):\n",
    "    '''Return the NFW concentration factor following Wechsler et al 2002 fitting formula\n",
    "    M is in solar mass'''\n",
    "    c = 20 * (M/(1e11 * u.solMass))**-0.13\n",
    "    return c\n",
    "\n",
    "@u.quantity_input\n",
    "def halo_Strigari2007(M: u.solMass):\n",
    "    '''Return the NFW concentration factor following Strigari et al 2007 fitting formula\n",
    "    M is in solar mass.\n",
    "\n",
    "    This formula is more suited for dwarf Galaxies (M < 1e8 Msol)'''\n",
    "    c = 33 * (M/(1e8 * u.solMass))**-0.06\n",
    "    return c\n",
    "\n",
    "def halo_scaled_density(c, rho_c=RHO_C, overdensity_factor=200.0):\n",
    "    rho_s = overdensity_factor * c*c*c * rho_c / (3 * np.log(1+c) - c/(1+c))\n",
    "    return rho_s  # Msol/km^3\n",
    "\n",
    "def halo_scaled_radius(M, c, rho_c=RHO_C, overdensity_factor=200.0):\n",
    "    R_s = ((M / (4/3 * np.pi * overdensity_factor * rho_c)) ** (1. / 3)) / c\n",
    "    return R_s  # km\n"
   ]
  },
  {
   "cell_type": "code",
   "execution_count": null,
   "metadata": {},
   "outputs": [],
   "source": [
    "M_h = 1e14 * u.solMass\n",
    "c = halo_Wechsler2002(M_h)\n",
    "c"
   ]
  },
  {
   "cell_type": "code",
   "execution_count": null,
   "metadata": {},
   "outputs": [],
   "source": [
    "virial_radius = c * halo_scaled_radius(M_h, c)\n",
    "virial_radius"
   ]
  },
  {
   "cell_type": "code",
   "execution_count": null,
   "metadata": {
    "collapsed": true
   },
   "outputs": [],
   "source": [
    "import tqdm\n",
    "def compute_cog(snapshots, directory='', save_cache=True, cache_file=\"cog.npz\"):\n",
    "    import collections\n",
    "    if not isinstance(snapshots, collections.Iterable):\n",
    "        snapshots = [snapshots]\n",
    "#     print(\"Processing {} files\".format(len(snapshots)))\n",
    "\n",
    "    cog = np.zeros((3, len(snapshots)), dtype=float)\n",
    "    times = np.zeros(len(snapshots), dtype=float)\n",
    "    i = 0\n",
    "    for snap in tqdm.tqdm(snapshots):\n",
    "        # duck-typing in case the snapshots are strings\n",
    "        if not isinstance(snap, pynbody.gadget.GadgetSnap):\n",
    "            sim = pynbody.load(os.path.join(directory, snap))\n",
    "        else:\n",
    "            sim = snap\n",
    "#         print(\"snapshot time {} Gyr\".format(sim.properties['time'].in_units('Gyr')))\n",
    "        times[i] = sim.properties['time'].in_units('Gyr')\n",
    "        mass = sim['mass']\n",
    "        pos = sim['pos']\n",
    "        \n",
    "        tot_mass = mass.sum()\n",
    "        # print \"tot mass = {} Msol\".format(tot_mass)\n",
    "        cog[:,i] = np.array([(pos[:,0] * mass).sum(), (pos[:,1] * mass).sum(), (pos[:,2] * mass).sum()])/tot_mass\n",
    "\n",
    "        i += 1\n",
    "#     print(cog)\n",
    "    if save_cache:\n",
    "        np.savez(cache_file, times=times, cog=cog)\n",
    "    return times, cog\n",
    "\n",
    "\n",
    "def snapshot_list(dirname, stem=\"snapshot_\", fillwidth=4, include_dir=False):\n",
    "    import os\n",
    "    import glob\n",
    "    if not os.path.isdir(dirname):\n",
    "         raise IOError(\"{} is not a directory\".format(dirname))\n",
    "    if include_dir:\n",
    "         filelist = glob.glob(os.path.join(dirname, stem) + \"*\")\n",
    "    else:\n",
    "         filelist = list(map(os.path.basename, glob.glob(os.path.join(dirname, stem) + \"*\")))\n",
    "    filelist.sort()\n",
    "    return filelist"
   ]
  },
  {
   "cell_type": "code",
   "execution_count": null,
   "metadata": {
    "collapsed": true
   },
   "outputs": [],
   "source": [
    "SIM_NUMBER = 71002"
   ]
  },
  {
   "cell_type": "code",
   "execution_count": null,
   "metadata": {
    "collapsed": true
   },
   "outputs": [],
   "source": [
    "# sim_path = '/home/michele/sim/MoRIA/sim62002/'\n",
    "# sim_path = '/home/michele/sim/nfw_negative/out'\n",
    "\n",
    "\n",
    "moria_path = '/home/michele/sim/MoRIA/'\n",
    "kicked_path = '/home/michele/sim/MySimulations/Moria8Gyr_tidal'\n",
    "\n",
    "def load_sim(path_to_snapshots):\n",
    "    snaplist = snapshot_list(path_to_snapshots, include_dir=True)\n",
    "    simlist = [pynbody.load(snap) for snap in snaplist]\n",
    "    return simlist\n",
    "\n",
    "def load_moria_sim_and_kicked(sim_number, kicked=True, moria_path=moria_path, kicked_path=kicked_path):\n",
    "    snaps_path = os.path.join(moria_path, 'sim{}'.format(sim_number))\n",
    "    simlist = load_sim(snaps_path)\n",
    "    \n",
    "    if kicked:\n",
    "        ksnaps_path = os.path.join(kicked_path, 'sim{}'.format(sim_number), 'out')\n",
    "        ksimlist = load_sim(ksnaps_path)\n",
    "        return simlist, ksimlist\n",
    "    else:\n",
    "        return simlist"
   ]
  },
  {
   "cell_type": "code",
   "execution_count": null,
   "metadata": {
    "collapsed": true
   },
   "outputs": [],
   "source": [
    "moria_sim, kicked_sim = load_moria_sim_and_kicked(SIM_NUMBER)"
   ]
  },
  {
   "cell_type": "code",
   "execution_count": null,
   "metadata": {
    "collapsed": true
   },
   "outputs": [],
   "source": [
    "# sim_path = '/home/michele/sim/MySimulations/Moria8Gyr_tidal/sim60002/out/'\n",
    "# snaplist = snapshot_list(sim_path, include_dir=True)\n",
    "# sim = pynbody.load(snaplist[-1])\n",
    "# sim.physical_units()\n",
    "# print(sim.filename)\n",
    "# print(sim.properties['time'].in_units('Gyr'))\n",
    "# sim.properties\n",
    "# Jtot = np.sqrt(((np.multiply(sim['j'].transpose(), sim['mass']).sum(axis=1))**2).sum()) # calculate angular momentum"
   ]
  },
  {
   "cell_type": "code",
   "execution_count": null,
   "metadata": {
    "collapsed": true
   },
   "outputs": [],
   "source": [
    "# p_all = profile.Profile(s62, max='250 kpc')\n",
    "# plt.plot(p_all['rbins'].in_units('kpc'),p_all['vr_disp'].in_units('km s^-1'),'k')\n",
    "# plt.xlabel('$R$ [kpc]'); plt.ylabel('$\\sigma_{r}$')"
   ]
  },
  {
   "cell_type": "code",
   "execution_count": null,
   "metadata": {},
   "outputs": [],
   "source": [
    "recompute = False\n",
    "# npy_file = 'cog.npy'\n",
    "if not recompute:\n",
    "    data = np.load('cog{}.npz'.format(SIM_NUMBER))\n",
    "    times_moria, cog_moria = data['times'], data['cog']\n",
    "    data = np.load('cog{}_kicked.npz'.format(SIM_NUMBER))\n",
    "    times_kicked, cog_kicked = data['times'], data['cog']\n",
    "else:\n",
    "    times_moria, cog_moria = compute_cog(moria_sim, cache_file='cog{}.npz'.format(SIM_NUMBER));\n",
    "    times_kicked, cog_kicked = compute_cog(kicked_sim, cache_file='cog{}_kicked.npz'.format(SIM_NUMBER));"
   ]
  },
  {
   "cell_type": "markdown",
   "metadata": {},
   "source": [
    "Use trange to equalize the range of the simulation between the two "
   ]
  },
  {
   "cell_type": "code",
   "execution_count": null,
   "metadata": {
    "collapsed": true
   },
   "outputs": [],
   "source": [
    "bins_sfr = 500\n",
    "t_range = (np.min(times_moria))\n",
    "# sfr, t = pynbody.plot.sfh(sim, bins=bins_sfr)\n",
    "# f, ax1 = plt.subplots(1, figsize=(10,6))"
   ]
  },
  {
   "cell_type": "code",
   "execution_count": null,
   "metadata": {
    "collapsed": true
   },
   "outputs": [],
   "source": [
    "def sfh(simlist, bins=100, **kwargs):\n",
    "    # Take the last snapshot\n",
    "    sim = simlist[-1]\n",
    "    sfr, t = pynbody.plot.sfh(sim, bins=bins_sfr, **kwargs)\n",
    "    return sfr, t"
   ]
  },
  {
   "cell_type": "code",
   "execution_count": null,
   "metadata": {
    "scrolled": false
   },
   "outputs": [],
   "source": [
    "sfr, sfr_bins = sfh(moria_sim, bins=bins_sfr) # , subplot=ax1)\n",
    "ksfr, ksfr_bins = sfh(kicked_sim, bins=bins_sfr) # , subplot=ax1)\n",
    "sfr_bins\n",
    "# np.testing.assert_array_equal(sfr_bins, ksfr_bins)\n",
    "sfr_bins[-1], ksfr_bins[-1]\n",
    "\n",
    "# plt.plot(t[:-1], sfr)"
   ]
  },
  {
   "cell_type": "code",
   "execution_count": null,
   "metadata": {},
   "outputs": [],
   "source": [
    "if recompute:\n",
    "    del moria_sim, kicked_sim\n",
    "    import gc\n",
    "    gc.collect()"
   ]
  },
  {
   "cell_type": "code",
   "execution_count": null,
   "metadata": {},
   "outputs": [],
   "source": [
    "cog_moria.shape"
   ]
  },
  {
   "cell_type": "code",
   "execution_count": null,
   "metadata": {},
   "outputs": [],
   "source": [
    "times_moria.shape"
   ]
  },
  {
   "cell_type": "code",
   "execution_count": null,
   "metadata": {
    "collapsed": true
   },
   "outputs": [],
   "source": [
    "def rebin_cog(sfr_times, sim_times, cog):\n",
    "    rebin_x_cog = np.interp(sfr_times, sim_times, cog[0,:])\n",
    "    rebin_y_cog = np.interp(sfr_times, sim_times, cog[1,:])\n",
    "    return rebin_x_cog, rebin_y_cog"
   ]
  },
  {
   "cell_type": "code",
   "execution_count": null,
   "metadata": {
    "collapsed": true
   },
   "outputs": [],
   "source": [
    "sfr_t_moria = sfr_bins[:-1]\n",
    "sfr_t_kicked = ksfr_bins[:-1]\n",
    "\n",
    "x_cog_moria, y_cog_moria = rebin_cog(sfr_t_moria, times_moria, cog_moria)\n",
    "x_cog_kicked, y_cog_kicked = rebin_cog(sfr_t_kicked, times_kicked, cog_kicked)"
   ]
  },
  {
   "cell_type": "code",
   "execution_count": null,
   "metadata": {
    "collapsed": true
   },
   "outputs": [],
   "source": [
    "x_cog, y_cog = cog_moria[0,:], cog_moria[1,:]"
   ]
  },
  {
   "cell_type": "code",
   "execution_count": null,
   "metadata": {},
   "outputs": [],
   "source": [
    "source_moria = ColumnDataSource(data=dict(t=sfr_t_moria,\n",
    "                                          sfr=sfr,\n",
    "                                          x_cog=x_cog_moria,\n",
    "                                          y_cog=y_cog_moria))\n",
    "source_moria.column_names"
   ]
  },
  {
   "cell_type": "code",
   "execution_count": null,
   "metadata": {},
   "outputs": [],
   "source": [
    "source_kicked = ColumnDataSource(data=dict(t=sfr_t_kicked,\n",
    "                                           sfr=ksfr,\n",
    "                                           x_cog=x_cog_kicked,\n",
    "                                           y_cog=y_cog_kicked))\n",
    "# t = source_kicked.data['t']\n"
   ]
  },
  {
   "cell_type": "code",
   "execution_count": null,
   "metadata": {},
   "outputs": [],
   "source": [
    "from bokeh.models.annotations import Span\n",
    "from bokeh.models import HoverTool\n",
    "\n",
    "def compare_cog_sfh(source):\n",
    "    start = (source.data['x_cog'][0], source.data['y_cog'][0])\n",
    "    end = (source.data['x_cog'][-1], source.data['y_cog'][-1])\n",
    "\n",
    "    hover = HoverTool(tooltips=[\n",
    "#             (\"(x,y)\", \"($x_cog, $y_cog)\"),\n",
    "            (\"time\", \"@t\"),\n",
    "        ],\n",
    "                      names=[\"cog\"])\n",
    "\n",
    "    tools = 'lasso_select, box_select, tap, wheel_zoom, pan, box_zoom, reset'\n",
    "    \n",
    "    # COG figure\n",
    "    f1 = figure(width=400, height=400, title='Center of gravity position',\n",
    "                x_axis_label=\"x (kpc)\", y_axis_label=\"y (kpc)\",\n",
    "                tools=tools)\n",
    "    f1.circle('x_cog', 'y_cog', source=source, name='cog')\n",
    "    f1.circle(*start, color='yellow')\n",
    "    f1.circle(*end, color='red')\n",
    "    f1.circle(0,0, radius=virial_radius.value, alpha=0.1)\n",
    "    f1.x(0,0)\n",
    "    f1.add_tools(hover) # do not hover on the virial radius!\n",
    "\n",
    "    # SFH figure\n",
    "    f2 = figure(width=400, height=400, title='SFH',\n",
    "                x_axis_label=\"Time (Gyr)\", y_axis_label=\"SFR (Msol/yr)\",\n",
    "                tools=tools)\n",
    "    # f2.tools.pop(4)  # remove pan\n",
    "    \n",
    "    # f2.line(t[:-1], sfr)\n",
    "    f2.vbar(x='t', top='sfr', width=.1, source=source)\n",
    "    \n",
    "    \n",
    "#     t = source.data['t']\n",
    "#     sfr = source.data['sfr']\n",
    "#     interval = t[1]-t[0]\n",
    "#     f2.quad(top='sfr', bottom=np.zeros_like(t), left=t,\n",
    "#             right=t+interval, alpha=0.5)#, color=\"#B3DE69\")\n",
    "    simulation_start_line = Span(location=times_moria[0], dimension='height', line_color='firebrick', line_width=1)\n",
    "    f2.add_layout(simulation_start_line)\n",
    "    p = row([f1, f2])\n",
    "    # p = gridplot([[f1, f2]])\n",
    "    show(p)\n",
    "    return f1, f2"
   ]
  },
  {
   "cell_type": "code",
   "execution_count": null,
   "metadata": {},
   "outputs": [],
   "source": [
    "compare_cog_sfh(source_moria)"
   ]
  },
  {
   "cell_type": "code",
   "execution_count": null,
   "metadata": {
    "scrolled": false
   },
   "outputs": [],
   "source": [
    "f1, f2 = compare_cog_sfh(source_kicked)"
   ]
  },
  {
   "cell_type": "code",
   "execution_count": null,
   "metadata": {},
   "outputs": [],
   "source": [
    "print(f2.tools)\n",
    "f2.tools.pop(4)"
   ]
  },
  {
   "cell_type": "code",
   "execution_count": null,
   "metadata": {
    "collapsed": true,
    "scrolled": true
   },
   "outputs": [],
   "source": [
    "# f1 = figure(width=400, height=400, title='Center of gravity position', x_axis_label=\"x (kpc)\", y_axis_label=\"y (kpc)\")\n",
    "# f1.line(x_cog, y_cog)\n",
    "# f1.circle(0,0, radius=virial_radius.value, alpha=0.1)\n",
    "# f2 = figure(width=400, height=400, x_axis_label=\"Time (Gyr)\", y_axis_label=\"SFR (Msol/yr)\")\n",
    "# # f2.line(t[:-1], sfr)\n",
    "# f2.vbar(x=t[:-1], top=sfr, width=None)\n",
    "# p = row([f1, f2])\n",
    "# show(p)"
   ]
  },
  {
   "cell_type": "code",
   "execution_count": null,
   "metadata": {
    "collapsed": true
   },
   "outputs": [],
   "source": [
    "# from bokeh.layouts import layout, row, widgetbox\n",
    "# from bokeh.models import (\n",
    "#     ColumnDataSource, HoverTool, TextInput, SingleIntervalTicker, Slider, Button, Label,\n",
    "#     CategoricalColorMapper,\n",
    "# )\n",
    "\n",
    "# def animate_update():\n",
    "#     gyr = slider.value + 1\n",
    "#     if gyr > years[-1]:\n",
    "#         gyr = years[0]\n",
    "#     slider.value = gyr\n",
    "\n",
    "# def animate():\n",
    "#     if button.label == '► Play':\n",
    "#         button.label = '❚❚ Pause'\n",
    "#         curdoc().add_periodic_callback(animate_update, 200)\n",
    "#     else:\n",
    "#         button.label = '► Play'\n",
    "#         curdoc().remove_periodic_callback(animate_update)\n",
    "\n",
    "# button = Button(label='► Play', width=60)\n",
    "# button.on_click(animate)"
   ]
  },
  {
   "cell_type": "code",
   "execution_count": null,
   "metadata": {
    "collapsed": true
   },
   "outputs": [],
   "source": [
    "import numpy as np\n",
    "from bokeh.layouts import layout, row, widgetbox\n",
    "from bokeh.models import (\n",
    "    ColumnDataSource, HoverTool, TextInput, SingleIntervalTicker, Slider, Button, Label,\n",
    "    CategoricalColorMapper,\n",
    ")\n",
    "from bokeh.application.handlers import FunctionHandler\n",
    "from bokeh.application import Application\n",
    "from bokeh.plotting import figure, show\n",
    "\n",
    "def modify_doc(doc):\n",
    "\n",
    "    # Set up data\n",
    "    N = 200\n",
    "    x = np.linspace(0, 4*np.pi, N)\n",
    "    y = np.sin(x)\n",
    "    source = ColumnDataSource(data=dict(x=x, y=y))\n",
    "\n",
    "\n",
    "    # Set up plot\n",
    "    plot = figure(plot_height=400, plot_width=400, title=\"my sine wave\",\n",
    "                  tools=\"crosshair,pan,reset,save,wheel_zoom\",\n",
    "                  x_range=[0, 4*np.pi], y_range=[-2.5, 2.5])\n",
    "\n",
    "    plot.line('x', 'y', source=source, line_width=3, line_alpha=0.6)\n",
    "\n",
    "    # Set up widgets\n",
    "    text = TextInput(title=\"title\", value='my sine wave')\n",
    "    offset = Slider(title=\"offset\", value=0.0, start=-5.0, end=5.0, step=0.1)\n",
    "    amplitude = Slider(title=\"amplitude\", value=1.0, start=-5.0, end=5.0, step=0.1)\n",
    "    phase = Slider(title=\"phase\", value=0.0, start=0.0, end=2*np.pi)\n",
    "    freq = Slider(title=\"frequency\", value=1.0, start=0.1, end=5.1, step=0.1)\n",
    "\n",
    "    # Set up callbacks\n",
    "    def update_title(attrname, old, new):\n",
    "        plot.title.text = text.value\n",
    "\n",
    "    text.on_change('value', update_title)\n",
    "\n",
    "    def update_data(attrname, old, new):\n",
    "\n",
    "        # Get the current slider values\n",
    "        a = amplitude.value\n",
    "        b = offset.value\n",
    "        w = phase.value\n",
    "        k = freq.value\n",
    "\n",
    "        # Generate the new curve\n",
    "        x = np.linspace(0, 4*np.pi, N)\n",
    "        y = a*np.sin(k*x + w) + b\n",
    "\n",
    "        source.data = dict(x=x, y=y)\n",
    "\n",
    "    for w in [offset, amplitude, phase, freq]:\n",
    "        w.on_change('value', update_data)\n",
    "\n",
    "    # Set up layouts and add to document\n",
    "    inputs = widgetbox(text, offset, amplitude, phase, freq)\n",
    "\n",
    "    doc.add_root(row(inputs, plot, width=800))\n",
    "    doc.title = \"Sliders\"\n",
    "\n",
    "    # Set up the Application \n",
    "handler = FunctionHandler(modify_doc)\n",
    "app = Application(handler)\n"
   ]
  },
  {
   "cell_type": "code",
   "execution_count": null,
   "metadata": {},
   "outputs": [],
   "source": [
    "doc = app.create_document()\n",
    "# Show the application\n",
    "# Make sure the URL matches your Jupyter instance\n",
    "show(app, notebook_url=\"localhost:8888\")"
   ]
  },
  {
   "cell_type": "code",
   "execution_count": null,
   "metadata": {
    "collapsed": true
   },
   "outputs": [],
   "source": []
  },
  {
   "cell_type": "code",
   "execution_count": null,
   "metadata": {
    "collapsed": true
   },
   "outputs": [],
   "source": []
  }
 ],
 "metadata": {
  "kernelspec": {
   "display_name": "Python 3",
   "language": "python",
   "name": "python3"
  },
  "language_info": {
   "codemirror_mode": {
    "name": "ipython",
    "version": 3
   },
   "file_extension": ".py",
   "mimetype": "text/x-python",
   "name": "python",
   "nbconvert_exporter": "python",
   "pygments_lexer": "ipython3",
   "version": "3.6.3"
  }
 },
 "nbformat": 4,
 "nbformat_minor": 2
}
